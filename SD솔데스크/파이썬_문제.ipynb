{
 "cells": [
  {
   "cell_type": "code",
   "execution_count": 1,
   "metadata": {
    "executionInfo": {
     "elapsed": 571,
     "status": "ok",
     "timestamp": 1617331754175,
     "user": {
      "displayName": "박정열",
      "photoUrl": "",
      "userId": "02719436629239662639"
     },
     "user_tz": -540
    },
    "id": "qJ5Io9ape-Tb"
   },
   "outputs": [],
   "source": [
    "import numpy as np\n",
    "import pandas as pd"
   ]
  },
  {
   "cell_type": "markdown",
   "metadata": {
    "id": "jG6JfwvSdXfj"
   },
   "source": [
    "# 가위바위보"
   ]
  },
  {
   "cell_type": "code",
   "execution_count": 2,
   "metadata": {
    "colab": {
     "base_uri": "https://localhost:8080/"
    },
    "executionInfo": {
     "elapsed": 1993,
     "status": "ok",
     "timestamp": 1617331293856,
     "user": {
      "displayName": "박정열",
      "photoUrl": "",
      "userId": "02719436629239662639"
     },
     "user_tz": -540
    },
    "id": "SqTv1TScbQx0",
    "outputId": "62891aad-baf8-478e-ccc4-4f5c8e3d3dd3"
   },
   "outputs": [
    {
     "name": "stdout",
     "output_type": "stream",
     "text": [
      "가위 바위 보중 하나를 내시오.가위\n",
      "가위 보\n",
      "Win\n"
     ]
    }
   ],
   "source": [
    "list_1=['가위','바위','보']\n",
    "a = input('가위 바위 보중 하나를 내시오.')\n",
    "b = np.random.choice(list_1)\n",
    "print(a,b)\n",
    "if (a == '가위' and b == '가위') or (a == '바위' and b == '바위') or (a == '보' and b == '보'):\n",
    "  print('Draw')\n",
    "elif (a == '가위' and b == '보') or (a == '바위' and b == '가위') or (a == '보' and b == '바위'):\n",
    "  print('Win')\n",
    "else:\n",
    "  if a not in list_1:\n",
    "    print('잘못된 값을 입력하셨습니다.')\n",
    "  else:\n",
    "    print('Lose')"
   ]
  },
  {
   "cell_type": "code",
   "execution_count": null,
   "metadata": {
    "colab": {
     "base_uri": "https://localhost:8080/"
    },
    "executionInfo": {
     "elapsed": 554,
     "status": "ok",
     "timestamp": 1617331333952,
     "user": {
      "displayName": "박정열",
      "photoUrl": "",
      "userId": "02719436629239662639"
     },
     "user_tz": -540
    },
    "id": "a-J-cgDrzu7q",
    "outputId": "db9b3e95-48cf-4c28-c2a4-1e4d93223ac5"
   },
   "outputs": [],
   "source": []
  },
  {
   "cell_type": "markdown",
   "metadata": {
    "id": "CcNlSRLw8_a0"
   },
   "source": [
    "## 문제 1)\n",
    "\n",
    "고객의 개인정보보호를 위하여 이름을 비 식별화를 하려고 한다. 고객의 이름을 비 식별화 하여서 출력해보세요.\n",
    "\n",
    "예시) 홍길동 -> 홍*동"
   ]
  },
  {
   "cell_type": "code",
   "execution_count": 3,
   "metadata": {
    "id": "oW-qTK9p88IS"
   },
   "outputs": [],
   "source": [
    "names = ['홍길동', '홍계월', '김철수', '이영희', '박첨지']"
   ]
  },
  {
   "cell_type": "code",
   "execution_count": 4,
   "metadata": {
    "colab": {
     "base_uri": "https://localhost:8080/"
    },
    "executionInfo": {
     "elapsed": 581,
     "status": "ok",
     "timestamp": 1617320023043,
     "user": {
      "displayName": "박정열",
      "photoUrl": "",
      "userId": "02719436629239662639"
     },
     "user_tz": -540
    },
    "id": "whKZHaAon-Kq",
    "outputId": "12d39d3b-2a15-43a2-b96c-f096af7b3995"
   },
   "outputs": [
    {
     "name": "stdout",
     "output_type": "stream",
     "text": [
      "['홍*동', '홍*월', '김*수', '이*희', '박*지']\n"
     ]
    }
   ],
   "source": [
    "for i in range(len(names)):\n",
    "  names[i] = names[i].replace(names[i][1],'*')\n",
    "\n",
    "print(names)"
   ]
  },
  {
   "cell_type": "markdown",
   "metadata": {
    "id": "yOsyZl159FyC"
   },
   "source": [
    "## 문제 2)  \n",
    "\n",
    "‘students.txt’ 파일을 읽어서 딕셔너리로 학생들의 정보를 저장하라. 해당 파일은 이름, 국어점수, 영어점수, 수학점수 순으로 되어있으며, 각 컬럼의 구분자는 tab(\\t)\n",
    "으로 이루어져있다. 이름을 key로 하고, 국어점수, 영어점수, 수학점수를 순서대로 담은 리스트를 value로 하는 딕셔너리로 저장하라. (encoding을 주의하시오.)\n",
    "\n",
    "1. read 이용"
   ]
  },
  {
   "cell_type": "code",
   "execution_count": 5,
   "metadata": {
    "colab": {
     "base_uri": "https://localhost:8080/"
    },
    "executionInfo": {
     "elapsed": 555,
     "status": "ok",
     "timestamp": 1617339139640,
     "user": {
      "displayName": "박정열",
      "photoUrl": "",
      "userId": "02719436629239662639"
     },
     "user_tz": -540
    },
    "id": "TPB92lPa6swx",
    "outputId": "c2ad623d-c8ec-4f63-a96d-0919f048b789"
   },
   "outputs": [
    {
     "name": "stdout",
     "output_type": "stream",
     "text": [
      "{'홍길동': ['50', '70', '65'], '홍계월': ['80', '90', '100'], '뽀로로': ['83', '92', '86'], '펭수': ['95', '100', '97'], '뚝딱이': ['77', '72', '87']}\n"
     ]
    }
   ],
   "source": [
    "students = {}\n",
    "with open('C:/Users/lg/Desktop/SD_academy-main/SD_academy-main/파이썬/students.txt', 'r', encoding = 'UTF-8') as f:\n",
    "    data = f.read()\n",
    "    lines = data.split('\\n')\n",
    "    for stu in lines : \n",
    "        s = stu.split('\\t')\n",
    "        students[s[0]] = s[1:] \n",
    "    print(students)\n"
   ]
  },
  {
   "cell_type": "markdown",
   "metadata": {
    "id": "JS1Ak7cy9ceb"
   },
   "source": [
    "### 2. readlines 이용"
   ]
  },
  {
   "cell_type": "code",
   "execution_count": 6,
   "metadata": {
    "colab": {
     "base_uri": "https://localhost:8080/"
    },
    "executionInfo": {
     "elapsed": 525,
     "status": "ok",
     "timestamp": 1617323054492,
     "user": {
      "displayName": "박정열",
      "photoUrl": "",
      "userId": "02719436629239662639"
     },
     "user_tz": -540
    },
    "id": "5qh-Ckc_9bAW",
    "outputId": "ef14f18f-e6e4-4441-80aa-06b059f8f132"
   },
   "outputs": [
    {
     "name": "stdout",
     "output_type": "stream",
     "text": [
      "{'홍길동': ['50', '70', '65'], '홍계월': ['80', '90', '100'], '뽀로로': ['83', '92', '86'], '펭수': ['95', '100', '97'], '뚝딱이': ['77', '72', '87']}\n"
     ]
    }
   ],
   "source": [
    "students2 = {}\n",
    "with open('C:/Users/lg/Desktop/SD_academy-main/SD_academy-main/파이썬/students.txt','r',encoding = 'utf-8') as f:\n",
    "  data2 = f.readlines()\n",
    "  for i in data2:\n",
    "    z = i.strip('\\n')\n",
    "    s = z.split('\\t')\n",
    "    students2[s[0]] = s[1:]\n",
    "print(students2)"
   ]
  },
  {
   "cell_type": "markdown",
   "metadata": {
    "id": "M3qQ3YuU9i6G"
   },
   "source": [
    "문제 3)\n",
    "\n",
    "저장한 딕셔너리를 토대로 학생들의 평균을 구하라. 전체 학생의 국어, 영어, 수학 점수의 평균을 구해서 각각 kor, eng, math라는 변수에 저장하고, 출력하라.\n"
   ]
  },
  {
   "cell_type": "code",
   "execution_count": 7,
   "metadata": {
    "colab": {
     "base_uri": "https://localhost:8080/"
    },
    "executionInfo": {
     "elapsed": 549,
     "status": "ok",
     "timestamp": 1617323058204,
     "user": {
      "displayName": "박정열",
      "photoUrl": "",
      "userId": "02719436629239662639"
     },
     "user_tz": -540
    },
    "id": "G30dmwf09fse",
    "outputId": "7c592040-5882-4132-f2a1-998a96a430ac"
   },
   "outputs": [
    {
     "data": {
      "text/plain": [
       "{'홍길동': ['50', '70', '65'],\n",
       " '홍계월': ['80', '90', '100'],\n",
       " '뽀로로': ['83', '92', '86'],\n",
       " '펭수': ['95', '100', '97'],\n",
       " '뚝딱이': ['77', '72', '87']}"
      ]
     },
     "execution_count": 7,
     "metadata": {},
     "output_type": "execute_result"
    }
   ],
   "source": [
    "students"
   ]
  },
  {
   "cell_type": "code",
   "execution_count": 8,
   "metadata": {
    "colab": {
     "base_uri": "https://localhost:8080/"
    },
    "executionInfo": {
     "elapsed": 559,
     "status": "ok",
     "timestamp": 1617323192145,
     "user": {
      "displayName": "박정열",
      "photoUrl": "",
      "userId": "02719436629239662639"
     },
     "user_tz": -540
    },
    "id": "FS8rUF8R-Psq",
    "outputId": "b2d25636-7c3b-403b-eec3-6a50b68f78e5"
   },
   "outputs": [
    {
     "name": "stdout",
     "output_type": "stream",
     "text": [
      "['50', '70', '65']\n",
      "['80', '90', '100']\n",
      "['83', '92', '86']\n",
      "['95', '100', '97']\n",
      "['77', '72', '87']\n"
     ]
    }
   ],
   "source": [
    "for key, value in students.items():\n",
    "  print(value)"
   ]
  },
  {
   "cell_type": "code",
   "execution_count": 9,
   "metadata": {
    "executionInfo": {
     "elapsed": 675,
     "status": "ok",
     "timestamp": 1617327131688,
     "user": {
      "displayName": "박정열",
      "photoUrl": "",
      "userId": "02719436629239662639"
     },
     "user_tz": -540
    },
    "id": "xe5QT3dr9mtU"
   },
   "outputs": [],
   "source": [
    "kor = 0\n",
    "eng = 0\n",
    "math = 0\n",
    "for key, value in students.items():\n",
    "    kor += int(value[0])\n",
    "    eng += int(value[1])\n",
    "    math += int(value[2])    \n",
    "kor = kor/5\n",
    "eng = eng/5\n",
    "math = math/5"
   ]
  },
  {
   "cell_type": "code",
   "execution_count": 10,
   "metadata": {
    "colab": {
     "base_uri": "https://localhost:8080/"
    },
    "executionInfo": {
     "elapsed": 449,
     "status": "ok",
     "timestamp": 1617327131689,
     "user": {
      "displayName": "박정열",
      "photoUrl": "",
      "userId": "02719436629239662639"
     },
     "user_tz": -540
    },
    "id": "GQQjfGe5AMQt",
    "outputId": "fee5c238-d6e6-4539-826a-d35991b19b86"
   },
   "outputs": [
    {
     "name": "stdout",
     "output_type": "stream",
     "text": [
      "77.0 84.8 87.0\n"
     ]
    }
   ],
   "source": [
    "print(kor,eng,math)"
   ]
  },
  {
   "cell_type": "markdown",
   "metadata": {
    "id": "0-0jfS6Z9rn3"
   },
   "source": [
    "## 문제 4)\n",
    "\n",
    "학생들 개개인의 평균을 구하는 함수를 작성하라. 이름을 넣으면 국어, 영어, 수학 3과목의 평균을 계산하여 반환하는 함수를 작성하라\n",
    "."
   ]
  },
  {
   "cell_type": "code",
   "execution_count": 11,
   "metadata": {
    "colab": {
     "base_uri": "https://localhost:8080/"
    },
    "executionInfo": {
     "elapsed": 556,
     "status": "ok",
     "timestamp": 1617331412885,
     "user": {
      "displayName": "박정열",
      "photoUrl": "",
      "userId": "02719436629239662639"
     },
     "user_tz": -540
    },
    "id": "6wuYUJre9od2",
    "outputId": "fc466ad9-4bf1-401f-c63d-4d5a94b9b2e6"
   },
   "outputs": [
    {
     "name": "stdout",
     "output_type": "stream",
     "text": [
      "78.66666666666667\n"
     ]
    }
   ],
   "source": [
    "def mean(이름):\n",
    "  sum = 0\n",
    "  for key, value in students.items():\n",
    "    if 이름 == key:\n",
    "      for i in range(len(students[이름])):\n",
    "        sum += int(students[이름][i])\n",
    "    sum=sum/3\n",
    "  print(sum)\n",
    "mean('뚝딱이')"
   ]
  },
  {
   "cell_type": "markdown",
   "metadata": {
    "id": "F7MXZm9m92_5"
   },
   "source": [
    "### 문제 5)\n",
    "\n",
    "복리이자율7%로 1000만원 저금시 2000만원이 되기까지 몇년이 걸리는가?"
   ]
  },
  {
   "cell_type": "code",
   "execution_count": 12,
   "metadata": {
    "colab": {
     "base_uri": "https://localhost:8080/"
    },
    "executionInfo": {
     "elapsed": 522,
     "status": "ok",
     "timestamp": 1617325260275,
     "user": {
      "displayName": "박정열",
      "photoUrl": "",
      "userId": "02719436629239662639"
     },
     "user_tz": -540
    },
    "id": "hPsPYea290pd",
    "outputId": "6d73da87-4211-42c4-abfb-c67199e9fc2e"
   },
   "outputs": [
    {
     "name": "stdout",
     "output_type": "stream",
     "text": [
      "11\n"
     ]
    }
   ],
   "source": [
    "month = 0\n",
    "mul = 1000\n",
    "while 2000 > mul:\n",
    "   mul = mul * 1.07\n",
    "   month += 1\n",
    "print(month)"
   ]
  },
  {
   "cell_type": "markdown",
   "metadata": {
    "id": "Dl1UgbeB-ypd"
   },
   "source": [
    "## 문제 6)\n",
    "\n",
    "다음 문장에서 모음('aeiou')을 제거하시오\n",
    "\n",
    "문장 : \"Life is too short, you need python!\" (Hint : List comprehension or for 문을 사용하세요.)"
   ]
  },
  {
   "cell_type": "code",
   "execution_count": 13,
   "metadata": {
    "executionInfo": {
     "elapsed": 669,
     "status": "ok",
     "timestamp": 1617329578865,
     "user": {
      "displayName": "박정열",
      "photoUrl": "",
      "userId": "02719436629239662639"
     },
     "user_tz": -540
    },
    "id": "Z2gMJHOpWshi"
   },
   "outputs": [],
   "source": [
    "sentence = 'Life is too short, you need python!'"
   ]
  },
  {
   "cell_type": "code",
   "execution_count": 14,
   "metadata": {
    "colab": {
     "base_uri": "https://localhost:8080/",
     "height": 35
    },
    "executionInfo": {
     "elapsed": 537,
     "status": "ok",
     "timestamp": 1617329756996,
     "user": {
      "displayName": "박정열",
      "photoUrl": "",
      "userId": "02719436629239662639"
     },
     "user_tz": -540
    },
    "id": "BkdvaIJzWYTZ",
    "outputId": "22527c9c-2aaa-4884-cb2b-e79ef08e673c"
   },
   "outputs": [
    {
     "data": {
      "text/plain": [
       "'Lf s t shrt y nd pythn!'"
      ]
     },
     "execution_count": 14,
     "metadata": {},
     "output_type": "execute_result"
    }
   ],
   "source": [
    "muemum = 'aeiou'\n",
    "result = [char for char in sentence if char not in muemum]\n",
    "result=','.join(result)\n",
    "result.replace(',','')"
   ]
  },
  {
   "cell_type": "code",
   "execution_count": 15,
   "metadata": {
    "colab": {
     "base_uri": "https://localhost:8080/",
     "height": 35
    },
    "executionInfo": {
     "elapsed": 450,
     "status": "ok",
     "timestamp": 1617329983453,
     "user": {
      "displayName": "박정열",
      "photoUrl": "",
      "userId": "02719436629239662639"
     },
     "user_tz": -540
    },
    "id": "X4-Kuta-Imcl",
    "outputId": "61cc927a-bfcf-4e52-ca74-d53ddee0d7d5"
   },
   "outputs": [
    {
     "data": {
      "text/plain": [
       "'Lf s t shrt, y nd pythn!'"
      ]
     },
     "execution_count": 15,
     "metadata": {},
     "output_type": "execute_result"
    }
   ],
   "source": [
    "sentence = 'Life is too short, you need python!'\n",
    "sentence\n",
    "# list comprehensive\n",
    "mueum ='aeiou'\n",
    "result = [char for char in sentence if char not in mueum]\n",
    "result = ','.join(result)\n",
    "result=result.replace(',','')\n",
    "result\n",
    "\n",
    "sentence = 'Life is too short, you need python!'\n",
    "\n",
    "for i in sentence:\n",
    "  if i in ['a','i','e','o','u']:\n",
    "    sentence = sentence.replace(i,'')\n",
    "  sentence\n",
    "sentence"
   ]
  },
  {
   "cell_type": "markdown",
   "metadata": {
    "id": "3Yos2ui8-32y"
   },
   "source": [
    "## 문제 7)\n",
    "\n",
    "리스트 중에서 홀수에만 2를 곱하여 저장하는 코드 작성."
   ]
  },
  {
   "cell_type": "code",
   "execution_count": 16,
   "metadata": {
    "colab": {
     "base_uri": "https://localhost:8080/"
    },
    "executionInfo": {
     "elapsed": 523,
     "status": "ok",
     "timestamp": 1617330339983,
     "user": {
      "displayName": "박정열",
      "photoUrl": "",
      "userId": "02719436629239662639"
     },
     "user_tz": -540
    },
    "id": "BGnLqQJd-06Z",
    "outputId": "27835dfd-5de2-4d07-ecac-645470c61321"
   },
   "outputs": [
    {
     "data": {
      "text/plain": [
       "[0, 2, 2, 6, 4, 10, 6, 14, 8, 18]"
      ]
     },
     "execution_count": 16,
     "metadata": {},
     "output_type": "execute_result"
    }
   ],
   "source": [
    "def 홀수(리스트):\n",
    "  for i in range(len(리스트)):\n",
    "    if 리스트[i]%2 != 0:\n",
    "      리스트[i] = 리스트[i]*2\n",
    "  return 리스트\n",
    "홀수([0,1,2,3,4,5,6,7,8,9])"
   ]
  },
  {
   "cell_type": "code",
   "execution_count": 17,
   "metadata": {
    "colab": {
     "base_uri": "https://localhost:8080/"
    },
    "executionInfo": {
     "elapsed": 556,
     "status": "ok",
     "timestamp": 1617331441328,
     "user": {
      "displayName": "박정열",
      "photoUrl": "",
      "userId": "02719436629239662639"
     },
     "user_tz": -540
    },
    "id": "K4ZygubH-6xb",
    "outputId": "a2aaf62a-2a92-40aa-bc32-3b527dcced76"
   },
   "outputs": [
    {
     "data": {
      "text/plain": [
       "array([ 0,  2,  2,  6,  4, 10,  6, 14,  8, 18, 10, 22, 12, 26, 14, 30, 16,\n",
       "       34, 18, 38, 20, 42, 22, 46])"
      ]
     },
     "execution_count": 17,
     "metadata": {},
     "output_type": "execute_result"
    }
   ],
   "source": [
    "홀수(np.arange(24))"
   ]
  },
  {
   "cell_type": "markdown",
   "metadata": {
    "id": "xxuBaI1p--Fi"
   },
   "source": [
    "## 문제 8)\n",
    "\n",
    "LIst Comprehension을 이용해서 list1이 1부터 100사이의 8의 배수를 가지도록 만들어 보세요\n",
    "\n"
   ]
  },
  {
   "cell_type": "code",
   "execution_count": 18,
   "metadata": {
    "colab": {
     "base_uri": "https://localhost:8080/"
    },
    "executionInfo": {
     "elapsed": 619,
     "status": "ok",
     "timestamp": 1617330430956,
     "user": {
      "displayName": "박정열",
      "photoUrl": "",
      "userId": "02719436629239662639"
     },
     "user_tz": -540
    },
    "id": "SzbxWUVo-7yt",
    "outputId": "05309dd3-0c96-43a5-f326-4fb310a7d399"
   },
   "outputs": [
    {
     "data": {
      "text/plain": [
       "[8, 16, 24, 32, 40, 48, 56, 64, 72, 80, 88, 96]"
      ]
     },
     "execution_count": 18,
     "metadata": {},
     "output_type": "execute_result"
    }
   ],
   "source": [
    "mul=[i for i in range(1,101) if i%8 == 0]\n",
    "mul"
   ]
  },
  {
   "cell_type": "markdown",
   "metadata": {
    "id": "oaLHvYNm_IM1"
   },
   "source": [
    "## 문제 9)\n",
    "\n",
    "Shape를 부모 클래스로 Square 자식 클래스를 정의하는 코드를 작성하십시오.\n",
    "\n",
    "Square 클래스는 length 필드를 가지며, 0을 반환하는 Shape 클래스의 area 메서드를\n",
    "\n",
    "length * length 값을 반환하는 메서드로 오버라이딩합니다.\""
   ]
  },
  {
   "cell_type": "code",
   "execution_count": null,
   "metadata": {
    "colab": {
     "base_uri": "https://localhost:8080/",
     "height": 136
    },
    "executionInfo": {
     "elapsed": 585,
     "status": "error",
     "timestamp": 1617330468137,
     "user": {
      "displayName": "박정열",
      "photoUrl": "",
      "userId": "02719436629239662639"
     },
     "user_tz": -540
    },
    "id": "poj-cCpm_DKn",
    "outputId": "a47a5b8c-6f7f-4028-a692-1d70c8ac29a8"
   },
   "outputs": [],
   "source": []
  },
  {
   "cell_type": "markdown",
   "metadata": {
    "id": "FXXbYx3T_MC4"
   },
   "source": [
    "## 문제 10)\n",
    "\n",
    "Person를 부모 클래스로 Male, Female 자식 클래스를 정의하는 코드를 작성하십시오.\n",
    "\n",
    "\"Unknown\"을 반환하는 Person 클래스의 getGender 메서드를 Male 클래스와 Female 클래스는\n",
    "\n",
    "\"Male\", \"Female\" 값을 반환하는 메서드로 오버라이딩합니다.\n"
   ]
  },
  {
   "cell_type": "code",
   "execution_count": null,
   "metadata": {
    "colab": {
     "base_uri": "https://localhost:8080/"
    },
    "id": "sfr8aBv8_KpU",
    "outputId": "44ead391-7d9e-405d-f90b-95f21059efad"
   },
   "outputs": [],
   "source": []
  },
  {
   "cell_type": "markdown",
   "metadata": {
    "id": "_UFKkeXj_Q6E"
   },
   "source": [
    "## 문제 11)\n",
    "\n",
    "행렬의 덧셈은 행과 열의 크기가 같은 두 행렬의 같은 행, 같은 열의 값을 서로 더한 결과가 됩니다. 2개의 행렬 arr1과 arr2를 입력받아, 행렬 덧셈의 결과를 반환하는 함수, solution을 완성해주세요.\n",
    "\n",
    "제한 조건 행렬 arr1, arr2의 행과 열의 길이는 500을 넘지 않습니다.\n",
    "\n",
    "문제풀이1) for 문 작성 문제풀이2) zip 함수 이용 문제풀이3) list comprehension을 이용\n",
    "\n"
   ]
  },
  {
   "cell_type": "code",
   "execution_count": 19,
   "metadata": {
    "colab": {
     "base_uri": "https://localhost:8080/"
    },
    "executionInfo": {
     "elapsed": 589,
     "status": "ok",
     "timestamp": 1617352549691,
     "user": {
      "displayName": "박정열",
      "photoUrl": "",
      "userId": "02719436629239662639"
     },
     "user_tz": -540
    },
    "id": "L3XR1yVD_PV5",
    "outputId": "d63eaee6-bf15-467b-b705-fb56cdb8d9ff"
   },
   "outputs": [
    {
     "name": "stdout",
     "output_type": "stream",
     "text": [
      "[[ 0.  2.  4.  6.  8. 10.]\n",
      " [12. 14. 16. 18. 20. 22.]\n",
      " [24. 26. 28. 30. 32. 34.]\n",
      " [36. 38. 40. 42. 44. 46.]\n",
      " [48. 50. 52. 54. 56. 58.]\n",
      " [60. 62. 64. 66. 68. 70.]]\n"
     ]
    }
   ],
   "source": [
    "arr1 = np.arange(36).reshape(6,-1)\n",
    "arr2 = np.arange(36).reshape(6,-1)\n",
    "sum = 0\n",
    "arr3 = np.zeros(36).reshape(6,-1)\n",
    "def solution(arr3):\n",
    "  for i in range(len(arr1)):\n",
    "    for j in range(len(arr1)):\n",
    "        arr3[i][j] = arr1[i][j]+arr2[i][j]\n",
    "  print(arr3)\n",
    "solution(arr3)"
   ]
  },
  {
   "cell_type": "code",
   "execution_count": 20,
   "metadata": {
    "colab": {
     "base_uri": "https://localhost:8080/"
    },
    "executionInfo": {
     "elapsed": 557,
     "status": "ok",
     "timestamp": 1617348130348,
     "user": {
      "displayName": "박정열",
      "photoUrl": "",
      "userId": "02719436629239662639"
     },
     "user_tz": -540
    },
    "id": "bynHgsq9_Vko",
    "outputId": "517896ec-8afd-4291-c0b9-45f54b6effb6"
   },
   "outputs": [
    {
     "name": "stdout",
     "output_type": "stream",
     "text": [
      "[ 0  2  4  6  8 10]\n",
      "[12 14 16 18 20 22]\n",
      "[24 26 28 30 32 34]\n",
      "[36 38 40 42 44 46]\n",
      "[48 50 52 54 56 58]\n",
      "[60 62 64 66 68 70]\n"
     ]
    }
   ],
   "source": [
    "ziparr=zip(arr1,arr2)\n",
    "arr3 = np.zeros(36).reshape(6,-1)\n",
    "def solution1(ziparr):  \n",
    "  for i in ziparr:\n",
    "    sum = i[0] + i[1]\n",
    "    print(sum)\n",
    "solution1(ziparr)"
   ]
  },
  {
   "cell_type": "code",
   "execution_count": 21,
   "metadata": {
    "colab": {
     "base_uri": "https://localhost:8080/"
    },
    "executionInfo": {
     "elapsed": 548,
     "status": "ok",
     "timestamp": 1617348167160,
     "user": {
      "displayName": "박정열",
      "photoUrl": "",
      "userId": "02719436629239662639"
     },
     "user_tz": -540
    },
    "id": "I7QPjHga_WdY",
    "outputId": "337ef3dd-8a08-4921-e616-84c5bd9f232d"
   },
   "outputs": [
    {
     "data": {
      "text/plain": [
       "[array([ 0,  2,  4,  6,  8, 10]),\n",
       " array([12, 14, 16, 18, 20, 22]),\n",
       " array([24, 26, 28, 30, 32, 34]),\n",
       " array([36, 38, 40, 42, 44, 46]),\n",
       " array([48, 50, 52, 54, 56, 58]),\n",
       " array([60, 62, 64, 66, 68, 70])]"
      ]
     },
     "execution_count": 21,
     "metadata": {},
     "output_type": "execute_result"
    }
   ],
   "source": [
    "arr3 = np.zeros(36).reshape(6,-1)\n",
    "\n",
    "# def solution3(arr1,arr2):\n",
    "#     [for i in range(len(arr1))]\n",
    "a=[[arr1[i] for i in range(len(arr1))][j]+[arr2[i] for i in range(len(arr2))][j] for j in range(len(arr2))]\n",
    "a"
   ]
  },
  {
   "cell_type": "markdown",
   "metadata": {
    "id": "1W-nnhXh_h59"
   },
   "source": [
    "## 문제 12)\n",
    "\n",
    "\n",
    "1부터 입력받은 숫자 n 사이에 있는 소수의 개수를 반환하는 함수, solution을 만들어 보세요.\n",
    "소수는 1과 자기 자신으로만 나누어지는 수를 의미합니다.\n",
    "(1은 소수가 아닙니다.)\n",
    "\n",
    "\n",
    "[제한 조건]\n",
    "\n",
    "\n",
    "n은 2이상 1000000이하의 자연수입니다.\n",
    "\n",
    "n\tresult\n",
    "\n",
    "10\t4\n",
    "\n",
    "5\t3\n",
    "\n",
    "입출력 예 설명\n",
    "\n",
    "입출력 예 #1\n",
    "\n",
    "1부터 10 사이의 소수는 [2,3,5,7] 4개가 존재하므로 4를 반환\n",
    "\n",
    "\n",
    "입출력 예 #2\n",
    "\n",
    "1부터 5 사이의 소수는 [2,3,5] 3개가 \n",
    "존재하므로 3를 반환"
   ]
  },
  {
   "cell_type": "code",
   "execution_count": 22,
   "metadata": {
    "colab": {
     "base_uri": "https://localhost:8080/"
    },
    "executionInfo": {
     "elapsed": 517,
     "status": "ok",
     "timestamp": 1617352085081,
     "user": {
      "displayName": "박정열",
      "photoUrl": "",
      "userId": "02719436629239662639"
     },
     "user_tz": -540
    },
    "id": "3PsU-lds_XX5",
    "outputId": "72cca2de-edd0-42af-ff8f-bca536529480"
   },
   "outputs": [],
   "source": [
    "def solution(x):\n",
    "    sum = 0\n",
    "    if x > 1000000:\n",
    "        print('2 이상 1000000의 수만 입력해 주세요')\n",
    "    else:\n",
    "        for i in range(2,x+1):\n",
    "            s = 0\n",
    "            for j in range(2,x+1):\n",
    "                if i%j == 0:\n",
    "                    s += 1\n",
    "            if s == 1:\n",
    "                sum += 1\n",
    "        print(sum)"
   ]
  },
  {
   "cell_type": "code",
   "execution_count": 23,
   "metadata": {
    "id": "FrqLwHv_ADPZ"
   },
   "outputs": [
    {
     "name": "stdout",
     "output_type": "stream",
     "text": [
      "1\n"
     ]
    }
   ],
   "source": [
    "solution(2)"
   ]
  },
  {
   "cell_type": "markdown",
   "metadata": {
    "id": "rX75cGuOBUvS"
   },
   "source": [
    "## 문제 15) \n",
    "\n",
    "로또 번호 자동생성기를 작성하세요(Numpy를 모르시면 random 모듈로도 구현가능)\n"
   ]
  },
  {
   "cell_type": "code",
   "execution_count": 24,
   "metadata": {
    "colab": {
     "base_uri": "https://localhost:8080/"
    },
    "executionInfo": {
     "elapsed": 540,
     "status": "ok",
     "timestamp": 1617349538386,
     "user": {
      "displayName": "박정열",
      "photoUrl": "",
      "userId": "02719436629239662639"
     },
     "user_tz": -540
    },
    "id": "puBzt2XUBTx6",
    "outputId": "0611e8bc-9281-4525-881e-c5fb67731493"
   },
   "outputs": [
    {
     "data": {
      "text/plain": [
       "array([19,  7, 10, 44, 26, 44])"
      ]
     },
     "execution_count": 24,
     "metadata": {},
     "output_type": "execute_result"
    }
   ],
   "source": [
    "np.random.choice(range(1,46),6)"
   ]
  },
  {
   "cell_type": "code",
   "execution_count": 25,
   "metadata": {
    "colab": {
     "base_uri": "https://localhost:8080/"
    },
    "executionInfo": {
     "elapsed": 2349,
     "status": "ok",
     "timestamp": 1617349672356,
     "user": {
      "displayName": "박정열",
      "photoUrl": "",
      "userId": "02719436629239662639"
     },
     "user_tz": -540
    },
    "id": "rHKuiFaDCRcG",
    "outputId": "20f1f960-4d92-417a-894a-1a558dc2c1cf"
   },
   "outputs": [
    {
     "name": "stdout",
     "output_type": "stream",
     "text": [
      "**************로또 번호 자동 생성기****************\n",
      "---------------------------------------------------\n",
      "게임 수: 5\n",
      "[ 5 37 12 26 38 17]\n",
      "[ 5 42 31 40 20 11]\n",
      "[16 12 42 13  1 33]\n",
      "[11  1  6 13 33 26]\n",
      "[ 2  1 12 21 10 31]\n",
      "**************로또 번호 자동 완료 *****************\n"
     ]
    }
   ],
   "source": [
    "print('**************로또 번호 자동 생성기****************')\n",
    "print('---------------------------------------------------')\n",
    "x = int(input('게임 수: '))\n",
    "for i in range(x):\n",
    "  print(np.random.choice(range(1,46),6))\n",
    "\n",
    "print('**************로또 번호 자동 완료 *****************')"
   ]
  },
  {
   "cell_type": "code",
   "execution_count": 26,
   "metadata": {
    "colab": {
     "base_uri": "https://localhost:8080/"
    },
    "executionInfo": {
     "elapsed": 2771,
     "status": "ok",
     "timestamp": 1617350906710,
     "user": {
      "displayName": "박정열",
      "photoUrl": "",
      "userId": "02719436629239662639"
     },
     "user_tz": -540
    },
    "id": "e2AcR_KpDRUi",
    "outputId": "8e027b56-37a8-4ada-8554-0a30120f9f4e"
   },
   "outputs": [
    {
     "name": "stdout",
     "output_type": "stream",
     "text": [
      "로또를 몇장 구매하시겠습니까? 5\n",
      "랜덤하게 생성된 로또 번호입니다.\n",
      "[1]: [11  7  9 33  1 30]\n",
      "[2]: [12 35 36 29 44 42]\n",
      "[3]: [ 3 35 27 35 15 12]\n",
      "[4]: [ 1 19 28 15 42 31]\n",
      "[5]: [11 31  2 40  5 35]\n"
     ]
    }
   ],
   "source": [
    "x = int(input('로또를 몇장 구매하시겠습니까? '))\n",
    "print('랜덤하게 생성된 로또 번호입니다.')\n",
    "for i in range(x):\n",
    "  print(f'[{i+1}]: {np.random.choice(range(1,46),6)}')"
   ]
  },
  {
   "cell_type": "markdown",
   "metadata": {
    "id": "GqPfrOnRENFi"
   },
   "source": [
    "###문제 16) 비트연산 문제\n",
    "\n",
    "이 문제의 핵심은 비트 연산을 얼마나 잘 이해하고 있냐이기 때문에 비트 연산으로 풀어주세요.¶\n",
    "input은 int n을 입력 받아 첫번째 row는 (n-1)의 O와 X, 두번째 row는 (n-2)의 O와 XX, 세번째 row는 (n-3)의 0와 XXX... n번째 row는 n의 X을 출력하시오.\n",
    "\n",
    "입력 예시: 6\n",
    "\n",
    "출력 예시:\n",
    "\n",
    "OOOOOX\n",
    "\n",
    "OOOOXX\n",
    "\n",
    "OOOXXX\n",
    "\n",
    "OOXXXX\n",
    "\n",
    "OXXXXX\n",
    "\n",
    "XXXXXX\n",
    "\n"
   ]
  },
  {
   "cell_type": "code",
   "execution_count": 27,
   "metadata": {
    "colab": {
     "base_uri": "https://localhost:8080/"
    },
    "executionInfo": {
     "elapsed": 1715,
     "status": "ok",
     "timestamp": 1617351158438,
     "user": {
      "displayName": "박정열",
      "photoUrl": "",
      "userId": "02719436629239662639"
     },
     "user_tz": -540
    },
    "id": "gYlC5lwTDqPP",
    "outputId": "aeb0eff1-c14c-4999-873e-75320d28843b"
   },
   "outputs": [
    {
     "name": "stdout",
     "output_type": "stream",
     "text": [
      "숫자 n을 입력하시오:5\n",
      "ooooox\n",
      "ooooxx\n",
      "oooxxx\n",
      "ooxxxx\n",
      "oxxxxx\n",
      "xxxxxx\n"
     ]
    }
   ],
   "source": [
    "x = int(input('숫자 n을 입력하시오:'))\n",
    "for i in range(x+1):\n",
    "  print('o'*(x-i) +'x'*(i+1))"
   ]
  },
  {
   "cell_type": "markdown",
   "metadata": {
    "id": "AuO51RWyEbs4"
   },
   "source": [
    "## 문제 17)\n",
    "\n",
    "아래 조건에 따라 리스트를 회전하는 프로그램을 작성하시오.\n",
    "조건 입력값은 한 행의 문자열로 주어지며, 각 값은 공백으로 구분된다.\n",
    "\n",
    "첫 번째 값은 리스트를 회전하는 양과 방향(음수의 경우 좌측으로, 양수의 경우 우측으로 회전)이다.\n",
    "\n",
    "첫 번째 값을 제외한 나머지 값은 리스트의 각 항목의 값이다.\n",
    "\n",
    "회전된 리스트를 문자열로 출력한다.\n",
    "\n",
    "구현에 이용할 자료구조에 대한 조건이나 제약은 없다.\n",
    "\n",
    "입력되는 리스트의 항목의 개수는 유한한다.\n",
    "\n",
    "입출력예 예 1)\n",
    "\n",
    "입력: 1 10 20 30 40 50\n",
    "\n",
    "출력: 50 10 20 30 40\n",
    "\n",
    "예 2)\n",
    "\n",
    "입력: 4 가 나 다 라 마 바 사\n",
    "\n",
    "출력: 라 마 바 사 가 나 다\n",
    "\n",
    "예 3)\n",
    "\n",
    "입력: -2 A B C D E F G\n",
    "\n",
    "출력: C D E F G A B\n",
    "\n",
    "예 4)\n",
    "\n",
    "입력: 0 똘기 떵이 호치 새초미\n",
    "\n",
    "출력: 똘기 떵이 호치 새초미"
   ]
  },
  {
   "cell_type": "code",
   "execution_count": 28,
   "metadata": {
    "colab": {
     "base_uri": "https://localhost:8080/"
    },
    "id": "UIq-KGuCE7Ln",
    "outputId": "dbf8b419-8bdc-44b2-f4a1-050c996a13b8"
   },
   "outputs": [],
   "source": [
    "def 회전(x):\n",
    "    x = x.split()\n",
    "    a = int(x[0])\n",
    "    del(x[0])\n",
    "    c = x.copy()\n",
    "    if a <= 0:\n",
    "        for i in range(len(x)):\n",
    "            b = i + a\n",
    "            while b <= -len(x) :\n",
    "                b += len(x)\n",
    "            c[b] = x[i]\n",
    "    else:\n",
    "        for i in range(len(x)):\n",
    "            b = i + a\n",
    "            while b >= len(x):\n",
    "                b -= len(x)\n",
    "            c[b] = x[i]\n",
    "    print(','.join(c).replace(',',' '))"
   ]
  },
  {
   "cell_type": "code",
   "execution_count": 29,
   "metadata": {},
   "outputs": [
    {
     "name": "stdout",
     "output_type": "stream",
     "text": [
      "떵이 호치 새초미 똘기\n"
     ]
    }
   ],
   "source": [
    "회전('3 똘기 떵이 호치 새초미')"
   ]
  },
  {
   "cell_type": "markdown",
   "metadata": {
    "id": "8BOAdmisFEKy"
   },
   "source": [
    "## 문제 18)\n",
    "\n",
    "숫자 형태의 문자열을 콤마가 포함된 금액 표기식 문자열로 바꾸어주는 프로그램을 작성하시오.\n",
    "※ 단, 프로그래밍 언어에서 지원하는 금액변환 라이브러리는 사용하지 말것\n",
    "\n",
    "예)\n",
    "\n",
    "숫자 금액 1000 -> 1,000\n",
    "\n",
    "20000000 -> 20,000,000\n",
    "\n",
    "3245.24 -> -3,245.24"
   ]
  },
  {
   "cell_type": "code",
   "execution_count": 30,
   "metadata": {
    "id": "vaa1POzrFBVH"
   },
   "outputs": [
    {
     "name": "stdout",
     "output_type": "stream",
     "text": [
      "7,000,000,000,000,000\n"
     ]
    }
   ],
   "source": [
    "x = '7000000000000000'\n",
    "def 숫자변환기(x):\n",
    "    a = ''\n",
    "    s = []\n",
    "    for i in range(len(x)):\n",
    "        if x[i] == '.':\n",
    "            c=x[i:]\n",
    "            b=x[:i]\n",
    "        else:\n",
    "            c = ''\n",
    "            b = x\n",
    "    for j in reversed(range(len(b))):\n",
    "        a =b[j]+ a\n",
    "        s.append(j)\n",
    "        if len(s)%3 == 0 and j!= 0:\n",
    "            a =  ',' +a \n",
    "    print(a + c)\n",
    "숫자변환기(x)"
   ]
  },
  {
   "cell_type": "markdown",
   "metadata": {
    "id": "_8R5Fsb6FXfu"
   },
   "source": [
    "## 문제 19)\n",
    "\n",
    "약수를 모두 찾는 수학 문제를 풀다가 지친 X는 컴퓨터의 도움을 받아 문제를 풀어 보기로 하였다. 하지만 계산기를 이용하자니 계산기로 하고 싶지만 찾기도 어려우며, 쉽게 찾아낼 수도 없었다.\n",
    "풀이에 지친 그는 결국 약수들이 가지고 있는 특징을 찾아 결국 몇시간에 걸쳐 복잡한 수라도 약수를 찾아줄 수 있고 개수도 알려주는 프로그램을 짜게 된다.\n",
    "\n",
    "다음은 약수를 얻기 위한 입력과 출력 예제들이다.\n",
    "\n",
    "입력 1\n",
    "\n",
    "24 출력 1\n",
    "\n",
    "{ 1, 2, 3, 4, 6, 8, 12, 24} 약수의 개수는 8개 입니다. 입력 2\n",
    "\n",
    "36 출력 2\n",
    "\n",
    "{ 1, 2, 3, 4, 6, 9, 12, 18, 36 } 약수의 개수는 9개 입니다. 입력 3\n",
    "\n",
    "2468013579 출력 3\n",
    "\n",
    "{ 1, 3, 9, 61, 183, 549, 4495471, 13486413, 40459239, 274223731, 822671193, 2468013579 } 약수의 개수는 12개 입니다. 사용한 소스코드를 풀이에 넣어 입력과 출력이 나왔음을 보이고, 소스코드를 디버깅하여 123456789를 입력해 출력된 결과를 '{ a, b, ... } / 약수의 개수는 ~개 입니다' 형식으로 하시오."
   ]
  },
  {
   "cell_type": "code",
   "execution_count": 31,
   "metadata": {
    "id": "WVODs0vxFP-u",
    "scrolled": true
   },
   "outputs": [
    {
     "name": "stdout",
     "output_type": "stream",
     "text": [
      "[1, 2, 5, 10, 25, 50]\n",
      "약수의 개수는 6개 입니다.\n"
     ]
    }
   ],
   "source": [
    "def 약수찾기(num):\n",
    "    a = []\n",
    "    for i in range(num):\n",
    "        if num%(i+1) == 0:\n",
    "            a.append(i+1)\n",
    "    a=set(a)\n",
    "    print(sorted(a))\n",
    "    print(f'약수의 개수는 {len(a)}개 입니다.')\n",
    "num = 50\n",
    "약수찾기(num)"
   ]
  },
  {
   "cell_type": "markdown",
   "metadata": {
    "id": "95f0tv-SFpvJ"
   },
   "source": [
    "## 문제 20)\n",
    "\n",
    " 2^15 = 32768 의 각 자리수를 더하면 3 + 2 + 7 + 6 + 8 = 26 입니다. 2^1000의 각 자리수를 모두 더하면 얼마입니까?"
   ]
  },
  {
   "cell_type": "code",
   "execution_count": 32,
   "metadata": {
    "colab": {
     "base_uri": "https://localhost:8080/"
    },
    "id": "05eijlwhFgIg",
    "outputId": "cf0ae613-715f-48b4-f07b-678c2de6ee50"
   },
   "outputs": [],
   "source": [
    "num = 2**15\n",
    "def 자리수더하기(x):\n",
    "    x = str(x)\n",
    "    sum = 0\n",
    "    for i in range(len(x)):\n",
    "        sum += int(x[i])\n",
    "    return sum"
   ]
  },
  {
   "cell_type": "code",
   "execution_count": 33,
   "metadata": {
    "colab": {
     "base_uri": "https://localhost:8080/"
    },
    "id": "FXKGO98yFtw3",
    "outputId": "dfa95941-8bd3-46da-96c4-c20a7c286b02"
   },
   "outputs": [
    {
     "data": {
      "text/plain": [
       "1366"
      ]
     },
     "execution_count": 33,
     "metadata": {},
     "output_type": "execute_result"
    }
   ],
   "source": [
    "자리수더하기(2**1000)"
   ]
  },
  {
   "cell_type": "markdown",
   "metadata": {
    "id": "TGhiyCcFGC6Z"
   },
   "source": [
    "문제 21)\n",
    "\n",
    "아래와 같은 결과를 출력하는 function을 구현하라\n",
    "bool OneEditApart(string s1, string s2)\n",
    "\n",
    "OneEditApart(\"cat\", \"dog\") = false\n",
    "\n",
    "OneEditApart(\"cat\", \"cats\") = true\n",
    "\n",
    "OneEditApart(\"cat\", \"cut\") = true\n",
    "\n",
    "OneEditApart(\"cat\", \"cast\") = true\n",
    "\n",
    "OneEditApart(\"cat\", \"at\") = true\n",
    "\n",
    "OneEditApart(\"cat\", \"acts\") = false\n",
    "\n",
    "한개의 문자를 삽입, 제거, 변환을 했을때 s1, s2가 동일한지를 판별하는 OneEditApart 함수를 작성하시오."
   ]
  },
  {
   "cell_type": "code",
   "execution_count": 34,
   "metadata": {
    "colab": {
     "base_uri": "https://localhost:8080/"
    },
    "id": "J-SzhRDcF_jG",
    "outputId": "b8c3b96a-b4d2-46cc-efd9-953324900f8a"
   },
   "outputs": [
    {
     "name": "stdout",
     "output_type": "stream",
     "text": [
      "굳\n",
      "굳\n",
      "굳\n"
     ]
    }
   ],
   "source": [
    "def OneEditApart(a,b):\n",
    "    for i in range(len(a)):\n",
    "        for j in range(len(b)):\n",
    "            if a[i] == b[j]:\n",
    "                print('굳')\n",
    "OneEditApart(\"cat\", \"acts\")\n",
    "# 이건 모르겟다!!"
   ]
  },
  {
   "cell_type": "markdown",
   "metadata": {
    "id": "hmORWyNIGXNw"
   },
   "source": [
    "## 문제 21) 시침과 분침이 직각이 되는 순간?\n",
    "\n",
    "\n",
    "###  문제\n",
    "\n",
    "> 일반적인 1부터 12까지 아라비아 숫자가 적혀있는 시계가 있습니다.<Br>\n",
    "> 이 시계는 오전 12:00 정각에 작동하기 시작하여 하루동안 움직이게 되어있습니다.<Br>\n",
    "> 이 때 시침과 분침이 **직각**이 될 때의 시간을 hh:mm 형태로 나타내고 하루동안 직각이 된 총 횟수를 구해보세요!\n",
    "\n",
    "### 출력(예시)\n",
    "> 1. 09:00<p>\n",
    "> 2. 15:00<p>\n",
    "> ...<p>\n",
    "> Total: n번!<p>\n",
    "\n",
    "<p><p>\n",
    "시간표현은 오전, 오후가 아닌 24시 방식으로 써주세요!"
   ]
  },
  {
   "cell_type": "code",
   "execution_count": null,
   "metadata": {
    "colab": {
     "base_uri": "https://localhost:8080/"
    },
    "id": "Fq3yXxH7GMJM",
    "outputId": "0260610f-9518-4595-b312-6793714794bf"
   },
   "outputs": [],
   "source": []
  },
  {
   "cell_type": "markdown",
   "metadata": {
    "id": "j6ElLfmGGxG2"
   },
   "source": [
    "## 문제 22)\n",
    "\n",
    "2진법이란, 어떤 자연수를 0과 1로만 나타내는 것이다. \n",
    "\n",
    "예를 들어 73은 64(2^6)+8(2^3)+1(2^0)이기 때문에 1001001으로 표현한다. \n",
    "\n",
    "어떤 숫자를 입력받았을 때 그 숫자를 2진법으로 출력하는 프로그램을 작성하시오."
   ]
  },
  {
   "cell_type": "code",
   "execution_count": 35,
   "metadata": {
    "id": "5GSB7iihGqOZ"
   },
   "outputs": [],
   "source": [
    "def 이진법(x):\n",
    "    a = ''\n",
    "    b= x\n",
    "    for i in reversed(range(x)):\n",
    "        if 2**i > x  and  2**i < b:\n",
    "            a = a + '0'\n",
    "        if 2**i <= x:\n",
    "            x = x - (2**i)\n",
    "            a = a + '1'\n",
    "    return a"
   ]
  },
  {
   "cell_type": "code",
   "execution_count": 36,
   "metadata": {
    "colab": {
     "base_uri": "https://localhost:8080/"
    },
    "id": "X-IuwyAYG8wZ",
    "outputId": "75a9db24-7a7a-4501-df57-d2fdf9b4a45c"
   },
   "outputs": [
    {
     "data": {
      "text/plain": [
       "'1001001'"
      ]
     },
     "execution_count": 36,
     "metadata": {},
     "output_type": "execute_result"
    }
   ],
   "source": [
    "이진법(73)"
   ]
  },
  {
   "cell_type": "markdown",
   "metadata": {
    "id": "jhgU64wDIyYq"
   },
   "source": [
    "## 문제 23) 가성비 최대화\n",
    "\n",
    "기계를 구입하려 하는데 이 기계는 추가 부품을 장착할 수 있다. 추가 부품은 종류당 하나씩만 장착 가능하고, 모든 추가 부품은 동일한 가격을 가진다.\n",
    "\n",
    "원래 기계의 가격과 성능, 추가 부품의 가격과 각 부품의 성능이 주어졌을 때, 추가 부품을 장착하여 얻을 수 있는 최대 가성비를 정수 부분까지 구하시오(가격 및 성능은 상대적인 값으로 수치화되어 주어진다).\n",
    "\n",
    "e.g.)\n",
    "\n",
    "원래 기계의 가격 : 10\n",
    "\n",
    "원래 기계의 성능 : 150\n",
    "\n",
    "추가 부품의 가격 : 3\n",
    "\n",
    "추가 부품의 성능 : 각각 30, 70, 15, 40, 65\n",
    "\n",
    "추가 부품을 장착하여 얻을 수 있는 최대 가성비 : 17.81... → 17\n",
    "\n",
    "(성능이 70과 65인 부품을 장착하면 됨)\n",
    "\n",
    "\n",
    "\n"
   ]
  },
  {
   "cell_type": "code",
   "execution_count": 37,
   "metadata": {
    "colab": {
     "base_uri": "https://localhost:8080/"
    },
    "id": "JBC-b8XlId8N",
    "outputId": "8f4abcd8-8a09-43ca-81d4-86c6f178e083"
   },
   "outputs": [
    {
     "name": "stdout",
     "output_type": "stream",
     "text": [
      "70\n",
      "16\n",
      "65\n",
      "17\n"
     ]
    }
   ],
   "source": [
    "a = 10\n",
    "b= 150\n",
    "c = 3\n",
    "d= [30,70,15,40,65]\n",
    "f = 0\n",
    "d.sort(reverse = True)\n",
    "x = []\n",
    "for i in d:\n",
    "  f += i\n",
    "  x.append(i)\n",
    "  if (f+b) / (c*len(x) + a) > ((f-i) + b)/(c*(len(x)-1) + a):\n",
    "    print(i)\n",
    "    print(str((f+b) / (c*len(x) + a))[:2])\n",
    "    "
   ]
  },
  {
   "cell_type": "code",
   "execution_count": 38,
   "metadata": {
    "id": "NpEu9mxoI6ub"
   },
   "outputs": [
    {
     "name": "stdout",
     "output_type": "stream",
     "text": [
      "70\n",
      "16\n",
      "65\n",
      "17\n"
     ]
    }
   ],
   "source": [
    "a = 10\n",
    "b = 150\n",
    "c = 3\n",
    "d = [30,70,15,40,65]\n",
    "f = 0\n",
    "\n",
    "d.sort(reverse = True)\n",
    "x =[]\n",
    "\n",
    "for i in d:\n",
    "    f += i\n",
    "    x.append(i)\n",
    "    if (f+b)/(c*len(x) + a) > ((f-i) + b) / (c*(len(x) - 1) + a):\n",
    "        print(i)\n",
    "        print(str((f+b)/ (c*len(x) + a))[:2])        "
   ]
  },
  {
   "cell_type": "code",
   "execution_count": null,
   "metadata": {},
   "outputs": [],
   "source": []
  }
 ],
 "metadata": {
  "colab": {
   "collapsed_sections": [
    "CcNlSRLw8_a0",
    "yOsyZl159FyC",
    "JS1Ak7cy9ceb",
    "0-0jfS6Z9rn3",
    "F7MXZm9m92_5",
    "AuO51RWyEbs4",
    "8BOAdmisFEKy",
    "_8R5Fsb6FXfu",
    "95f0tv-SFpvJ",
    "j6ElLfmGGxG2",
    "jhgU64wDIyYq"
   ],
   "name": "파이썬_문제.ipynb",
   "provenance": [],
   "toc_visible": true
  },
  "kernelspec": {
   "display_name": "Python 3",
   "language": "python",
   "name": "python3"
  },
  "language_info": {
   "codemirror_mode": {
    "name": "ipython",
    "version": 3
   },
   "file_extension": ".py",
   "mimetype": "text/x-python",
   "name": "python",
   "nbconvert_exporter": "python",
   "pygments_lexer": "ipython3",
   "version": "3.8.5"
  }
 },
 "nbformat": 4,
 "nbformat_minor": 1
}
