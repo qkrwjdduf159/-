{
 "cells": [
  {
   "cell_type": "code",
   "execution_count": 1,
   "metadata": {
    "executionInfo": {
     "elapsed": 1293,
     "status": "ok",
     "timestamp": 1621756916909,
     "user": {
      "displayName": "박정열",
      "photoUrl": "",
      "userId": "02719436629239662639"
     },
     "user_tz": -540
    },
    "id": "QUZVHIq_23LP"
   },
   "outputs": [],
   "source": [
    "import numpy as np\n",
    "import pandas as pd\n",
    "import matplotlib.pyplot as plt\n",
    "import seaborn as sns\n",
    "import datetime as dt\n",
    "from math import sin, cos, sqrt, atan2, radians, degrees\n",
    "from sklearn.ensemble import RandomForestRegressor\n",
    "from sklearn.model_selection import KFold\n",
    "from tqdm import tqdm"
   ]
  },
  {
   "cell_type": "code",
   "execution_count": 2,
   "metadata": {
    "colab": {
     "base_uri": "https://localhost:8080/",
     "height": 576
    },
    "executionInfo": {
     "elapsed": 7469,
     "status": "error",
     "timestamp": 1621756924380,
     "user": {
      "displayName": "박정열",
      "photoUrl": "",
      "userId": "02719436629239662639"
     },
     "user_tz": -540
    },
    "id": "IMgZZQEG23LR",
    "outputId": "fe223167-05cf-4f74-b369-9d39bfbe1876"
   },
   "outputs": [],
   "source": [
    "train=pd.read_csv('train.csv')\n",
    "test = pd.read_csv('test.csv')\n",
    "submission = pd.read_csv('sample_submission.csv')"
   ]
  },
  {
   "cell_type": "code",
   "execution_count": 3,
   "metadata": {
    "executionInfo": {
     "elapsed": 4,
     "status": "aborted",
     "timestamp": 1621756924382,
     "user": {
      "displayName": "박정열",
      "photoUrl": "",
      "userId": "02719436629239662639"
     },
     "user_tz": -540
    },
    "id": "ZQ9c_mgQ23LS"
   },
   "outputs": [
    {
     "name": "stdout",
     "output_type": "stream",
     "text": [
      "train shape : (1458644, 11)\n",
      "test shape : (625134, 9)\n"
     ]
    }
   ],
   "source": [
    "print('train shape :', train.shape)\n",
    "print('test shape :',test.shape)"
   ]
  },
  {
   "cell_type": "markdown",
   "metadata": {
    "id": "b1QBuSba23LT"
   },
   "source": [
    "- ID - 각 여행에 대한 고유 식별자\n",
    "- vendor_id - 여행 기록과 관련된 공급자를 나타내는 코드\n",
    "- pickup_datetime - 미터가 종사한 날짜 및 시간\n",
    "- dropoff_datetime - 미터가 분리된 날짜 및 시간\n",
    "- passenger_count - 차량의 승객 수 (운전자가 값을 입력)\n",
    "- pickup_longitude - 미터가 종사하는 경도\n",
    "- pickup_latitude - 미터가 종사하는 위도\n",
    "- dropoff_longitude - 미터가 분리 된 경도\n",
    "- dropoff_latitude - 미터가 분리 된 위도\n",
    "- store_and_fwd_flag - 이 플래그는 차량이 서버에 연결되지 않았기 때문에 공급 업체에 보내기 전에 여행 기록이 차량 메모리에 보관되었는지 여부를 나타냅니다.-Y = 저장 및 전달; N = 저장 및 전진 여행 아님\n",
    "- trip_duration - 초 여행의 기간"
   ]
  },
  {
   "cell_type": "code",
   "execution_count": 4,
   "metadata": {
    "executionInfo": {
     "elapsed": 5,
     "status": "aborted",
     "timestamp": 1621756924383,
     "user": {
      "displayName": "박정열",
      "photoUrl": "",
      "userId": "02719436629239662639"
     },
     "user_tz": -540
    },
    "id": "VyeoE5bE23LT"
   },
   "outputs": [
    {
     "data": {
      "text/html": [
       "<div>\n",
       "<style scoped>\n",
       "    .dataframe tbody tr th:only-of-type {\n",
       "        vertical-align: middle;\n",
       "    }\n",
       "\n",
       "    .dataframe tbody tr th {\n",
       "        vertical-align: top;\n",
       "    }\n",
       "\n",
       "    .dataframe thead th {\n",
       "        text-align: right;\n",
       "    }\n",
       "</style>\n",
       "<table border=\"1\" class=\"dataframe\">\n",
       "  <thead>\n",
       "    <tr style=\"text-align: right;\">\n",
       "      <th></th>\n",
       "      <th>id</th>\n",
       "      <th>vendor_id</th>\n",
       "      <th>pickup_datetime</th>\n",
       "      <th>dropoff_datetime</th>\n",
       "      <th>passenger_count</th>\n",
       "      <th>pickup_longitude</th>\n",
       "      <th>pickup_latitude</th>\n",
       "      <th>dropoff_longitude</th>\n",
       "      <th>dropoff_latitude</th>\n",
       "      <th>store_and_fwd_flag</th>\n",
       "      <th>trip_duration</th>\n",
       "    </tr>\n",
       "  </thead>\n",
       "  <tbody>\n",
       "    <tr>\n",
       "      <th>0</th>\n",
       "      <td>id2875421</td>\n",
       "      <td>2</td>\n",
       "      <td>2016-03-14 17:24:55</td>\n",
       "      <td>2016-03-14 17:32:30</td>\n",
       "      <td>1</td>\n",
       "      <td>-73.982155</td>\n",
       "      <td>40.767937</td>\n",
       "      <td>-73.964630</td>\n",
       "      <td>40.765602</td>\n",
       "      <td>N</td>\n",
       "      <td>455</td>\n",
       "    </tr>\n",
       "    <tr>\n",
       "      <th>1</th>\n",
       "      <td>id2377394</td>\n",
       "      <td>1</td>\n",
       "      <td>2016-06-12 00:43:35</td>\n",
       "      <td>2016-06-12 00:54:38</td>\n",
       "      <td>1</td>\n",
       "      <td>-73.980415</td>\n",
       "      <td>40.738564</td>\n",
       "      <td>-73.999481</td>\n",
       "      <td>40.731152</td>\n",
       "      <td>N</td>\n",
       "      <td>663</td>\n",
       "    </tr>\n",
       "    <tr>\n",
       "      <th>2</th>\n",
       "      <td>id3858529</td>\n",
       "      <td>2</td>\n",
       "      <td>2016-01-19 11:35:24</td>\n",
       "      <td>2016-01-19 12:10:48</td>\n",
       "      <td>1</td>\n",
       "      <td>-73.979027</td>\n",
       "      <td>40.763939</td>\n",
       "      <td>-74.005333</td>\n",
       "      <td>40.710087</td>\n",
       "      <td>N</td>\n",
       "      <td>2124</td>\n",
       "    </tr>\n",
       "    <tr>\n",
       "      <th>3</th>\n",
       "      <td>id3504673</td>\n",
       "      <td>2</td>\n",
       "      <td>2016-04-06 19:32:31</td>\n",
       "      <td>2016-04-06 19:39:40</td>\n",
       "      <td>1</td>\n",
       "      <td>-74.010040</td>\n",
       "      <td>40.719971</td>\n",
       "      <td>-74.012268</td>\n",
       "      <td>40.706718</td>\n",
       "      <td>N</td>\n",
       "      <td>429</td>\n",
       "    </tr>\n",
       "    <tr>\n",
       "      <th>4</th>\n",
       "      <td>id2181028</td>\n",
       "      <td>2</td>\n",
       "      <td>2016-03-26 13:30:55</td>\n",
       "      <td>2016-03-26 13:38:10</td>\n",
       "      <td>1</td>\n",
       "      <td>-73.973053</td>\n",
       "      <td>40.793209</td>\n",
       "      <td>-73.972923</td>\n",
       "      <td>40.782520</td>\n",
       "      <td>N</td>\n",
       "      <td>435</td>\n",
       "    </tr>\n",
       "  </tbody>\n",
       "</table>\n",
       "</div>"
      ],
      "text/plain": [
       "          id  vendor_id      pickup_datetime     dropoff_datetime  \\\n",
       "0  id2875421          2  2016-03-14 17:24:55  2016-03-14 17:32:30   \n",
       "1  id2377394          1  2016-06-12 00:43:35  2016-06-12 00:54:38   \n",
       "2  id3858529          2  2016-01-19 11:35:24  2016-01-19 12:10:48   \n",
       "3  id3504673          2  2016-04-06 19:32:31  2016-04-06 19:39:40   \n",
       "4  id2181028          2  2016-03-26 13:30:55  2016-03-26 13:38:10   \n",
       "\n",
       "   passenger_count  pickup_longitude  pickup_latitude  dropoff_longitude  \\\n",
       "0                1        -73.982155        40.767937         -73.964630   \n",
       "1                1        -73.980415        40.738564         -73.999481   \n",
       "2                1        -73.979027        40.763939         -74.005333   \n",
       "3                1        -74.010040        40.719971         -74.012268   \n",
       "4                1        -73.973053        40.793209         -73.972923   \n",
       "\n",
       "   dropoff_latitude store_and_fwd_flag  trip_duration  \n",
       "0         40.765602                  N            455  \n",
       "1         40.731152                  N            663  \n",
       "2         40.710087                  N           2124  \n",
       "3         40.706718                  N            429  \n",
       "4         40.782520                  N            435  "
      ]
     },
     "execution_count": 4,
     "metadata": {},
     "output_type": "execute_result"
    }
   ],
   "source": [
    "train.head()"
   ]
  },
  {
   "cell_type": "code",
   "execution_count": 5,
   "metadata": {
    "executionInfo": {
     "elapsed": 6,
     "status": "aborted",
     "timestamp": 1621756924384,
     "user": {
      "displayName": "박정열",
      "photoUrl": "",
      "userId": "02719436629239662639"
     },
     "user_tz": -540
    },
    "id": "D7tFy9FQ23LU",
    "scrolled": false
   },
   "outputs": [
    {
     "name": "stdout",
     "output_type": "stream",
     "text": [
      "########### train ##################\n",
      "<class 'pandas.core.frame.DataFrame'>\n",
      "RangeIndex: 1458644 entries, 0 to 1458643\n",
      "Data columns (total 11 columns):\n",
      " #   Column              Non-Null Count    Dtype  \n",
      "---  ------              --------------    -----  \n",
      " 0   id                  1458644 non-null  object \n",
      " 1   vendor_id           1458644 non-null  int64  \n",
      " 2   pickup_datetime     1458644 non-null  object \n",
      " 3   dropoff_datetime    1458644 non-null  object \n",
      " 4   passenger_count     1458644 non-null  int64  \n",
      " 5   pickup_longitude    1458644 non-null  float64\n",
      " 6   pickup_latitude     1458644 non-null  float64\n",
      " 7   dropoff_longitude   1458644 non-null  float64\n",
      " 8   dropoff_latitude    1458644 non-null  float64\n",
      " 9   store_and_fwd_flag  1458644 non-null  object \n",
      " 10  trip_duration       1458644 non-null  int64  \n",
      "dtypes: float64(4), int64(3), object(4)\n",
      "memory usage: 122.4+ MB\n",
      "None\n",
      "########### test ##################\n",
      "<class 'pandas.core.frame.DataFrame'>\n",
      "RangeIndex: 625134 entries, 0 to 625133\n",
      "Data columns (total 9 columns):\n",
      " #   Column              Non-Null Count   Dtype  \n",
      "---  ------              --------------   -----  \n",
      " 0   id                  625134 non-null  object \n",
      " 1   vendor_id           625134 non-null  int64  \n",
      " 2   pickup_datetime     625134 non-null  object \n",
      " 3   passenger_count     625134 non-null  int64  \n",
      " 4   pickup_longitude    625134 non-null  float64\n",
      " 5   pickup_latitude     625134 non-null  float64\n",
      " 6   dropoff_longitude   625134 non-null  float64\n",
      " 7   dropoff_latitude    625134 non-null  float64\n",
      " 8   store_and_fwd_flag  625134 non-null  object \n",
      "dtypes: float64(4), int64(2), object(3)\n",
      "memory usage: 42.9+ MB\n",
      "None\n"
     ]
    }
   ],
   "source": [
    "print('########### train ##################')\n",
    "print(train.info())\n",
    "\n",
    "print('########### test ##################')\n",
    "print(test.info())"
   ]
  },
  {
   "cell_type": "code",
   "execution_count": 6,
   "metadata": {
    "executionInfo": {
     "elapsed": 7,
     "status": "aborted",
     "timestamp": 1621756924385,
     "user": {
      "displayName": "박정열",
      "photoUrl": "",
      "userId": "02719436629239662639"
     },
     "user_tz": -540
    },
    "id": "q-OPOV_d23LU"
   },
   "outputs": [
    {
     "name": "stdout",
     "output_type": "stream",
     "text": [
      "############# train 결측치 ##############\n",
      "id                    0\n",
      "vendor_id             0\n",
      "pickup_datetime       0\n",
      "dropoff_datetime      0\n",
      "passenger_count       0\n",
      "pickup_longitude      0\n",
      "pickup_latitude       0\n",
      "dropoff_longitude     0\n",
      "dropoff_latitude      0\n",
      "store_and_fwd_flag    0\n",
      "trip_duration         0\n",
      "dtype: int64\n",
      "############# test 결측치 ##############\n",
      "id                    0\n",
      "vendor_id             0\n",
      "pickup_datetime       0\n",
      "passenger_count       0\n",
      "pickup_longitude      0\n",
      "pickup_latitude       0\n",
      "dropoff_longitude     0\n",
      "dropoff_latitude      0\n",
      "store_and_fwd_flag    0\n",
      "dtype: int64\n"
     ]
    }
   ],
   "source": [
    "print('############# train 결측치 ##############')\n",
    "print(train.isnull().sum())\n",
    "\n",
    "print('############# test 결측치 ##############')\n",
    "print(test.isnull().sum())"
   ]
  },
  {
   "cell_type": "markdown",
   "metadata": {
    "id": "GqW-QsKQ23LV"
   },
   "source": [
    "- 결측치는 모든 데이터에 없다."
   ]
  },
  {
   "cell_type": "code",
   "execution_count": 7,
   "metadata": {
    "executionInfo": {
     "elapsed": 8,
     "status": "aborted",
     "timestamp": 1621756924386,
     "user": {
      "displayName": "박정열",
      "photoUrl": "",
      "userId": "02719436629239662639"
     },
     "user_tz": -540
    },
    "id": "arFgx6cA23LV"
   },
   "outputs": [
    {
     "name": "stdout",
     "output_type": "stream",
     "text": [
      "####################### train ##################\n"
     ]
    },
    {
     "data": {
      "text/html": [
       "<div>\n",
       "<style scoped>\n",
       "    .dataframe tbody tr th:only-of-type {\n",
       "        vertical-align: middle;\n",
       "    }\n",
       "\n",
       "    .dataframe tbody tr th {\n",
       "        vertical-align: top;\n",
       "    }\n",
       "\n",
       "    .dataframe thead th {\n",
       "        text-align: right;\n",
       "    }\n",
       "</style>\n",
       "<table border=\"1\" class=\"dataframe\">\n",
       "  <thead>\n",
       "    <tr style=\"text-align: right;\">\n",
       "      <th></th>\n",
       "      <th>vendor_id</th>\n",
       "      <th>passenger_count</th>\n",
       "      <th>pickup_longitude</th>\n",
       "      <th>pickup_latitude</th>\n",
       "      <th>dropoff_longitude</th>\n",
       "      <th>dropoff_latitude</th>\n",
       "      <th>trip_duration</th>\n",
       "    </tr>\n",
       "  </thead>\n",
       "  <tbody>\n",
       "    <tr>\n",
       "      <th>count</th>\n",
       "      <td>1.458644e+06</td>\n",
       "      <td>1.458644e+06</td>\n",
       "      <td>1.458644e+06</td>\n",
       "      <td>1.458644e+06</td>\n",
       "      <td>1.458644e+06</td>\n",
       "      <td>1.458644e+06</td>\n",
       "      <td>1.458644e+06</td>\n",
       "    </tr>\n",
       "    <tr>\n",
       "      <th>mean</th>\n",
       "      <td>1.534950e+00</td>\n",
       "      <td>1.664530e+00</td>\n",
       "      <td>-7.397349e+01</td>\n",
       "      <td>4.075092e+01</td>\n",
       "      <td>-7.397342e+01</td>\n",
       "      <td>4.075180e+01</td>\n",
       "      <td>9.594923e+02</td>\n",
       "    </tr>\n",
       "    <tr>\n",
       "      <th>std</th>\n",
       "      <td>4.987772e-01</td>\n",
       "      <td>1.314242e+00</td>\n",
       "      <td>7.090186e-02</td>\n",
       "      <td>3.288119e-02</td>\n",
       "      <td>7.064327e-02</td>\n",
       "      <td>3.589056e-02</td>\n",
       "      <td>5.237432e+03</td>\n",
       "    </tr>\n",
       "    <tr>\n",
       "      <th>min</th>\n",
       "      <td>1.000000e+00</td>\n",
       "      <td>0.000000e+00</td>\n",
       "      <td>-1.219333e+02</td>\n",
       "      <td>3.435970e+01</td>\n",
       "      <td>-1.219333e+02</td>\n",
       "      <td>3.218114e+01</td>\n",
       "      <td>1.000000e+00</td>\n",
       "    </tr>\n",
       "    <tr>\n",
       "      <th>25%</th>\n",
       "      <td>1.000000e+00</td>\n",
       "      <td>1.000000e+00</td>\n",
       "      <td>-7.399187e+01</td>\n",
       "      <td>4.073735e+01</td>\n",
       "      <td>-7.399133e+01</td>\n",
       "      <td>4.073588e+01</td>\n",
       "      <td>3.970000e+02</td>\n",
       "    </tr>\n",
       "    <tr>\n",
       "      <th>50%</th>\n",
       "      <td>2.000000e+00</td>\n",
       "      <td>1.000000e+00</td>\n",
       "      <td>-7.398174e+01</td>\n",
       "      <td>4.075410e+01</td>\n",
       "      <td>-7.397975e+01</td>\n",
       "      <td>4.075452e+01</td>\n",
       "      <td>6.620000e+02</td>\n",
       "    </tr>\n",
       "    <tr>\n",
       "      <th>75%</th>\n",
       "      <td>2.000000e+00</td>\n",
       "      <td>2.000000e+00</td>\n",
       "      <td>-7.396733e+01</td>\n",
       "      <td>4.076836e+01</td>\n",
       "      <td>-7.396301e+01</td>\n",
       "      <td>4.076981e+01</td>\n",
       "      <td>1.075000e+03</td>\n",
       "    </tr>\n",
       "    <tr>\n",
       "      <th>max</th>\n",
       "      <td>2.000000e+00</td>\n",
       "      <td>9.000000e+00</td>\n",
       "      <td>-6.133553e+01</td>\n",
       "      <td>5.188108e+01</td>\n",
       "      <td>-6.133553e+01</td>\n",
       "      <td>4.392103e+01</td>\n",
       "      <td>3.526282e+06</td>\n",
       "    </tr>\n",
       "  </tbody>\n",
       "</table>\n",
       "</div>"
      ],
      "text/plain": [
       "          vendor_id  passenger_count  pickup_longitude  pickup_latitude  \\\n",
       "count  1.458644e+06     1.458644e+06      1.458644e+06     1.458644e+06   \n",
       "mean   1.534950e+00     1.664530e+00     -7.397349e+01     4.075092e+01   \n",
       "std    4.987772e-01     1.314242e+00      7.090186e-02     3.288119e-02   \n",
       "min    1.000000e+00     0.000000e+00     -1.219333e+02     3.435970e+01   \n",
       "25%    1.000000e+00     1.000000e+00     -7.399187e+01     4.073735e+01   \n",
       "50%    2.000000e+00     1.000000e+00     -7.398174e+01     4.075410e+01   \n",
       "75%    2.000000e+00     2.000000e+00     -7.396733e+01     4.076836e+01   \n",
       "max    2.000000e+00     9.000000e+00     -6.133553e+01     5.188108e+01   \n",
       "\n",
       "       dropoff_longitude  dropoff_latitude  trip_duration  \n",
       "count       1.458644e+06      1.458644e+06   1.458644e+06  \n",
       "mean       -7.397342e+01      4.075180e+01   9.594923e+02  \n",
       "std         7.064327e-02      3.589056e-02   5.237432e+03  \n",
       "min        -1.219333e+02      3.218114e+01   1.000000e+00  \n",
       "25%        -7.399133e+01      4.073588e+01   3.970000e+02  \n",
       "50%        -7.397975e+01      4.075452e+01   6.620000e+02  \n",
       "75%        -7.396301e+01      4.076981e+01   1.075000e+03  \n",
       "max        -6.133553e+01      4.392103e+01   3.526282e+06  "
      ]
     },
     "metadata": {},
     "output_type": "display_data"
    },
    {
     "name": "stdout",
     "output_type": "stream",
     "text": [
      "###################### test ###################\n"
     ]
    },
    {
     "data": {
      "text/html": [
       "<div>\n",
       "<style scoped>\n",
       "    .dataframe tbody tr th:only-of-type {\n",
       "        vertical-align: middle;\n",
       "    }\n",
       "\n",
       "    .dataframe tbody tr th {\n",
       "        vertical-align: top;\n",
       "    }\n",
       "\n",
       "    .dataframe thead th {\n",
       "        text-align: right;\n",
       "    }\n",
       "</style>\n",
       "<table border=\"1\" class=\"dataframe\">\n",
       "  <thead>\n",
       "    <tr style=\"text-align: right;\">\n",
       "      <th></th>\n",
       "      <th>vendor_id</th>\n",
       "      <th>passenger_count</th>\n",
       "      <th>pickup_longitude</th>\n",
       "      <th>pickup_latitude</th>\n",
       "      <th>dropoff_longitude</th>\n",
       "      <th>dropoff_latitude</th>\n",
       "    </tr>\n",
       "  </thead>\n",
       "  <tbody>\n",
       "    <tr>\n",
       "      <th>count</th>\n",
       "      <td>625134.000000</td>\n",
       "      <td>625134.000000</td>\n",
       "      <td>625134.000000</td>\n",
       "      <td>625134.000000</td>\n",
       "      <td>625134.000000</td>\n",
       "      <td>625134.000000</td>\n",
       "    </tr>\n",
       "    <tr>\n",
       "      <th>mean</th>\n",
       "      <td>1.534884</td>\n",
       "      <td>1.661765</td>\n",
       "      <td>-73.973614</td>\n",
       "      <td>40.750927</td>\n",
       "      <td>-73.973458</td>\n",
       "      <td>40.751816</td>\n",
       "    </tr>\n",
       "    <tr>\n",
       "      <th>std</th>\n",
       "      <td>0.498782</td>\n",
       "      <td>1.311293</td>\n",
       "      <td>0.073389</td>\n",
       "      <td>0.029848</td>\n",
       "      <td>0.072565</td>\n",
       "      <td>0.035824</td>\n",
       "    </tr>\n",
       "    <tr>\n",
       "      <th>min</th>\n",
       "      <td>1.000000</td>\n",
       "      <td>0.000000</td>\n",
       "      <td>-121.933128</td>\n",
       "      <td>37.389587</td>\n",
       "      <td>-121.933327</td>\n",
       "      <td>36.601322</td>\n",
       "    </tr>\n",
       "    <tr>\n",
       "      <th>25%</th>\n",
       "      <td>1.000000</td>\n",
       "      <td>1.000000</td>\n",
       "      <td>-73.991852</td>\n",
       "      <td>40.737392</td>\n",
       "      <td>-73.991318</td>\n",
       "      <td>40.736000</td>\n",
       "    </tr>\n",
       "    <tr>\n",
       "      <th>50%</th>\n",
       "      <td>2.000000</td>\n",
       "      <td>1.000000</td>\n",
       "      <td>-73.981743</td>\n",
       "      <td>40.754093</td>\n",
       "      <td>-73.979774</td>\n",
       "      <td>40.754543</td>\n",
       "    </tr>\n",
       "    <tr>\n",
       "      <th>75%</th>\n",
       "      <td>2.000000</td>\n",
       "      <td>2.000000</td>\n",
       "      <td>-73.967400</td>\n",
       "      <td>40.768394</td>\n",
       "      <td>-73.963013</td>\n",
       "      <td>40.769852</td>\n",
       "    </tr>\n",
       "    <tr>\n",
       "      <th>max</th>\n",
       "      <td>2.000000</td>\n",
       "      <td>9.000000</td>\n",
       "      <td>-69.248917</td>\n",
       "      <td>42.814938</td>\n",
       "      <td>-67.496796</td>\n",
       "      <td>48.857597</td>\n",
       "    </tr>\n",
       "  </tbody>\n",
       "</table>\n",
       "</div>"
      ],
      "text/plain": [
       "           vendor_id  passenger_count  pickup_longitude  pickup_latitude  \\\n",
       "count  625134.000000    625134.000000     625134.000000    625134.000000   \n",
       "mean        1.534884         1.661765        -73.973614        40.750927   \n",
       "std         0.498782         1.311293          0.073389         0.029848   \n",
       "min         1.000000         0.000000       -121.933128        37.389587   \n",
       "25%         1.000000         1.000000        -73.991852        40.737392   \n",
       "50%         2.000000         1.000000        -73.981743        40.754093   \n",
       "75%         2.000000         2.000000        -73.967400        40.768394   \n",
       "max         2.000000         9.000000        -69.248917        42.814938   \n",
       "\n",
       "       dropoff_longitude  dropoff_latitude  \n",
       "count      625134.000000     625134.000000  \n",
       "mean          -73.973458         40.751816  \n",
       "std             0.072565          0.035824  \n",
       "min          -121.933327         36.601322  \n",
       "25%           -73.991318         40.736000  \n",
       "50%           -73.979774         40.754543  \n",
       "75%           -73.963013         40.769852  \n",
       "max           -67.496796         48.857597  "
      ]
     },
     "metadata": {},
     "output_type": "display_data"
    }
   ],
   "source": [
    "print('####################### train ##################')\n",
    "display(train.describe())\n",
    "\n",
    "print('###################### test ###################')\n",
    "display(test.describe())"
   ]
  },
  {
   "cell_type": "code",
   "execution_count": 8,
   "metadata": {
    "executionInfo": {
     "elapsed": 8,
     "status": "aborted",
     "timestamp": 1621756924386,
     "user": {
      "displayName": "박정열",
      "photoUrl": "",
      "userId": "02719436629239662639"
     },
     "user_tz": -540
    },
    "id": "A5mU1Rur23LV"
   },
   "outputs": [],
   "source": [
    "train['pickup_datetime'] = pd.to_datetime(train['pickup_datetime'])\n",
    "train['dropoff_datetime'] = pd.to_datetime(train['dropoff_datetime'])\n",
    "test['pickup_datetime'] = pd.to_datetime(test['pickup_datetime'])\n",
    "\n",
    "# trip_duration을 target으로 바꿔준다.\n",
    "train=train.rename(columns = {'trip_duration':'target'})"
   ]
  },
  {
   "cell_type": "code",
   "execution_count": 9,
   "metadata": {
    "executionInfo": {
     "elapsed": 9,
     "status": "aborted",
     "timestamp": 1621756924387,
     "user": {
      "displayName": "박정열",
      "photoUrl": "",
      "userId": "02719436629239662639"
     },
     "user_tz": -540
    },
    "id": "6qDEfSTg23LW"
   },
   "outputs": [],
   "source": [
    "def sub_function(x):\n",
    "    a=set(train[x].unique())\n",
    "    b =set(test[x].unique())\n",
    "    a =a.difference(test[x])\n",
    "    b =b.difference(train[x])\n",
    "    print(f'train_set 에만 있는 값 {a}')\n",
    "    print(f'test_set 에만 있는 값 {b}')    "
   ]
  },
  {
   "cell_type": "code",
   "execution_count": 10,
   "metadata": {
    "executionInfo": {
     "elapsed": 9,
     "status": "aborted",
     "timestamp": 1621756924387,
     "user": {
      "displayName": "박정열",
      "photoUrl": "",
      "userId": "02719436629239662639"
     },
     "user_tz": -540
    },
    "id": "0nHjOnrv23LW"
   },
   "outputs": [
    {
     "data": {
      "text/plain": [
       "<AxesSubplot:xlabel='target', ylabel='Density'>"
      ]
     },
     "execution_count": 10,
     "metadata": {},
     "output_type": "execute_result"
    },
    {
     "data": {
      "image/png": "[encoded data removed]",
      "text/plain": [
       "<Figure size 1152x576 with 1 Axes>"
      ]
     },
     "metadata": {
      "needs_background": "light"
     },
     "output_type": "display_data"
    }
   ],
   "source": [
    "# target에 정규화를 시켜주고 분석을 진행해 주자.\n",
    "plt.figure(figsize = (16,8))\n",
    "sns.kdeplot(train['target'])"
   ]
  },
  {
   "cell_type": "markdown",
   "metadata": {
    "id": "uzZKhfe523LW"
   },
   "source": [
    "# id"
   ]
  },
  {
   "cell_type": "code",
   "execution_count": 11,
   "metadata": {
    "executionInfo": {
     "elapsed": 10,
     "status": "aborted",
     "timestamp": 1621756924388,
     "user": {
      "displayName": "박정열",
      "photoUrl": "",
      "userId": "02719436629239662639"
     },
     "user_tz": -540
    },
    "id": "bN1EgVrv23LX"
   },
   "outputs": [],
   "source": [
    "train['id']=train['id'].apply(lambda x:x[2:])\n",
    "train['id']=train['id'].astype('int')\n",
    "\n",
    "test['id'] = test['id'].apply(lambda x: x[2:])\n",
    "test['id'] = test['id'].astype('int')"
   ]
  },
  {
   "cell_type": "code",
   "execution_count": 12,
   "metadata": {
    "executionInfo": {
     "elapsed": 10,
     "status": "aborted",
     "timestamp": 1621756924388,
     "user": {
      "displayName": "박정열",
      "photoUrl": "",
      "userId": "02719436629239662639"
     },
     "user_tz": -540
    },
    "id": "WLc5yc0F23LX"
   },
   "outputs": [
    {
     "data": {
      "text/plain": [
       "count    1.458644e+06\n",
       "mean     1.999021e+06\n",
       "std      1.154740e+06\n",
       "min      1.000000e+00\n",
       "25%      9.992588e+05\n",
       "50%      1.998046e+06\n",
       "75%      2.999228e+06\n",
       "max      4.000000e+06\n",
       "Name: id, dtype: float64"
      ]
     },
     "execution_count": 12,
     "metadata": {},
     "output_type": "execute_result"
    }
   ],
   "source": [
    "train['id'].describe()"
   ]
  },
  {
   "cell_type": "code",
   "execution_count": 13,
   "metadata": {
    "executionInfo": {
     "elapsed": 11,
     "status": "aborted",
     "timestamp": 1621756924389,
     "user": {
      "displayName": "박정열",
      "photoUrl": "",
      "userId": "02719436629239662639"
     },
     "user_tz": -540
    },
    "id": "KEDg0D7r23LX"
   },
   "outputs": [
    {
     "name": "stdout",
     "output_type": "stream",
     "text": [
      "1 4000000\n",
      "2 3999997\n"
     ]
    }
   ],
   "source": [
    "print(train['id'].min(), train['id'].max())\n",
    "print(test['id'].min(), test['id'].max())"
   ]
  },
  {
   "cell_type": "code",
   "execution_count": 14,
   "metadata": {
    "executionInfo": {
     "elapsed": 11,
     "status": "aborted",
     "timestamp": 1621756924389,
     "user": {
      "displayName": "박정열",
      "photoUrl": "",
      "userId": "02719436629239662639"
     },
     "user_tz": -540
    },
    "id": "0WInbP7H23LY"
   },
   "outputs": [
    {
     "data": {
      "text/plain": [
       "<AxesSubplot:xlabel='id', ylabel='Density'>"
      ]
     },
     "execution_count": 14,
     "metadata": {},
     "output_type": "execute_result"
    },
    {
     "data": {
      "image/png": "[encoded data removed]",
      "text/plain": [
       "<Figure size 432x288 with 1 Axes>"
      ]
     },
     "metadata": {
      "needs_background": "light"
     },
     "output_type": "display_data"
    }
   ],
   "source": [
    "# 특정한 분포를 찾을 수 없으므로 이 데이터는 제거 해 주도록 하자.\n",
    "sns.kdeplot(data = train, x = 'id')"
   ]
  },
  {
   "cell_type": "markdown",
   "metadata": {
    "id": "GXBf75LC23LY"
   },
   "source": [
    "## vendor_id"
   ]
  },
  {
   "cell_type": "code",
   "execution_count": 15,
   "metadata": {
    "executionInfo": {
     "elapsed": 11,
     "status": "aborted",
     "timestamp": 1621756924389,
     "user": {
      "displayName": "박정열",
      "photoUrl": "",
      "userId": "02719436629239662639"
     },
     "user_tz": -540
    },
    "id": "kZsmv81P23LY",
    "scrolled": true
   },
   "outputs": [
    {
     "data": {
      "text/plain": [
       "2    780302\n",
       "1    678342\n",
       "Name: vendor_id, dtype: int64"
      ]
     },
     "execution_count": 15,
     "metadata": {},
     "output_type": "execute_result"
    }
   ],
   "source": [
    "train.vendor_id.value_counts()"
   ]
  },
  {
   "cell_type": "code",
   "execution_count": 16,
   "metadata": {
    "executionInfo": {
     "elapsed": 12,
     "status": "aborted",
     "timestamp": 1621756924390,
     "user": {
      "displayName": "박정열",
      "photoUrl": "",
      "userId": "02719436629239662639"
     },
     "user_tz": -540
    },
    "id": "omixIP0P23LY"
   },
   "outputs": [
    {
     "data": {
      "text/plain": [
       "<AxesSubplot:xlabel='vendor_id', ylabel='target'>"
      ]
     },
     "execution_count": 16,
     "metadata": {},
     "output_type": "execute_result"
    },
    {
     "data": {
      "image/png": "[encoded data removed]",
      "text/plain": [
       "<Figure size 432x288 with 1 Axes>"
      ]
     },
     "metadata": {
      "needs_background": "light"
     },
     "output_type": "display_data"
    }
   ],
   "source": [
    "sns.barplot(data = train, x = 'vendor_id', y = 'target')"
   ]
  },
  {
   "cell_type": "code",
   "execution_count": 17,
   "metadata": {
    "executionInfo": {
     "elapsed": 12,
     "status": "aborted",
     "timestamp": 1621756924390,
     "user": {
      "displayName": "박정열",
      "photoUrl": "",
      "userId": "02719436629239662639"
     },
     "user_tz": -540
    },
    "id": "IUq7OSgr23LZ"
   },
   "outputs": [
    {
     "name": "stdout",
     "output_type": "stream",
     "text": [
      "train_set 에만 있는 값 set()\n",
      "test_set 에만 있는 값 set()\n"
     ]
    }
   ],
   "source": [
    "sub_function('vendor_id')"
   ]
  },
  {
   "cell_type": "markdown",
   "metadata": {
    "id": "_uEjz97w23LZ"
   },
   "source": [
    "- 이 데이터의 경우 설명도 나와 있지 않기 때문에 나중에 다른 변수와 비교할 때 사용해야 겠다."
   ]
  },
  {
   "cell_type": "markdown",
   "metadata": {
    "id": "ynAysf-o23LZ"
   },
   "source": [
    "## passenger_count"
   ]
  },
  {
   "cell_type": "code",
   "execution_count": 18,
   "metadata": {
    "executionInfo": {
     "elapsed": 12,
     "status": "aborted",
     "timestamp": 1621756924390,
     "user": {
      "displayName": "박정열",
      "photoUrl": "",
      "userId": "02719436629239662639"
     },
     "user_tz": -540
    },
    "id": "Ad3mvTRk23LZ",
    "scrolled": true
   },
   "outputs": [
    {
     "name": "stdout",
     "output_type": "stream",
     "text": [
      "train의 passenger_count\n",
      "1    1033540\n",
      "2     210318\n",
      "5      78088\n",
      "3      59896\n",
      "6      48333\n",
      "4      28404\n",
      "0         60\n",
      "7          3\n",
      "9          1\n",
      "8          1\n",
      "Name: passenger_count, dtype: int64\n",
      "test의 passenger_count\n",
      "1    443447\n",
      "2     90027\n",
      "5     33411\n",
      "3     25686\n",
      "6     20521\n",
      "4     12017\n",
      "0        23\n",
      "9         2\n",
      "Name: passenger_count, dtype: int64\n"
     ]
    }
   ],
   "source": [
    "print('train의 passenger_count')\n",
    "print(train['passenger_count'].value_counts())\n",
    "print('test의 passenger_count')\n",
    "print(test['passenger_count'].value_counts())"
   ]
  },
  {
   "cell_type": "code",
   "execution_count": 19,
   "metadata": {
    "executionInfo": {
     "elapsed": 13,
     "status": "aborted",
     "timestamp": 1621756924391,
     "user": {
      "displayName": "박정열",
      "photoUrl": "",
      "userId": "02719436629239662639"
     },
     "user_tz": -540
    },
    "id": "sn1Sta1M23La",
    "scrolled": true
   },
   "outputs": [
    {
     "data": {
      "text/plain": [
       "<AxesSubplot:xlabel='passenger_count', ylabel='target'>"
      ]
     },
     "execution_count": 19,
     "metadata": {},
     "output_type": "execute_result"
    },
    {
     "data": {
      "image/png": "[encoded data removed]",
      "text/plain": [
       "<Figure size 432x288 with 1 Axes>"
      ]
     },
     "metadata": {
      "needs_background": "light"
     },
     "output_type": "display_data"
    }
   ],
   "source": [
    "sns.barplot(data = train, x = 'passenger_count', y = 'target')"
   ]
  },
  {
   "cell_type": "markdown",
   "metadata": {
    "id": "xZZgXOuU23La"
   },
   "source": [
    "- 0명을 태웠다는 말은 무슨말일까?\n",
    "- 일단 test셋에 7과 8이 없음으로 7과 8의 데이터를 지워주도록 하자!!"
   ]
  },
  {
   "cell_type": "markdown",
   "metadata": {
    "id": "CthttbZz23La"
   },
   "source": [
    "## pickup_datetime"
   ]
  },
  {
   "cell_type": "code",
   "execution_count": 20,
   "metadata": {
    "executionInfo": {
     "elapsed": 13,
     "status": "aborted",
     "timestamp": 1621756924391,
     "user": {
      "displayName": "박정열",
      "photoUrl": "",
      "userId": "02719436629239662639"
     },
     "user_tz": -540
    },
    "id": "QwoZzRnf23La"
   },
   "outputs": [],
   "source": [
    "def datetime(df, column):\n",
    "    df['month'] = df[column].dt.month\n",
    "    df['day'] = df[column].dt.day\n",
    "    df['hour'] = df[column].dt.hour\n",
    "    return df"
   ]
  },
  {
   "cell_type": "code",
   "execution_count": 21,
   "metadata": {
    "executionInfo": {
     "elapsed": 14,
     "status": "aborted",
     "timestamp": 1621756924392,
     "user": {
      "displayName": "박정열",
      "photoUrl": "",
      "userId": "02719436629239662639"
     },
     "user_tz": -540
    },
    "id": "qkMBA-Hx23Lb"
   },
   "outputs": [],
   "source": [
    "train=datetime(df = train, column = 'pickup_datetime')\n",
    "test=datetime(df = test, column = 'pickup_datetime')"
   ]
  },
  {
   "cell_type": "code",
   "execution_count": 22,
   "metadata": {
    "executionInfo": {
     "elapsed": 13,
     "status": "aborted",
     "timestamp": 1621756924392,
     "user": {
      "displayName": "박정열",
      "photoUrl": "",
      "userId": "02719436629239662639"
     },
     "user_tz": -540
    },
    "id": "eNydevru23Lb"
   },
   "outputs": [],
   "source": [
    "# 주말과 평일을 나누어서 데이터를 분석해 보자.\n",
    "train['weekday'] = train['pickup_datetime'].apply(lambda x:x.weekday())\n",
    "train['weekday']=train['weekday'].apply(lambda x: 1 if x > 4 else 0)\n",
    "\n",
    "test['weekday'] = test['pickup_datetime'].apply(lambda x:x.weekday())\n",
    "test['weekday']=test['weekday'].apply(lambda x: 1 if x > 4 else 0)"
   ]
  },
  {
   "cell_type": "markdown",
   "metadata": {
    "id": "PsjVpmOS23Lb"
   },
   "source": [
    "### 평일과 공휴일의 차이"
   ]
  },
  {
   "cell_type": "code",
   "execution_count": 23,
   "metadata": {
    "executionInfo": {
     "elapsed": 13,
     "status": "aborted",
     "timestamp": 1621756924392,
     "user": {
      "displayName": "박정열",
      "photoUrl": "",
      "userId": "02719436629239662639"
     },
     "user_tz": -540
    },
    "id": "RgT43DPi23Lb"
   },
   "outputs": [
    {
     "data": {
      "text/plain": [
       "Text(0.5, 1.0, 'weekday vs target')"
      ]
     },
     "execution_count": 23,
     "metadata": {},
     "output_type": "execute_result"
    },
    {
     "data": {
      "image/png": "[encoded data removed]",
      "text/plain": [
       "<Figure size 1152x576 with 2 Axes>"
      ]
     },
     "metadata": {
      "needs_background": "light"
     },
     "output_type": "display_data"
    }
   ],
   "source": [
    "fig, ax = plt.subplots(ncols = 2, figsize = (16,8))\n",
    "sns.barplot(data = train, x = 'weekday', y = 'target', ax = ax[0])\n",
    "ax[0].set_title('weekday vs target')\n",
    "\n",
    "sns.boxenplot(data = train, x = 'weekday', y = 'target', ax = ax[1])\n",
    "ax[1].set_title('weekday vs target')"
   ]
  },
  {
   "cell_type": "markdown",
   "metadata": {
    "id": "sgkVvdlt23Lc"
   },
   "source": [
    "- 사람들은 평일에 택시를 더 많이 타는 것을 알 수있다."
   ]
  },
  {
   "cell_type": "markdown",
   "metadata": {
    "id": "P6Oc2P-R23Lc"
   },
   "source": [
    "### 월별로 차이"
   ]
  },
  {
   "cell_type": "code",
   "execution_count": 24,
   "metadata": {
    "executionInfo": {
     "elapsed": 14,
     "status": "aborted",
     "timestamp": 1621756924393,
     "user": {
      "displayName": "박정열",
      "photoUrl": "",
      "userId": "02719436629239662639"
     },
     "user_tz": -540
    },
    "id": "U8n8Kz9323Lc"
   },
   "outputs": [
    {
     "data": {
      "text/plain": [
       "Text(0.5, 1.0, 'month vs target')"
      ]
     },
     "execution_count": 24,
     "metadata": {},
     "output_type": "execute_result"
    },
    {
     "data": {
      "image/png": "[encoded data removed]",
      "text/plain": [
       "<Figure size 1152x576 with 2 Axes>"
      ]
     },
     "metadata": {
      "needs_background": "light"
     },
     "output_type": "display_data"
    }
   ],
   "source": [
    "fig, ax = plt.subplots(ncols = 2, figsize = (16,8))\n",
    "sns.barplot(data = train, x = 'month', y = 'target', ax = ax[0])\n",
    "ax[0].set_title('month vs target')\n",
    "\n",
    "sns.boxenplot(data = train, x = 'month', y = 'target', ax = ax[1])\n",
    "ax[1].set_title('month vs target')"
   ]
  },
  {
   "cell_type": "markdown",
   "metadata": {
    "id": "FKubwSCw23Lc"
   },
   "source": [
    "- 매 달마다 택시를 타는 사람이 늘어나고 있다."
   ]
  },
  {
   "cell_type": "code",
   "execution_count": 25,
   "metadata": {
    "executionInfo": {
     "elapsed": 14,
     "status": "aborted",
     "timestamp": 1621756924393,
     "user": {
      "displayName": "박정열",
      "photoUrl": "",
      "userId": "02719436629239662639"
     },
     "user_tz": -540
    },
    "id": "gQJ3fBvh23Ld"
   },
   "outputs": [
    {
     "name": "stdout",
     "output_type": "stream",
     "text": [
      "train_set 에만 있는 값 set()\n",
      "test_set 에만 있는 값 set()\n"
     ]
    }
   ],
   "source": [
    "sub_function('month')"
   ]
  },
  {
   "cell_type": "markdown",
   "metadata": {
    "id": "kH3VfXJU23Ld"
   },
   "source": [
    "### 일별로 차이"
   ]
  },
  {
   "cell_type": "code",
   "execution_count": 26,
   "metadata": {
    "executionInfo": {
     "elapsed": 14,
     "status": "aborted",
     "timestamp": 1621756924393,
     "user": {
      "displayName": "박정열",
      "photoUrl": "",
      "userId": "02719436629239662639"
     },
     "user_tz": -540
    },
    "id": "uaUj1xFs23Ld"
   },
   "outputs": [
    {
     "data": {
      "text/plain": [
       "<AxesSubplot:xlabel='day', ylabel='target'>"
      ]
     },
     "execution_count": 26,
     "metadata": {},
     "output_type": "execute_result"
    },
    {
     "data": {
      "image/png": "[encoded data removed]",
      "text/plain": [
       "<Figure size 1152x576 with 1 Axes>"
      ]
     },
     "metadata": {
      "needs_background": "light"
     },
     "output_type": "display_data"
    }
   ],
   "source": [
    "plt.figure(figsize = (16,8))\n",
    "sns.barplot(data = train, x = 'day', y = 'target')"
   ]
  },
  {
   "cell_type": "markdown",
   "metadata": {
    "id": "PlUzZGDa23Ld"
   },
   "source": [
    "- 일별로는 다른 차이점을 발견하지 못했다."
   ]
  },
  {
   "cell_type": "code",
   "execution_count": 27,
   "metadata": {
    "executionInfo": {
     "elapsed": 15,
     "status": "aborted",
     "timestamp": 1621756924394,
     "user": {
      "displayName": "박정열",
      "photoUrl": "",
      "userId": "02719436629239662639"
     },
     "user_tz": -540
    },
    "id": "5LIPOJEN23Le"
   },
   "outputs": [
    {
     "name": "stdout",
     "output_type": "stream",
     "text": [
      "train_set 에만 있는 값 set()\n",
      "test_set 에만 있는 값 set()\n"
     ]
    }
   ],
   "source": [
    "sub_function('day')"
   ]
  },
  {
   "cell_type": "code",
   "execution_count": 28,
   "metadata": {
    "executionInfo": {
     "elapsed": 15,
     "status": "aborted",
     "timestamp": 1621756924394,
     "user": {
      "displayName": "박정열",
      "photoUrl": "",
      "userId": "02719436629239662639"
     },
     "user_tz": -540
    },
    "id": "T8mzMdtF23Le",
    "scrolled": false
   },
   "outputs": [
    {
     "data": {
      "text/plain": [
       "<AxesSubplot:xlabel='hour', ylabel='target'>"
      ]
     },
     "execution_count": 28,
     "metadata": {},
     "output_type": "execute_result"
    },
    {
     "data": {
      "image/png": "[encoded data removed]",
      "text/plain": [
       "<Figure size 1152x576 with 1 Axes>"
      ]
     },
     "metadata": {
      "needs_background": "light"
     },
     "output_type": "display_data"
    }
   ],
   "source": [
    "plt.figure(figsize = (16,8))\n",
    "sns.barplot(data = train, x = 'hour', y = 'target', hue = 'weekday')"
   ]
  },
  {
   "cell_type": "markdown",
   "metadata": {
    "id": "kq-m2yWR23Le"
   },
   "source": [
    "- 시간별로 공휴일인지 아닌지는 차이가 있는 것 같다."
   ]
  },
  {
   "cell_type": "markdown",
   "metadata": {
    "id": "pppSJP1m23Le"
   },
   "source": [
    "## 위도 경도를 이용해 거리 구하기"
   ]
  },
  {
   "cell_type": "code",
   "execution_count": 29,
   "metadata": {
    "executionInfo": {
     "elapsed": 15,
     "status": "aborted",
     "timestamp": 1621756924394,
     "user": {
      "displayName": "박정열",
      "photoUrl": "",
      "userId": "02719436629239662639"
     },
     "user_tz": -540
    },
    "id": "yR6Knvle4evh"
   },
   "outputs": [
    {
     "name": "stdout",
     "output_type": "stream",
     "text": [
      "Requirement already satisfied: haversine in c:\\users\\lg\\anaconda3\\lib\\site-packages (2.3.0)\n"
     ]
    }
   ],
   "source": [
    "!pip install haversine"
   ]
  },
  {
   "cell_type": "code",
   "execution_count": 30,
   "metadata": {
    "executionInfo": {
     "elapsed": 16,
     "status": "aborted",
     "timestamp": 1621756924395,
     "user": {
      "displayName": "박정열",
      "photoUrl": "",
      "userId": "02719436629239662639"
     },
     "user_tz": -540
    },
    "id": "ZJQ9f4Fq23Le"
   },
   "outputs": [],
   "source": [
    "from haversine import haversine"
   ]
  },
  {
   "cell_type": "code",
   "execution_count": 31,
   "metadata": {
    "executionInfo": {
     "elapsed": 16,
     "status": "aborted",
     "timestamp": 1621756924395,
     "user": {
      "displayName": "박정열",
      "photoUrl": "",
      "userId": "02719436629239662639"
     },
     "user_tz": -540
    },
    "id": "n0eId4ea23Lf"
   },
   "outputs": [
    {
     "data": {
      "text/plain": [
       "Index(['id', 'vendor_id', 'pickup_datetime', 'dropoff_datetime',\n",
       "       'passenger_count', 'pickup_longitude', 'pickup_latitude',\n",
       "       'dropoff_longitude', 'dropoff_latitude', 'store_and_fwd_flag', 'target',\n",
       "       'month', 'day', 'hour', 'weekday'],\n",
       "      dtype='object')"
      ]
     },
     "execution_count": 31,
     "metadata": {},
     "output_type": "execute_result"
    }
   ],
   "source": [
    "train.columns"
   ]
  },
  {
   "cell_type": "code",
   "execution_count": 32,
   "metadata": {
    "executionInfo": {
     "elapsed": 18,
     "status": "aborted",
     "timestamp": 1621756924397,
     "user": {
      "displayName": "박정열",
      "photoUrl": "",
      "userId": "02719436629239662639"
     },
     "user_tz": -540
    },
    "id": "j_q2s1KP23Lf"
   },
   "outputs": [],
   "source": [
    "def haversine1(lat1, lon1, lat2, lon2, R = 6373.0):\n",
    "    \n",
    "    R = R # 'km'를 나타내기위해 수를 지정해준다.\n",
    "    lat1 = radians(lat1)\n",
    "    lon1 = radians(lon1)\n",
    "    lat2 = radians(lat2)\n",
    "    lon2 = radians(lon2)\n",
    "    dlon = lon2 - lon1\n",
    "    dlat = lat2 - lat1\n",
    "    \n",
    "    a = sin(dlat / 2)**2 + cos(lat1)*cos(lat2)*sin(dlon / 2)**2\n",
    "    c = 2 * atan2(sqrt(a), sqrt(1-a))\n",
    "    \n",
    "    distance = R * c\n",
    "    return distance\n",
    "    \n",
    "train['distance'] = train.apply(lambda x:haversine1(x['pickup_latitude'],\n",
    "                                                   x['pickup_longitude'],\n",
    "                                                   x['dropoff_latitude'],\n",
    "                                                   x['dropoff_longitude']\n",
    "                                                   ), axis = 1)\n",
    "\n",
    "test['distance'] = test.apply(lambda x:haversine1(x['pickup_latitude'],\n",
    "                                                   x['pickup_longitude'],\n",
    "                                                   x['dropoff_latitude'],\n",
    "                                                   x['dropoff_longitude']\n",
    "                                                   ), axis = 1)"
   ]
  },
  {
   "cell_type": "code",
   "execution_count": 33,
   "metadata": {
    "executionInfo": {
     "elapsed": 18,
     "status": "aborted",
     "timestamp": 1621756924397,
     "user": {
      "displayName": "박정열",
      "photoUrl": "",
      "userId": "02719436629239662639"
     },
     "user_tz": -540
    },
    "id": "1XEKs-PG23Lf"
   },
   "outputs": [],
   "source": [
    "# haversine을 짯지만 너무 느린관계로 쓰지 않는다.\n",
    "# from tqdm import tqdm\n",
    "\n",
    "# def haversine1(df = None):\n",
    "#     for i in tqdm(df.index):\n",
    "#         df.loc[i,'distance'] = haversine((df.loc[i,'pickup_longitude'],df.loc[i,'pickup_latitude']),\n",
    "#                                          (df.loc[i,'dropoff_longitude'],df.loc[i,'dropoff_latitude']), unit = 'm')\n",
    "#     return df\n",
    "\n",
    "# distance_train=haversine1(df = train)\n",
    "# distance_train=pd.DataFrame(distance_train)\n",
    "\n",
    "# distance_test = haversine1(df = test)\n",
    "# distance_test = pd.DataFrame(distance_test)"
   ]
  },
  {
   "cell_type": "code",
   "execution_count": 34,
   "metadata": {
    "executionInfo": {
     "elapsed": 18,
     "status": "aborted",
     "timestamp": 1621756924397,
     "user": {
      "displayName": "박정열",
      "photoUrl": "",
      "userId": "02719436629239662639"
     },
     "user_tz": -540
    },
    "id": "k5Zm6VW-23Lg"
   },
   "outputs": [
    {
     "data": {
      "text/html": [
       "<div>\n",
       "<style scoped>\n",
       "    .dataframe tbody tr th:only-of-type {\n",
       "        vertical-align: middle;\n",
       "    }\n",
       "\n",
       "    .dataframe tbody tr th {\n",
       "        vertical-align: top;\n",
       "    }\n",
       "\n",
       "    .dataframe thead th {\n",
       "        text-align: right;\n",
       "    }\n",
       "</style>\n",
       "<table border=\"1\" class=\"dataframe\">\n",
       "  <thead>\n",
       "    <tr style=\"text-align: right;\">\n",
       "      <th></th>\n",
       "      <th>distance</th>\n",
       "      <th>target</th>\n",
       "    </tr>\n",
       "  </thead>\n",
       "  <tbody>\n",
       "    <tr>\n",
       "      <th>distance</th>\n",
       "      <td>1.000000</td>\n",
       "      <td>0.094777</td>\n",
       "    </tr>\n",
       "    <tr>\n",
       "      <th>target</th>\n",
       "      <td>0.094777</td>\n",
       "      <td>1.000000</td>\n",
       "    </tr>\n",
       "  </tbody>\n",
       "</table>\n",
       "</div>"
      ],
      "text/plain": [
       "          distance    target\n",
       "distance  1.000000  0.094777\n",
       "target    0.094777  1.000000"
      ]
     },
     "execution_count": 34,
     "metadata": {},
     "output_type": "execute_result"
    }
   ],
   "source": [
    "# 상관관계는 0.1도 안되는걸 확인했다.\n",
    "train[['distance','target']].corr()"
   ]
  },
  {
   "cell_type": "code",
   "execution_count": 35,
   "metadata": {
    "executionInfo": {
     "elapsed": 19,
     "status": "aborted",
     "timestamp": 1621756924398,
     "user": {
      "displayName": "박정열",
      "photoUrl": "",
      "userId": "02719436629239662639"
     },
     "user_tz": -540
    },
    "id": "a8mTwkOd23Lg"
   },
   "outputs": [
    {
     "data": {
      "text/plain": [
       "<AxesSubplot:xlabel='distance', ylabel='Density'>"
      ]
     },
     "execution_count": 35,
     "metadata": {},
     "output_type": "execute_result"
    },
    {
     "data": {
      "image/png": "[encoded data removed]",
      "text/plain": [
       "<Figure size 432x288 with 1 Axes>"
      ]
     },
     "metadata": {
      "needs_background": "light"
     },
     "output_type": "display_data"
    }
   ],
   "source": [
    "# 그래프를 그려봤을 때 0에 몰려있는 것을 확인했다.\n",
    "# 로그를 이용해서 정규화를 시켜주자.\n",
    "sns.kdeplot(data = train, x = 'distance')"
   ]
  },
  {
   "cell_type": "code",
   "execution_count": 36,
   "metadata": {
    "executionInfo": {
     "elapsed": 20,
     "status": "aborted",
     "timestamp": 1621756924399,
     "user": {
      "displayName": "박정열",
      "photoUrl": "",
      "userId": "02719436629239662639"
     },
     "user_tz": -540
    },
    "id": "Um0xlSTn23Lh"
   },
   "outputs": [],
   "source": [
    "# 로그화 작업\n",
    "train['distance'] = train['distance'].apply(lambda x: np.log1p(x))\n",
    "test['distance'] = test['distance'].apply(lambda x:np.log1p(x))"
   ]
  },
  {
   "cell_type": "markdown",
   "metadata": {
    "id": "nJh0UvG49g97"
   },
   "source": [
    "## 평균 속도로 군집화 해주기"
   ]
  },
  {
   "cell_type": "code",
   "execution_count": 37,
   "metadata": {
    "executionInfo": {
     "elapsed": 20,
     "status": "aborted",
     "timestamp": 1621756924399,
     "user": {
      "displayName": "박정열",
      "photoUrl": "",
      "userId": "02719436629239662639"
     },
     "user_tz": -540
    },
    "id": "6VjFqa-79X5k"
   },
   "outputs": [
    {
     "data": {
      "text/html": [
       "<div>\n",
       "<style scoped>\n",
       "    .dataframe tbody tr th:only-of-type {\n",
       "        vertical-align: middle;\n",
       "    }\n",
       "\n",
       "    .dataframe tbody tr th {\n",
       "        vertical-align: top;\n",
       "    }\n",
       "\n",
       "    .dataframe thead th {\n",
       "        text-align: right;\n",
       "    }\n",
       "</style>\n",
       "<table border=\"1\" class=\"dataframe\">\n",
       "  <thead>\n",
       "    <tr style=\"text-align: right;\">\n",
       "      <th></th>\n",
       "      <th>id</th>\n",
       "      <th>vendor_id</th>\n",
       "      <th>pickup_datetime</th>\n",
       "      <th>dropoff_datetime</th>\n",
       "      <th>passenger_count</th>\n",
       "      <th>pickup_longitude</th>\n",
       "      <th>pickup_latitude</th>\n",
       "      <th>dropoff_longitude</th>\n",
       "      <th>dropoff_latitude</th>\n",
       "      <th>store_and_fwd_flag</th>\n",
       "      <th>target</th>\n",
       "      <th>month</th>\n",
       "      <th>day</th>\n",
       "      <th>hour</th>\n",
       "      <th>weekday</th>\n",
       "      <th>distance</th>\n",
       "    </tr>\n",
       "  </thead>\n",
       "  <tbody>\n",
       "    <tr>\n",
       "      <th>0</th>\n",
       "      <td>2875421</td>\n",
       "      <td>2</td>\n",
       "      <td>2016-03-14 17:24:55</td>\n",
       "      <td>2016-03-14 17:32:30</td>\n",
       "      <td>1</td>\n",
       "      <td>-73.982155</td>\n",
       "      <td>40.767937</td>\n",
       "      <td>-73.964630</td>\n",
       "      <td>40.765602</td>\n",
       "      <td>N</td>\n",
       "      <td>455</td>\n",
       "      <td>3</td>\n",
       "      <td>14</td>\n",
       "      <td>17</td>\n",
       "      <td>0</td>\n",
       "      <td>0.915887</td>\n",
       "    </tr>\n",
       "    <tr>\n",
       "      <th>1</th>\n",
       "      <td>2377394</td>\n",
       "      <td>1</td>\n",
       "      <td>2016-06-12 00:43:35</td>\n",
       "      <td>2016-06-12 00:54:38</td>\n",
       "      <td>1</td>\n",
       "      <td>-73.980415</td>\n",
       "      <td>40.738564</td>\n",
       "      <td>-73.999481</td>\n",
       "      <td>40.731152</td>\n",
       "      <td>N</td>\n",
       "      <td>663</td>\n",
       "      <td>6</td>\n",
       "      <td>12</td>\n",
       "      <td>0</td>\n",
       "      <td>1</td>\n",
       "      <td>1.031786</td>\n",
       "    </tr>\n",
       "    <tr>\n",
       "      <th>2</th>\n",
       "      <td>3858529</td>\n",
       "      <td>2</td>\n",
       "      <td>2016-01-19 11:35:24</td>\n",
       "      <td>2016-01-19 12:10:48</td>\n",
       "      <td>1</td>\n",
       "      <td>-73.979027</td>\n",
       "      <td>40.763939</td>\n",
       "      <td>-74.005333</td>\n",
       "      <td>40.710087</td>\n",
       "      <td>N</td>\n",
       "      <td>2124</td>\n",
       "      <td>1</td>\n",
       "      <td>19</td>\n",
       "      <td>11</td>\n",
       "      <td>0</td>\n",
       "      <td>1.999736</td>\n",
       "    </tr>\n",
       "    <tr>\n",
       "      <th>3</th>\n",
       "      <td>3504673</td>\n",
       "      <td>2</td>\n",
       "      <td>2016-04-06 19:32:31</td>\n",
       "      <td>2016-04-06 19:39:40</td>\n",
       "      <td>1</td>\n",
       "      <td>-74.010040</td>\n",
       "      <td>40.719971</td>\n",
       "      <td>-74.012268</td>\n",
       "      <td>40.706718</td>\n",
       "      <td>N</td>\n",
       "      <td>429</td>\n",
       "      <td>4</td>\n",
       "      <td>6</td>\n",
       "      <td>19</td>\n",
       "      <td>0</td>\n",
       "      <td>0.910661</td>\n",
       "    </tr>\n",
       "    <tr>\n",
       "      <th>4</th>\n",
       "      <td>2181028</td>\n",
       "      <td>2</td>\n",
       "      <td>2016-03-26 13:30:55</td>\n",
       "      <td>2016-03-26 13:38:10</td>\n",
       "      <td>1</td>\n",
       "      <td>-73.973053</td>\n",
       "      <td>40.793209</td>\n",
       "      <td>-73.972923</td>\n",
       "      <td>40.782520</td>\n",
       "      <td>N</td>\n",
       "      <td>435</td>\n",
       "      <td>3</td>\n",
       "      <td>26</td>\n",
       "      <td>13</td>\n",
       "      <td>1</td>\n",
       "      <td>0.783427</td>\n",
       "    </tr>\n",
       "  </tbody>\n",
       "</table>\n",
       "</div>"
      ],
      "text/plain": [
       "        id  vendor_id     pickup_datetime    dropoff_datetime  \\\n",
       "0  2875421          2 2016-03-14 17:24:55 2016-03-14 17:32:30   \n",
       "1  2377394          1 2016-06-12 00:43:35 2016-06-12 00:54:38   \n",
       "2  3858529          2 2016-01-19 11:35:24 2016-01-19 12:10:48   \n",
       "3  3504673          2 2016-04-06 19:32:31 2016-04-06 19:39:40   \n",
       "4  2181028          2 2016-03-26 13:30:55 2016-03-26 13:38:10   \n",
       "\n",
       "   passenger_count  pickup_longitude  pickup_latitude  dropoff_longitude  \\\n",
       "0                1        -73.982155        40.767937         -73.964630   \n",
       "1                1        -73.980415        40.738564         -73.999481   \n",
       "2                1        -73.979027        40.763939         -74.005333   \n",
       "3                1        -74.010040        40.719971         -74.012268   \n",
       "4                1        -73.973053        40.793209         -73.972923   \n",
       "\n",
       "   dropoff_latitude store_and_fwd_flag  target  month  day  hour  weekday  \\\n",
       "0         40.765602                  N     455      3   14    17        0   \n",
       "1         40.731152                  N     663      6   12     0        1   \n",
       "2         40.710087                  N    2124      1   19    11        0   \n",
       "3         40.706718                  N     429      4    6    19        0   \n",
       "4         40.782520                  N     435      3   26    13        1   \n",
       "\n",
       "   distance  \n",
       "0  0.915887  \n",
       "1  1.031786  \n",
       "2  1.999736  \n",
       "3  0.910661  \n",
       "4  0.783427  "
      ]
     },
     "execution_count": 37,
     "metadata": {},
     "output_type": "execute_result"
    }
   ],
   "source": [
    "train.head()"
   ]
  },
  {
   "cell_type": "code",
   "execution_count": 38,
   "metadata": {
    "executionInfo": {
     "elapsed": 20,
     "status": "aborted",
     "timestamp": 1621756924399,
     "user": {
      "displayName": "박정열",
      "photoUrl": "",
      "userId": "02719436629239662639"
     },
     "user_tz": -540
    },
    "id": "OHVhGnUb23Lh"
   },
   "outputs": [],
   "source": [
    "# def average_speed(df = None):\n",
    "#   df['time_hour'] = df['target'].apply(lambda x: x/3600)\n",
    "#   for i in df.index:\n",
    "#     df.loc[i,'averge_speed'] = df.loc[i,'distance']/df.loc[i,'time_hour']\n",
    "#   return df\n",
    "\n",
    "\n",
    "# train = average_speed(train)"
   ]
  },
  {
   "cell_type": "code",
   "execution_count": 39,
   "metadata": {
    "executionInfo": {
     "elapsed": 21,
     "status": "aborted",
     "timestamp": 1621756924400,
     "user": {
      "displayName": "박정열",
      "photoUrl": "",
      "userId": "02719436629239662639"
     },
     "user_tz": -540
    },
    "id": "8Ouxtr8oAzvK"
   },
   "outputs": [
    {
     "data": {
      "text/plain": [
       "Index(['id', 'vendor_id', 'pickup_datetime', 'dropoff_datetime',\n",
       "       'passenger_count', 'pickup_longitude', 'pickup_latitude',\n",
       "       'dropoff_longitude', 'dropoff_latitude', 'store_and_fwd_flag', 'target',\n",
       "       'month', 'day', 'hour', 'weekday', 'distance'],\n",
       "      dtype='object')"
      ]
     },
     "execution_count": 39,
     "metadata": {},
     "output_type": "execute_result"
    }
   ],
   "source": [
    "train.columns"
   ]
  },
  {
   "cell_type": "code",
   "execution_count": 40,
   "metadata": {
    "executionInfo": {
     "elapsed": 21,
     "status": "aborted",
     "timestamp": 1621756924400,
     "user": {
      "displayName": "박정열",
      "photoUrl": "",
      "userId": "02719436629239662639"
     },
     "user_tz": -540
    },
    "id": "8PtpdZZf-irY"
   },
   "outputs": [],
   "source": [
    "# KMeans 불러오기\n",
    "from sklearn.cluster import MiniBatchKMeans\n",
    "\n",
    "# k-means clustering 실행\n",
    "# pickup\n",
    "kmeans = MiniBatchKMeans( n_clusters = 20, batch_size = 500)\n",
    "kmeans.fit(train[['pickup_latitude','pickup_longitude']])\n",
    "train['pickup_clustring']= kmeans.predict(train[['pickup_latitude','pickup_longitude']])\n",
    "test['pickup_clustring'] = kmeans.predict(test[['pickup_latitude','pickup_longitude']])\n",
    "\n",
    "# dropoff\n",
    "kmeans = MiniBatchKMeans(n_clusters = 20, batch_size = 500)\n",
    "kmeans.fit(train[['dropoff_latitude','dropoff_longitude']])\n",
    "train['dropoff_clustring']= kmeans.predict(train[['dropoff_latitude','dropoff_longitude']])\n",
    "test['dropoff_clustring'] = kmeans.predict(test[['dropoff_latitude','dropoff_longitude']])"
   ]
  },
  {
   "cell_type": "markdown",
   "metadata": {
    "id": "I3mEVqkd23Lh"
   },
   "source": [
    "## store_and_fwd_flag"
   ]
  },
  {
   "cell_type": "code",
   "execution_count": 41,
   "metadata": {
    "executionInfo": {
     "elapsed": 22,
     "status": "aborted",
     "timestamp": 1621756924401,
     "user": {
      "displayName": "박정열",
      "photoUrl": "",
      "userId": "02719436629239662639"
     },
     "user_tz": -540
    },
    "id": "hwawF3wJ23Li"
   },
   "outputs": [
    {
     "data": {
      "text/plain": [
       "N    1450599\n",
       "Y       8045\n",
       "Name: store_and_fwd_flag, dtype: int64"
      ]
     },
     "execution_count": 41,
     "metadata": {},
     "output_type": "execute_result"
    }
   ],
   "source": [
    "train['store_and_fwd_flag'].value_counts()"
   ]
  },
  {
   "cell_type": "code",
   "execution_count": 42,
   "metadata": {
    "executionInfo": {
     "elapsed": 23,
     "status": "aborted",
     "timestamp": 1621756924402,
     "user": {
      "displayName": "박정열",
      "photoUrl": "",
      "userId": "02719436629239662639"
     },
     "user_tz": -540
    },
    "id": "Vlpt_PIh23Li"
   },
   "outputs": [
    {
     "data": {
      "text/plain": [
       "<AxesSubplot:xlabel='store_and_fwd_flag', ylabel='target'>"
      ]
     },
     "execution_count": 42,
     "metadata": {},
     "output_type": "execute_result"
    },
    {
     "data": {
      "image/png": "[encoded data removed]",
      "text/plain": [
       "<Figure size 432x288 with 1 Axes>"
      ]
     },
     "metadata": {
      "needs_background": "light"
     },
     "output_type": "display_data"
    }
   ],
   "source": [
    "sns.boxenplot(data = train, x = 'store_and_fwd_flag', y = 'target')"
   ]
  },
  {
   "cell_type": "markdown",
   "metadata": {
    "id": "_hyL8tpj23Li"
   },
   "source": [
    "- Y가 N보다 더 높은 시간은 나타낸다."
   ]
  },
  {
   "cell_type": "code",
   "execution_count": 43,
   "metadata": {
    "executionInfo": {
     "elapsed": 22,
     "status": "aborted",
     "timestamp": 1621756924402,
     "user": {
      "displayName": "박정열",
      "photoUrl": "",
      "userId": "02719436629239662639"
     },
     "user_tz": -540
    },
    "id": "eWBRhLvl23Li"
   },
   "outputs": [
    {
     "name": "stdout",
     "output_type": "stream",
     "text": [
      "train_set 에만 있는 값 set()\n",
      "test_set 에만 있는 값 set()\n"
     ]
    }
   ],
   "source": [
    "sub_function('store_and_fwd_flag')"
   ]
  },
  {
   "cell_type": "code",
   "execution_count": 44,
   "metadata": {
    "executionInfo": {
     "elapsed": 23,
     "status": "aborted",
     "timestamp": 1621756924403,
     "user": {
      "displayName": "박정열",
      "photoUrl": "",
      "userId": "02719436629239662639"
     },
     "user_tz": -540
    },
    "id": "-fRQsLUj23Li",
    "scrolled": false
   },
   "outputs": [
    {
     "data": {
      "text/plain": [
       "<AxesSubplot:xlabel='store_and_fwd_flag', ylabel='target'>"
      ]
     },
     "execution_count": 44,
     "metadata": {},
     "output_type": "execute_result"
    },
    {
     "data": {
      "image/png": "[encoded data removed]",
      "text/plain": [
       "<Figure size 432x288 with 1 Axes>"
      ]
     },
     "metadata": {
      "needs_background": "light"
     },
     "output_type": "display_data"
    }
   ],
   "source": [
    "sns.barplot(data = train, x = 'store_and_fwd_flag', y = 'target', hue = 'weekday')"
   ]
  },
  {
   "cell_type": "code",
   "execution_count": 45,
   "metadata": {
    "executionInfo": {
     "elapsed": 23,
     "status": "aborted",
     "timestamp": 1621756924403,
     "user": {
      "displayName": "박정열",
      "photoUrl": "",
      "userId": "02719436629239662639"
     },
     "user_tz": -540
    },
    "id": "6Owxv04623Lj",
    "scrolled": false
   },
   "outputs": [
    {
     "data": {
      "text/plain": [
       "<AxesSubplot:>"
      ]
     },
     "execution_count": 45,
     "metadata": {},
     "output_type": "execute_result"
    },
    {
     "data": {
      "image/png": "[encoded data removed]",
      "text/plain": [
       "<Figure size 1152x576 with 2 Axes>"
      ]
     },
     "metadata": {
      "needs_background": "light"
     },
     "output_type": "display_data"
    }
   ],
   "source": [
    "plt.figure(figsize = (16,8))\n",
    "train_corr=train.corr()\n",
    "sns.heatmap(train_corr, annot = True)"
   ]
  },
  {
   "cell_type": "code",
   "execution_count": 46,
   "metadata": {
    "executionInfo": {
     "elapsed": 24,
     "status": "aborted",
     "timestamp": 1621756924404,
     "user": {
      "displayName": "박정열",
      "photoUrl": "",
      "userId": "02719436629239662639"
     },
     "user_tz": -540
    },
    "id": "jfAqJZ8N23Lj"
   },
   "outputs": [
    {
     "name": "stdout",
     "output_type": "stream",
     "text": [
      "-------- train ----------\n",
      "count    1.458644e+06\n",
      "mean     1.254794e+00\n",
      "std      6.272036e-01\n",
      "min      0.000000e+00\n",
      "25%      8.029981e-01\n",
      "50%      1.129586e+00\n",
      "75%      1.584439e+00\n",
      "max      7.124718e+00\n",
      "Name: distance, dtype: float64\n",
      "------------ test -----------\n",
      "count    625134.000000\n",
      "mean          1.254233\n",
      "std           0.626017\n",
      "min           0.000000\n",
      "25%           0.803040\n",
      "50%           1.129592\n",
      "75%           1.585919\n",
      "max           6.944443\n",
      "Name: distance, dtype: float64\n"
     ]
    }
   ],
   "source": [
    "print('-------- train ----------')\n",
    "print(train['distance'].describe())\n",
    "print('------------ test -----------')\n",
    "print(test['distance'].describe())"
   ]
  },
  {
   "cell_type": "code",
   "execution_count": 47,
   "metadata": {
    "executionInfo": {
     "elapsed": 24,
     "status": "aborted",
     "timestamp": 1621756924404,
     "user": {
      "displayName": "박정열",
      "photoUrl": "",
      "userId": "02719436629239662639"
     },
     "user_tz": -540
    },
    "id": "7BsCVQos23Lj"
   },
   "outputs": [],
   "source": [
    "# 그래서 거리의 사분위수를 이용해 나눠주기로 하자.\n",
    "train['distance'].describe()\n",
    "\n",
    "train.loc[train['distance'] <= 0.8029981 , 'distance_binning'] = 0\n",
    "train.loc[(train['distance'] >=0.8029981) & (train['distance'] < 1.129586), 'distance_binning'] = 1\n",
    "train.loc[(train['distance'] >= 1.129586) & (train['distance'] < 1.584439 ), 'distance_binning'] = 2\n",
    "train.loc[train['distance'] >= 1.584439, 'distance_binning'] = 3\n",
    "\n",
    "test.loc[test['distance'] <= 0.803040 , 'distance_binning'] = 0\n",
    "test.loc[(test['distance'] >= 0.803040) & (test['distance'] < 1.129592), 'distance_binning'] = 1\n",
    "test.loc[(test['distance'] >= 1.129592) & (test['distance'] < 1.585919 ), 'distance_binning'] = 2\n",
    "test.loc[test['distance'] >= 1.585919, 'distance_binning'] = 3"
   ]
  },
  {
   "cell_type": "code",
   "execution_count": 48,
   "metadata": {
    "executionInfo": {
     "elapsed": 25,
     "status": "aborted",
     "timestamp": 1621756924405,
     "user": {
      "displayName": "박정열",
      "photoUrl": "",
      "userId": "02719436629239662639"
     },
     "user_tz": -540
    },
    "id": "0IzxWV6D23Lk"
   },
   "outputs": [],
   "source": [
    "# sns.barplot(data = train, x = 'distance_binning', y = 'target')"
   ]
  },
  {
   "cell_type": "markdown",
   "metadata": {
    "id": "vaOvFCFM23Lk"
   },
   "source": [
    "- 변수마다 연관이 있는 걸로 보여진다."
   ]
  },
  {
   "cell_type": "code",
   "execution_count": 49,
   "metadata": {
    "executionInfo": {
     "elapsed": 25,
     "status": "aborted",
     "timestamp": 1621756924405,
     "user": {
      "displayName": "박정열",
      "photoUrl": "",
      "userId": "02719436629239662639"
     },
     "user_tz": -540
    },
    "id": "rbv3GY9f23Lk",
    "scrolled": true
   },
   "outputs": [
    {
     "name": "stdout",
     "output_type": "stream",
     "text": [
      "train_set 에만 있는 값 set()\n",
      "test_set 에만 있는 값 set()\n"
     ]
    }
   ],
   "source": [
    "delete_index=train[(train['passenger_count'] == 7)|(train['passenger_count'] == 8)].index\n",
    "train=train.drop(delete_index,axis = 0)\n",
    "\n",
    "sub_function('passenger_count')"
   ]
  },
  {
   "cell_type": "code",
   "execution_count": 50,
   "metadata": {
    "executionInfo": {
     "elapsed": 25,
     "status": "aborted",
     "timestamp": 1621756924405,
     "user": {
      "displayName": "박정열",
      "photoUrl": "",
      "userId": "02719436629239662639"
     },
     "user_tz": -540
    },
    "id": "0wOlvJXS23Lk"
   },
   "outputs": [
    {
     "data": {
      "text/plain": [
       "<AxesSubplot:xlabel='hour', ylabel='distance'>"
      ]
     },
     "execution_count": 50,
     "metadata": {},
     "output_type": "execute_result"
    },
    {
     "data": {
      "image/png": "[encoded data removed]",
      "text/plain": [
       "<Figure size 432x288 with 1 Axes>"
      ]
     },
     "metadata": {
      "needs_background": "light"
     },
     "output_type": "display_data"
    }
   ],
   "source": [
    "# 3~5시 사이에 높은 이동량을 보인다.\n",
    "sns.barplot(data = train, x = 'hour', y = 'distance')"
   ]
  },
  {
   "cell_type": "code",
   "execution_count": 51,
   "metadata": {
    "executionInfo": {
     "elapsed": 26,
     "status": "aborted",
     "timestamp": 1621756924406,
     "user": {
      "displayName": "박정열",
      "photoUrl": "",
      "userId": "02719436629239662639"
     },
     "user_tz": -540
    },
    "id": "drLZyUWE23Ll"
   },
   "outputs": [
    {
     "data": {
      "text/plain": [
       "<AxesSubplot:xlabel='month', ylabel='distance'>"
      ]
     },
     "execution_count": 51,
     "metadata": {},
     "output_type": "execute_result"
    },
    {
     "data": {
      "image/png": "[encoded data removed]",
      "text/plain": [
       "<Figure size 432x288 with 1 Axes>"
      ]
     },
     "metadata": {
      "needs_background": "light"
     },
     "output_type": "display_data"
    }
   ],
   "source": [
    "# 눈이 오거나 안오거나에 따라서 거리에 차이가 있을 것 같다.\n",
    "sns.barplot(data = train, x = 'month', y = 'distance')\n",
    "\n",
    "# 즉, 눈이 올 시기인 1~2월에는 차들이 좀 더 서행운전을 하기 때문에 목적지에 더 늦게 도착할 것 같다."
   ]
  },
  {
   "cell_type": "markdown",
   "metadata": {
    "id": "a1ngpY9Q23Ll"
   },
   "source": [
    "### 가정 1 : 날씨가 추운 1~2월은 적은 거리도 추운 날씨 때문에 택시를 탈 것이다.\n",
    "\n",
    "![%EC%BA%A1%EC%B2%98.PNG](attachment:%EC%BA%A1%EC%B2%98.PNG)\n",
    "\n",
    "- 변수 0 :1~2월은 겨울인 달\n",
    "- 변수 1 :3~6월은 겨울이 아닌 달"
   ]
  },
  {
   "cell_type": "code",
   "execution_count": 52,
   "metadata": {
    "executionInfo": {
     "elapsed": 26,
     "status": "aborted",
     "timestamp": 1621756924406,
     "user": {
      "displayName": "박정열",
      "photoUrl": "",
      "userId": "02719436629239662639"
     },
     "user_tz": -540
    },
    "id": "axAuJTPe23Ll"
   },
   "outputs": [],
   "source": [
    "# 겨울인 1~2월에는 사람들이 적은 거리도 택시를 탈 것이다.\n",
    "train['cold'] = 1\n",
    "train.loc[(train['month'] == 1) | (train['month'] == 2), 'cold'] = 0\n",
    "\n",
    "test['cold'] = 1\n",
    "test.loc[(test['month'] == 1) | (test['month'] == 2), 'cold'] = 0"
   ]
  },
  {
   "cell_type": "code",
   "execution_count": 53,
   "metadata": {
    "executionInfo": {
     "elapsed": 26,
     "status": "aborted",
     "timestamp": 1621756924406,
     "user": {
      "displayName": "박정열",
      "photoUrl": "",
      "userId": "02719436629239662639"
     },
     "user_tz": -540
    },
    "id": "qktknWP923Ll"
   },
   "outputs": [
    {
     "data": {
      "text/plain": [
       "1    990634\n",
       "0    468006\n",
       "Name: cold, dtype: int64"
      ]
     },
     "execution_count": 53,
     "metadata": {},
     "output_type": "execute_result"
    }
   ],
   "source": [
    "train.cold.value_counts()"
   ]
  },
  {
   "cell_type": "code",
   "execution_count": 54,
   "metadata": {
    "executionInfo": {
     "elapsed": 27,
     "status": "aborted",
     "timestamp": 1621756924407,
     "user": {
      "displayName": "박정열",
      "photoUrl": "",
      "userId": "02719436629239662639"
     },
     "user_tz": -540
    },
    "id": "ivpi8zWb23Ll",
    "scrolled": false
   },
   "outputs": [
    {
     "data": {
      "text/plain": [
       "<AxesSubplot:xlabel='cold', ylabel='target'>"
      ]
     },
     "execution_count": 54,
     "metadata": {},
     "output_type": "execute_result"
    },
    {
     "data": {
      "image/png": "[encoded data removed]",
      "text/plain": [
       "<Figure size 432x288 with 1 Axes>"
      ]
     },
     "metadata": {
      "needs_background": "light"
     },
     "output_type": "display_data"
    }
   ],
   "source": [
    "sns.barplot(data = train, x = 'cold', y = 'target')"
   ]
  },
  {
   "cell_type": "markdown",
   "metadata": {
    "id": "xKB_7qtn23Lm"
   },
   "source": [
    "### 가정 2 :  평일의 일하는 시간대, 일하지 않는 시간대, 주말 이렇게 비교해보도록 하자.\n",
    "### 2. 일하는 시간대에 사람들이 가장 많이 활동하는 시간대 임으로 도로상황을 고려하여 차를 오래 탄다고 생각한다.\n",
    "### 1. 주말에 놀러 나가는 사람들이 많으나 일하는 시간대에 비해 차가 안막힌다고 가정한다.\n",
    "### 0. 평일 일하지 않는 시간대에는 차가 막히지 않으므로 택시를 타고 있는 시간이 적다고 가정했다."
   ]
  },
  {
   "cell_type": "code",
   "execution_count": 55,
   "metadata": {
    "executionInfo": {
     "elapsed": 27,
     "status": "aborted",
     "timestamp": 1621756924407,
     "user": {
      "displayName": "박정열",
      "photoUrl": "",
      "userId": "02719436629239662639"
     },
     "user_tz": -540
    },
    "id": "wSSRUHaC23Lm"
   },
   "outputs": [
    {
     "data": {
      "text/plain": [
       "<AxesSubplot:xlabel='hour', ylabel='target'>"
      ]
     },
     "execution_count": 55,
     "metadata": {},
     "output_type": "execute_result"
    },
    {
     "data": {
      "image/png": "[encoded data removed]",
      "text/plain": [
       "<Figure size 432x288 with 1 Axes>"
      ]
     },
     "metadata": {
      "needs_background": "light"
     },
     "output_type": "display_data"
    }
   ],
   "source": [
    "sns.barplot(data = train, x=  'hour', y = 'target', hue = 'weekday')"
   ]
  },
  {
   "cell_type": "code",
   "execution_count": 56,
   "metadata": {
    "executionInfo": {
     "elapsed": 27,
     "status": "aborted",
     "timestamp": 1621756924407,
     "user": {
      "displayName": "박정열",
      "photoUrl": "",
      "userId": "02719436629239662639"
     },
     "user_tz": -540
    },
    "id": "5OCtJdG423Lm"
   },
   "outputs": [],
   "source": [
    "train.loc[(train['weekday'] == 0), 'working'] = 0\n",
    "train.loc[train['weekday'] == 1,'working'] = 1\n",
    "train.loc[(train['weekday'] == 0) & (8 <= train['hour']) & (train['hour'] <= 18), 'working'] = 2\n",
    "\n",
    "test.loc[(test['weekday'] == 0), 'working'] = 0\n",
    "test.loc[test['weekday'] == 1,'working'] = 1\n",
    "test.loc[(test['weekday'] == 0) & (8 <= test['hour']) & (test['hour'] <= 18), 'working'] = 2"
   ]
  },
  {
   "cell_type": "code",
   "execution_count": 57,
   "metadata": {
    "executionInfo": {
     "elapsed": 27,
     "status": "aborted",
     "timestamp": 1621756924407,
     "user": {
      "displayName": "박정열",
      "photoUrl": "",
      "userId": "02719436629239662639"
     },
     "user_tz": -540
    },
    "id": "EIfTn8L223Ln"
   },
   "outputs": [
    {
     "data": {
      "text/plain": [
       "<AxesSubplot:xlabel='working', ylabel='target'>"
      ]
     },
     "execution_count": 57,
     "metadata": {},
     "output_type": "execute_result"
    },
    {
     "data": {
      "image/png": "[encoded data removed]",
      "text/plain": [
       "<Figure size 432x288 with 1 Axes>"
      ]
     },
     "metadata": {
      "needs_background": "light"
     },
     "output_type": "display_data"
    }
   ],
   "source": [
    "sns.barplot(data = train, x = 'working', y = 'target')"
   ]
  },
  {
   "cell_type": "markdown",
   "metadata": {
    "id": "S6RWBziw23Ln"
   },
   "source": [
    "- 유의미한 변수가 될 것 같다.\n",
    "- 이 변수는 더미화를 시켜주지 않고 넣어주도록 하자."
   ]
  },
  {
   "cell_type": "markdown",
   "metadata": {
    "id": "gaCgw48H23Ln"
   },
   "source": [
    "## 모델링"
   ]
  },
  {
   "cell_type": "code",
   "execution_count": 58,
   "metadata": {},
   "outputs": [],
   "source": [
    "from sklearn.model_selection import train_test_split\n",
    "from sklearn.linear_model import LinearRegression, Ridge, Lasso\n",
    "from sklearn.metrics import mean_squared_error\n",
    "from xgboost import XGBRFRegressor, XGBRegressor\n",
    "from catboost import CatBoostRegressor\n",
    "from lightgbm import LGBMRegressor"
   ]
  },
  {
   "cell_type": "code",
   "execution_count": 59,
   "metadata": {
    "executionInfo": {
     "elapsed": 29,
     "status": "aborted",
     "timestamp": 1621756924409,
     "user": {
      "displayName": "박정열",
      "photoUrl": "",
      "userId": "02719436629239662639"
     },
     "user_tz": -540
    },
    "id": "oNfNEgiP23Ln"
   },
   "outputs": [],
   "source": [
    "dummies=['vendor_id','store_and_fwd_flag','month','hour','weekday','passenger_count','pickup_clustring','dropoff_clustring','cold','working']\n",
    "# train 데이터 더미화\n",
    "data = pd.get_dummies(data = train[dummies], columns = dummies)\n",
    "train_data = data.copy()\n",
    "\n",
    "# test 데이터 더미화\n",
    "test_dummies=pd.get_dummies(test[dummies], columns = dummies)\n",
    "test_data = test_dummies"
   ]
  },
  {
   "cell_type": "code",
   "execution_count": 60,
   "metadata": {},
   "outputs": [
    {
     "name": "stdout",
     "output_type": "stream",
     "text": [
      "0\n",
      "0\n"
     ]
    }
   ],
   "source": [
    "print(train_data.isnull().sum().sum())\n",
    "print(test_data.isnull().sum().sum())"
   ]
  },
  {
   "cell_type": "code",
   "execution_count": 62,
   "metadata": {},
   "outputs": [],
   "source": [
    "# 평가지표는 rmsle를 사용한다.\n",
    "def rmsle(y, y0):\n",
    "    return np.sqrt(np.mean(np.square(np.log1p(y) - np.log1p(y0))))"
   ]
  },
  {
   "cell_type": "markdown",
   "metadata": {},
   "source": [
    "- rmsle를 사용하여 좋은 모델을 골라주고 파라미터를 수정한다."
   ]
  },
  {
   "cell_type": "code",
   "execution_count": 67,
   "metadata": {},
   "outputs": [],
   "source": [
    "# 정규분포를 예측하기 위해서 target에 log를 취해준다.\n",
    "train['target'] = train['target'].apply(lambda x:np.log1p(x))"
   ]
  },
  {
   "cell_type": "code",
   "execution_count": null,
   "metadata": {},
   "outputs": [
    {
     "name": "stdout",
     "output_type": "stream",
     "text": [
      "[19:20:25] WARNING: C:/Users/Administrator/workspace/xgboost-win64_release_1.3.0/src/objective/regression_obj.cu:170: reg:linear is now deprecated in favor of reg:squarederror.\n"
     ]
    }
   ],
   "source": [
    "# xgbregressor를 수행해준다.\n",
    "xgb = XGBRegressor(objective='reg:linear', n_estimators=150, subsample=0.75)\n",
    "xgb.fit(train_data, train['target'])\n",
    "y_pred = xgb.predict(test_data)\n",
    "\n",
    "# 예측값을 로그 씌우기 전으로 바꿔준다.\n",
    "y_pred = pd.DataFrame(y_pred, columns = ['y_pred'])\n",
    "y_pred = y_pred['y_pred'].apply(lambda x: np.exp(x) - 1)\n",
    "\n",
    "\n",
    "# submission에 저장하여 제출한다.\n",
    "submission['trip_duration'] = y_pred\n",
    "submission.to_csv(\"submission.csv\", index_label=False, index = False)"
   ]
  },
  {
   "cell_type": "code",
   "execution_count": null,
   "metadata": {},
   "outputs": [],
   "source": [
    "# 0.47924\n",
    "submission"
   ]
  },
  {
   "cell_type": "code",
   "execution_count": 76,
   "metadata": {
    "executionInfo": {
     "elapsed": 18,
     "status": "aborted",
     "timestamp": 1621756924774,
     "user": {
      "displayName": "박정열",
      "photoUrl": "",
      "userId": "02719436629239662639"
     },
     "user_tz": -540
    },
    "id": "vVZxhCj123Lv"
   },
   "outputs": [
    {
     "name": "stdout",
     "output_type": "stream",
     "text": [
      "Learning rate set to 0.142752\n",
      "0:\tlearn: 0.7335986\ttotal: 178ms\tremaining: 2m 58s\n",
      "1:\tlearn: 0.6842557\ttotal: 354ms\tremaining: 2m 56s\n",
      "2:\tlearn: 0.6452983\ttotal: 574ms\tremaining: 3m 10s\n",
      "3:\tlearn: 0.6150995\ttotal: 777ms\tremaining: 3m 13s\n",
      "4:\tlearn: 0.5917774\ttotal: 953ms\tremaining: 3m 9s\n",
      "5:\tlearn: 0.5737175\ttotal: 1.12s\tremaining: 3m 5s\n",
      "6:\tlearn: 0.5600316\ttotal: 1.32s\tremaining: 3m 6s\n",
      "7:\tlearn: 0.5493577\ttotal: 1.51s\tremaining: 3m 7s\n",
      "8:\tlearn: 0.5413181\ttotal: 1.7s\tremaining: 3m 7s\n",
      "9:\tlearn: 0.5350598\ttotal: 1.88s\tremaining: 3m 5s\n",
      "10:\tlearn: 0.5300679\ttotal: 2.04s\tremaining: 3m 3s\n",
      "11:\tlearn: 0.5262493\ttotal: 2.22s\tremaining: 3m 2s\n",
      "12:\tlearn: 0.5232076\ttotal: 2.37s\tremaining: 3m\n",
      "13:\tlearn: 0.5206678\ttotal: 2.54s\tremaining: 2m 59s\n",
      "14:\tlearn: 0.5183683\ttotal: 2.71s\tremaining: 2m 57s\n",
      "15:\tlearn: 0.5166328\ttotal: 2.87s\tremaining: 2m 56s\n",
      "16:\tlearn: 0.5148998\ttotal: 3.02s\tremaining: 2m 54s\n",
      "17:\tlearn: 0.5136338\ttotal: 3.17s\tremaining: 2m 53s\n",
      "18:\tlearn: 0.5125558\ttotal: 3.34s\tremaining: 2m 52s\n",
      "19:\tlearn: 0.5116576\ttotal: 3.49s\tremaining: 2m 51s\n",
      "20:\tlearn: 0.5106553\ttotal: 3.66s\tremaining: 2m 50s\n",
      "21:\tlearn: 0.5097646\ttotal: 3.82s\tremaining: 2m 49s\n",
      "22:\tlearn: 0.5087763\ttotal: 3.98s\tremaining: 2m 48s\n",
      "23:\tlearn: 0.5080794\ttotal: 4.14s\tremaining: 2m 48s\n",
      "24:\tlearn: 0.5074136\ttotal: 4.31s\tremaining: 2m 47s\n",
      "25:\tlearn: 0.5067140\ttotal: 4.47s\tremaining: 2m 47s\n",
      "26:\tlearn: 0.5060753\ttotal: 4.63s\tremaining: 2m 46s\n",
      "27:\tlearn: 0.5055687\ttotal: 4.78s\tremaining: 2m 46s\n",
      "28:\tlearn: 0.5046131\ttotal: 4.95s\tremaining: 2m 45s\n",
      "29:\tlearn: 0.5040897\ttotal: 5.12s\tremaining: 2m 45s\n",
      "30:\tlearn: 0.5036204\ttotal: 5.32s\tremaining: 2m 46s\n",
      "31:\tlearn: 0.5031234\ttotal: 5.5s\tremaining: 2m 46s\n",
      "32:\tlearn: 0.5027781\ttotal: 5.65s\tremaining: 2m 45s\n",
      "33:\tlearn: 0.5023313\ttotal: 5.84s\tremaining: 2m 46s\n",
      "34:\tlearn: 0.5018515\ttotal: 6s\tremaining: 2m 45s\n",
      "35:\tlearn: 0.5013054\ttotal: 6.18s\tremaining: 2m 45s\n",
      "36:\tlearn: 0.5008367\ttotal: 6.33s\tremaining: 2m 44s\n",
      "37:\tlearn: 0.5005174\ttotal: 6.5s\tremaining: 2m 44s\n",
      "38:\tlearn: 0.5001178\ttotal: 6.63s\tremaining: 2m 43s\n",
      "39:\tlearn: 0.4998462\ttotal: 6.78s\tremaining: 2m 42s\n",
      "40:\tlearn: 0.4994048\ttotal: 6.93s\tremaining: 2m 42s\n",
      "41:\tlearn: 0.4991415\ttotal: 7.1s\tremaining: 2m 42s\n",
      "42:\tlearn: 0.4987523\ttotal: 7.26s\tremaining: 2m 41s\n",
      "43:\tlearn: 0.4984577\ttotal: 7.4s\tremaining: 2m 40s\n",
      "44:\tlearn: 0.4981608\ttotal: 7.54s\tremaining: 2m 40s\n",
      "45:\tlearn: 0.4978361\ttotal: 7.7s\tremaining: 2m 39s\n",
      "46:\tlearn: 0.4974997\ttotal: 7.84s\tremaining: 2m 38s\n",
      "47:\tlearn: 0.4972637\ttotal: 7.99s\tremaining: 2m 38s\n",
      "48:\tlearn: 0.4969827\ttotal: 8.13s\tremaining: 2m 37s\n",
      "49:\tlearn: 0.4967972\ttotal: 8.28s\tremaining: 2m 37s\n",
      "50:\tlearn: 0.4964949\ttotal: 8.43s\tremaining: 2m 36s\n",
      "51:\tlearn: 0.4961605\ttotal: 8.57s\tremaining: 2m 36s\n",
      "52:\tlearn: 0.4958718\ttotal: 8.71s\tremaining: 2m 35s\n",
      "53:\tlearn: 0.4956976\ttotal: 8.86s\tremaining: 2m 35s\n",
      "54:\tlearn: 0.4954178\ttotal: 8.99s\tremaining: 2m 34s\n",
      "55:\tlearn: 0.4945891\ttotal: 9.15s\tremaining: 2m 34s\n",
      "56:\tlearn: 0.4944352\ttotal: 9.28s\tremaining: 2m 33s\n",
      "57:\tlearn: 0.4940843\ttotal: 9.43s\tremaining: 2m 33s\n",
      "58:\tlearn: 0.4939192\ttotal: 9.57s\tremaining: 2m 32s\n",
      "59:\tlearn: 0.4934546\ttotal: 9.74s\tremaining: 2m 32s\n",
      "60:\tlearn: 0.4931970\ttotal: 9.89s\tremaining: 2m 32s\n",
      "61:\tlearn: 0.4929709\ttotal: 10.1s\tremaining: 2m 32s\n",
      "62:\tlearn: 0.4928296\ttotal: 10.2s\tremaining: 2m 31s\n",
      "63:\tlearn: 0.4927154\ttotal: 10.4s\tremaining: 2m 32s\n",
      "64:\tlearn: 0.4925185\ttotal: 10.6s\tremaining: 2m 31s\n",
      "65:\tlearn: 0.4922641\ttotal: 10.7s\tremaining: 2m 31s\n",
      "66:\tlearn: 0.4920236\ttotal: 10.9s\tremaining: 2m 32s\n",
      "67:\tlearn: 0.4917649\ttotal: 11.1s\tremaining: 2m 32s\n",
      "68:\tlearn: 0.4916499\ttotal: 11.3s\tremaining: 2m 32s\n",
      "69:\tlearn: 0.4912659\ttotal: 11.5s\tremaining: 2m 32s\n",
      "70:\tlearn: 0.4910476\ttotal: 11.6s\tremaining: 2m 32s\n",
      "71:\tlearn: 0.4909101\ttotal: 11.8s\tremaining: 2m 32s\n",
      "72:\tlearn: 0.4907962\ttotal: 12s\tremaining: 2m 31s\n",
      "73:\tlearn: 0.4905400\ttotal: 12.1s\tremaining: 2m 31s\n",
      "74:\tlearn: 0.4903956\ttotal: 12.2s\tremaining: 2m 30s\n",
      "75:\tlearn: 0.4902557\ttotal: 12.4s\tremaining: 2m 30s\n",
      "76:\tlearn: 0.4901013\ttotal: 12.6s\tremaining: 2m 30s\n",
      "77:\tlearn: 0.4899498\ttotal: 12.7s\tremaining: 2m 30s\n",
      "78:\tlearn: 0.4897963\ttotal: 12.9s\tremaining: 2m 30s\n",
      "79:\tlearn: 0.4896080\ttotal: 13.1s\tremaining: 2m 30s\n",
      "80:\tlearn: 0.4894565\ttotal: 13.2s\tremaining: 2m 29s\n",
      "81:\tlearn: 0.4891723\ttotal: 13.4s\tremaining: 2m 29s\n",
      "82:\tlearn: 0.4890321\ttotal: 13.5s\tremaining: 2m 29s\n",
      "83:\tlearn: 0.4887549\ttotal: 13.7s\tremaining: 2m 29s\n",
      "84:\tlearn: 0.4886026\ttotal: 13.8s\tremaining: 2m 28s\n",
      "85:\tlearn: 0.4884856\ttotal: 14s\tremaining: 2m 28s\n",
      "86:\tlearn: 0.4882604\ttotal: 14.1s\tremaining: 2m 28s\n",
      "87:\tlearn: 0.4881150\ttotal: 14.3s\tremaining: 2m 28s\n",
      "88:\tlearn: 0.4879811\ttotal: 14.4s\tremaining: 2m 27s\n",
      "89:\tlearn: 0.4878316\ttotal: 14.6s\tremaining: 2m 27s\n",
      "90:\tlearn: 0.4877330\ttotal: 14.7s\tremaining: 2m 27s\n",
      "91:\tlearn: 0.4875839\ttotal: 14.9s\tremaining: 2m 26s\n",
      "92:\tlearn: 0.4874712\ttotal: 15s\tremaining: 2m 26s\n",
      "93:\tlearn: 0.4873349\ttotal: 15.2s\tremaining: 2m 26s\n",
      "94:\tlearn: 0.4871854\ttotal: 15.4s\tremaining: 2m 26s\n",
      "95:\tlearn: 0.4870918\ttotal: 15.5s\tremaining: 2m 26s\n",
      "96:\tlearn: 0.4869755\ttotal: 15.7s\tremaining: 2m 25s\n",
      "97:\tlearn: 0.4868594\ttotal: 15.8s\tremaining: 2m 25s\n",
      "98:\tlearn: 0.4866764\ttotal: 16s\tremaining: 2m 25s\n",
      "99:\tlearn: 0.4865157\ttotal: 16.1s\tremaining: 2m 25s\n",
      "100:\tlearn: 0.4864252\ttotal: 16.3s\tremaining: 2m 24s\n",
      "101:\tlearn: 0.4862726\ttotal: 16.4s\tremaining: 2m 24s\n",
      "102:\tlearn: 0.4861254\ttotal: 16.6s\tremaining: 2m 24s\n",
      "103:\tlearn: 0.4859341\ttotal: 16.7s\tremaining: 2m 24s\n",
      "104:\tlearn: 0.4857821\ttotal: 16.9s\tremaining: 2m 23s\n",
      "105:\tlearn: 0.4856192\ttotal: 17.1s\tremaining: 2m 23s\n",
      "106:\tlearn: 0.4854905\ttotal: 17.2s\tremaining: 2m 23s\n",
      "107:\tlearn: 0.4854054\ttotal: 17.3s\tremaining: 2m 23s\n",
      "108:\tlearn: 0.4852554\ttotal: 17.5s\tremaining: 2m 22s\n",
      "109:\tlearn: 0.4851480\ttotal: 17.6s\tremaining: 2m 22s\n",
      "110:\tlearn: 0.4849545\ttotal: 17.8s\tremaining: 2m 22s\n",
      "111:\tlearn: 0.4848032\ttotal: 18s\tremaining: 2m 22s\n",
      "112:\tlearn: 0.4846841\ttotal: 18.2s\tremaining: 2m 22s\n",
      "113:\tlearn: 0.4846237\ttotal: 18.4s\tremaining: 2m 23s\n",
      "114:\tlearn: 0.4844309\ttotal: 18.6s\tremaining: 2m 23s\n",
      "115:\tlearn: 0.4843218\ttotal: 18.8s\tremaining: 2m 23s\n",
      "116:\tlearn: 0.4842283\ttotal: 19.1s\tremaining: 2m 23s\n",
      "117:\tlearn: 0.4840416\ttotal: 19.2s\tremaining: 2m 23s\n",
      "118:\tlearn: 0.4839105\ttotal: 19.4s\tremaining: 2m 23s\n",
      "119:\tlearn: 0.4838259\ttotal: 19.6s\tremaining: 2m 23s\n",
      "120:\tlearn: 0.4837008\ttotal: 19.8s\tremaining: 2m 23s\n",
      "121:\tlearn: 0.4836112\ttotal: 19.9s\tremaining: 2m 23s\n",
      "122:\tlearn: 0.4835127\ttotal: 20.1s\tremaining: 2m 23s\n",
      "123:\tlearn: 0.4834283\ttotal: 20.3s\tremaining: 2m 23s\n",
      "124:\tlearn: 0.4833483\ttotal: 20.5s\tremaining: 2m 23s\n",
      "125:\tlearn: 0.4832532\ttotal: 20.6s\tremaining: 2m 23s\n",
      "126:\tlearn: 0.4831259\ttotal: 20.8s\tremaining: 2m 23s\n",
      "127:\tlearn: 0.4830221\ttotal: 21s\tremaining: 2m 22s\n",
      "128:\tlearn: 0.4829285\ttotal: 21.1s\tremaining: 2m 22s\n",
      "129:\tlearn: 0.4828199\ttotal: 21.3s\tremaining: 2m 22s\n",
      "130:\tlearn: 0.4827452\ttotal: 21.4s\tremaining: 2m 22s\n",
      "131:\tlearn: 0.4826404\ttotal: 21.6s\tremaining: 2m 22s\n",
      "132:\tlearn: 0.4825551\ttotal: 21.9s\tremaining: 2m 22s\n",
      "133:\tlearn: 0.4824765\ttotal: 22s\tremaining: 2m 22s\n",
      "134:\tlearn: 0.4824005\ttotal: 22.2s\tremaining: 2m 22s\n",
      "135:\tlearn: 0.4823132\ttotal: 22.4s\tremaining: 2m 22s\n",
      "136:\tlearn: 0.4822475\ttotal: 22.5s\tremaining: 2m 21s\n",
      "137:\tlearn: 0.4821769\ttotal: 22.7s\tremaining: 2m 21s\n",
      "138:\tlearn: 0.4820700\ttotal: 22.8s\tremaining: 2m 21s\n",
      "139:\tlearn: 0.4819924\ttotal: 23s\tremaining: 2m 21s\n",
      "140:\tlearn: 0.4818857\ttotal: 23.2s\tremaining: 2m 21s\n",
      "141:\tlearn: 0.4818246\ttotal: 23.3s\tremaining: 2m 20s\n",
      "142:\tlearn: 0.4817700\ttotal: 23.5s\tremaining: 2m 20s\n",
      "143:\tlearn: 0.4817064\ttotal: 23.6s\tremaining: 2m 20s\n",
      "144:\tlearn: 0.4816326\ttotal: 23.8s\tremaining: 2m 20s\n",
      "145:\tlearn: 0.4815153\ttotal: 23.9s\tremaining: 2m 20s\n",
      "146:\tlearn: 0.4814209\ttotal: 24.1s\tremaining: 2m 19s\n",
      "147:\tlearn: 0.4813611\ttotal: 24.3s\tremaining: 2m 19s\n",
      "148:\tlearn: 0.4812742\ttotal: 24.4s\tremaining: 2m 19s\n",
      "149:\tlearn: 0.4812067\ttotal: 24.6s\tremaining: 2m 19s\n",
      "150:\tlearn: 0.4811397\ttotal: 24.7s\tremaining: 2m 19s\n",
      "151:\tlearn: 0.4810892\ttotal: 24.9s\tremaining: 2m 18s\n",
      "152:\tlearn: 0.4809527\ttotal: 25s\tremaining: 2m 18s\n",
      "153:\tlearn: 0.4808706\ttotal: 25.2s\tremaining: 2m 18s\n",
      "154:\tlearn: 0.4808010\ttotal: 25.4s\tremaining: 2m 18s\n",
      "155:\tlearn: 0.4807347\ttotal: 25.5s\tremaining: 2m 18s\n",
      "156:\tlearn: 0.4806552\ttotal: 25.7s\tremaining: 2m 18s\n",
      "157:\tlearn: 0.4805981\ttotal: 25.9s\tremaining: 2m 17s\n"
     ]
    },
    {
     "name": "stdout",
     "output_type": "stream",
     "text": [
      "158:\tlearn: 0.4805567\ttotal: 26s\tremaining: 2m 17s\n",
      "159:\tlearn: 0.4804960\ttotal: 26.2s\tremaining: 2m 17s\n",
      "160:\tlearn: 0.4803540\ttotal: 26.3s\tremaining: 2m 17s\n",
      "161:\tlearn: 0.4802792\ttotal: 26.5s\tremaining: 2m 16s\n",
      "162:\tlearn: 0.4802129\ttotal: 26.6s\tremaining: 2m 16s\n",
      "163:\tlearn: 0.4801444\ttotal: 26.8s\tremaining: 2m 16s\n",
      "164:\tlearn: 0.4800643\ttotal: 26.9s\tremaining: 2m 16s\n",
      "165:\tlearn: 0.4799639\ttotal: 27.1s\tremaining: 2m 16s\n",
      "166:\tlearn: 0.4798906\ttotal: 27.3s\tremaining: 2m 15s\n",
      "167:\tlearn: 0.4798245\ttotal: 27.4s\tremaining: 2m 15s\n",
      "168:\tlearn: 0.4797804\ttotal: 27.6s\tremaining: 2m 15s\n",
      "169:\tlearn: 0.4797417\ttotal: 27.7s\tremaining: 2m 15s\n",
      "170:\tlearn: 0.4796658\ttotal: 27.9s\tremaining: 2m 15s\n",
      "171:\tlearn: 0.4795825\ttotal: 28s\tremaining: 2m 14s\n",
      "172:\tlearn: 0.4795288\ttotal: 28.2s\tremaining: 2m 14s\n",
      "173:\tlearn: 0.4794710\ttotal: 28.3s\tremaining: 2m 14s\n",
      "174:\tlearn: 0.4794181\ttotal: 28.5s\tremaining: 2m 14s\n",
      "175:\tlearn: 0.4793397\ttotal: 28.7s\tremaining: 2m 14s\n",
      "176:\tlearn: 0.4793016\ttotal: 28.8s\tremaining: 2m 14s\n",
      "177:\tlearn: 0.4792204\ttotal: 29s\tremaining: 2m 13s\n",
      "178:\tlearn: 0.4791143\ttotal: 29.2s\tremaining: 2m 13s\n",
      "179:\tlearn: 0.4790598\ttotal: 29.3s\tremaining: 2m 13s\n",
      "180:\tlearn: 0.4790132\ttotal: 29.5s\tremaining: 2m 13s\n",
      "181:\tlearn: 0.4789569\ttotal: 29.6s\tremaining: 2m 13s\n",
      "182:\tlearn: 0.4788992\ttotal: 29.8s\tremaining: 2m 12s\n",
      "183:\tlearn: 0.4788400\ttotal: 29.9s\tremaining: 2m 12s\n",
      "184:\tlearn: 0.4787528\ttotal: 30.1s\tremaining: 2m 12s\n",
      "185:\tlearn: 0.4786822\ttotal: 30.3s\tremaining: 2m 12s\n",
      "186:\tlearn: 0.4785888\ttotal: 30.4s\tremaining: 2m 12s\n",
      "187:\tlearn: 0.4785228\ttotal: 30.6s\tremaining: 2m 12s\n",
      "188:\tlearn: 0.4784730\ttotal: 30.8s\tremaining: 2m 11s\n",
      "189:\tlearn: 0.4784126\ttotal: 30.9s\tremaining: 2m 11s\n",
      "190:\tlearn: 0.4783430\ttotal: 31.1s\tremaining: 2m 11s\n",
      "191:\tlearn: 0.4782794\ttotal: 31.2s\tremaining: 2m 11s\n",
      "192:\tlearn: 0.4782576\ttotal: 31.4s\tremaining: 2m 11s\n",
      "193:\tlearn: 0.4782184\ttotal: 31.5s\tremaining: 2m 11s\n",
      "194:\tlearn: 0.4781719\ttotal: 31.7s\tremaining: 2m 10s\n",
      "195:\tlearn: 0.4781296\ttotal: 31.8s\tremaining: 2m 10s\n",
      "196:\tlearn: 0.4780622\ttotal: 32s\tremaining: 2m 10s\n",
      "197:\tlearn: 0.4780060\ttotal: 32.2s\tremaining: 2m 10s\n",
      "198:\tlearn: 0.4779686\ttotal: 32.3s\tremaining: 2m 10s\n",
      "199:\tlearn: 0.4778757\ttotal: 32.5s\tremaining: 2m 9s\n",
      "200:\tlearn: 0.4778222\ttotal: 32.7s\tremaining: 2m 9s\n",
      "201:\tlearn: 0.4777597\ttotal: 32.8s\tremaining: 2m 9s\n",
      "202:\tlearn: 0.4776729\ttotal: 33s\tremaining: 2m 9s\n",
      "203:\tlearn: 0.4776229\ttotal: 33.1s\tremaining: 2m 9s\n",
      "204:\tlearn: 0.4775569\ttotal: 33.3s\tremaining: 2m 9s\n",
      "205:\tlearn: 0.4775070\ttotal: 33.4s\tremaining: 2m 8s\n",
      "206:\tlearn: 0.4774584\ttotal: 33.6s\tremaining: 2m 8s\n",
      "207:\tlearn: 0.4774083\ttotal: 33.7s\tremaining: 2m 8s\n",
      "208:\tlearn: 0.4773496\ttotal: 33.9s\tremaining: 2m 8s\n",
      "209:\tlearn: 0.4773111\ttotal: 34s\tremaining: 2m 8s\n",
      "210:\tlearn: 0.4772626\ttotal: 34.2s\tremaining: 2m 7s\n",
      "211:\tlearn: 0.4771946\ttotal: 34.4s\tremaining: 2m 7s\n",
      "212:\tlearn: 0.4771490\ttotal: 34.5s\tremaining: 2m 7s\n",
      "213:\tlearn: 0.4771062\ttotal: 34.7s\tremaining: 2m 7s\n",
      "214:\tlearn: 0.4770680\ttotal: 34.9s\tremaining: 2m 7s\n",
      "215:\tlearn: 0.4770104\ttotal: 35s\tremaining: 2m 7s\n",
      "216:\tlearn: 0.4769751\ttotal: 35.2s\tremaining: 2m 6s\n",
      "217:\tlearn: 0.4769327\ttotal: 35.3s\tremaining: 2m 6s\n",
      "218:\tlearn: 0.4768964\ttotal: 35.5s\tremaining: 2m 6s\n",
      "219:\tlearn: 0.4768559\ttotal: 35.7s\tremaining: 2m 6s\n",
      "220:\tlearn: 0.4767992\ttotal: 35.8s\tremaining: 2m 6s\n",
      "221:\tlearn: 0.4767231\ttotal: 36s\tremaining: 2m 6s\n",
      "222:\tlearn: 0.4766867\ttotal: 36.1s\tremaining: 2m 5s\n",
      "223:\tlearn: 0.4766358\ttotal: 36.3s\tremaining: 2m 5s\n",
      "224:\tlearn: 0.4766033\ttotal: 36.5s\tremaining: 2m 5s\n",
      "225:\tlearn: 0.4765394\ttotal: 36.6s\tremaining: 2m 5s\n",
      "226:\tlearn: 0.4765002\ttotal: 36.8s\tremaining: 2m 5s\n",
      "227:\tlearn: 0.4764503\ttotal: 36.9s\tremaining: 2m 5s\n",
      "228:\tlearn: 0.4764216\ttotal: 37.1s\tremaining: 2m 4s\n",
      "229:\tlearn: 0.4763848\ttotal: 37.3s\tremaining: 2m 4s\n",
      "230:\tlearn: 0.4763383\ttotal: 37.4s\tremaining: 2m 4s\n",
      "231:\tlearn: 0.4763154\ttotal: 37.6s\tremaining: 2m 4s\n",
      "232:\tlearn: 0.4762701\ttotal: 37.7s\tremaining: 2m 4s\n",
      "233:\tlearn: 0.4762387\ttotal: 37.9s\tremaining: 2m 4s\n",
      "234:\tlearn: 0.4762036\ttotal: 38.1s\tremaining: 2m 3s\n",
      "235:\tlearn: 0.4761640\ttotal: 38.2s\tremaining: 2m 3s\n",
      "236:\tlearn: 0.4761051\ttotal: 38.4s\tremaining: 2m 3s\n",
      "237:\tlearn: 0.4760530\ttotal: 38.5s\tremaining: 2m 3s\n",
      "238:\tlearn: 0.4760154\ttotal: 38.7s\tremaining: 2m 3s\n",
      "239:\tlearn: 0.4759789\ttotal: 38.8s\tremaining: 2m 2s\n",
      "240:\tlearn: 0.4759458\ttotal: 39s\tremaining: 2m 2s\n",
      "241:\tlearn: 0.4759024\ttotal: 39.1s\tremaining: 2m 2s\n",
      "242:\tlearn: 0.4758514\ttotal: 39.3s\tremaining: 2m 2s\n",
      "243:\tlearn: 0.4758173\ttotal: 39.4s\tremaining: 2m 2s\n",
      "244:\tlearn: 0.4757964\ttotal: 39.6s\tremaining: 2m 1s\n",
      "245:\tlearn: 0.4757687\ttotal: 39.7s\tremaining: 2m 1s\n",
      "246:\tlearn: 0.4757393\ttotal: 39.9s\tremaining: 2m 1s\n",
      "247:\tlearn: 0.4757135\ttotal: 40s\tremaining: 2m 1s\n",
      "248:\tlearn: 0.4756608\ttotal: 40.2s\tremaining: 2m 1s\n",
      "249:\tlearn: 0.4756324\ttotal: 40.3s\tremaining: 2m 1s\n",
      "250:\tlearn: 0.4755901\ttotal: 40.5s\tremaining: 2m\n",
      "251:\tlearn: 0.4755566\ttotal: 40.6s\tremaining: 2m\n",
      "252:\tlearn: 0.4755277\ttotal: 40.8s\tremaining: 2m\n",
      "253:\tlearn: 0.4754953\ttotal: 40.9s\tremaining: 2m\n",
      "254:\tlearn: 0.4754554\ttotal: 41.1s\tremaining: 2m\n",
      "255:\tlearn: 0.4754201\ttotal: 41.2s\tremaining: 1m 59s\n",
      "256:\tlearn: 0.4753896\ttotal: 41.4s\tremaining: 1m 59s\n",
      "257:\tlearn: 0.4753489\ttotal: 41.6s\tremaining: 1m 59s\n",
      "258:\tlearn: 0.4753137\ttotal: 41.7s\tremaining: 1m 59s\n",
      "259:\tlearn: 0.4752802\ttotal: 41.9s\tremaining: 1m 59s\n",
      "260:\tlearn: 0.4752359\ttotal: 42.1s\tremaining: 1m 59s\n",
      "261:\tlearn: 0.4752016\ttotal: 42.2s\tremaining: 1m 58s\n",
      "262:\tlearn: 0.4751392\ttotal: 42.4s\tremaining: 1m 58s\n",
      "263:\tlearn: 0.4751074\ttotal: 42.5s\tremaining: 1m 58s\n",
      "264:\tlearn: 0.4750727\ttotal: 42.7s\tremaining: 1m 58s\n",
      "265:\tlearn: 0.4750412\ttotal: 42.8s\tremaining: 1m 58s\n",
      "266:\tlearn: 0.4749858\ttotal: 43s\tremaining: 1m 57s\n",
      "267:\tlearn: 0.4749522\ttotal: 43.1s\tremaining: 1m 57s\n",
      "268:\tlearn: 0.4749282\ttotal: 43.3s\tremaining: 1m 57s\n",
      "269:\tlearn: 0.4748992\ttotal: 43.4s\tremaining: 1m 57s\n",
      "270:\tlearn: 0.4748655\ttotal: 43.6s\tremaining: 1m 57s\n",
      "271:\tlearn: 0.4748324\ttotal: 43.7s\tremaining: 1m 57s\n",
      "272:\tlearn: 0.4748018\ttotal: 43.9s\tremaining: 1m 56s\n",
      "273:\tlearn: 0.4747642\ttotal: 44.1s\tremaining: 1m 56s\n",
      "274:\tlearn: 0.4747354\ttotal: 44.2s\tremaining: 1m 56s\n",
      "275:\tlearn: 0.4747095\ttotal: 44.4s\tremaining: 1m 56s\n",
      "276:\tlearn: 0.4746670\ttotal: 44.6s\tremaining: 1m 56s\n",
      "277:\tlearn: 0.4746394\ttotal: 44.8s\tremaining: 1m 56s\n",
      "278:\tlearn: 0.4746215\ttotal: 45s\tremaining: 1m 56s\n",
      "279:\tlearn: 0.4745887\ttotal: 45.2s\tremaining: 1m 56s\n",
      "280:\tlearn: 0.4745449\ttotal: 45.4s\tremaining: 1m 56s\n",
      "281:\tlearn: 0.4745107\ttotal: 45.5s\tremaining: 1m 55s\n",
      "282:\tlearn: 0.4744800\ttotal: 45.7s\tremaining: 1m 55s\n",
      "283:\tlearn: 0.4744273\ttotal: 45.8s\tremaining: 1m 55s\n",
      "284:\tlearn: 0.4744067\ttotal: 45.9s\tremaining: 1m 55s\n",
      "285:\tlearn: 0.4743832\ttotal: 46.1s\tremaining: 1m 55s\n",
      "286:\tlearn: 0.4743551\ttotal: 46.3s\tremaining: 1m 54s\n",
      "287:\tlearn: 0.4743332\ttotal: 46.4s\tremaining: 1m 54s\n",
      "288:\tlearn: 0.4742930\ttotal: 46.6s\tremaining: 1m 54s\n",
      "289:\tlearn: 0.4742682\ttotal: 46.7s\tremaining: 1m 54s\n",
      "290:\tlearn: 0.4742327\ttotal: 46.9s\tremaining: 1m 54s\n",
      "291:\tlearn: 0.4741859\ttotal: 47s\tremaining: 1m 54s\n",
      "292:\tlearn: 0.4741492\ttotal: 47.2s\tremaining: 1m 53s\n",
      "293:\tlearn: 0.4741136\ttotal: 47.3s\tremaining: 1m 53s\n",
      "294:\tlearn: 0.4740791\ttotal: 47.5s\tremaining: 1m 53s\n",
      "295:\tlearn: 0.4740576\ttotal: 47.6s\tremaining: 1m 53s\n",
      "296:\tlearn: 0.4740103\ttotal: 47.8s\tremaining: 1m 53s\n",
      "297:\tlearn: 0.4739793\ttotal: 47.9s\tremaining: 1m 52s\n",
      "298:\tlearn: 0.4739526\ttotal: 48.1s\tremaining: 1m 52s\n",
      "299:\tlearn: 0.4739242\ttotal: 48.2s\tremaining: 1m 52s\n",
      "300:\tlearn: 0.4739051\ttotal: 48.4s\tremaining: 1m 52s\n",
      "301:\tlearn: 0.4738834\ttotal: 48.5s\tremaining: 1m 52s\n",
      "302:\tlearn: 0.4738237\ttotal: 48.7s\tremaining: 1m 52s\n",
      "303:\tlearn: 0.4738001\ttotal: 48.9s\tremaining: 1m 51s\n",
      "304:\tlearn: 0.4737824\ttotal: 49s\tremaining: 1m 51s\n",
      "305:\tlearn: 0.4737572\ttotal: 49.2s\tremaining: 1m 51s\n",
      "306:\tlearn: 0.4737298\ttotal: 49.3s\tremaining: 1m 51s\n",
      "307:\tlearn: 0.4737034\ttotal: 49.5s\tremaining: 1m 51s\n",
      "308:\tlearn: 0.4736710\ttotal: 49.6s\tremaining: 1m 51s\n",
      "309:\tlearn: 0.4736488\ttotal: 49.8s\tremaining: 1m 50s\n",
      "310:\tlearn: 0.4736106\ttotal: 49.9s\tremaining: 1m 50s\n",
      "311:\tlearn: 0.4735869\ttotal: 50.1s\tremaining: 1m 50s\n",
      "312:\tlearn: 0.4735574\ttotal: 50.2s\tremaining: 1m 50s\n",
      "313:\tlearn: 0.4735332\ttotal: 50.4s\tremaining: 1m 50s\n",
      "314:\tlearn: 0.4735114\ttotal: 50.5s\tremaining: 1m 49s\n",
      "315:\tlearn: 0.4734808\ttotal: 50.7s\tremaining: 1m 49s\n"
     ]
    },
    {
     "name": "stdout",
     "output_type": "stream",
     "text": [
      "316:\tlearn: 0.4734547\ttotal: 50.8s\tremaining: 1m 49s\n",
      "317:\tlearn: 0.4734349\ttotal: 51s\tremaining: 1m 49s\n",
      "318:\tlearn: 0.4734099\ttotal: 51.1s\tremaining: 1m 49s\n",
      "319:\tlearn: 0.4733844\ttotal: 51.3s\tremaining: 1m 49s\n",
      "320:\tlearn: 0.4733592\ttotal: 51.5s\tremaining: 1m 48s\n",
      "321:\tlearn: 0.4733426\ttotal: 51.6s\tremaining: 1m 48s\n",
      "322:\tlearn: 0.4733110\ttotal: 51.7s\tremaining: 1m 48s\n",
      "323:\tlearn: 0.4732887\ttotal: 51.9s\tremaining: 1m 48s\n",
      "324:\tlearn: 0.4732674\ttotal: 52s\tremaining: 1m 48s\n",
      "325:\tlearn: 0.4732336\ttotal: 52.2s\tremaining: 1m 47s\n",
      "326:\tlearn: 0.4732134\ttotal: 52.4s\tremaining: 1m 47s\n",
      "327:\tlearn: 0.4731891\ttotal: 52.5s\tremaining: 1m 47s\n",
      "328:\tlearn: 0.4731511\ttotal: 52.7s\tremaining: 1m 47s\n",
      "329:\tlearn: 0.4731314\ttotal: 52.8s\tremaining: 1m 47s\n",
      "330:\tlearn: 0.4731070\ttotal: 53s\tremaining: 1m 47s\n",
      "331:\tlearn: 0.4730900\ttotal: 53.1s\tremaining: 1m 46s\n",
      "332:\tlearn: 0.4730678\ttotal: 53.3s\tremaining: 1m 46s\n",
      "333:\tlearn: 0.4730515\ttotal: 53.4s\tremaining: 1m 46s\n",
      "334:\tlearn: 0.4730245\ttotal: 53.6s\tremaining: 1m 46s\n",
      "335:\tlearn: 0.4730058\ttotal: 53.7s\tremaining: 1m 46s\n",
      "336:\tlearn: 0.4729824\ttotal: 53.8s\tremaining: 1m 45s\n",
      "337:\tlearn: 0.4729541\ttotal: 54s\tremaining: 1m 45s\n",
      "338:\tlearn: 0.4729290\ttotal: 54.1s\tremaining: 1m 45s\n",
      "339:\tlearn: 0.4729140\ttotal: 54.3s\tremaining: 1m 45s\n",
      "340:\tlearn: 0.4728913\ttotal: 54.4s\tremaining: 1m 45s\n",
      "341:\tlearn: 0.4728714\ttotal: 54.6s\tremaining: 1m 45s\n",
      "342:\tlearn: 0.4728487\ttotal: 54.7s\tremaining: 1m 44s\n",
      "343:\tlearn: 0.4728267\ttotal: 54.9s\tremaining: 1m 44s\n",
      "344:\tlearn: 0.4728004\ttotal: 55s\tremaining: 1m 44s\n",
      "345:\tlearn: 0.4727847\ttotal: 55.2s\tremaining: 1m 44s\n",
      "346:\tlearn: 0.4727640\ttotal: 55.3s\tremaining: 1m 44s\n",
      "347:\tlearn: 0.4727360\ttotal: 55.5s\tremaining: 1m 43s\n",
      "348:\tlearn: 0.4727144\ttotal: 55.6s\tremaining: 1m 43s\n",
      "349:\tlearn: 0.4726923\ttotal: 55.8s\tremaining: 1m 43s\n",
      "350:\tlearn: 0.4726702\ttotal: 55.9s\tremaining: 1m 43s\n",
      "351:\tlearn: 0.4726341\ttotal: 56.1s\tremaining: 1m 43s\n",
      "352:\tlearn: 0.4726136\ttotal: 56.3s\tremaining: 1m 43s\n",
      "353:\tlearn: 0.4726014\ttotal: 56.4s\tremaining: 1m 42s\n",
      "354:\tlearn: 0.4725828\ttotal: 56.6s\tremaining: 1m 42s\n",
      "355:\tlearn: 0.4725398\ttotal: 56.7s\tremaining: 1m 42s\n",
      "356:\tlearn: 0.4725139\ttotal: 56.8s\tremaining: 1m 42s\n",
      "357:\tlearn: 0.4724912\ttotal: 57s\tremaining: 1m 42s\n",
      "358:\tlearn: 0.4724724\ttotal: 57.2s\tremaining: 1m 42s\n",
      "359:\tlearn: 0.4724337\ttotal: 57.3s\tremaining: 1m 41s\n",
      "360:\tlearn: 0.4724166\ttotal: 57.5s\tremaining: 1m 41s\n",
      "361:\tlearn: 0.4723963\ttotal: 57.6s\tremaining: 1m 41s\n",
      "362:\tlearn: 0.4723736\ttotal: 57.7s\tremaining: 1m 41s\n",
      "363:\tlearn: 0.4723490\ttotal: 57.9s\tremaining: 1m 41s\n",
      "364:\tlearn: 0.4723257\ttotal: 58s\tremaining: 1m 40s\n",
      "365:\tlearn: 0.4723111\ttotal: 58.2s\tremaining: 1m 40s\n",
      "366:\tlearn: 0.4722915\ttotal: 58.3s\tremaining: 1m 40s\n",
      "367:\tlearn: 0.4722696\ttotal: 58.5s\tremaining: 1m 40s\n",
      "368:\tlearn: 0.4722477\ttotal: 58.6s\tremaining: 1m 40s\n",
      "369:\tlearn: 0.4722289\ttotal: 58.8s\tremaining: 1m 40s\n",
      "370:\tlearn: 0.4722018\ttotal: 58.9s\tremaining: 1m 39s\n",
      "371:\tlearn: 0.4721771\ttotal: 59.1s\tremaining: 1m 39s\n",
      "372:\tlearn: 0.4721584\ttotal: 59.2s\tremaining: 1m 39s\n",
      "373:\tlearn: 0.4721367\ttotal: 59.4s\tremaining: 1m 39s\n",
      "374:\tlearn: 0.4721181\ttotal: 59.5s\tremaining: 1m 39s\n",
      "375:\tlearn: 0.4720971\ttotal: 59.7s\tremaining: 1m 39s\n",
      "376:\tlearn: 0.4720823\ttotal: 59.8s\tremaining: 1m 38s\n",
      "377:\tlearn: 0.4720671\ttotal: 60s\tremaining: 1m 38s\n",
      "378:\tlearn: 0.4720496\ttotal: 1m\tremaining: 1m 38s\n",
      "379:\tlearn: 0.4720267\ttotal: 1m\tremaining: 1m 38s\n",
      "380:\tlearn: 0.4720111\ttotal: 1m\tremaining: 1m 38s\n",
      "381:\tlearn: 0.4719720\ttotal: 1m\tremaining: 1m 38s\n",
      "382:\tlearn: 0.4719513\ttotal: 1m\tremaining: 1m 37s\n",
      "383:\tlearn: 0.4719369\ttotal: 1m\tremaining: 1m 37s\n",
      "384:\tlearn: 0.4719252\ttotal: 1m 1s\tremaining: 1m 37s\n",
      "385:\tlearn: 0.4719007\ttotal: 1m 1s\tremaining: 1m 37s\n",
      "386:\tlearn: 0.4718739\ttotal: 1m 1s\tremaining: 1m 37s\n",
      "387:\tlearn: 0.4718567\ttotal: 1m 1s\tremaining: 1m 37s\n",
      "388:\tlearn: 0.4718394\ttotal: 1m 1s\tremaining: 1m 36s\n",
      "389:\tlearn: 0.4718126\ttotal: 1m 1s\tremaining: 1m 36s\n",
      "390:\tlearn: 0.4717818\ttotal: 1m 1s\tremaining: 1m 36s\n",
      "391:\tlearn: 0.4717571\ttotal: 1m 2s\tremaining: 1m 36s\n",
      "392:\tlearn: 0.4717428\ttotal: 1m 2s\tremaining: 1m 36s\n",
      "393:\tlearn: 0.4717245\ttotal: 1m 2s\tremaining: 1m 36s\n",
      "394:\tlearn: 0.4717084\ttotal: 1m 2s\tremaining: 1m 35s\n",
      "395:\tlearn: 0.4716982\ttotal: 1m 2s\tremaining: 1m 35s\n",
      "396:\tlearn: 0.4716813\ttotal: 1m 2s\tremaining: 1m 35s\n",
      "397:\tlearn: 0.4716646\ttotal: 1m 2s\tremaining: 1m 35s\n",
      "398:\tlearn: 0.4716425\ttotal: 1m 3s\tremaining: 1m 35s\n",
      "399:\tlearn: 0.4716237\ttotal: 1m 3s\tremaining: 1m 34s\n",
      "400:\tlearn: 0.4716018\ttotal: 1m 3s\tremaining: 1m 34s\n",
      "401:\tlearn: 0.4715827\ttotal: 1m 3s\tremaining: 1m 34s\n",
      "402:\tlearn: 0.4715627\ttotal: 1m 3s\tremaining: 1m 34s\n",
      "403:\tlearn: 0.4715471\ttotal: 1m 3s\tremaining: 1m 34s\n",
      "404:\tlearn: 0.4715255\ttotal: 1m 4s\tremaining: 1m 34s\n",
      "405:\tlearn: 0.4715103\ttotal: 1m 4s\tremaining: 1m 33s\n",
      "406:\tlearn: 0.4714917\ttotal: 1m 4s\tremaining: 1m 33s\n",
      "407:\tlearn: 0.4714772\ttotal: 1m 4s\tremaining: 1m 33s\n",
      "408:\tlearn: 0.4714600\ttotal: 1m 4s\tremaining: 1m 33s\n",
      "409:\tlearn: 0.4714469\ttotal: 1m 4s\tremaining: 1m 33s\n",
      "410:\tlearn: 0.4714344\ttotal: 1m 4s\tremaining: 1m 33s\n",
      "411:\tlearn: 0.4714201\ttotal: 1m 5s\tremaining: 1m 32s\n",
      "412:\tlearn: 0.4714014\ttotal: 1m 5s\tremaining: 1m 32s\n",
      "413:\tlearn: 0.4713812\ttotal: 1m 5s\tremaining: 1m 32s\n",
      "414:\tlearn: 0.4713556\ttotal: 1m 5s\tremaining: 1m 32s\n",
      "415:\tlearn: 0.4713353\ttotal: 1m 5s\tremaining: 1m 32s\n",
      "416:\tlearn: 0.4713210\ttotal: 1m 5s\tremaining: 1m 32s\n",
      "417:\tlearn: 0.4713006\ttotal: 1m 6s\tremaining: 1m 31s\n",
      "418:\tlearn: 0.4712745\ttotal: 1m 6s\tremaining: 1m 31s\n",
      "419:\tlearn: 0.4712572\ttotal: 1m 6s\tremaining: 1m 31s\n",
      "420:\tlearn: 0.4712397\ttotal: 1m 6s\tremaining: 1m 31s\n",
      "421:\tlearn: 0.4712249\ttotal: 1m 6s\tremaining: 1m 31s\n",
      "422:\tlearn: 0.4712052\ttotal: 1m 6s\tremaining: 1m 31s\n",
      "423:\tlearn: 0.4711888\ttotal: 1m 6s\tremaining: 1m 30s\n",
      "424:\tlearn: 0.4711601\ttotal: 1m 7s\tremaining: 1m 30s\n",
      "425:\tlearn: 0.4711442\ttotal: 1m 7s\tremaining: 1m 30s\n",
      "426:\tlearn: 0.4711278\ttotal: 1m 7s\tremaining: 1m 30s\n",
      "427:\tlearn: 0.4711105\ttotal: 1m 7s\tremaining: 1m 30s\n",
      "428:\tlearn: 0.4711004\ttotal: 1m 7s\tremaining: 1m 30s\n",
      "429:\tlearn: 0.4710894\ttotal: 1m 7s\tremaining: 1m 29s\n",
      "430:\tlearn: 0.4710756\ttotal: 1m 8s\tremaining: 1m 29s\n",
      "431:\tlearn: 0.4710586\ttotal: 1m 8s\tremaining: 1m 29s\n",
      "432:\tlearn: 0.4710435\ttotal: 1m 8s\tremaining: 1m 29s\n",
      "433:\tlearn: 0.4710298\ttotal: 1m 8s\tremaining: 1m 29s\n",
      "434:\tlearn: 0.4709990\ttotal: 1m 8s\tremaining: 1m 29s\n",
      "435:\tlearn: 0.4709846\ttotal: 1m 8s\tremaining: 1m 28s\n",
      "436:\tlearn: 0.4709676\ttotal: 1m 8s\tremaining: 1m 28s\n",
      "437:\tlearn: 0.4709549\ttotal: 1m 9s\tremaining: 1m 28s\n",
      "438:\tlearn: 0.4709415\ttotal: 1m 9s\tremaining: 1m 28s\n",
      "439:\tlearn: 0.4709251\ttotal: 1m 9s\tremaining: 1m 28s\n",
      "440:\tlearn: 0.4709071\ttotal: 1m 9s\tremaining: 1m 28s\n",
      "441:\tlearn: 0.4708959\ttotal: 1m 9s\tremaining: 1m 27s\n",
      "442:\tlearn: 0.4708865\ttotal: 1m 9s\tremaining: 1m 27s\n",
      "443:\tlearn: 0.4708712\ttotal: 1m 9s\tremaining: 1m 27s\n",
      "444:\tlearn: 0.4708589\ttotal: 1m 10s\tremaining: 1m 27s\n",
      "445:\tlearn: 0.4708388\ttotal: 1m 10s\tremaining: 1m 27s\n",
      "446:\tlearn: 0.4708276\ttotal: 1m 10s\tremaining: 1m 27s\n",
      "447:\tlearn: 0.4708132\ttotal: 1m 10s\tremaining: 1m 26s\n",
      "448:\tlearn: 0.4707994\ttotal: 1m 10s\tremaining: 1m 26s\n",
      "449:\tlearn: 0.4707807\ttotal: 1m 10s\tremaining: 1m 26s\n",
      "450:\tlearn: 0.4707703\ttotal: 1m 11s\tremaining: 1m 26s\n",
      "451:\tlearn: 0.4707607\ttotal: 1m 11s\tremaining: 1m 26s\n",
      "452:\tlearn: 0.4707544\ttotal: 1m 11s\tremaining: 1m 26s\n",
      "453:\tlearn: 0.4707333\ttotal: 1m 11s\tremaining: 1m 25s\n",
      "454:\tlearn: 0.4707085\ttotal: 1m 11s\tremaining: 1m 25s\n",
      "455:\tlearn: 0.4706966\ttotal: 1m 11s\tremaining: 1m 25s\n",
      "456:\tlearn: 0.4706796\ttotal: 1m 11s\tremaining: 1m 25s\n",
      "457:\tlearn: 0.4706673\ttotal: 1m 12s\tremaining: 1m 25s\n",
      "458:\tlearn: 0.4706527\ttotal: 1m 12s\tremaining: 1m 25s\n",
      "459:\tlearn: 0.4706398\ttotal: 1m 12s\tremaining: 1m 24s\n",
      "460:\tlearn: 0.4706304\ttotal: 1m 12s\tremaining: 1m 24s\n",
      "461:\tlearn: 0.4706162\ttotal: 1m 12s\tremaining: 1m 24s\n",
      "462:\tlearn: 0.4706059\ttotal: 1m 12s\tremaining: 1m 24s\n",
      "463:\tlearn: 0.4705941\ttotal: 1m 12s\tremaining: 1m 24s\n",
      "464:\tlearn: 0.4705793\ttotal: 1m 13s\tremaining: 1m 24s\n",
      "465:\tlearn: 0.4705652\ttotal: 1m 13s\tremaining: 1m 23s\n",
      "466:\tlearn: 0.4705446\ttotal: 1m 13s\tremaining: 1m 23s\n",
      "467:\tlearn: 0.4705307\ttotal: 1m 13s\tremaining: 1m 23s\n",
      "468:\tlearn: 0.4705197\ttotal: 1m 13s\tremaining: 1m 23s\n",
      "469:\tlearn: 0.4704994\ttotal: 1m 13s\tremaining: 1m 23s\n",
      "470:\tlearn: 0.4704896\ttotal: 1m 14s\tremaining: 1m 23s\n",
      "471:\tlearn: 0.4704798\ttotal: 1m 14s\tremaining: 1m 22s\n"
     ]
    },
    {
     "name": "stdout",
     "output_type": "stream",
     "text": [
      "472:\tlearn: 0.4704647\ttotal: 1m 14s\tremaining: 1m 22s\n",
      "473:\tlearn: 0.4704497\ttotal: 1m 14s\tremaining: 1m 22s\n",
      "474:\tlearn: 0.4704366\ttotal: 1m 14s\tremaining: 1m 22s\n",
      "475:\tlearn: 0.4704205\ttotal: 1m 14s\tremaining: 1m 22s\n",
      "476:\tlearn: 0.4704079\ttotal: 1m 14s\tremaining: 1m 22s\n",
      "477:\tlearn: 0.4703953\ttotal: 1m 15s\tremaining: 1m 21s\n",
      "478:\tlearn: 0.4703844\ttotal: 1m 15s\tremaining: 1m 21s\n",
      "479:\tlearn: 0.4703743\ttotal: 1m 15s\tremaining: 1m 21s\n",
      "480:\tlearn: 0.4703595\ttotal: 1m 15s\tremaining: 1m 21s\n",
      "481:\tlearn: 0.4703403\ttotal: 1m 15s\tremaining: 1m 21s\n",
      "482:\tlearn: 0.4703279\ttotal: 1m 15s\tremaining: 1m 21s\n",
      "483:\tlearn: 0.4703146\ttotal: 1m 15s\tremaining: 1m 21s\n",
      "484:\tlearn: 0.4702956\ttotal: 1m 16s\tremaining: 1m 20s\n",
      "485:\tlearn: 0.4702832\ttotal: 1m 16s\tremaining: 1m 20s\n",
      "486:\tlearn: 0.4702673\ttotal: 1m 16s\tremaining: 1m 20s\n",
      "487:\tlearn: 0.4702566\ttotal: 1m 16s\tremaining: 1m 20s\n",
      "488:\tlearn: 0.4702456\ttotal: 1m 16s\tremaining: 1m 20s\n",
      "489:\tlearn: 0.4702319\ttotal: 1m 16s\tremaining: 1m 20s\n",
      "490:\tlearn: 0.4702193\ttotal: 1m 17s\tremaining: 1m 19s\n",
      "491:\tlearn: 0.4702100\ttotal: 1m 17s\tremaining: 1m 19s\n",
      "492:\tlearn: 0.4701948\ttotal: 1m 17s\tremaining: 1m 19s\n",
      "493:\tlearn: 0.4701861\ttotal: 1m 17s\tremaining: 1m 19s\n",
      "494:\tlearn: 0.4701742\ttotal: 1m 17s\tremaining: 1m 19s\n",
      "495:\tlearn: 0.4701659\ttotal: 1m 17s\tremaining: 1m 19s\n",
      "496:\tlearn: 0.4701514\ttotal: 1m 17s\tremaining: 1m 18s\n",
      "497:\tlearn: 0.4701311\ttotal: 1m 18s\tremaining: 1m 18s\n",
      "498:\tlearn: 0.4701199\ttotal: 1m 18s\tremaining: 1m 18s\n",
      "499:\tlearn: 0.4701090\ttotal: 1m 18s\tremaining: 1m 18s\n",
      "500:\tlearn: 0.4700913\ttotal: 1m 18s\tremaining: 1m 18s\n",
      "501:\tlearn: 0.4700747\ttotal: 1m 18s\tremaining: 1m 18s\n",
      "502:\tlearn: 0.4700679\ttotal: 1m 18s\tremaining: 1m 17s\n",
      "503:\tlearn: 0.4700539\ttotal: 1m 19s\tremaining: 1m 17s\n",
      "504:\tlearn: 0.4700415\ttotal: 1m 19s\tremaining: 1m 17s\n",
      "505:\tlearn: 0.4700239\ttotal: 1m 19s\tremaining: 1m 17s\n",
      "506:\tlearn: 0.4700137\ttotal: 1m 19s\tremaining: 1m 17s\n",
      "507:\tlearn: 0.4700004\ttotal: 1m 19s\tremaining: 1m 17s\n",
      "508:\tlearn: 0.4699865\ttotal: 1m 19s\tremaining: 1m 16s\n",
      "509:\tlearn: 0.4699788\ttotal: 1m 19s\tremaining: 1m 16s\n",
      "510:\tlearn: 0.4699622\ttotal: 1m 20s\tremaining: 1m 16s\n",
      "511:\tlearn: 0.4699542\ttotal: 1m 20s\tremaining: 1m 16s\n",
      "512:\tlearn: 0.4699374\ttotal: 1m 20s\tremaining: 1m 16s\n",
      "513:\tlearn: 0.4699276\ttotal: 1m 20s\tremaining: 1m 16s\n",
      "514:\tlearn: 0.4699158\ttotal: 1m 20s\tremaining: 1m 15s\n",
      "515:\tlearn: 0.4699050\ttotal: 1m 20s\tremaining: 1m 15s\n",
      "516:\tlearn: 0.4698864\ttotal: 1m 21s\tremaining: 1m 15s\n",
      "517:\tlearn: 0.4698741\ttotal: 1m 21s\tremaining: 1m 15s\n",
      "518:\tlearn: 0.4698603\ttotal: 1m 21s\tremaining: 1m 15s\n",
      "519:\tlearn: 0.4698488\ttotal: 1m 21s\tremaining: 1m 15s\n",
      "520:\tlearn: 0.4698392\ttotal: 1m 21s\tremaining: 1m 15s\n",
      "521:\tlearn: 0.4698222\ttotal: 1m 21s\tremaining: 1m 14s\n",
      "522:\tlearn: 0.4698085\ttotal: 1m 21s\tremaining: 1m 14s\n",
      "523:\tlearn: 0.4697979\ttotal: 1m 22s\tremaining: 1m 14s\n",
      "524:\tlearn: 0.4697877\ttotal: 1m 22s\tremaining: 1m 14s\n",
      "525:\tlearn: 0.4697732\ttotal: 1m 22s\tremaining: 1m 14s\n",
      "526:\tlearn: 0.4697609\ttotal: 1m 22s\tremaining: 1m 14s\n",
      "527:\tlearn: 0.4697459\ttotal: 1m 22s\tremaining: 1m 13s\n",
      "528:\tlearn: 0.4697282\ttotal: 1m 22s\tremaining: 1m 13s\n",
      "529:\tlearn: 0.4697058\ttotal: 1m 22s\tremaining: 1m 13s\n",
      "530:\tlearn: 0.4696960\ttotal: 1m 23s\tremaining: 1m 13s\n",
      "531:\tlearn: 0.4696852\ttotal: 1m 23s\tremaining: 1m 13s\n",
      "532:\tlearn: 0.4696720\ttotal: 1m 23s\tremaining: 1m 13s\n",
      "533:\tlearn: 0.4696587\ttotal: 1m 23s\tremaining: 1m 12s\n",
      "534:\tlearn: 0.4696511\ttotal: 1m 23s\tremaining: 1m 12s\n",
      "535:\tlearn: 0.4696368\ttotal: 1m 23s\tremaining: 1m 12s\n",
      "536:\tlearn: 0.4695982\ttotal: 1m 24s\tremaining: 1m 12s\n",
      "537:\tlearn: 0.4695863\ttotal: 1m 24s\tremaining: 1m 12s\n",
      "538:\tlearn: 0.4695771\ttotal: 1m 24s\tremaining: 1m 12s\n",
      "539:\tlearn: 0.4695689\ttotal: 1m 24s\tremaining: 1m 11s\n",
      "540:\tlearn: 0.4695570\ttotal: 1m 24s\tremaining: 1m 11s\n",
      "541:\tlearn: 0.4695477\ttotal: 1m 24s\tremaining: 1m 11s\n",
      "542:\tlearn: 0.4695382\ttotal: 1m 24s\tremaining: 1m 11s\n",
      "543:\tlearn: 0.4695232\ttotal: 1m 25s\tremaining: 1m 11s\n",
      "544:\tlearn: 0.4695104\ttotal: 1m 25s\tremaining: 1m 11s\n",
      "545:\tlearn: 0.4694989\ttotal: 1m 25s\tremaining: 1m 11s\n",
      "546:\tlearn: 0.4694875\ttotal: 1m 25s\tremaining: 1m 10s\n",
      "547:\tlearn: 0.4694616\ttotal: 1m 25s\tremaining: 1m 10s\n",
      "548:\tlearn: 0.4694467\ttotal: 1m 25s\tremaining: 1m 10s\n",
      "549:\tlearn: 0.4694379\ttotal: 1m 25s\tremaining: 1m 10s\n",
      "550:\tlearn: 0.4694292\ttotal: 1m 26s\tremaining: 1m 10s\n",
      "551:\tlearn: 0.4694219\ttotal: 1m 26s\tremaining: 1m 10s\n",
      "552:\tlearn: 0.4694139\ttotal: 1m 26s\tremaining: 1m 9s\n",
      "553:\tlearn: 0.4694015\ttotal: 1m 26s\tremaining: 1m 9s\n",
      "554:\tlearn: 0.4693934\ttotal: 1m 26s\tremaining: 1m 9s\n",
      "555:\tlearn: 0.4693829\ttotal: 1m 26s\tremaining: 1m 9s\n",
      "556:\tlearn: 0.4693762\ttotal: 1m 27s\tremaining: 1m 9s\n",
      "557:\tlearn: 0.4693649\ttotal: 1m 27s\tremaining: 1m 9s\n",
      "558:\tlearn: 0.4693577\ttotal: 1m 27s\tremaining: 1m 8s\n",
      "559:\tlearn: 0.4693481\ttotal: 1m 27s\tremaining: 1m 8s\n",
      "560:\tlearn: 0.4693354\ttotal: 1m 27s\tremaining: 1m 8s\n",
      "561:\tlearn: 0.4693265\ttotal: 1m 27s\tremaining: 1m 8s\n",
      "562:\tlearn: 0.4693201\ttotal: 1m 27s\tremaining: 1m 8s\n",
      "563:\tlearn: 0.4693042\ttotal: 1m 28s\tremaining: 1m 8s\n",
      "564:\tlearn: 0.4692958\ttotal: 1m 28s\tremaining: 1m 7s\n",
      "565:\tlearn: 0.4692847\ttotal: 1m 28s\tremaining: 1m 7s\n",
      "566:\tlearn: 0.4692779\ttotal: 1m 28s\tremaining: 1m 7s\n",
      "567:\tlearn: 0.4692618\ttotal: 1m 28s\tremaining: 1m 7s\n",
      "568:\tlearn: 0.4692490\ttotal: 1m 28s\tremaining: 1m 7s\n",
      "569:\tlearn: 0.4692393\ttotal: 1m 29s\tremaining: 1m 7s\n",
      "570:\tlearn: 0.4692246\ttotal: 1m 29s\tremaining: 1m 6s\n",
      "571:\tlearn: 0.4692139\ttotal: 1m 29s\tremaining: 1m 6s\n",
      "572:\tlearn: 0.4692083\ttotal: 1m 29s\tremaining: 1m 6s\n",
      "573:\tlearn: 0.4692011\ttotal: 1m 29s\tremaining: 1m 6s\n",
      "574:\tlearn: 0.4691920\ttotal: 1m 29s\tremaining: 1m 6s\n",
      "575:\tlearn: 0.4691836\ttotal: 1m 29s\tremaining: 1m 6s\n",
      "576:\tlearn: 0.4691749\ttotal: 1m 30s\tremaining: 1m 5s\n",
      "577:\tlearn: 0.4691620\ttotal: 1m 30s\tremaining: 1m 5s\n",
      "578:\tlearn: 0.4691546\ttotal: 1m 30s\tremaining: 1m 5s\n",
      "579:\tlearn: 0.4691466\ttotal: 1m 30s\tremaining: 1m 5s\n",
      "580:\tlearn: 0.4691325\ttotal: 1m 30s\tremaining: 1m 5s\n",
      "581:\tlearn: 0.4691225\ttotal: 1m 30s\tremaining: 1m 5s\n",
      "582:\tlearn: 0.4691146\ttotal: 1m 30s\tremaining: 1m 5s\n",
      "583:\tlearn: 0.4691067\ttotal: 1m 31s\tremaining: 1m 4s\n",
      "584:\tlearn: 0.4690998\ttotal: 1m 31s\tremaining: 1m 4s\n",
      "585:\tlearn: 0.4690914\ttotal: 1m 31s\tremaining: 1m 4s\n",
      "586:\tlearn: 0.4690842\ttotal: 1m 31s\tremaining: 1m 4s\n",
      "587:\tlearn: 0.4690718\ttotal: 1m 31s\tremaining: 1m 4s\n",
      "588:\tlearn: 0.4690630\ttotal: 1m 31s\tremaining: 1m 4s\n",
      "589:\tlearn: 0.4690557\ttotal: 1m 31s\tremaining: 1m 3s\n",
      "590:\tlearn: 0.4690480\ttotal: 1m 32s\tremaining: 1m 3s\n",
      "591:\tlearn: 0.4690411\ttotal: 1m 32s\tremaining: 1m 3s\n",
      "592:\tlearn: 0.4690304\ttotal: 1m 32s\tremaining: 1m 3s\n",
      "593:\tlearn: 0.4690213\ttotal: 1m 32s\tremaining: 1m 3s\n",
      "594:\tlearn: 0.4690133\ttotal: 1m 32s\tremaining: 1m 3s\n",
      "595:\tlearn: 0.4690034\ttotal: 1m 32s\tremaining: 1m 2s\n",
      "596:\tlearn: 0.4689965\ttotal: 1m 33s\tremaining: 1m 2s\n",
      "597:\tlearn: 0.4689854\ttotal: 1m 33s\tremaining: 1m 2s\n",
      "598:\tlearn: 0.4689784\ttotal: 1m 33s\tremaining: 1m 2s\n",
      "599:\tlearn: 0.4689689\ttotal: 1m 33s\tremaining: 1m 2s\n",
      "600:\tlearn: 0.4689612\ttotal: 1m 33s\tremaining: 1m 2s\n",
      "601:\tlearn: 0.4689494\ttotal: 1m 33s\tremaining: 1m 2s\n",
      "602:\tlearn: 0.4689410\ttotal: 1m 33s\tremaining: 1m 1s\n",
      "603:\tlearn: 0.4689331\ttotal: 1m 34s\tremaining: 1m 1s\n",
      "604:\tlearn: 0.4689256\ttotal: 1m 34s\tremaining: 1m 1s\n",
      "605:\tlearn: 0.4689158\ttotal: 1m 34s\tremaining: 1m 1s\n",
      "606:\tlearn: 0.4689070\ttotal: 1m 34s\tremaining: 1m 1s\n",
      "607:\tlearn: 0.4688822\ttotal: 1m 34s\tremaining: 1m 1s\n",
      "608:\tlearn: 0.4688670\ttotal: 1m 34s\tremaining: 1m\n",
      "609:\tlearn: 0.4688588\ttotal: 1m 35s\tremaining: 1m\n",
      "610:\tlearn: 0.4688499\ttotal: 1m 35s\tremaining: 1m\n",
      "611:\tlearn: 0.4688421\ttotal: 1m 35s\tremaining: 1m\n",
      "612:\tlearn: 0.4688310\ttotal: 1m 35s\tremaining: 1m\n",
      "613:\tlearn: 0.4688166\ttotal: 1m 35s\tremaining: 1m\n",
      "614:\tlearn: 0.4688056\ttotal: 1m 35s\tremaining: 60s\n",
      "615:\tlearn: 0.4687982\ttotal: 1m 35s\tremaining: 59.8s\n",
      "616:\tlearn: 0.4687895\ttotal: 1m 36s\tremaining: 59.6s\n",
      "617:\tlearn: 0.4687828\ttotal: 1m 36s\tremaining: 59.5s\n",
      "618:\tlearn: 0.4687754\ttotal: 1m 36s\tremaining: 59.3s\n",
      "619:\tlearn: 0.4687675\ttotal: 1m 36s\tremaining: 59.2s\n",
      "620:\tlearn: 0.4687574\ttotal: 1m 36s\tremaining: 59s\n",
      "621:\tlearn: 0.4687475\ttotal: 1m 36s\tremaining: 58.8s\n",
      "622:\tlearn: 0.4687374\ttotal: 1m 36s\tremaining: 58.7s\n",
      "623:\tlearn: 0.4687282\ttotal: 1m 37s\tremaining: 58.5s\n",
      "624:\tlearn: 0.4687188\ttotal: 1m 37s\tremaining: 58.4s\n",
      "625:\tlearn: 0.4687114\ttotal: 1m 37s\tremaining: 58.2s\n"
     ]
    },
    {
     "name": "stdout",
     "output_type": "stream",
     "text": [
      "626:\tlearn: 0.4687029\ttotal: 1m 37s\tremaining: 58.1s\n",
      "627:\tlearn: 0.4686951\ttotal: 1m 37s\tremaining: 57.9s\n",
      "628:\tlearn: 0.4686793\ttotal: 1m 37s\tremaining: 57.7s\n",
      "629:\tlearn: 0.4686712\ttotal: 1m 38s\tremaining: 57.6s\n",
      "630:\tlearn: 0.4686608\ttotal: 1m 38s\tremaining: 57.4s\n",
      "631:\tlearn: 0.4686551\ttotal: 1m 38s\tremaining: 57.3s\n",
      "632:\tlearn: 0.4686470\ttotal: 1m 38s\tremaining: 57.1s\n",
      "633:\tlearn: 0.4686419\ttotal: 1m 38s\tremaining: 56.9s\n",
      "634:\tlearn: 0.4686321\ttotal: 1m 38s\tremaining: 56.8s\n",
      "635:\tlearn: 0.4686227\ttotal: 1m 38s\tremaining: 56.6s\n",
      "636:\tlearn: 0.4686126\ttotal: 1m 39s\tremaining: 56.5s\n",
      "637:\tlearn: 0.4686060\ttotal: 1m 39s\tremaining: 56.3s\n",
      "638:\tlearn: 0.4685989\ttotal: 1m 39s\tremaining: 56.2s\n",
      "639:\tlearn: 0.4685900\ttotal: 1m 39s\tremaining: 56s\n",
      "640:\tlearn: 0.4685835\ttotal: 1m 39s\tremaining: 55.8s\n",
      "641:\tlearn: 0.4685774\ttotal: 1m 39s\tremaining: 55.7s\n",
      "642:\tlearn: 0.4685680\ttotal: 1m 40s\tremaining: 55.5s\n",
      "643:\tlearn: 0.4685609\ttotal: 1m 40s\tremaining: 55.4s\n",
      "644:\tlearn: 0.4685499\ttotal: 1m 40s\tremaining: 55.2s\n",
      "645:\tlearn: 0.4685449\ttotal: 1m 40s\tremaining: 55.1s\n",
      "646:\tlearn: 0.4685359\ttotal: 1m 40s\tremaining: 54.9s\n",
      "647:\tlearn: 0.4685300\ttotal: 1m 40s\tremaining: 54.7s\n",
      "648:\tlearn: 0.4685173\ttotal: 1m 40s\tremaining: 54.6s\n",
      "649:\tlearn: 0.4685080\ttotal: 1m 41s\tremaining: 54.4s\n",
      "650:\tlearn: 0.4685006\ttotal: 1m 41s\tremaining: 54.3s\n",
      "651:\tlearn: 0.4684924\ttotal: 1m 41s\tremaining: 54.1s\n",
      "652:\tlearn: 0.4684851\ttotal: 1m 41s\tremaining: 53.9s\n",
      "653:\tlearn: 0.4684791\ttotal: 1m 41s\tremaining: 53.8s\n",
      "654:\tlearn: 0.4684721\ttotal: 1m 41s\tremaining: 53.6s\n",
      "655:\tlearn: 0.4684639\ttotal: 1m 41s\tremaining: 53.4s\n",
      "656:\tlearn: 0.4684475\ttotal: 1m 42s\tremaining: 53.3s\n",
      "657:\tlearn: 0.4684423\ttotal: 1m 42s\tremaining: 53.1s\n",
      "658:\tlearn: 0.4684341\ttotal: 1m 42s\tremaining: 53s\n",
      "659:\tlearn: 0.4684282\ttotal: 1m 42s\tremaining: 52.8s\n",
      "660:\tlearn: 0.4684200\ttotal: 1m 42s\tremaining: 52.7s\n",
      "661:\tlearn: 0.4684082\ttotal: 1m 42s\tremaining: 52.5s\n",
      "662:\tlearn: 0.4684026\ttotal: 1m 43s\tremaining: 52.4s\n",
      "663:\tlearn: 0.4683911\ttotal: 1m 43s\tremaining: 52.2s\n",
      "664:\tlearn: 0.4683835\ttotal: 1m 43s\tremaining: 52.1s\n",
      "665:\tlearn: 0.4683764\ttotal: 1m 43s\tremaining: 51.9s\n",
      "666:\tlearn: 0.4683699\ttotal: 1m 43s\tremaining: 51.8s\n",
      "667:\tlearn: 0.4683637\ttotal: 1m 43s\tremaining: 51.6s\n",
      "668:\tlearn: 0.4683576\ttotal: 1m 44s\tremaining: 51.5s\n",
      "669:\tlearn: 0.4683500\ttotal: 1m 44s\tremaining: 51.3s\n",
      "670:\tlearn: 0.4683412\ttotal: 1m 44s\tremaining: 51.2s\n",
      "671:\tlearn: 0.4683350\ttotal: 1m 44s\tremaining: 51s\n",
      "672:\tlearn: 0.4683288\ttotal: 1m 44s\tremaining: 50.8s\n",
      "673:\tlearn: 0.4683218\ttotal: 1m 44s\tremaining: 50.7s\n",
      "674:\tlearn: 0.4683156\ttotal: 1m 44s\tremaining: 50.5s\n",
      "675:\tlearn: 0.4683045\ttotal: 1m 45s\tremaining: 50.4s\n",
      "676:\tlearn: 0.4682964\ttotal: 1m 45s\tremaining: 50.2s\n",
      "677:\tlearn: 0.4682903\ttotal: 1m 45s\tremaining: 50.1s\n",
      "678:\tlearn: 0.4682845\ttotal: 1m 45s\tremaining: 49.9s\n",
      "679:\tlearn: 0.4682789\ttotal: 1m 45s\tremaining: 49.7s\n",
      "680:\tlearn: 0.4682731\ttotal: 1m 45s\tremaining: 49.6s\n",
      "681:\tlearn: 0.4682646\ttotal: 1m 45s\tremaining: 49.4s\n",
      "682:\tlearn: 0.4682581\ttotal: 1m 46s\tremaining: 49.3s\n",
      "683:\tlearn: 0.4682494\ttotal: 1m 46s\tremaining: 49.1s\n",
      "684:\tlearn: 0.4682423\ttotal: 1m 46s\tremaining: 49s\n",
      "685:\tlearn: 0.4682381\ttotal: 1m 46s\tremaining: 48.8s\n",
      "686:\tlearn: 0.4682313\ttotal: 1m 46s\tremaining: 48.6s\n",
      "687:\tlearn: 0.4682251\ttotal: 1m 46s\tremaining: 48.5s\n",
      "688:\tlearn: 0.4682191\ttotal: 1m 47s\tremaining: 48.3s\n",
      "689:\tlearn: 0.4682145\ttotal: 1m 47s\tremaining: 48.2s\n",
      "690:\tlearn: 0.4682091\ttotal: 1m 47s\tremaining: 48s\n",
      "691:\tlearn: 0.4681956\ttotal: 1m 47s\tremaining: 47.9s\n",
      "692:\tlearn: 0.4681911\ttotal: 1m 47s\tremaining: 47.7s\n",
      "693:\tlearn: 0.4681854\ttotal: 1m 47s\tremaining: 47.5s\n",
      "694:\tlearn: 0.4681793\ttotal: 1m 47s\tremaining: 47.4s\n",
      "695:\tlearn: 0.4681737\ttotal: 1m 48s\tremaining: 47.2s\n",
      "696:\tlearn: 0.4681658\ttotal: 1m 48s\tremaining: 47.1s\n",
      "697:\tlearn: 0.4681597\ttotal: 1m 48s\tremaining: 46.9s\n",
      "698:\tlearn: 0.4681544\ttotal: 1m 48s\tremaining: 46.7s\n",
      "699:\tlearn: 0.4681454\ttotal: 1m 48s\tremaining: 46.6s\n",
      "700:\tlearn: 0.4681381\ttotal: 1m 48s\tremaining: 46.4s\n",
      "701:\tlearn: 0.4681299\ttotal: 1m 48s\tremaining: 46.3s\n",
      "702:\tlearn: 0.4681233\ttotal: 1m 49s\tremaining: 46.1s\n",
      "703:\tlearn: 0.4681161\ttotal: 1m 49s\tremaining: 46s\n",
      "704:\tlearn: 0.4681099\ttotal: 1m 49s\tremaining: 45.8s\n",
      "705:\tlearn: 0.4680963\ttotal: 1m 49s\tremaining: 45.6s\n",
      "706:\tlearn: 0.4680890\ttotal: 1m 49s\tremaining: 45.5s\n",
      "707:\tlearn: 0.4680822\ttotal: 1m 49s\tremaining: 45.3s\n",
      "708:\tlearn: 0.4680746\ttotal: 1m 50s\tremaining: 45.2s\n",
      "709:\tlearn: 0.4680671\ttotal: 1m 50s\tremaining: 45s\n",
      "710:\tlearn: 0.4680581\ttotal: 1m 50s\tremaining: 44.9s\n",
      "711:\tlearn: 0.4680525\ttotal: 1m 50s\tremaining: 44.7s\n",
      "712:\tlearn: 0.4680432\ttotal: 1m 50s\tremaining: 44.5s\n",
      "713:\tlearn: 0.4680356\ttotal: 1m 50s\tremaining: 44.4s\n",
      "714:\tlearn: 0.4680284\ttotal: 1m 50s\tremaining: 44.2s\n",
      "715:\tlearn: 0.4680224\ttotal: 1m 51s\tremaining: 44.1s\n",
      "716:\tlearn: 0.4680130\ttotal: 1m 51s\tremaining: 43.9s\n",
      "717:\tlearn: 0.4680034\ttotal: 1m 51s\tremaining: 43.8s\n",
      "718:\tlearn: 0.4679959\ttotal: 1m 51s\tremaining: 43.6s\n",
      "719:\tlearn: 0.4679890\ttotal: 1m 51s\tremaining: 43.5s\n",
      "720:\tlearn: 0.4679811\ttotal: 1m 51s\tremaining: 43.3s\n",
      "721:\tlearn: 0.4679705\ttotal: 1m 52s\tremaining: 43.1s\n",
      "722:\tlearn: 0.4679634\ttotal: 1m 52s\tremaining: 43s\n",
      "723:\tlearn: 0.4679571\ttotal: 1m 52s\tremaining: 42.8s\n",
      "724:\tlearn: 0.4679484\ttotal: 1m 52s\tremaining: 42.7s\n",
      "725:\tlearn: 0.4679429\ttotal: 1m 52s\tremaining: 42.5s\n",
      "726:\tlearn: 0.4679372\ttotal: 1m 52s\tremaining: 42.4s\n",
      "727:\tlearn: 0.4679291\ttotal: 1m 52s\tremaining: 42.2s\n",
      "728:\tlearn: 0.4679208\ttotal: 1m 53s\tremaining: 42s\n",
      "729:\tlearn: 0.4679137\ttotal: 1m 53s\tremaining: 41.9s\n",
      "730:\tlearn: 0.4679081\ttotal: 1m 53s\tremaining: 41.7s\n",
      "731:\tlearn: 0.4679011\ttotal: 1m 53s\tremaining: 41.6s\n",
      "732:\tlearn: 0.4678949\ttotal: 1m 53s\tremaining: 41.4s\n",
      "733:\tlearn: 0.4678873\ttotal: 1m 53s\tremaining: 41.3s\n",
      "734:\tlearn: 0.4678808\ttotal: 1m 54s\tremaining: 41.1s\n",
      "735:\tlearn: 0.4678759\ttotal: 1m 54s\tremaining: 41s\n",
      "736:\tlearn: 0.4678686\ttotal: 1m 54s\tremaining: 40.8s\n",
      "737:\tlearn: 0.4678591\ttotal: 1m 54s\tremaining: 40.6s\n",
      "738:\tlearn: 0.4678513\ttotal: 1m 54s\tremaining: 40.5s\n",
      "739:\tlearn: 0.4678462\ttotal: 1m 54s\tremaining: 40.3s\n",
      "740:\tlearn: 0.4678411\ttotal: 1m 54s\tremaining: 40.2s\n",
      "741:\tlearn: 0.4678326\ttotal: 1m 55s\tremaining: 40s\n",
      "742:\tlearn: 0.4678280\ttotal: 1m 55s\tremaining: 39.9s\n",
      "743:\tlearn: 0.4678207\ttotal: 1m 55s\tremaining: 39.7s\n",
      "744:\tlearn: 0.4678148\ttotal: 1m 55s\tremaining: 39.5s\n",
      "745:\tlearn: 0.4678099\ttotal: 1m 55s\tremaining: 39.4s\n",
      "746:\tlearn: 0.4678051\ttotal: 1m 55s\tremaining: 39.2s\n",
      "747:\tlearn: 0.4678009\ttotal: 1m 55s\tremaining: 39.1s\n",
      "748:\tlearn: 0.4677951\ttotal: 1m 56s\tremaining: 38.9s\n",
      "749:\tlearn: 0.4677853\ttotal: 1m 56s\tremaining: 38.8s\n",
      "750:\tlearn: 0.4677785\ttotal: 1m 56s\tremaining: 38.6s\n",
      "751:\tlearn: 0.4677702\ttotal: 1m 56s\tremaining: 38.4s\n",
      "752:\tlearn: 0.4677659\ttotal: 1m 56s\tremaining: 38.3s\n",
      "753:\tlearn: 0.4677579\ttotal: 1m 56s\tremaining: 38.1s\n",
      "754:\tlearn: 0.4677513\ttotal: 1m 57s\tremaining: 38s\n",
      "755:\tlearn: 0.4677454\ttotal: 1m 57s\tremaining: 37.8s\n",
      "756:\tlearn: 0.4677394\ttotal: 1m 57s\tremaining: 37.7s\n",
      "757:\tlearn: 0.4677337\ttotal: 1m 57s\tremaining: 37.5s\n",
      "758:\tlearn: 0.4677295\ttotal: 1m 57s\tremaining: 37.4s\n",
      "759:\tlearn: 0.4677238\ttotal: 1m 57s\tremaining: 37.2s\n",
      "760:\tlearn: 0.4677197\ttotal: 1m 58s\tremaining: 37.1s\n",
      "761:\tlearn: 0.4677125\ttotal: 1m 58s\tremaining: 36.9s\n",
      "762:\tlearn: 0.4677073\ttotal: 1m 58s\tremaining: 36.8s\n",
      "763:\tlearn: 0.4677011\ttotal: 1m 58s\tremaining: 36.6s\n",
      "764:\tlearn: 0.4676900\ttotal: 1m 58s\tremaining: 36.4s\n",
      "765:\tlearn: 0.4676860\ttotal: 1m 58s\tremaining: 36.3s\n",
      "766:\tlearn: 0.4676801\ttotal: 1m 58s\tremaining: 36.1s\n",
      "767:\tlearn: 0.4676750\ttotal: 1m 59s\tremaining: 36s\n",
      "768:\tlearn: 0.4676701\ttotal: 1m 59s\tremaining: 35.8s\n",
      "769:\tlearn: 0.4676617\ttotal: 1m 59s\tremaining: 35.7s\n",
      "770:\tlearn: 0.4676559\ttotal: 1m 59s\tremaining: 35.5s\n",
      "771:\tlearn: 0.4676522\ttotal: 1m 59s\tremaining: 35.4s\n",
      "772:\tlearn: 0.4676477\ttotal: 1m 59s\tremaining: 35.2s\n",
      "773:\tlearn: 0.4676399\ttotal: 2m\tremaining: 35.1s\n",
      "774:\tlearn: 0.4676336\ttotal: 2m\tremaining: 34.9s\n",
      "775:\tlearn: 0.4676281\ttotal: 2m\tremaining: 34.8s\n",
      "776:\tlearn: 0.4676227\ttotal: 2m\tremaining: 34.6s\n",
      "777:\tlearn: 0.4676152\ttotal: 2m\tremaining: 34.4s\n",
      "778:\tlearn: 0.4676082\ttotal: 2m\tremaining: 34.3s\n",
      "779:\tlearn: 0.4676020\ttotal: 2m\tremaining: 34.1s\n",
      "780:\tlearn: 0.4675935\ttotal: 2m 1s\tremaining: 34s\n",
      "781:\tlearn: 0.4675851\ttotal: 2m 1s\tremaining: 33.8s\n"
     ]
    },
    {
     "name": "stdout",
     "output_type": "stream",
     "text": [
      "782:\tlearn: 0.4675798\ttotal: 2m 1s\tremaining: 33.7s\n",
      "783:\tlearn: 0.4675726\ttotal: 2m 1s\tremaining: 33.5s\n",
      "784:\tlearn: 0.4675691\ttotal: 2m 1s\tremaining: 33.3s\n",
      "785:\tlearn: 0.4675645\ttotal: 2m 1s\tremaining: 33.2s\n",
      "786:\tlearn: 0.4675547\ttotal: 2m 2s\tremaining: 33s\n",
      "787:\tlearn: 0.4675489\ttotal: 2m 2s\tremaining: 32.9s\n",
      "788:\tlearn: 0.4675444\ttotal: 2m 2s\tremaining: 32.7s\n",
      "789:\tlearn: 0.4675376\ttotal: 2m 2s\tremaining: 32.6s\n",
      "790:\tlearn: 0.4675322\ttotal: 2m 2s\tremaining: 32.4s\n",
      "791:\tlearn: 0.4675273\ttotal: 2m 2s\tremaining: 32.3s\n",
      "792:\tlearn: 0.4675226\ttotal: 2m 2s\tremaining: 32.1s\n",
      "793:\tlearn: 0.4675155\ttotal: 2m 3s\tremaining: 31.9s\n",
      "794:\tlearn: 0.4675085\ttotal: 2m 3s\tremaining: 31.8s\n",
      "795:\tlearn: 0.4675013\ttotal: 2m 3s\tremaining: 31.6s\n",
      "796:\tlearn: 0.4674965\ttotal: 2m 3s\tremaining: 31.5s\n",
      "797:\tlearn: 0.4674904\ttotal: 2m 3s\tremaining: 31.3s\n",
      "798:\tlearn: 0.4674823\ttotal: 2m 3s\tremaining: 31.2s\n",
      "799:\tlearn: 0.4674765\ttotal: 2m 4s\tremaining: 31s\n",
      "800:\tlearn: 0.4674700\ttotal: 2m 4s\tremaining: 30.9s\n",
      "801:\tlearn: 0.4674652\ttotal: 2m 4s\tremaining: 30.7s\n",
      "802:\tlearn: 0.4674611\ttotal: 2m 4s\tremaining: 30.5s\n",
      "803:\tlearn: 0.4674556\ttotal: 2m 4s\tremaining: 30.4s\n",
      "804:\tlearn: 0.4674515\ttotal: 2m 4s\tremaining: 30.2s\n",
      "805:\tlearn: 0.4674448\ttotal: 2m 4s\tremaining: 30.1s\n",
      "806:\tlearn: 0.4674343\ttotal: 2m 5s\tremaining: 29.9s\n",
      "807:\tlearn: 0.4674271\ttotal: 2m 5s\tremaining: 29.8s\n",
      "808:\tlearn: 0.4674199\ttotal: 2m 5s\tremaining: 29.6s\n",
      "809:\tlearn: 0.4674153\ttotal: 2m 5s\tremaining: 29.4s\n",
      "810:\tlearn: 0.4674094\ttotal: 2m 5s\tremaining: 29.3s\n",
      "811:\tlearn: 0.4674018\ttotal: 2m 5s\tremaining: 29.1s\n",
      "812:\tlearn: 0.4673918\ttotal: 2m 5s\tremaining: 29s\n",
      "813:\tlearn: 0.4673875\ttotal: 2m 6s\tremaining: 28.8s\n",
      "814:\tlearn: 0.4673823\ttotal: 2m 6s\tremaining: 28.7s\n",
      "815:\tlearn: 0.4673765\ttotal: 2m 6s\tremaining: 28.5s\n",
      "816:\tlearn: 0.4673716\ttotal: 2m 6s\tremaining: 28.4s\n",
      "817:\tlearn: 0.4673677\ttotal: 2m 6s\tremaining: 28.2s\n",
      "818:\tlearn: 0.4673601\ttotal: 2m 6s\tremaining: 28s\n",
      "819:\tlearn: 0.4673524\ttotal: 2m 7s\tremaining: 27.9s\n",
      "820:\tlearn: 0.4673477\ttotal: 2m 7s\tremaining: 27.7s\n",
      "821:\tlearn: 0.4673425\ttotal: 2m 7s\tremaining: 27.6s\n",
      "822:\tlearn: 0.4673343\ttotal: 2m 7s\tremaining: 27.4s\n",
      "823:\tlearn: 0.4673293\ttotal: 2m 7s\tremaining: 27.3s\n",
      "824:\tlearn: 0.4673253\ttotal: 2m 7s\tremaining: 27.1s\n",
      "825:\tlearn: 0.4673217\ttotal: 2m 7s\tremaining: 26.9s\n",
      "826:\tlearn: 0.4673126\ttotal: 2m 8s\tremaining: 26.8s\n",
      "827:\tlearn: 0.4673078\ttotal: 2m 8s\tremaining: 26.6s\n",
      "828:\tlearn: 0.4673030\ttotal: 2m 8s\tremaining: 26.5s\n",
      "829:\tlearn: 0.4672970\ttotal: 2m 8s\tremaining: 26.3s\n",
      "830:\tlearn: 0.4672927\ttotal: 2m 8s\tremaining: 26.2s\n",
      "831:\tlearn: 0.4672884\ttotal: 2m 8s\tremaining: 26s\n",
      "832:\tlearn: 0.4672826\ttotal: 2m 8s\tremaining: 25.9s\n",
      "833:\tlearn: 0.4672764\ttotal: 2m 9s\tremaining: 25.7s\n",
      "834:\tlearn: 0.4672699\ttotal: 2m 9s\tremaining: 25.5s\n",
      "835:\tlearn: 0.4672628\ttotal: 2m 9s\tremaining: 25.4s\n",
      "836:\tlearn: 0.4672573\ttotal: 2m 9s\tremaining: 25.2s\n",
      "837:\tlearn: 0.4672540\ttotal: 2m 9s\tremaining: 25.1s\n",
      "838:\tlearn: 0.4672500\ttotal: 2m 9s\tremaining: 24.9s\n",
      "839:\tlearn: 0.4672439\ttotal: 2m 10s\tremaining: 24.8s\n",
      "840:\tlearn: 0.4672382\ttotal: 2m 10s\tremaining: 24.6s\n",
      "841:\tlearn: 0.4672332\ttotal: 2m 10s\tremaining: 24.5s\n",
      "842:\tlearn: 0.4672259\ttotal: 2m 10s\tremaining: 24.3s\n",
      "843:\tlearn: 0.4672207\ttotal: 2m 10s\tremaining: 24.1s\n",
      "844:\tlearn: 0.4672146\ttotal: 2m 10s\tremaining: 24s\n",
      "845:\tlearn: 0.4672083\ttotal: 2m 10s\tremaining: 23.8s\n",
      "846:\tlearn: 0.4672012\ttotal: 2m 11s\tremaining: 23.7s\n",
      "847:\tlearn: 0.4671958\ttotal: 2m 11s\tremaining: 23.5s\n",
      "848:\tlearn: 0.4671888\ttotal: 2m 11s\tremaining: 23.4s\n",
      "849:\tlearn: 0.4671822\ttotal: 2m 11s\tremaining: 23.2s\n",
      "850:\tlearn: 0.4671777\ttotal: 2m 11s\tremaining: 23.1s\n",
      "851:\tlearn: 0.4671740\ttotal: 2m 11s\tremaining: 22.9s\n",
      "852:\tlearn: 0.4671693\ttotal: 2m 11s\tremaining: 22.7s\n",
      "853:\tlearn: 0.4671656\ttotal: 2m 12s\tremaining: 22.6s\n",
      "854:\tlearn: 0.4671600\ttotal: 2m 12s\tremaining: 22.4s\n",
      "855:\tlearn: 0.4671505\ttotal: 2m 12s\tremaining: 22.3s\n",
      "856:\tlearn: 0.4671452\ttotal: 2m 12s\tremaining: 22.1s\n",
      "857:\tlearn: 0.4671384\ttotal: 2m 12s\tremaining: 22s\n",
      "858:\tlearn: 0.4671325\ttotal: 2m 12s\tremaining: 21.8s\n",
      "859:\tlearn: 0.4671267\ttotal: 2m 13s\tremaining: 21.7s\n",
      "860:\tlearn: 0.4671205\ttotal: 2m 13s\tremaining: 21.5s\n",
      "861:\tlearn: 0.4671169\ttotal: 2m 13s\tremaining: 21.4s\n",
      "862:\tlearn: 0.4671129\ttotal: 2m 13s\tremaining: 21.2s\n",
      "863:\tlearn: 0.4671069\ttotal: 2m 13s\tremaining: 21s\n",
      "864:\tlearn: 0.4671025\ttotal: 2m 13s\tremaining: 20.9s\n",
      "865:\tlearn: 0.4670990\ttotal: 2m 13s\tremaining: 20.7s\n",
      "866:\tlearn: 0.4670943\ttotal: 2m 14s\tremaining: 20.6s\n",
      "867:\tlearn: 0.4670890\ttotal: 2m 14s\tremaining: 20.4s\n",
      "868:\tlearn: 0.4670833\ttotal: 2m 14s\tremaining: 20.3s\n",
      "869:\tlearn: 0.4670789\ttotal: 2m 14s\tremaining: 20.1s\n",
      "870:\tlearn: 0.4670757\ttotal: 2m 14s\tremaining: 19.9s\n",
      "871:\tlearn: 0.4670709\ttotal: 2m 14s\tremaining: 19.8s\n",
      "872:\tlearn: 0.4670670\ttotal: 2m 15s\tremaining: 19.6s\n",
      "873:\tlearn: 0.4670646\ttotal: 2m 15s\tremaining: 19.5s\n",
      "874:\tlearn: 0.4670583\ttotal: 2m 15s\tremaining: 19.3s\n",
      "875:\tlearn: 0.4670540\ttotal: 2m 15s\tremaining: 19.2s\n",
      "876:\tlearn: 0.4670486\ttotal: 2m 15s\tremaining: 19s\n",
      "877:\tlearn: 0.4670440\ttotal: 2m 15s\tremaining: 18.9s\n",
      "878:\tlearn: 0.4670399\ttotal: 2m 15s\tremaining: 18.7s\n",
      "879:\tlearn: 0.4670360\ttotal: 2m 16s\tremaining: 18.6s\n",
      "880:\tlearn: 0.4670308\ttotal: 2m 16s\tremaining: 18.4s\n",
      "881:\tlearn: 0.4670250\ttotal: 2m 16s\tremaining: 18.2s\n",
      "882:\tlearn: 0.4670183\ttotal: 2m 16s\tremaining: 18.1s\n",
      "883:\tlearn: 0.4670125\ttotal: 2m 16s\tremaining: 17.9s\n",
      "884:\tlearn: 0.4670040\ttotal: 2m 16s\tremaining: 17.8s\n",
      "885:\tlearn: 0.4669991\ttotal: 2m 16s\tremaining: 17.6s\n",
      "886:\tlearn: 0.4669936\ttotal: 2m 17s\tremaining: 17.5s\n",
      "887:\tlearn: 0.4669880\ttotal: 2m 17s\tremaining: 17.3s\n",
      "888:\tlearn: 0.4669833\ttotal: 2m 17s\tremaining: 17.2s\n",
      "889:\tlearn: 0.4669796\ttotal: 2m 17s\tremaining: 17s\n",
      "890:\tlearn: 0.4669744\ttotal: 2m 17s\tremaining: 16.9s\n",
      "891:\tlearn: 0.4669714\ttotal: 2m 17s\tremaining: 16.7s\n",
      "892:\tlearn: 0.4669683\ttotal: 2m 18s\tremaining: 16.6s\n",
      "893:\tlearn: 0.4669650\ttotal: 2m 18s\tremaining: 16.4s\n",
      "894:\tlearn: 0.4669606\ttotal: 2m 18s\tremaining: 16.3s\n",
      "895:\tlearn: 0.4669577\ttotal: 2m 18s\tremaining: 16.1s\n",
      "896:\tlearn: 0.4669524\ttotal: 2m 18s\tremaining: 15.9s\n",
      "897:\tlearn: 0.4669490\ttotal: 2m 19s\tremaining: 15.8s\n",
      "898:\tlearn: 0.4669454\ttotal: 2m 19s\tremaining: 15.6s\n",
      "899:\tlearn: 0.4669417\ttotal: 2m 19s\tremaining: 15.5s\n",
      "900:\tlearn: 0.4669374\ttotal: 2m 19s\tremaining: 15.3s\n",
      "901:\tlearn: 0.4669339\ttotal: 2m 19s\tremaining: 15.2s\n",
      "902:\tlearn: 0.4669305\ttotal: 2m 19s\tremaining: 15s\n",
      "903:\tlearn: 0.4669254\ttotal: 2m 19s\tremaining: 14.9s\n",
      "904:\tlearn: 0.4669200\ttotal: 2m 20s\tremaining: 14.7s\n",
      "905:\tlearn: 0.4669142\ttotal: 2m 20s\tremaining: 14.6s\n",
      "906:\tlearn: 0.4669120\ttotal: 2m 20s\tremaining: 14.4s\n",
      "907:\tlearn: 0.4669057\ttotal: 2m 20s\tremaining: 14.2s\n",
      "908:\tlearn: 0.4669022\ttotal: 2m 20s\tremaining: 14.1s\n",
      "909:\tlearn: 0.4668977\ttotal: 2m 20s\tremaining: 13.9s\n",
      "910:\tlearn: 0.4668924\ttotal: 2m 21s\tremaining: 13.8s\n",
      "911:\tlearn: 0.4668883\ttotal: 2m 21s\tremaining: 13.6s\n",
      "912:\tlearn: 0.4668843\ttotal: 2m 21s\tremaining: 13.5s\n",
      "913:\tlearn: 0.4668768\ttotal: 2m 21s\tremaining: 13.3s\n",
      "914:\tlearn: 0.4668708\ttotal: 2m 21s\tremaining: 13.2s\n",
      "915:\tlearn: 0.4668654\ttotal: 2m 21s\tremaining: 13s\n",
      "916:\tlearn: 0.4668618\ttotal: 2m 21s\tremaining: 12.8s\n",
      "917:\tlearn: 0.4668588\ttotal: 2m 22s\tremaining: 12.7s\n",
      "918:\tlearn: 0.4668557\ttotal: 2m 22s\tremaining: 12.5s\n",
      "919:\tlearn: 0.4668500\ttotal: 2m 22s\tremaining: 12.4s\n",
      "920:\tlearn: 0.4668431\ttotal: 2m 22s\tremaining: 12.2s\n",
      "921:\tlearn: 0.4668363\ttotal: 2m 22s\tremaining: 12.1s\n",
      "922:\tlearn: 0.4668310\ttotal: 2m 22s\tremaining: 11.9s\n",
      "923:\tlearn: 0.4668274\ttotal: 2m 23s\tremaining: 11.8s\n",
      "924:\tlearn: 0.4668196\ttotal: 2m 23s\tremaining: 11.6s\n",
      "925:\tlearn: 0.4668156\ttotal: 2m 23s\tremaining: 11.5s\n",
      "926:\tlearn: 0.4668115\ttotal: 2m 23s\tremaining: 11.3s\n",
      "927:\tlearn: 0.4668067\ttotal: 2m 23s\tremaining: 11.2s\n",
      "928:\tlearn: 0.4668007\ttotal: 2m 23s\tremaining: 11s\n",
      "929:\tlearn: 0.4667965\ttotal: 2m 24s\tremaining: 10.8s\n",
      "930:\tlearn: 0.4667929\ttotal: 2m 24s\tremaining: 10.7s\n",
      "931:\tlearn: 0.4667883\ttotal: 2m 24s\tremaining: 10.5s\n",
      "932:\tlearn: 0.4667855\ttotal: 2m 24s\tremaining: 10.4s\n",
      "933:\tlearn: 0.4667822\ttotal: 2m 24s\tremaining: 10.2s\n",
      "934:\tlearn: 0.4667759\ttotal: 2m 24s\tremaining: 10.1s\n",
      "935:\tlearn: 0.4667723\ttotal: 2m 25s\tremaining: 9.92s\n",
      "936:\tlearn: 0.4667695\ttotal: 2m 25s\tremaining: 9.76s\n",
      "937:\tlearn: 0.4667637\ttotal: 2m 25s\tremaining: 9.61s\n",
      "938:\tlearn: 0.4667576\ttotal: 2m 25s\tremaining: 9.45s\n",
      "939:\tlearn: 0.4667537\ttotal: 2m 25s\tremaining: 9.3s\n"
     ]
    },
    {
     "name": "stdout",
     "output_type": "stream",
     "text": [
      "940:\tlearn: 0.4667487\ttotal: 2m 25s\tremaining: 9.14s\n",
      "941:\tlearn: 0.4667440\ttotal: 2m 25s\tremaining: 8.99s\n",
      "942:\tlearn: 0.4667410\ttotal: 2m 26s\tremaining: 8.83s\n",
      "943:\tlearn: 0.4667336\ttotal: 2m 26s\tremaining: 8.68s\n",
      "944:\tlearn: 0.4667275\ttotal: 2m 26s\tremaining: 8.52s\n",
      "945:\tlearn: 0.4667194\ttotal: 2m 26s\tremaining: 8.37s\n",
      "946:\tlearn: 0.4667151\ttotal: 2m 26s\tremaining: 8.21s\n",
      "947:\tlearn: 0.4667104\ttotal: 2m 26s\tremaining: 8.06s\n",
      "948:\tlearn: 0.4667063\ttotal: 2m 27s\tremaining: 7.9s\n",
      "949:\tlearn: 0.4667006\ttotal: 2m 27s\tremaining: 7.75s\n",
      "950:\tlearn: 0.4666952\ttotal: 2m 27s\tremaining: 7.6s\n",
      "951:\tlearn: 0.4666884\ttotal: 2m 27s\tremaining: 7.44s\n",
      "952:\tlearn: 0.4666843\ttotal: 2m 27s\tremaining: 7.29s\n",
      "953:\tlearn: 0.4666819\ttotal: 2m 27s\tremaining: 7.13s\n",
      "954:\tlearn: 0.4666775\ttotal: 2m 28s\tremaining: 6.98s\n",
      "955:\tlearn: 0.4666738\ttotal: 2m 28s\tremaining: 6.82s\n",
      "956:\tlearn: 0.4666719\ttotal: 2m 28s\tremaining: 6.67s\n",
      "957:\tlearn: 0.4666670\ttotal: 2m 28s\tremaining: 6.51s\n",
      "958:\tlearn: 0.4666626\ttotal: 2m 28s\tremaining: 6.36s\n",
      "959:\tlearn: 0.4666586\ttotal: 2m 28s\tremaining: 6.2s\n",
      "960:\tlearn: 0.4666533\ttotal: 2m 29s\tremaining: 6.05s\n",
      "961:\tlearn: 0.4666478\ttotal: 2m 29s\tremaining: 5.89s\n",
      "962:\tlearn: 0.4666424\ttotal: 2m 29s\tremaining: 5.74s\n",
      "963:\tlearn: 0.4666384\ttotal: 2m 29s\tremaining: 5.58s\n",
      "964:\tlearn: 0.4666317\ttotal: 2m 29s\tremaining: 5.43s\n",
      "965:\tlearn: 0.4666272\ttotal: 2m 29s\tremaining: 5.27s\n",
      "966:\tlearn: 0.4666230\ttotal: 2m 30s\tremaining: 5.12s\n",
      "967:\tlearn: 0.4666191\ttotal: 2m 30s\tremaining: 4.96s\n",
      "968:\tlearn: 0.4666163\ttotal: 2m 30s\tremaining: 4.81s\n",
      "969:\tlearn: 0.4666122\ttotal: 2m 30s\tremaining: 4.65s\n",
      "970:\tlearn: 0.4666088\ttotal: 2m 30s\tremaining: 4.5s\n",
      "971:\tlearn: 0.4666059\ttotal: 2m 30s\tremaining: 4.34s\n",
      "972:\tlearn: 0.4665980\ttotal: 2m 30s\tremaining: 4.19s\n",
      "973:\tlearn: 0.4665923\ttotal: 2m 31s\tremaining: 4.03s\n",
      "974:\tlearn: 0.4665880\ttotal: 2m 31s\tremaining: 3.88s\n",
      "975:\tlearn: 0.4665814\ttotal: 2m 31s\tremaining: 3.72s\n",
      "976:\tlearn: 0.4665776\ttotal: 2m 31s\tremaining: 3.57s\n",
      "977:\tlearn: 0.4665736\ttotal: 2m 31s\tremaining: 3.41s\n",
      "978:\tlearn: 0.4665701\ttotal: 2m 31s\tremaining: 3.26s\n",
      "979:\tlearn: 0.4665659\ttotal: 2m 32s\tremaining: 3.1s\n",
      "980:\tlearn: 0.4665622\ttotal: 2m 32s\tremaining: 2.95s\n",
      "981:\tlearn: 0.4665575\ttotal: 2m 32s\tremaining: 2.79s\n",
      "982:\tlearn: 0.4665535\ttotal: 2m 32s\tremaining: 2.64s\n",
      "983:\tlearn: 0.4665482\ttotal: 2m 32s\tremaining: 2.48s\n",
      "984:\tlearn: 0.4665448\ttotal: 2m 32s\tremaining: 2.33s\n",
      "985:\tlearn: 0.4665406\ttotal: 2m 32s\tremaining: 2.17s\n",
      "986:\tlearn: 0.4665365\ttotal: 2m 33s\tremaining: 2.02s\n",
      "987:\tlearn: 0.4665319\ttotal: 2m 33s\tremaining: 1.86s\n",
      "988:\tlearn: 0.4665286\ttotal: 2m 33s\tremaining: 1.71s\n",
      "989:\tlearn: 0.4665234\ttotal: 2m 33s\tremaining: 1.55s\n",
      "990:\tlearn: 0.4665208\ttotal: 2m 33s\tremaining: 1.4s\n",
      "991:\tlearn: 0.4665165\ttotal: 2m 33s\tremaining: 1.24s\n",
      "992:\tlearn: 0.4665117\ttotal: 2m 34s\tremaining: 1.09s\n",
      "993:\tlearn: 0.4665052\ttotal: 2m 34s\tremaining: 931ms\n",
      "994:\tlearn: 0.4665014\ttotal: 2m 34s\tremaining: 776ms\n",
      "995:\tlearn: 0.4664973\ttotal: 2m 34s\tremaining: 621ms\n",
      "996:\tlearn: 0.4664945\ttotal: 2m 34s\tremaining: 466ms\n",
      "997:\tlearn: 0.4664894\ttotal: 2m 35s\tremaining: 311ms\n",
      "998:\tlearn: 0.4664866\ttotal: 2m 35s\tremaining: 155ms\n",
      "999:\tlearn: 0.4664836\ttotal: 2m 35s\tremaining: 0us\n"
     ]
    }
   ],
   "source": [
    "# catboostregressor를 수행해준다.\n",
    "cat = CatBoostRegressor(iterations=150)\n",
    "cat.fit(train_data, train['target'])\n",
    "y_pred = cat.predict(test_data)\n",
    "\n",
    "# 예측값을 로그 씌우기 전으로 바꿔준다.\n",
    "y_pred = pd.DataFrame(y_pred, columns = ['y_pred'])\n",
    "y_pred = y_pred['y_pred'].apply(lambda x: np.exp(x) - 1)\n",
    "\n",
    "# submission에 저장하여 제출한다.\n",
    "submission['trip_duration'] = y_pred\n",
    "submission.to_csv(\"submission.csv\", index_label=False, index = False)"
   ]
  },
  {
   "cell_type": "code",
   "execution_count": 77,
   "metadata": {},
   "outputs": [
    {
     "data": {
      "text/html": [
       "<div>\n",
       "<style scoped>\n",
       "    .dataframe tbody tr th:only-of-type {\n",
       "        vertical-align: middle;\n",
       "    }\n",
       "\n",
       "    .dataframe tbody tr th {\n",
       "        vertical-align: top;\n",
       "    }\n",
       "\n",
       "    .dataframe thead th {\n",
       "        text-align: right;\n",
       "    }\n",
       "</style>\n",
       "<table border=\"1\" class=\"dataframe\">\n",
       "  <thead>\n",
       "    <tr style=\"text-align: right;\">\n",
       "      <th></th>\n",
       "      <th>id</th>\n",
       "      <th>trip_duration</th>\n",
       "    </tr>\n",
       "  </thead>\n",
       "  <tbody>\n",
       "    <tr>\n",
       "      <th>0</th>\n",
       "      <td>id3004672</td>\n",
       "      <td>795.119278</td>\n",
       "    </tr>\n",
       "    <tr>\n",
       "      <th>1</th>\n",
       "      <td>id3505355</td>\n",
       "      <td>660.050861</td>\n",
       "    </tr>\n",
       "    <tr>\n",
       "      <th>2</th>\n",
       "      <td>id1217141</td>\n",
       "      <td>534.688209</td>\n",
       "    </tr>\n",
       "    <tr>\n",
       "      <th>3</th>\n",
       "      <td>id2150126</td>\n",
       "      <td>931.133776</td>\n",
       "    </tr>\n",
       "    <tr>\n",
       "      <th>4</th>\n",
       "      <td>id1598245</td>\n",
       "      <td>241.015615</td>\n",
       "    </tr>\n",
       "    <tr>\n",
       "      <th>...</th>\n",
       "      <td>...</td>\n",
       "      <td>...</td>\n",
       "    </tr>\n",
       "    <tr>\n",
       "      <th>625129</th>\n",
       "      <td>id3008929</td>\n",
       "      <td>212.820846</td>\n",
       "    </tr>\n",
       "    <tr>\n",
       "      <th>625130</th>\n",
       "      <td>id3700764</td>\n",
       "      <td>1149.132516</td>\n",
       "    </tr>\n",
       "    <tr>\n",
       "      <th>625131</th>\n",
       "      <td>id2568735</td>\n",
       "      <td>1302.462334</td>\n",
       "    </tr>\n",
       "    <tr>\n",
       "      <th>625132</th>\n",
       "      <td>id1384355</td>\n",
       "      <td>1518.996417</td>\n",
       "    </tr>\n",
       "    <tr>\n",
       "      <th>625133</th>\n",
       "      <td>id0621643</td>\n",
       "      <td>854.562902</td>\n",
       "    </tr>\n",
       "  </tbody>\n",
       "</table>\n",
       "<p>625134 rows × 2 columns</p>\n",
       "</div>"
      ],
      "text/plain": [
       "               id  trip_duration\n",
       "0       id3004672     795.119278\n",
       "1       id3505355     660.050861\n",
       "2       id1217141     534.688209\n",
       "3       id2150126     931.133776\n",
       "4       id1598245     241.015615\n",
       "...           ...            ...\n",
       "625129  id3008929     212.820846\n",
       "625130  id3700764    1149.132516\n",
       "625131  id2568735    1302.462334\n",
       "625132  id1384355    1518.996417\n",
       "625133  id0621643     854.562902\n",
       "\n",
       "[625134 rows x 2 columns]"
      ]
     },
     "execution_count": 77,
     "metadata": {},
     "output_type": "execute_result"
    }
   ],
   "source": [
    "submission"
   ]
  },
  {
   "cell_type": "code",
   "execution_count": 80,
   "metadata": {},
   "outputs": [],
   "source": [
    "# LGBMRegressor를 수행해준다.\n",
    "lgb = LGBMRegressor()\n",
    "lgb.fit(train_data, train['target'])\n",
    "y_pred = cat.predict(test_data)\n",
    "\n",
    "# 예측값을 로그 씌우기 전으로 바꿔준다.\n",
    "y_pred = pd.DataFrame(y_pred, columns = ['y_pred'])\n",
    "y_pred = y_pred['y_pred'].apply(lambda x: np.exp(x) - 1)\n",
    "\n",
    "# submission에 저장하여 제출한다.\n",
    "submission['trip_duration'] = y_pred\n",
    "submission.to_csv(\"submission.csv\", index_label=False, index = False)"
   ]
  },
  {
   "cell_type": "code",
   "execution_count": 81,
   "metadata": {},
   "outputs": [
    {
     "data": {
      "text/html": [
       "<div>\n",
       "<style scoped>\n",
       "    .dataframe tbody tr th:only-of-type {\n",
       "        vertical-align: middle;\n",
       "    }\n",
       "\n",
       "    .dataframe tbody tr th {\n",
       "        vertical-align: top;\n",
       "    }\n",
       "\n",
       "    .dataframe thead th {\n",
       "        text-align: right;\n",
       "    }\n",
       "</style>\n",
       "<table border=\"1\" class=\"dataframe\">\n",
       "  <thead>\n",
       "    <tr style=\"text-align: right;\">\n",
       "      <th></th>\n",
       "      <th>id</th>\n",
       "      <th>trip_duration</th>\n",
       "    </tr>\n",
       "  </thead>\n",
       "  <tbody>\n",
       "    <tr>\n",
       "      <th>0</th>\n",
       "      <td>id3004672</td>\n",
       "      <td>795.119278</td>\n",
       "    </tr>\n",
       "    <tr>\n",
       "      <th>1</th>\n",
       "      <td>id3505355</td>\n",
       "      <td>660.050861</td>\n",
       "    </tr>\n",
       "    <tr>\n",
       "      <th>2</th>\n",
       "      <td>id1217141</td>\n",
       "      <td>534.688209</td>\n",
       "    </tr>\n",
       "    <tr>\n",
       "      <th>3</th>\n",
       "      <td>id2150126</td>\n",
       "      <td>931.133776</td>\n",
       "    </tr>\n",
       "    <tr>\n",
       "      <th>4</th>\n",
       "      <td>id1598245</td>\n",
       "      <td>241.015615</td>\n",
       "    </tr>\n",
       "    <tr>\n",
       "      <th>...</th>\n",
       "      <td>...</td>\n",
       "      <td>...</td>\n",
       "    </tr>\n",
       "    <tr>\n",
       "      <th>625129</th>\n",
       "      <td>id3008929</td>\n",
       "      <td>212.820846</td>\n",
       "    </tr>\n",
       "    <tr>\n",
       "      <th>625130</th>\n",
       "      <td>id3700764</td>\n",
       "      <td>1149.132516</td>\n",
       "    </tr>\n",
       "    <tr>\n",
       "      <th>625131</th>\n",
       "      <td>id2568735</td>\n",
       "      <td>1302.462334</td>\n",
       "    </tr>\n",
       "    <tr>\n",
       "      <th>625132</th>\n",
       "      <td>id1384355</td>\n",
       "      <td>1518.996417</td>\n",
       "    </tr>\n",
       "    <tr>\n",
       "      <th>625133</th>\n",
       "      <td>id0621643</td>\n",
       "      <td>854.562902</td>\n",
       "    </tr>\n",
       "  </tbody>\n",
       "</table>\n",
       "<p>625134 rows × 2 columns</p>\n",
       "</div>"
      ],
      "text/plain": [
       "               id  trip_duration\n",
       "0       id3004672     795.119278\n",
       "1       id3505355     660.050861\n",
       "2       id1217141     534.688209\n",
       "3       id2150126     931.133776\n",
       "4       id1598245     241.015615\n",
       "...           ...            ...\n",
       "625129  id3008929     212.820846\n",
       "625130  id3700764    1149.132516\n",
       "625131  id2568735    1302.462334\n",
       "625132  id1384355    1518.996417\n",
       "625133  id0621643     854.562902\n",
       "\n",
       "[625134 rows x 2 columns]"
      ]
     },
     "execution_count": 81,
     "metadata": {},
     "output_type": "execute_result"
    }
   ],
   "source": [
    "submission"
   ]
  },
  {
   "cell_type": "code",
   "execution_count": 82,
   "metadata": {},
   "outputs": [
    {
     "ename": "KeyboardInterrupt",
     "evalue": "",
     "output_type": "error",
     "traceback": [
      "\u001b[1;31m---------------------------------------------------------------------------\u001b[0m",
      "\u001b[1;31mKeyboardInterrupt\u001b[0m                         Traceback (most recent call last)",
      "\u001b[1;32m<ipython-input-82-7b5b1c38b1bb>\u001b[0m in \u001b[0;36m<module>\u001b[1;34m\u001b[0m\n\u001b[0;32m      1\u001b[0m \u001b[1;31m# RandomForestRegressor를 수행해준다.\u001b[0m\u001b[1;33m\u001b[0m\u001b[1;33m\u001b[0m\u001b[1;33m\u001b[0m\u001b[0m\n\u001b[0;32m      2\u001b[0m \u001b[0mrfg\u001b[0m \u001b[1;33m=\u001b[0m \u001b[0mRandomForestRegressor\u001b[0m\u001b[1;33m(\u001b[0m\u001b[1;33m)\u001b[0m\u001b[1;33m\u001b[0m\u001b[1;33m\u001b[0m\u001b[0m\n\u001b[1;32m----> 3\u001b[1;33m \u001b[0mrfg\u001b[0m\u001b[1;33m.\u001b[0m\u001b[0mfit\u001b[0m\u001b[1;33m(\u001b[0m\u001b[0mtrain_data\u001b[0m\u001b[1;33m,\u001b[0m \u001b[0mtrain\u001b[0m\u001b[1;33m[\u001b[0m\u001b[1;34m'target'\u001b[0m\u001b[1;33m]\u001b[0m\u001b[1;33m)\u001b[0m\u001b[1;33m\u001b[0m\u001b[1;33m\u001b[0m\u001b[0m\n\u001b[0m\u001b[0;32m      4\u001b[0m \u001b[0my_pred\u001b[0m \u001b[1;33m=\u001b[0m \u001b[0mcat\u001b[0m\u001b[1;33m.\u001b[0m\u001b[0mpredict\u001b[0m\u001b[1;33m(\u001b[0m\u001b[0mtest_data\u001b[0m\u001b[1;33m)\u001b[0m\u001b[1;33m\u001b[0m\u001b[1;33m\u001b[0m\u001b[0m\n\u001b[0;32m      5\u001b[0m \u001b[1;33m\u001b[0m\u001b[0m\n",
      "\u001b[1;32m~\\anaconda3\\lib\\site-packages\\sklearn\\ensemble\\_forest.py\u001b[0m in \u001b[0;36mfit\u001b[1;34m(self, X, y, sample_weight)\u001b[0m\n\u001b[0;32m    384\u001b[0m             \u001b[1;31m# parallel_backend contexts set at a higher level,\u001b[0m\u001b[1;33m\u001b[0m\u001b[1;33m\u001b[0m\u001b[1;33m\u001b[0m\u001b[0m\n\u001b[0;32m    385\u001b[0m             \u001b[1;31m# since correctness does not rely on using threads.\u001b[0m\u001b[1;33m\u001b[0m\u001b[1;33m\u001b[0m\u001b[1;33m\u001b[0m\u001b[0m\n\u001b[1;32m--> 386\u001b[1;33m             trees = Parallel(n_jobs=self.n_jobs, verbose=self.verbose,\n\u001b[0m\u001b[0;32m    387\u001b[0m                              \u001b[1;33m**\u001b[0m\u001b[0m_joblib_parallel_args\u001b[0m\u001b[1;33m(\u001b[0m\u001b[0mprefer\u001b[0m\u001b[1;33m=\u001b[0m\u001b[1;34m'threads'\u001b[0m\u001b[1;33m)\u001b[0m\u001b[1;33m)\u001b[0m\u001b[1;33m(\u001b[0m\u001b[1;33m\u001b[0m\u001b[1;33m\u001b[0m\u001b[0m\n\u001b[0;32m    388\u001b[0m                 delayed(_parallel_build_trees)(\n",
      "\u001b[1;32m~\\anaconda3\\lib\\site-packages\\joblib\\parallel.py\u001b[0m in \u001b[0;36m__call__\u001b[1;34m(self, iterable)\u001b[0m\n\u001b[0;32m   1042\u001b[0m                 \u001b[0mself\u001b[0m\u001b[1;33m.\u001b[0m\u001b[0m_iterating\u001b[0m \u001b[1;33m=\u001b[0m \u001b[0mself\u001b[0m\u001b[1;33m.\u001b[0m\u001b[0m_original_iterator\u001b[0m \u001b[1;32mis\u001b[0m \u001b[1;32mnot\u001b[0m \u001b[1;32mNone\u001b[0m\u001b[1;33m\u001b[0m\u001b[1;33m\u001b[0m\u001b[0m\n\u001b[0;32m   1043\u001b[0m \u001b[1;33m\u001b[0m\u001b[0m\n\u001b[1;32m-> 1044\u001b[1;33m             \u001b[1;32mwhile\u001b[0m \u001b[0mself\u001b[0m\u001b[1;33m.\u001b[0m\u001b[0mdispatch_one_batch\u001b[0m\u001b[1;33m(\u001b[0m\u001b[0miterator\u001b[0m\u001b[1;33m)\u001b[0m\u001b[1;33m:\u001b[0m\u001b[1;33m\u001b[0m\u001b[1;33m\u001b[0m\u001b[0m\n\u001b[0m\u001b[0;32m   1045\u001b[0m                 \u001b[1;32mpass\u001b[0m\u001b[1;33m\u001b[0m\u001b[1;33m\u001b[0m\u001b[0m\n\u001b[0;32m   1046\u001b[0m \u001b[1;33m\u001b[0m\u001b[0m\n",
      "\u001b[1;32m~\\anaconda3\\lib\\site-packages\\joblib\\parallel.py\u001b[0m in \u001b[0;36mdispatch_one_batch\u001b[1;34m(self, iterator)\u001b[0m\n\u001b[0;32m    857\u001b[0m                 \u001b[1;32mreturn\u001b[0m \u001b[1;32mFalse\u001b[0m\u001b[1;33m\u001b[0m\u001b[1;33m\u001b[0m\u001b[0m\n\u001b[0;32m    858\u001b[0m             \u001b[1;32melse\u001b[0m\u001b[1;33m:\u001b[0m\u001b[1;33m\u001b[0m\u001b[1;33m\u001b[0m\u001b[0m\n\u001b[1;32m--> 859\u001b[1;33m                 \u001b[0mself\u001b[0m\u001b[1;33m.\u001b[0m\u001b[0m_dispatch\u001b[0m\u001b[1;33m(\u001b[0m\u001b[0mtasks\u001b[0m\u001b[1;33m)\u001b[0m\u001b[1;33m\u001b[0m\u001b[1;33m\u001b[0m\u001b[0m\n\u001b[0m\u001b[0;32m    860\u001b[0m                 \u001b[1;32mreturn\u001b[0m \u001b[1;32mTrue\u001b[0m\u001b[1;33m\u001b[0m\u001b[1;33m\u001b[0m\u001b[0m\n\u001b[0;32m    861\u001b[0m \u001b[1;33m\u001b[0m\u001b[0m\n",
      "\u001b[1;32m~\\anaconda3\\lib\\site-packages\\joblib\\parallel.py\u001b[0m in \u001b[0;36m_dispatch\u001b[1;34m(self, batch)\u001b[0m\n\u001b[0;32m    775\u001b[0m         \u001b[1;32mwith\u001b[0m \u001b[0mself\u001b[0m\u001b[1;33m.\u001b[0m\u001b[0m_lock\u001b[0m\u001b[1;33m:\u001b[0m\u001b[1;33m\u001b[0m\u001b[1;33m\u001b[0m\u001b[0m\n\u001b[0;32m    776\u001b[0m             \u001b[0mjob_idx\u001b[0m \u001b[1;33m=\u001b[0m \u001b[0mlen\u001b[0m\u001b[1;33m(\u001b[0m\u001b[0mself\u001b[0m\u001b[1;33m.\u001b[0m\u001b[0m_jobs\u001b[0m\u001b[1;33m)\u001b[0m\u001b[1;33m\u001b[0m\u001b[1;33m\u001b[0m\u001b[0m\n\u001b[1;32m--> 777\u001b[1;33m             \u001b[0mjob\u001b[0m \u001b[1;33m=\u001b[0m \u001b[0mself\u001b[0m\u001b[1;33m.\u001b[0m\u001b[0m_backend\u001b[0m\u001b[1;33m.\u001b[0m\u001b[0mapply_async\u001b[0m\u001b[1;33m(\u001b[0m\u001b[0mbatch\u001b[0m\u001b[1;33m,\u001b[0m \u001b[0mcallback\u001b[0m\u001b[1;33m=\u001b[0m\u001b[0mcb\u001b[0m\u001b[1;33m)\u001b[0m\u001b[1;33m\u001b[0m\u001b[1;33m\u001b[0m\u001b[0m\n\u001b[0m\u001b[0;32m    778\u001b[0m             \u001b[1;31m# A job can complete so quickly than its callback is\u001b[0m\u001b[1;33m\u001b[0m\u001b[1;33m\u001b[0m\u001b[1;33m\u001b[0m\u001b[0m\n\u001b[0;32m    779\u001b[0m             \u001b[1;31m# called before we get here, causing self._jobs to\u001b[0m\u001b[1;33m\u001b[0m\u001b[1;33m\u001b[0m\u001b[1;33m\u001b[0m\u001b[0m\n",
      "\u001b[1;32m~\\anaconda3\\lib\\site-packages\\joblib\\_parallel_backends.py\u001b[0m in \u001b[0;36mapply_async\u001b[1;34m(self, func, callback)\u001b[0m\n\u001b[0;32m    206\u001b[0m     \u001b[1;32mdef\u001b[0m \u001b[0mapply_async\u001b[0m\u001b[1;33m(\u001b[0m\u001b[0mself\u001b[0m\u001b[1;33m,\u001b[0m \u001b[0mfunc\u001b[0m\u001b[1;33m,\u001b[0m \u001b[0mcallback\u001b[0m\u001b[1;33m=\u001b[0m\u001b[1;32mNone\u001b[0m\u001b[1;33m)\u001b[0m\u001b[1;33m:\u001b[0m\u001b[1;33m\u001b[0m\u001b[1;33m\u001b[0m\u001b[0m\n\u001b[0;32m    207\u001b[0m         \u001b[1;34m\"\"\"Schedule a func to be run\"\"\"\u001b[0m\u001b[1;33m\u001b[0m\u001b[1;33m\u001b[0m\u001b[0m\n\u001b[1;32m--> 208\u001b[1;33m         \u001b[0mresult\u001b[0m \u001b[1;33m=\u001b[0m \u001b[0mImmediateResult\u001b[0m\u001b[1;33m(\u001b[0m\u001b[0mfunc\u001b[0m\u001b[1;33m)\u001b[0m\u001b[1;33m\u001b[0m\u001b[1;33m\u001b[0m\u001b[0m\n\u001b[0m\u001b[0;32m    209\u001b[0m         \u001b[1;32mif\u001b[0m \u001b[0mcallback\u001b[0m\u001b[1;33m:\u001b[0m\u001b[1;33m\u001b[0m\u001b[1;33m\u001b[0m\u001b[0m\n\u001b[0;32m    210\u001b[0m             \u001b[0mcallback\u001b[0m\u001b[1;33m(\u001b[0m\u001b[0mresult\u001b[0m\u001b[1;33m)\u001b[0m\u001b[1;33m\u001b[0m\u001b[1;33m\u001b[0m\u001b[0m\n",
      "\u001b[1;32m~\\anaconda3\\lib\\site-packages\\joblib\\_parallel_backends.py\u001b[0m in \u001b[0;36m__init__\u001b[1;34m(self, batch)\u001b[0m\n\u001b[0;32m    570\u001b[0m         \u001b[1;31m# Don't delay the application, to avoid keeping the input\u001b[0m\u001b[1;33m\u001b[0m\u001b[1;33m\u001b[0m\u001b[1;33m\u001b[0m\u001b[0m\n\u001b[0;32m    571\u001b[0m         \u001b[1;31m# arguments in memory\u001b[0m\u001b[1;33m\u001b[0m\u001b[1;33m\u001b[0m\u001b[1;33m\u001b[0m\u001b[0m\n\u001b[1;32m--> 572\u001b[1;33m         \u001b[0mself\u001b[0m\u001b[1;33m.\u001b[0m\u001b[0mresults\u001b[0m \u001b[1;33m=\u001b[0m \u001b[0mbatch\u001b[0m\u001b[1;33m(\u001b[0m\u001b[1;33m)\u001b[0m\u001b[1;33m\u001b[0m\u001b[1;33m\u001b[0m\u001b[0m\n\u001b[0m\u001b[0;32m    573\u001b[0m \u001b[1;33m\u001b[0m\u001b[0m\n\u001b[0;32m    574\u001b[0m     \u001b[1;32mdef\u001b[0m \u001b[0mget\u001b[0m\u001b[1;33m(\u001b[0m\u001b[0mself\u001b[0m\u001b[1;33m)\u001b[0m\u001b[1;33m:\u001b[0m\u001b[1;33m\u001b[0m\u001b[1;33m\u001b[0m\u001b[0m\n",
      "\u001b[1;32m~\\anaconda3\\lib\\site-packages\\joblib\\parallel.py\u001b[0m in \u001b[0;36m__call__\u001b[1;34m(self)\u001b[0m\n\u001b[0;32m    260\u001b[0m         \u001b[1;31m# change the default number of processes to -1\u001b[0m\u001b[1;33m\u001b[0m\u001b[1;33m\u001b[0m\u001b[1;33m\u001b[0m\u001b[0m\n\u001b[0;32m    261\u001b[0m         \u001b[1;32mwith\u001b[0m \u001b[0mparallel_backend\u001b[0m\u001b[1;33m(\u001b[0m\u001b[0mself\u001b[0m\u001b[1;33m.\u001b[0m\u001b[0m_backend\u001b[0m\u001b[1;33m,\u001b[0m \u001b[0mn_jobs\u001b[0m\u001b[1;33m=\u001b[0m\u001b[0mself\u001b[0m\u001b[1;33m.\u001b[0m\u001b[0m_n_jobs\u001b[0m\u001b[1;33m)\u001b[0m\u001b[1;33m:\u001b[0m\u001b[1;33m\u001b[0m\u001b[1;33m\u001b[0m\u001b[0m\n\u001b[1;32m--> 262\u001b[1;33m             return [func(*args, **kwargs)\n\u001b[0m\u001b[0;32m    263\u001b[0m                     for func, args, kwargs in self.items]\n\u001b[0;32m    264\u001b[0m \u001b[1;33m\u001b[0m\u001b[0m\n",
      "\u001b[1;32m~\\anaconda3\\lib\\site-packages\\joblib\\parallel.py\u001b[0m in \u001b[0;36m<listcomp>\u001b[1;34m(.0)\u001b[0m\n\u001b[0;32m    260\u001b[0m         \u001b[1;31m# change the default number of processes to -1\u001b[0m\u001b[1;33m\u001b[0m\u001b[1;33m\u001b[0m\u001b[1;33m\u001b[0m\u001b[0m\n\u001b[0;32m    261\u001b[0m         \u001b[1;32mwith\u001b[0m \u001b[0mparallel_backend\u001b[0m\u001b[1;33m(\u001b[0m\u001b[0mself\u001b[0m\u001b[1;33m.\u001b[0m\u001b[0m_backend\u001b[0m\u001b[1;33m,\u001b[0m \u001b[0mn_jobs\u001b[0m\u001b[1;33m=\u001b[0m\u001b[0mself\u001b[0m\u001b[1;33m.\u001b[0m\u001b[0m_n_jobs\u001b[0m\u001b[1;33m)\u001b[0m\u001b[1;33m:\u001b[0m\u001b[1;33m\u001b[0m\u001b[1;33m\u001b[0m\u001b[0m\n\u001b[1;32m--> 262\u001b[1;33m             return [func(*args, **kwargs)\n\u001b[0m\u001b[0;32m    263\u001b[0m                     for func, args, kwargs in self.items]\n\u001b[0;32m    264\u001b[0m \u001b[1;33m\u001b[0m\u001b[0m\n",
      "\u001b[1;32m~\\anaconda3\\lib\\site-packages\\sklearn\\ensemble\\_forest.py\u001b[0m in \u001b[0;36m_parallel_build_trees\u001b[1;34m(tree, forest, X, y, sample_weight, tree_idx, n_trees, verbose, class_weight, n_samples_bootstrap)\u001b[0m\n\u001b[0;32m    166\u001b[0m                                                         indices=indices)\n\u001b[0;32m    167\u001b[0m \u001b[1;33m\u001b[0m\u001b[0m\n\u001b[1;32m--> 168\u001b[1;33m         \u001b[0mtree\u001b[0m\u001b[1;33m.\u001b[0m\u001b[0mfit\u001b[0m\u001b[1;33m(\u001b[0m\u001b[0mX\u001b[0m\u001b[1;33m,\u001b[0m \u001b[0my\u001b[0m\u001b[1;33m,\u001b[0m \u001b[0msample_weight\u001b[0m\u001b[1;33m=\u001b[0m\u001b[0mcurr_sample_weight\u001b[0m\u001b[1;33m,\u001b[0m \u001b[0mcheck_input\u001b[0m\u001b[1;33m=\u001b[0m\u001b[1;32mFalse\u001b[0m\u001b[1;33m)\u001b[0m\u001b[1;33m\u001b[0m\u001b[1;33m\u001b[0m\u001b[0m\n\u001b[0m\u001b[0;32m    169\u001b[0m     \u001b[1;32melse\u001b[0m\u001b[1;33m:\u001b[0m\u001b[1;33m\u001b[0m\u001b[1;33m\u001b[0m\u001b[0m\n\u001b[0;32m    170\u001b[0m         \u001b[0mtree\u001b[0m\u001b[1;33m.\u001b[0m\u001b[0mfit\u001b[0m\u001b[1;33m(\u001b[0m\u001b[0mX\u001b[0m\u001b[1;33m,\u001b[0m \u001b[0my\u001b[0m\u001b[1;33m,\u001b[0m \u001b[0msample_weight\u001b[0m\u001b[1;33m=\u001b[0m\u001b[0msample_weight\u001b[0m\u001b[1;33m,\u001b[0m \u001b[0mcheck_input\u001b[0m\u001b[1;33m=\u001b[0m\u001b[1;32mFalse\u001b[0m\u001b[1;33m)\u001b[0m\u001b[1;33m\u001b[0m\u001b[1;33m\u001b[0m\u001b[0m\n",
      "\u001b[1;32m~\\anaconda3\\lib\\site-packages\\sklearn\\tree\\_classes.py\u001b[0m in \u001b[0;36mfit\u001b[1;34m(self, X, y, sample_weight, check_input, X_idx_sorted)\u001b[0m\n\u001b[0;32m   1240\u001b[0m         \"\"\"\n\u001b[0;32m   1241\u001b[0m \u001b[1;33m\u001b[0m\u001b[0m\n\u001b[1;32m-> 1242\u001b[1;33m         super().fit(\n\u001b[0m\u001b[0;32m   1243\u001b[0m             \u001b[0mX\u001b[0m\u001b[1;33m,\u001b[0m \u001b[0my\u001b[0m\u001b[1;33m,\u001b[0m\u001b[1;33m\u001b[0m\u001b[1;33m\u001b[0m\u001b[0m\n\u001b[0;32m   1244\u001b[0m             \u001b[0msample_weight\u001b[0m\u001b[1;33m=\u001b[0m\u001b[0msample_weight\u001b[0m\u001b[1;33m,\u001b[0m\u001b[1;33m\u001b[0m\u001b[1;33m\u001b[0m\u001b[0m\n",
      "\u001b[1;32m~\\anaconda3\\lib\\site-packages\\sklearn\\tree\\_classes.py\u001b[0m in \u001b[0;36mfit\u001b[1;34m(self, X, y, sample_weight, check_input, X_idx_sorted)\u001b[0m\n\u001b[0;32m    373\u001b[0m                                            min_impurity_split)\n\u001b[0;32m    374\u001b[0m \u001b[1;33m\u001b[0m\u001b[0m\n\u001b[1;32m--> 375\u001b[1;33m         \u001b[0mbuilder\u001b[0m\u001b[1;33m.\u001b[0m\u001b[0mbuild\u001b[0m\u001b[1;33m(\u001b[0m\u001b[0mself\u001b[0m\u001b[1;33m.\u001b[0m\u001b[0mtree_\u001b[0m\u001b[1;33m,\u001b[0m \u001b[0mX\u001b[0m\u001b[1;33m,\u001b[0m \u001b[0my\u001b[0m\u001b[1;33m,\u001b[0m \u001b[0msample_weight\u001b[0m\u001b[1;33m,\u001b[0m \u001b[0mX_idx_sorted\u001b[0m\u001b[1;33m)\u001b[0m\u001b[1;33m\u001b[0m\u001b[1;33m\u001b[0m\u001b[0m\n\u001b[0m\u001b[0;32m    376\u001b[0m \u001b[1;33m\u001b[0m\u001b[0m\n\u001b[0;32m    377\u001b[0m         \u001b[1;32mif\u001b[0m \u001b[0mself\u001b[0m\u001b[1;33m.\u001b[0m\u001b[0mn_outputs_\u001b[0m \u001b[1;33m==\u001b[0m \u001b[1;36m1\u001b[0m \u001b[1;32mand\u001b[0m \u001b[0mis_classifier\u001b[0m\u001b[1;33m(\u001b[0m\u001b[0mself\u001b[0m\u001b[1;33m)\u001b[0m\u001b[1;33m:\u001b[0m\u001b[1;33m\u001b[0m\u001b[1;33m\u001b[0m\u001b[0m\n",
      "\u001b[1;31mKeyboardInterrupt\u001b[0m: "
     ]
    }
   ],
   "source": [
    "# RandomForestRegressor를 수행해준다.\n",
    "rfg = RandomForestRegressor(n_estimators=25, min_samples_leaf=25, min_samples_split=25)\n",
    "rfg.fit(train_data, train['target'])\n",
    "y_pred = cat.predict(test_data)\n",
    "\n",
    "# 예측값을 로그 씌우기 전으로 바꿔준다.\n",
    "y_pred = pd.DataFrame(y_pred, columns = ['y_pred'])\n",
    "y_pred = y_pred['y_pred'].apply(lambda x: np.exp(x) - 1)\n",
    "\n",
    "# submission에 저장하여 제출한다.\n",
    "submission['trip_duration'] = y_pred\n",
    "submission.to_csv(\"submission.csv\", index_label=False, index = False)"
   ]
  },
  {
   "cell_type": "code",
   "execution_count": null,
   "metadata": {},
   "outputs": [],
   "source": [
    "submission"
   ]
  },
  {
   "cell_type": "code",
   "execution_count": null,
   "metadata": {},
   "outputs": [],
   "source": []
  }
 ],
 "metadata": {
  "accelerator": "GPU",
  "colab": {
   "collapsed_sections": [],
   "name": "EDA.ipynb",
   "provenance": []
  },
  "kernelspec": {
   "display_name": "Python 3",
   "language": "python",
   "name": "python3"
  },
  "language_info": {
   "codemirror_mode": {
    "name": "ipython",
    "version": 3
   },
   "file_extension": ".py",
   "mimetype": "text/x-python",
   "name": "python",
   "nbconvert_exporter": "python",
   "pygments_lexer": "ipython3",
   "version": "3.8.5"
  }
 },
 "nbformat": 4,
 "nbformat_minor": 1
}
