{
 "cells": [
  {
   "cell_type": "code",
   "execution_count": 1,
   "metadata": {},
   "outputs": [],
   "source": [
    "import numpy as np\n",
    "import pandas as pd\n",
    "import matplotlib.pyplot as plt\n",
    "import seaborn as sns\n",
    "import datetime as dt"
   ]
  },
  {
   "cell_type": "code",
   "execution_count": 2,
   "metadata": {},
   "outputs": [],
   "source": [
    "train=pd.read_csv('train.csv')\n",
    "test = pd.read_csv('test.csv')\n",
    "submission = pd.read_csv('sample_submission.csv')"
   ]
  },
  {
   "cell_type": "code",
   "execution_count": 3,
   "metadata": {},
   "outputs": [
    {
     "name": "stdout",
     "output_type": "stream",
     "text": [
      "train shape : (1458644, 11)\n",
      "test shape : (625134, 9)\n"
     ]
    }
   ],
   "source": [
    "print('train shape :', train.shape)\n",
    "print('test shape :',test.shape)"
   ]
  },
  {
   "cell_type": "markdown",
   "metadata": {},
   "source": [
    "- ID - 각 여행에 대한 고유 식별자\n",
    "- vendor_id - 여행 기록과 관련된 공급자를 나타내는 코드\n",
    "- pickup_datetime - 미터가 종사한 날짜 및 시간\n",
    "- dropoff_datetime - 미터가 분리된 날짜 및 시간\n",
    "- passenger_count - 차량의 승객 수 (운전자가 값을 입력)\n",
    "- pickup_longitude - 미터가 종사하는 경도\n",
    "- pickup_latitude - 미터가 종사하는 위도\n",
    "- dropoff_longitude - 미터가 분리 된 경도\n",
    "- dropoff_latitude - 미터가 분리 된 위도\n",
    "- store_and_fwd_flag - 이 플래그는 차량이 서버에 연결되지 않았기 때문에 공급 업체에 보내기 전에 여행 기록이 차량 메모리에 보관되었는지 여부를 나타냅니다.-Y = 저장 및 전달; N = 저장 및 전진 여행 아님\n",
    "- trip_duration - 초 여행의 기간"
   ]
  },
  {
   "cell_type": "code",
   "execution_count": 4,
   "metadata": {},
   "outputs": [
    {
     "data": {
      "text/html": [
       "<div>\n",
       "<style scoped>\n",
       "    .dataframe tbody tr th:only-of-type {\n",
       "        vertical-align: middle;\n",
       "    }\n",
       "\n",
       "    .dataframe tbody tr th {\n",
       "        vertical-align: top;\n",
       "    }\n",
       "\n",
       "    .dataframe thead th {\n",
       "        text-align: right;\n",
       "    }\n",
       "</style>\n",
       "<table border=\"1\" class=\"dataframe\">\n",
       "  <thead>\n",
       "    <tr style=\"text-align: right;\">\n",
       "      <th></th>\n",
       "      <th>id</th>\n",
       "      <th>vendor_id</th>\n",
       "      <th>pickup_datetime</th>\n",
       "      <th>dropoff_datetime</th>\n",
       "      <th>passenger_count</th>\n",
       "      <th>pickup_longitude</th>\n",
       "      <th>pickup_latitude</th>\n",
       "      <th>dropoff_longitude</th>\n",
       "      <th>dropoff_latitude</th>\n",
       "      <th>store_and_fwd_flag</th>\n",
       "      <th>trip_duration</th>\n",
       "    </tr>\n",
       "  </thead>\n",
       "  <tbody>\n",
       "    <tr>\n",
       "      <th>0</th>\n",
       "      <td>id2875421</td>\n",
       "      <td>2</td>\n",
       "      <td>2016-03-14 17:24:55</td>\n",
       "      <td>2016-03-14 17:32:30</td>\n",
       "      <td>1</td>\n",
       "      <td>-73.982155</td>\n",
       "      <td>40.767937</td>\n",
       "      <td>-73.964630</td>\n",
       "      <td>40.765602</td>\n",
       "      <td>N</td>\n",
       "      <td>455</td>\n",
       "    </tr>\n",
       "    <tr>\n",
       "      <th>1</th>\n",
       "      <td>id2377394</td>\n",
       "      <td>1</td>\n",
       "      <td>2016-06-12 00:43:35</td>\n",
       "      <td>2016-06-12 00:54:38</td>\n",
       "      <td>1</td>\n",
       "      <td>-73.980415</td>\n",
       "      <td>40.738564</td>\n",
       "      <td>-73.999481</td>\n",
       "      <td>40.731152</td>\n",
       "      <td>N</td>\n",
       "      <td>663</td>\n",
       "    </tr>\n",
       "    <tr>\n",
       "      <th>2</th>\n",
       "      <td>id3858529</td>\n",
       "      <td>2</td>\n",
       "      <td>2016-01-19 11:35:24</td>\n",
       "      <td>2016-01-19 12:10:48</td>\n",
       "      <td>1</td>\n",
       "      <td>-73.979027</td>\n",
       "      <td>40.763939</td>\n",
       "      <td>-74.005333</td>\n",
       "      <td>40.710087</td>\n",
       "      <td>N</td>\n",
       "      <td>2124</td>\n",
       "    </tr>\n",
       "    <tr>\n",
       "      <th>3</th>\n",
       "      <td>id3504673</td>\n",
       "      <td>2</td>\n",
       "      <td>2016-04-06 19:32:31</td>\n",
       "      <td>2016-04-06 19:39:40</td>\n",
       "      <td>1</td>\n",
       "      <td>-74.010040</td>\n",
       "      <td>40.719971</td>\n",
       "      <td>-74.012268</td>\n",
       "      <td>40.706718</td>\n",
       "      <td>N</td>\n",
       "      <td>429</td>\n",
       "    </tr>\n",
       "    <tr>\n",
       "      <th>4</th>\n",
       "      <td>id2181028</td>\n",
       "      <td>2</td>\n",
       "      <td>2016-03-26 13:30:55</td>\n",
       "      <td>2016-03-26 13:38:10</td>\n",
       "      <td>1</td>\n",
       "      <td>-73.973053</td>\n",
       "      <td>40.793209</td>\n",
       "      <td>-73.972923</td>\n",
       "      <td>40.782520</td>\n",
       "      <td>N</td>\n",
       "      <td>435</td>\n",
       "    </tr>\n",
       "  </tbody>\n",
       "</table>\n",
       "</div>"
      ],
      "text/plain": [
       "          id  vendor_id      pickup_datetime     dropoff_datetime  \\\n",
       "0  id2875421          2  2016-03-14 17:24:55  2016-03-14 17:32:30   \n",
       "1  id2377394          1  2016-06-12 00:43:35  2016-06-12 00:54:38   \n",
       "2  id3858529          2  2016-01-19 11:35:24  2016-01-19 12:10:48   \n",
       "3  id3504673          2  2016-04-06 19:32:31  2016-04-06 19:39:40   \n",
       "4  id2181028          2  2016-03-26 13:30:55  2016-03-26 13:38:10   \n",
       "\n",
       "   passenger_count  pickup_longitude  pickup_latitude  dropoff_longitude  \\\n",
       "0                1        -73.982155        40.767937         -73.964630   \n",
       "1                1        -73.980415        40.738564         -73.999481   \n",
       "2                1        -73.979027        40.763939         -74.005333   \n",
       "3                1        -74.010040        40.719971         -74.012268   \n",
       "4                1        -73.973053        40.793209         -73.972923   \n",
       "\n",
       "   dropoff_latitude store_and_fwd_flag  trip_duration  \n",
       "0         40.765602                  N            455  \n",
       "1         40.731152                  N            663  \n",
       "2         40.710087                  N           2124  \n",
       "3         40.706718                  N            429  \n",
       "4         40.782520                  N            435  "
      ]
     },
     "execution_count": 4,
     "metadata": {},
     "output_type": "execute_result"
    }
   ],
   "source": [
    "train.head()"
   ]
  },
  {
   "cell_type": "code",
   "execution_count": 5,
   "metadata": {
    "scrolled": false
   },
   "outputs": [
    {
     "name": "stdout",
     "output_type": "stream",
     "text": [
      "########### train ##################\n",
      "<class 'pandas.core.frame.DataFrame'>\n",
      "RangeIndex: 1458644 entries, 0 to 1458643\n",
      "Data columns (total 11 columns):\n",
      " #   Column              Non-Null Count    Dtype  \n",
      "---  ------              --------------    -----  \n",
      " 0   id                  1458644 non-null  object \n",
      " 1   vendor_id           1458644 non-null  int64  \n",
      " 2   pickup_datetime     1458644 non-null  object \n",
      " 3   dropoff_datetime    1458644 non-null  object \n",
      " 4   passenger_count     1458644 non-null  int64  \n",
      " 5   pickup_longitude    1458644 non-null  float64\n",
      " 6   pickup_latitude     1458644 non-null  float64\n",
      " 7   dropoff_longitude   1458644 non-null  float64\n",
      " 8   dropoff_latitude    1458644 non-null  float64\n",
      " 9   store_and_fwd_flag  1458644 non-null  object \n",
      " 10  trip_duration       1458644 non-null  int64  \n",
      "dtypes: float64(4), int64(3), object(4)\n",
      "memory usage: 122.4+ MB\n",
      "None\n",
      "########### test ##################\n",
      "<class 'pandas.core.frame.DataFrame'>\n",
      "RangeIndex: 625134 entries, 0 to 625133\n",
      "Data columns (total 9 columns):\n",
      " #   Column              Non-Null Count   Dtype  \n",
      "---  ------              --------------   -----  \n",
      " 0   id                  625134 non-null  object \n",
      " 1   vendor_id           625134 non-null  int64  \n",
      " 2   pickup_datetime     625134 non-null  object \n",
      " 3   passenger_count     625134 non-null  int64  \n",
      " 4   pickup_longitude    625134 non-null  float64\n",
      " 5   pickup_latitude     625134 non-null  float64\n",
      " 6   dropoff_longitude   625134 non-null  float64\n",
      " 7   dropoff_latitude    625134 non-null  float64\n",
      " 8   store_and_fwd_flag  625134 non-null  object \n",
      "dtypes: float64(4), int64(2), object(3)\n",
      "memory usage: 42.9+ MB\n",
      "None\n"
     ]
    }
   ],
   "source": [
    "print('########### train ##################')\n",
    "print(train.info())\n",
    "\n",
    "print('########### test ##################')\n",
    "print(test.info())"
   ]
  },
  {
   "cell_type": "code",
   "execution_count": 6,
   "metadata": {},
   "outputs": [
    {
     "name": "stdout",
     "output_type": "stream",
     "text": [
      "############# train 결측치 ##############\n",
      "id                    0\n",
      "vendor_id             0\n",
      "pickup_datetime       0\n",
      "dropoff_datetime      0\n",
      "passenger_count       0\n",
      "pickup_longitude      0\n",
      "pickup_latitude       0\n",
      "dropoff_longitude     0\n",
      "dropoff_latitude      0\n",
      "store_and_fwd_flag    0\n",
      "trip_duration         0\n",
      "dtype: int64\n",
      "############# test 결측치 ##############\n",
      "id                    0\n",
      "vendor_id             0\n",
      "pickup_datetime       0\n",
      "passenger_count       0\n",
      "pickup_longitude      0\n",
      "pickup_latitude       0\n",
      "dropoff_longitude     0\n",
      "dropoff_latitude      0\n",
      "store_and_fwd_flag    0\n",
      "dtype: int64\n"
     ]
    }
   ],
   "source": [
    "print('############# train 결측치 ##############')\n",
    "print(train.isnull().sum())\n",
    "\n",
    "print('############# test 결측치 ##############')\n",
    "print(test.isnull().sum())"
   ]
  },
  {
   "cell_type": "markdown",
   "metadata": {},
   "source": [
    "- 결측치는 모든 데이터에 없다."
   ]
  },
  {
   "cell_type": "code",
   "execution_count": 7,
   "metadata": {},
   "outputs": [
    {
     "name": "stdout",
     "output_type": "stream",
     "text": [
      "####################### train ##################\n"
     ]
    },
    {
     "data": {
      "text/html": [
       "<div>\n",
       "<style scoped>\n",
       "    .dataframe tbody tr th:only-of-type {\n",
       "        vertical-align: middle;\n",
       "    }\n",
       "\n",
       "    .dataframe tbody tr th {\n",
       "        vertical-align: top;\n",
       "    }\n",
       "\n",
       "    .dataframe thead th {\n",
       "        text-align: right;\n",
       "    }\n",
       "</style>\n",
       "<table border=\"1\" class=\"dataframe\">\n",
       "  <thead>\n",
       "    <tr style=\"text-align: right;\">\n",
       "      <th></th>\n",
       "      <th>vendor_id</th>\n",
       "      <th>passenger_count</th>\n",
       "      <th>pickup_longitude</th>\n",
       "      <th>pickup_latitude</th>\n",
       "      <th>dropoff_longitude</th>\n",
       "      <th>dropoff_latitude</th>\n",
       "      <th>trip_duration</th>\n",
       "    </tr>\n",
       "  </thead>\n",
       "  <tbody>\n",
       "    <tr>\n",
       "      <th>count</th>\n",
       "      <td>1.458644e+06</td>\n",
       "      <td>1.458644e+06</td>\n",
       "      <td>1.458644e+06</td>\n",
       "      <td>1.458644e+06</td>\n",
       "      <td>1.458644e+06</td>\n",
       "      <td>1.458644e+06</td>\n",
       "      <td>1.458644e+06</td>\n",
       "    </tr>\n",
       "    <tr>\n",
       "      <th>mean</th>\n",
       "      <td>1.534950e+00</td>\n",
       "      <td>1.664530e+00</td>\n",
       "      <td>-7.397349e+01</td>\n",
       "      <td>4.075092e+01</td>\n",
       "      <td>-7.397342e+01</td>\n",
       "      <td>4.075180e+01</td>\n",
       "      <td>9.594923e+02</td>\n",
       "    </tr>\n",
       "    <tr>\n",
       "      <th>std</th>\n",
       "      <td>4.987772e-01</td>\n",
       "      <td>1.314242e+00</td>\n",
       "      <td>7.090186e-02</td>\n",
       "      <td>3.288119e-02</td>\n",
       "      <td>7.064327e-02</td>\n",
       "      <td>3.589056e-02</td>\n",
       "      <td>5.237432e+03</td>\n",
       "    </tr>\n",
       "    <tr>\n",
       "      <th>min</th>\n",
       "      <td>1.000000e+00</td>\n",
       "      <td>0.000000e+00</td>\n",
       "      <td>-1.219333e+02</td>\n",
       "      <td>3.435970e+01</td>\n",
       "      <td>-1.219333e+02</td>\n",
       "      <td>3.218114e+01</td>\n",
       "      <td>1.000000e+00</td>\n",
       "    </tr>\n",
       "    <tr>\n",
       "      <th>25%</th>\n",
       "      <td>1.000000e+00</td>\n",
       "      <td>1.000000e+00</td>\n",
       "      <td>-7.399187e+01</td>\n",
       "      <td>4.073735e+01</td>\n",
       "      <td>-7.399133e+01</td>\n",
       "      <td>4.073588e+01</td>\n",
       "      <td>3.970000e+02</td>\n",
       "    </tr>\n",
       "    <tr>\n",
       "      <th>50%</th>\n",
       "      <td>2.000000e+00</td>\n",
       "      <td>1.000000e+00</td>\n",
       "      <td>-7.398174e+01</td>\n",
       "      <td>4.075410e+01</td>\n",
       "      <td>-7.397975e+01</td>\n",
       "      <td>4.075452e+01</td>\n",
       "      <td>6.620000e+02</td>\n",
       "    </tr>\n",
       "    <tr>\n",
       "      <th>75%</th>\n",
       "      <td>2.000000e+00</td>\n",
       "      <td>2.000000e+00</td>\n",
       "      <td>-7.396733e+01</td>\n",
       "      <td>4.076836e+01</td>\n",
       "      <td>-7.396301e+01</td>\n",
       "      <td>4.076981e+01</td>\n",
       "      <td>1.075000e+03</td>\n",
       "    </tr>\n",
       "    <tr>\n",
       "      <th>max</th>\n",
       "      <td>2.000000e+00</td>\n",
       "      <td>9.000000e+00</td>\n",
       "      <td>-6.133553e+01</td>\n",
       "      <td>5.188108e+01</td>\n",
       "      <td>-6.133553e+01</td>\n",
       "      <td>4.392103e+01</td>\n",
       "      <td>3.526282e+06</td>\n",
       "    </tr>\n",
       "  </tbody>\n",
       "</table>\n",
       "</div>"
      ],
      "text/plain": [
       "          vendor_id  passenger_count  pickup_longitude  pickup_latitude  \\\n",
       "count  1.458644e+06     1.458644e+06      1.458644e+06     1.458644e+06   \n",
       "mean   1.534950e+00     1.664530e+00     -7.397349e+01     4.075092e+01   \n",
       "std    4.987772e-01     1.314242e+00      7.090186e-02     3.288119e-02   \n",
       "min    1.000000e+00     0.000000e+00     -1.219333e+02     3.435970e+01   \n",
       "25%    1.000000e+00     1.000000e+00     -7.399187e+01     4.073735e+01   \n",
       "50%    2.000000e+00     1.000000e+00     -7.398174e+01     4.075410e+01   \n",
       "75%    2.000000e+00     2.000000e+00     -7.396733e+01     4.076836e+01   \n",
       "max    2.000000e+00     9.000000e+00     -6.133553e+01     5.188108e+01   \n",
       "\n",
       "       dropoff_longitude  dropoff_latitude  trip_duration  \n",
       "count       1.458644e+06      1.458644e+06   1.458644e+06  \n",
       "mean       -7.397342e+01      4.075180e+01   9.594923e+02  \n",
       "std         7.064327e-02      3.589056e-02   5.237432e+03  \n",
       "min        -1.219333e+02      3.218114e+01   1.000000e+00  \n",
       "25%        -7.399133e+01      4.073588e+01   3.970000e+02  \n",
       "50%        -7.397975e+01      4.075452e+01   6.620000e+02  \n",
       "75%        -7.396301e+01      4.076981e+01   1.075000e+03  \n",
       "max        -6.133553e+01      4.392103e+01   3.526282e+06  "
      ]
     },
     "metadata": {},
     "output_type": "display_data"
    },
    {
     "name": "stdout",
     "output_type": "stream",
     "text": [
      "###################### test ###################\n"
     ]
    },
    {
     "data": {
      "text/html": [
       "<div>\n",
       "<style scoped>\n",
       "    .dataframe tbody tr th:only-of-type {\n",
       "        vertical-align: middle;\n",
       "    }\n",
       "\n",
       "    .dataframe tbody tr th {\n",
       "        vertical-align: top;\n",
       "    }\n",
       "\n",
       "    .dataframe thead th {\n",
       "        text-align: right;\n",
       "    }\n",
       "</style>\n",
       "<table border=\"1\" class=\"dataframe\">\n",
       "  <thead>\n",
       "    <tr style=\"text-align: right;\">\n",
       "      <th></th>\n",
       "      <th>vendor_id</th>\n",
       "      <th>passenger_count</th>\n",
       "      <th>pickup_longitude</th>\n",
       "      <th>pickup_latitude</th>\n",
       "      <th>dropoff_longitude</th>\n",
       "      <th>dropoff_latitude</th>\n",
       "    </tr>\n",
       "  </thead>\n",
       "  <tbody>\n",
       "    <tr>\n",
       "      <th>count</th>\n",
       "      <td>625134.000000</td>\n",
       "      <td>625134.000000</td>\n",
       "      <td>625134.000000</td>\n",
       "      <td>625134.000000</td>\n",
       "      <td>625134.000000</td>\n",
       "      <td>625134.000000</td>\n",
       "    </tr>\n",
       "    <tr>\n",
       "      <th>mean</th>\n",
       "      <td>1.534884</td>\n",
       "      <td>1.661765</td>\n",
       "      <td>-73.973614</td>\n",
       "      <td>40.750927</td>\n",
       "      <td>-73.973458</td>\n",
       "      <td>40.751816</td>\n",
       "    </tr>\n",
       "    <tr>\n",
       "      <th>std</th>\n",
       "      <td>0.498782</td>\n",
       "      <td>1.311293</td>\n",
       "      <td>0.073389</td>\n",
       "      <td>0.029848</td>\n",
       "      <td>0.072565</td>\n",
       "      <td>0.035824</td>\n",
       "    </tr>\n",
       "    <tr>\n",
       "      <th>min</th>\n",
       "      <td>1.000000</td>\n",
       "      <td>0.000000</td>\n",
       "      <td>-121.933128</td>\n",
       "      <td>37.389587</td>\n",
       "      <td>-121.933327</td>\n",
       "      <td>36.601322</td>\n",
       "    </tr>\n",
       "    <tr>\n",
       "      <th>25%</th>\n",
       "      <td>1.000000</td>\n",
       "      <td>1.000000</td>\n",
       "      <td>-73.991852</td>\n",
       "      <td>40.737392</td>\n",
       "      <td>-73.991318</td>\n",
       "      <td>40.736000</td>\n",
       "    </tr>\n",
       "    <tr>\n",
       "      <th>50%</th>\n",
       "      <td>2.000000</td>\n",
       "      <td>1.000000</td>\n",
       "      <td>-73.981743</td>\n",
       "      <td>40.754093</td>\n",
       "      <td>-73.979774</td>\n",
       "      <td>40.754543</td>\n",
       "    </tr>\n",
       "    <tr>\n",
       "      <th>75%</th>\n",
       "      <td>2.000000</td>\n",
       "      <td>2.000000</td>\n",
       "      <td>-73.967400</td>\n",
       "      <td>40.768394</td>\n",
       "      <td>-73.963013</td>\n",
       "      <td>40.769852</td>\n",
       "    </tr>\n",
       "    <tr>\n",
       "      <th>max</th>\n",
       "      <td>2.000000</td>\n",
       "      <td>9.000000</td>\n",
       "      <td>-69.248917</td>\n",
       "      <td>42.814938</td>\n",
       "      <td>-67.496796</td>\n",
       "      <td>48.857597</td>\n",
       "    </tr>\n",
       "  </tbody>\n",
       "</table>\n",
       "</div>"
      ],
      "text/plain": [
       "           vendor_id  passenger_count  pickup_longitude  pickup_latitude  \\\n",
       "count  625134.000000    625134.000000     625134.000000    625134.000000   \n",
       "mean        1.534884         1.661765        -73.973614        40.750927   \n",
       "std         0.498782         1.311293          0.073389         0.029848   \n",
       "min         1.000000         0.000000       -121.933128        37.389587   \n",
       "25%         1.000000         1.000000        -73.991852        40.737392   \n",
       "50%         2.000000         1.000000        -73.981743        40.754093   \n",
       "75%         2.000000         2.000000        -73.967400        40.768394   \n",
       "max         2.000000         9.000000        -69.248917        42.814938   \n",
       "\n",
       "       dropoff_longitude  dropoff_latitude  \n",
       "count      625134.000000     625134.000000  \n",
       "mean          -73.973458         40.751816  \n",
       "std             0.072565          0.035824  \n",
       "min          -121.933327         36.601322  \n",
       "25%           -73.991318         40.736000  \n",
       "50%           -73.979774         40.754543  \n",
       "75%           -73.963013         40.769852  \n",
       "max           -67.496796         48.857597  "
      ]
     },
     "metadata": {},
     "output_type": "display_data"
    }
   ],
   "source": [
    "print('####################### train ##################')\n",
    "display(train.describe())\n",
    "\n",
    "print('###################### test ###################')\n",
    "display(test.describe())"
   ]
  },
  {
   "cell_type": "code",
   "execution_count": 8,
   "metadata": {},
   "outputs": [],
   "source": [
    "train['pickup_datetime'] = pd.to_datetime(train['pickup_datetime'])\n",
    "train['dropoff_datetime'] = pd.to_datetime(train['dropoff_datetime'])\n",
    "test['pickup_datetime'] = pd.to_datetime(test['pickup_datetime'])\n",
    "\n",
    "# trip_duration을 target으로 바꿔준다.\n",
    "train=train.rename(columns = {'trip_duration':'target'})"
   ]
  },
  {
   "cell_type": "code",
   "execution_count": 9,
   "metadata": {},
   "outputs": [],
   "source": [
    "def sub_function(x):\n",
    "    a=set(train[x].unique())\n",
    "    b =set(test[x].unique())\n",
    "    a =a.difference(test[x])\n",
    "    b =b.difference(train[x])\n",
    "    print(f'train_set 에만 있는 값 {a}')\n",
    "    print(f'test_set 에만 있는 값 {b}')    "
   ]
  },
  {
   "cell_type": "code",
   "execution_count": 10,
   "metadata": {},
   "outputs": [
    {
     "data": {
      "text/plain": [
       "<AxesSubplot:xlabel='target', ylabel='Density'>"
      ]
     },
     "execution_count": 10,
     "metadata": {},
     "output_type": "execute_result"
    },
    {
     "data": {
      "image/png": "[encoded data removed]",
      "text/plain": [
       "<Figure size 1152x576 with 1 Axes>"
      ]
     },
     "metadata": {
      "needs_background": "light"
     },
     "output_type": "display_data"
    }
   ],
   "source": [
    "# target에 정규화를 시켜주고 분석을 진행해 주자.\n",
    "plt.figure(figsize = (16,8))\n",
    "sns.kdeplot(train['target'])"
   ]
  },
  {
   "cell_type": "markdown",
   "metadata": {},
   "source": [
    "## vendor_id"
   ]
  },
  {
   "cell_type": "code",
   "execution_count": 11,
   "metadata": {
    "scrolled": true
   },
   "outputs": [
    {
     "data": {
      "text/plain": [
       "2    780302\n",
       "1    678342\n",
       "Name: vendor_id, dtype: int64"
      ]
     },
     "execution_count": 11,
     "metadata": {},
     "output_type": "execute_result"
    }
   ],
   "source": [
    "train.vendor_id.value_counts()"
   ]
  },
  {
   "cell_type": "code",
   "execution_count": 12,
   "metadata": {},
   "outputs": [
    {
     "data": {
      "text/plain": [
       "<AxesSubplot:xlabel='vendor_id', ylabel='target'>"
      ]
     },
     "execution_count": 12,
     "metadata": {},
     "output_type": "execute_result"
    },
    {
     "data": {
      "image/png": "[encoded data removed]",
      "text/plain": [
       "<Figure size 432x288 with 1 Axes>"
      ]
     },
     "metadata": {
      "needs_background": "light"
     },
     "output_type": "display_data"
    }
   ],
   "source": [
    "sns.barplot(data = train, x = 'vendor_id', y = 'target')"
   ]
  },
  {
   "cell_type": "code",
   "execution_count": 13,
   "metadata": {},
   "outputs": [
    {
     "name": "stdout",
     "output_type": "stream",
     "text": [
      "train_set 에만 있는 값 set()\n",
      "test_set 에만 있는 값 set()\n"
     ]
    }
   ],
   "source": [
    "sub_function('vendor_id')"
   ]
  },
  {
   "cell_type": "markdown",
   "metadata": {},
   "source": [
    "- 이 데이터의 경우 설명도 나와 있지 않기 때문에 나중에 다른 변수와 비교할 때 사용해야 겠다."
   ]
  },
  {
   "cell_type": "markdown",
   "metadata": {},
   "source": [
    "## passenger_count"
   ]
  },
  {
   "cell_type": "code",
   "execution_count": 14,
   "metadata": {
    "scrolled": true
   },
   "outputs": [
    {
     "name": "stdout",
     "output_type": "stream",
     "text": [
      "train의 passenger_count\n",
      "1    1033540\n",
      "2     210318\n",
      "5      78088\n",
      "3      59896\n",
      "6      48333\n",
      "4      28404\n",
      "0         60\n",
      "7          3\n",
      "9          1\n",
      "8          1\n",
      "Name: passenger_count, dtype: int64\n",
      "test의 passenger_count\n",
      "1    443447\n",
      "2     90027\n",
      "5     33411\n",
      "3     25686\n",
      "6     20521\n",
      "4     12017\n",
      "0        23\n",
      "9         2\n",
      "Name: passenger_count, dtype: int64\n"
     ]
    }
   ],
   "source": [
    "print('train의 passenger_count')\n",
    "print(train['passenger_count'].value_counts())\n",
    "print('test의 passenger_count')\n",
    "print(test['passenger_count'].value_counts())"
   ]
  },
  {
   "cell_type": "code",
   "execution_count": 15,
   "metadata": {
    "scrolled": true
   },
   "outputs": [
    {
     "data": {
      "text/plain": [
       "<AxesSubplot:xlabel='passenger_count', ylabel='target'>"
      ]
     },
     "execution_count": 15,
     "metadata": {},
     "output_type": "execute_result"
    },
    {
     "data": {
      "image/png": "[encoded data removed]",
      "text/plain": [
       "<Figure size 432x288 with 1 Axes>"
      ]
     },
     "metadata": {
      "needs_background": "light"
     },
     "output_type": "display_data"
    }
   ],
   "source": [
    "sns.barplot(data = train, x = 'passenger_count', y = 'target')"
   ]
  },
  {
   "cell_type": "markdown",
   "metadata": {},
   "source": [
    "- 0명을 태웠다는 말은 무슨말일까?\n",
    "- 일단 test셋에 7과 8이 없음으로 7과 8의 데이터를 지워주도록 하자!!"
   ]
  },
  {
   "cell_type": "markdown",
   "metadata": {},
   "source": [
    "## pickup_datetime"
   ]
  },
  {
   "cell_type": "code",
   "execution_count": 16,
   "metadata": {},
   "outputs": [],
   "source": [
    "def datetime(df, column):\n",
    "    df['month'] = df[column].dt.month\n",
    "    df['day'] = df[column].dt.day\n",
    "    df['hour'] = df[column].dt.hour\n",
    "    return df"
   ]
  },
  {
   "cell_type": "code",
   "execution_count": 17,
   "metadata": {},
   "outputs": [],
   "source": [
    "train=datetime(df = train, column = 'pickup_datetime')\n",
    "test=datetime(df = test, column = 'pickup_datetime')"
   ]
  },
  {
   "cell_type": "code",
   "execution_count": 18,
   "metadata": {},
   "outputs": [],
   "source": [
    "# 주말과 평일을 나누어서 데이터를 분석해 보자.\n",
    "train['weekday'] = train['pickup_datetime'].apply(lambda x:x.weekday())\n",
    "train['weekday']=train['weekday'].apply(lambda x: 1 if x > 4 else 0)\n",
    "\n",
    "test['weekday'] = test['pickup_datetime'].apply(lambda x:x.weekday())\n",
    "test['weekday']=test['weekday'].apply(lambda x: 1 if x > 4 else 0)\n"
   ]
  },
  {
   "cell_type": "markdown",
   "metadata": {},
   "source": [
    "### 평일과 공휴일의 차이"
   ]
  },
  {
   "cell_type": "code",
   "execution_count": 19,
   "metadata": {},
   "outputs": [
    {
     "data": {
      "text/plain": [
       "Text(0.5, 1.0, 'weekday vs target')"
      ]
     },
     "execution_count": 19,
     "metadata": {},
     "output_type": "execute_result"
    },
    {
     "data": {
      "image/png": "[encoded data removed]",
      "text/plain": [
       "<Figure size 1152x576 with 2 Axes>"
      ]
     },
     "metadata": {
      "needs_background": "light"
     },
     "output_type": "display_data"
    }
   ],
   "source": [
    "fig, ax = plt.subplots(ncols = 2, figsize = (16,8))\n",
    "sns.barplot(data = train, x = 'weekday', y = 'target', ax = ax[0])\n",
    "ax[0].set_title('weekday vs target')\n",
    "\n",
    "sns.boxenplot(data = train, x = 'weekday', y = 'target', ax = ax[1])\n",
    "ax[1].set_title('weekday vs target')"
   ]
  },
  {
   "cell_type": "markdown",
   "metadata": {},
   "source": [
    "- 사람들은 평일에 택시를 더 많이 타는 것을 알 수있다."
   ]
  },
  {
   "cell_type": "markdown",
   "metadata": {},
   "source": [
    "### 월별로 차이"
   ]
  },
  {
   "cell_type": "code",
   "execution_count": 20,
   "metadata": {},
   "outputs": [
    {
     "data": {
      "text/plain": [
       "Text(0.5, 1.0, 'month vs target')"
      ]
     },
     "execution_count": 20,
     "metadata": {},
     "output_type": "execute_result"
    },
    {
     "data": {
      "image/png": "[encoded data removed]",
      "text/plain": [
       "<Figure size 1152x576 with 2 Axes>"
      ]
     },
     "metadata": {
      "needs_background": "light"
     },
     "output_type": "display_data"
    }
   ],
   "source": [
    "fig, ax = plt.subplots(ncols = 2, figsize = (16,8))\n",
    "sns.barplot(data = train, x = 'month', y = 'target', ax = ax[0])\n",
    "ax[0].set_title('month vs target')\n",
    "\n",
    "sns.boxenplot(data = train, x = 'month', y = 'target', ax = ax[1])\n",
    "ax[1].set_title('month vs target')"
   ]
  },
  {
   "cell_type": "markdown",
   "metadata": {},
   "source": [
    "- 매 달마다 택시를 타는 사람이 늘어나고 있다."
   ]
  },
  {
   "cell_type": "code",
   "execution_count": 21,
   "metadata": {},
   "outputs": [
    {
     "name": "stdout",
     "output_type": "stream",
     "text": [
      "train_set 에만 있는 값 set()\n",
      "test_set 에만 있는 값 set()\n"
     ]
    }
   ],
   "source": [
    "sub_function('month')"
   ]
  },
  {
   "cell_type": "markdown",
   "metadata": {},
   "source": [
    "### 일별로 차이"
   ]
  },
  {
   "cell_type": "code",
   "execution_count": 22,
   "metadata": {},
   "outputs": [
    {
     "data": {
      "text/plain": [
       "<AxesSubplot:xlabel='day', ylabel='target'>"
      ]
     },
     "execution_count": 22,
     "metadata": {},
     "output_type": "execute_result"
    },
    {
     "data": {
      "image/png": "[encoded data removed]",
      "text/plain": [
       "<Figure size 1152x576 with 1 Axes>"
      ]
     },
     "metadata": {
      "needs_background": "light"
     },
     "output_type": "display_data"
    }
   ],
   "source": [
    "plt.figure(figsize = (16,8))\n",
    "sns.barplot(data = train, x = 'day', y = 'target')"
   ]
  },
  {
   "cell_type": "markdown",
   "metadata": {},
   "source": [
    "- 일별로는 다른 차이점을 발견하지 못했다."
   ]
  },
  {
   "cell_type": "code",
   "execution_count": 23,
   "metadata": {},
   "outputs": [
    {
     "name": "stdout",
     "output_type": "stream",
     "text": [
      "train_set 에만 있는 값 set()\n",
      "test_set 에만 있는 값 set()\n"
     ]
    }
   ],
   "source": [
    "sub_function('day')"
   ]
  },
  {
   "cell_type": "code",
   "execution_count": 24,
   "metadata": {
    "scrolled": false
   },
   "outputs": [
    {
     "data": {
      "text/plain": [
       "<AxesSubplot:xlabel='hour', ylabel='target'>"
      ]
     },
     "execution_count": 24,
     "metadata": {},
     "output_type": "execute_result"
    },
    {
     "data": {
      "image/png": "[encoded data removed]",
      "text/plain": [
       "<Figure size 1152x576 with 1 Axes>"
      ]
     },
     "metadata": {
      "needs_background": "light"
     },
     "output_type": "display_data"
    }
   ],
   "source": [
    "plt.figure(figsize = (16,8))\n",
    "sns.barplot(data = train, x = 'hour', y = 'target', hue = 'weekday')"
   ]
  },
  {
   "cell_type": "markdown",
   "metadata": {},
   "source": [
    "- 시간별로 공휴일인지 아닌지는 차이가 있는 것 같다."
   ]
  },
  {
   "cell_type": "markdown",
   "metadata": {},
   "source": [
    "## 위도 경도를 이용해 거리 구하기"
   ]
  },
  {
   "cell_type": "code",
   "execution_count": 25,
   "metadata": {},
   "outputs": [],
   "source": [
    "from haversine import haversine"
   ]
  },
  {
   "cell_type": "code",
   "execution_count": 26,
   "metadata": {},
   "outputs": [
    {
     "data": {
      "text/plain": [
       "Index(['id', 'vendor_id', 'pickup_datetime', 'dropoff_datetime',\n",
       "       'passenger_count', 'pickup_longitude', 'pickup_latitude',\n",
       "       'dropoff_longitude', 'dropoff_latitude', 'store_and_fwd_flag', 'target',\n",
       "       'month', 'day', 'hour', 'weekday'],\n",
       "      dtype='object')"
      ]
     },
     "execution_count": 26,
     "metadata": {},
     "output_type": "execute_result"
    }
   ],
   "source": [
    "train.columns"
   ]
  },
  {
   "cell_type": "code",
   "execution_count": 27,
   "metadata": {},
   "outputs": [],
   "source": [
    "def haversine1(df):\n",
    "    a = []\n",
    "    b = []\n",
    "    for i in df.index:\n",
    "        a.append((df.loc[i,'pickup_longitude'],df.loc[i,'pickup_latitude']))\n",
    "        b.append((df.loc[i,'dropoff_longitude'],df.loc[i,'dropoff_latitude']))\n",
    "    distance = []\n",
    "    for k in zip(a,b):\n",
    "        distance.append(haversine(k[0], k[1], unit = 'km'))\n",
    "        \n",
    "    return distance"
   ]
  },
  {
   "cell_type": "code",
   "execution_count": 28,
   "metadata": {},
   "outputs": [],
   "source": [
    "distance_train=haversine1(train)\n",
    "distance_train=pd.DataFrame(distance_train)\n",
    "\n",
    "distance_test = haversine1(test)\n",
    "distance_test = pd.DataFrame(distance_test)"
   ]
  },
  {
   "cell_type": "code",
   "execution_count": 29,
   "metadata": {},
   "outputs": [],
   "source": [
    "train=pd.concat([train,distance_train], axis = 1)\n",
    "test = pd.concat([test, distance_test], axis = 1)"
   ]
  },
  {
   "cell_type": "code",
   "execution_count": 30,
   "metadata": {},
   "outputs": [],
   "source": [
    "train=train.rename(columns = {0:'distance'})\n",
    "test = test.rename(columns = {0:'distance'})"
   ]
  },
  {
   "cell_type": "code",
   "execution_count": 31,
   "metadata": {},
   "outputs": [],
   "source": [
    "# train['target'] = train['target'].apply(lambda x: np.log(x))"
   ]
  },
  {
   "cell_type": "code",
   "execution_count": 32,
   "metadata": {},
   "outputs": [
    {
     "data": {
      "text/plain": [
       "<AxesSubplot:xlabel='distance', ylabel='target'>"
      ]
     },
     "execution_count": 32,
     "metadata": {},
     "output_type": "execute_result"
    },
    {
     "data": {
      "image/png": "[encoded data removed]",
      "text/plain": [
       "<Figure size 432x288 with 1 Axes>"
      ]
     },
     "metadata": {
      "needs_background": "light"
     },
     "output_type": "display_data"
    }
   ],
   "source": [
    "sns.scatterplot(data = train, x = 'distance', y = 'target', hue = 'weekday')"
   ]
  },
  {
   "cell_type": "code",
   "execution_count": 33,
   "metadata": {},
   "outputs": [
    {
     "data": {
      "text/html": [
       "<div>\n",
       "<style scoped>\n",
       "    .dataframe tbody tr th:only-of-type {\n",
       "        vertical-align: middle;\n",
       "    }\n",
       "\n",
       "    .dataframe tbody tr th {\n",
       "        vertical-align: top;\n",
       "    }\n",
       "\n",
       "    .dataframe thead th {\n",
       "        text-align: right;\n",
       "    }\n",
       "</style>\n",
       "<table border=\"1\" class=\"dataframe\">\n",
       "  <thead>\n",
       "    <tr style=\"text-align: right;\">\n",
       "      <th></th>\n",
       "      <th>distance</th>\n",
       "      <th>target</th>\n",
       "    </tr>\n",
       "  </thead>\n",
       "  <tbody>\n",
       "    <tr>\n",
       "      <th>distance</th>\n",
       "      <td>1.000000</td>\n",
       "      <td>0.091125</td>\n",
       "    </tr>\n",
       "    <tr>\n",
       "      <th>target</th>\n",
       "      <td>0.091125</td>\n",
       "      <td>1.000000</td>\n",
       "    </tr>\n",
       "  </tbody>\n",
       "</table>\n",
       "</div>"
      ],
      "text/plain": [
       "          distance    target\n",
       "distance  1.000000  0.091125\n",
       "target    0.091125  1.000000"
      ]
     },
     "execution_count": 33,
     "metadata": {},
     "output_type": "execute_result"
    }
   ],
   "source": [
    "train[['distance','target']].corr()"
   ]
  },
  {
   "cell_type": "markdown",
   "metadata": {},
   "source": [
    "## store_and_fwd_flag"
   ]
  },
  {
   "cell_type": "code",
   "execution_count": 34,
   "metadata": {},
   "outputs": [
    {
     "data": {
      "text/plain": [
       "N    1450599\n",
       "Y       8045\n",
       "Name: store_and_fwd_flag, dtype: int64"
      ]
     },
     "execution_count": 34,
     "metadata": {},
     "output_type": "execute_result"
    }
   ],
   "source": [
    "train['store_and_fwd_flag'].value_counts()"
   ]
  },
  {
   "cell_type": "code",
   "execution_count": 35,
   "metadata": {},
   "outputs": [
    {
     "data": {
      "text/plain": [
       "<AxesSubplot:xlabel='store_and_fwd_flag', ylabel='target'>"
      ]
     },
     "execution_count": 35,
     "metadata": {},
     "output_type": "execute_result"
    },
    {
     "data": {
      "image/png": "[encoded data removed]",
      "text/plain": [
       "<Figure size 432x288 with 1 Axes>"
      ]
     },
     "metadata": {
      "needs_background": "light"
     },
     "output_type": "display_data"
    }
   ],
   "source": [
    "sns.boxenplot(data = train, x = 'store_and_fwd_flag', y = 'target')"
   ]
  },
  {
   "cell_type": "markdown",
   "metadata": {},
   "source": [
    "- Y가 N보다 더 높은 시간은 나타낸다."
   ]
  },
  {
   "cell_type": "code",
   "execution_count": 36,
   "metadata": {},
   "outputs": [
    {
     "name": "stdout",
     "output_type": "stream",
     "text": [
      "train_set 에만 있는 값 set()\n",
      "test_set 에만 있는 값 set()\n"
     ]
    }
   ],
   "source": [
    "sub_function('store_and_fwd_flag')"
   ]
  },
  {
   "cell_type": "code",
   "execution_count": 37,
   "metadata": {
    "scrolled": false
   },
   "outputs": [
    {
     "data": {
      "text/plain": [
       "<AxesSubplot:xlabel='store_and_fwd_flag', ylabel='target'>"
      ]
     },
     "execution_count": 37,
     "metadata": {},
     "output_type": "execute_result"
    },
    {
     "data": {
      "image/png": "[encoded data removed]",
      "text/plain": [
       "<Figure size 432x288 with 1 Axes>"
      ]
     },
     "metadata": {
      "needs_background": "light"
     },
     "output_type": "display_data"
    }
   ],
   "source": [
    "sns.barplot(data = train, x = 'store_and_fwd_flag', y = 'target', hue = 'weekday')"
   ]
  },
  {
   "cell_type": "code",
   "execution_count": 38,
   "metadata": {
    "scrolled": false
   },
   "outputs": [
    {
     "data": {
      "text/plain": [
       "<AxesSubplot:>"
      ]
     },
     "execution_count": 38,
     "metadata": {},
     "output_type": "execute_result"
    },
    {
     "data": {
      "image/png": "[encoded data removed]",
      "text/plain": [
       "<Figure size 1152x576 with 2 Axes>"
      ]
     },
     "metadata": {
      "needs_background": "light"
     },
     "output_type": "display_data"
    }
   ],
   "source": [
    "plt.figure(figsize = (16,8))\n",
    "train_corr=train.corr()\n",
    "sns.heatmap(train_corr, annot = True)"
   ]
  },
  {
   "cell_type": "code",
   "execution_count": 39,
   "metadata": {},
   "outputs": [],
   "source": [
    "# import folium"
   ]
  },
  {
   "cell_type": "code",
   "execution_count": 40,
   "metadata": {},
   "outputs": [],
   "source": [
    "# start=train[['pickup_latitude','pickup_longtitude']]\n",
    "# g_map = folium.Map(location = [73.982155,40.767937], zoom_start = 18)\n",
    "# for start in zip(train['pickup_longitude'], train['pickup_latitude']):\n",
    "#     start = list(start)\n",
    "#     marker=folium.Marker(start, popup = 'campus seven', icon = folium.Icon(color = 'blue'))\n",
    "#     marker.add_to(g_map)"
   ]
  },
  {
   "cell_type": "code",
   "execution_count": 41,
   "metadata": {},
   "outputs": [
    {
     "data": {
      "text/plain": [
       "<AxesSubplot:xlabel='distance', ylabel='Density'>"
      ]
     },
     "execution_count": 41,
     "metadata": {},
     "output_type": "execute_result"
    },
    {
     "data": {
      "image/png": "[encoded data removed]",
      "text/plain": [
       "<Figure size 432x288 with 1 Axes>"
      ]
     },
     "metadata": {
      "needs_background": "light"
     },
     "output_type": "display_data"
    }
   ],
   "source": [
    "sns.kdeplot(train['distance'])"
   ]
  },
  {
   "cell_type": "code",
   "execution_count": 42,
   "metadata": {},
   "outputs": [
    {
     "data": {
      "text/plain": [
       "<AxesSubplot:xlabel='distance', ylabel='Density'>"
      ]
     },
     "execution_count": 42,
     "metadata": {},
     "output_type": "execute_result"
    },
    {
     "data": {
      "image/png": "[encoded data removed]",
      "text/plain": [
       "<Figure size 432x288 with 1 Axes>"
      ]
     },
     "metadata": {
      "needs_background": "light"
     },
     "output_type": "display_data"
    }
   ],
   "source": [
    "# distance에 정규화를 시켜주자.\n",
    "train['distance']=train['distance'].apply(lambda x:np.log1p(x))\n",
    "test['distance'] = test['distance'].apply(lambda x:np.log1p(x))\n",
    "sns.kdeplot(train['distance'])\n",
    "# 그래프를 보고 나눠주려고 했지만 나눠줄 방법을 찾지 못했다."
   ]
  },
  {
   "cell_type": "code",
   "execution_count": 43,
   "metadata": {},
   "outputs": [
    {
     "data": {
      "text/plain": [
       "count    625134.000000\n",
       "mean          1.067779\n",
       "std           0.656287\n",
       "min           0.000000\n",
       "25%           0.613279\n",
       "50%           0.927882\n",
       "75%           1.346734\n",
       "max           6.658587\n",
       "Name: distance, dtype: float64"
      ]
     },
     "execution_count": 43,
     "metadata": {},
     "output_type": "execute_result"
    }
   ],
   "source": [
    "test['distance'].describe()"
   ]
  },
  {
   "cell_type": "code",
   "execution_count": 44,
   "metadata": {},
   "outputs": [],
   "source": [
    "# 그래서 거리의 사분위수를 이용해 나눠주기로 하자.\n",
    "train['distance'].describe()\n",
    "\n",
    "train.loc[train['distance'] <= 0.6138352 , 'distance_binning'] = 0\n",
    "train.loc[(train['distance'] >=0.6138352) & (train['distance'] < 0.9286977), 'distance_binning'] = 1\n",
    "train.loc[(train['distance'] >= 0.9286977) & (train['distance'] <1.347212 ), 'distance_binning'] = 2\n",
    "train.loc[train['distance'] >= 1.347212, 'distance_binning'] = 3\n",
    "\n",
    "test.loc[test['distance'] <= 0.6138352 , 'distance_binning'] = 0\n",
    "test.loc[(test['distance'] >=0.6138352) & (test['distance'] < 0.9286977), 'distance_binning'] = 1\n",
    "test.loc[(test['distance'] >= 0.9286977) & (test['distance'] <1.347212 ), 'distance_binning'] = 2\n",
    "test.loc[test['distance'] >= 1.347212, 'distance_binning'] = 3"
   ]
  },
  {
   "cell_type": "code",
   "execution_count": 45,
   "metadata": {},
   "outputs": [
    {
     "data": {
      "text/plain": [
       "<AxesSubplot:xlabel='distance_binning', ylabel='target'>"
      ]
     },
     "execution_count": 45,
     "metadata": {},
     "output_type": "execute_result"
    },
    {
     "data": {
      "image/png": "[encoded data removed]",
      "text/plain": [
       "<Figure size 432x288 with 1 Axes>"
      ]
     },
     "metadata": {
      "needs_background": "light"
     },
     "output_type": "display_data"
    }
   ],
   "source": [
    "sns.barplot(data = train, x = 'distance_binning', y = 'target')"
   ]
  },
  {
   "cell_type": "markdown",
   "metadata": {},
   "source": [
    "- 변수마다 연관이 있는 걸로 보여진다."
   ]
  },
  {
   "cell_type": "code",
   "execution_count": 46,
   "metadata": {
    "scrolled": true
   },
   "outputs": [
    {
     "name": "stdout",
     "output_type": "stream",
     "text": [
      "train_set 에만 있는 값 set()\n",
      "test_set 에만 있는 값 set()\n"
     ]
    }
   ],
   "source": [
    "delete_index=train[(train['passenger_count'] == 7)|(train['passenger_count'] == 8)].index\n",
    "train=train.drop(delete_index,axis = 0)\n",
    "\n",
    "sub_function('passenger_count')"
   ]
  },
  {
   "cell_type": "code",
   "execution_count": 47,
   "metadata": {},
   "outputs": [],
   "source": [
    "train['target'].describe()\n",
    "train['target_binning']=pd.qcut(train['target'],4, labels = [0,1,2,3])"
   ]
  },
  {
   "cell_type": "code",
   "execution_count": 48,
   "metadata": {},
   "outputs": [
    {
     "data": {
      "text/plain": [
       "<AxesSubplot:xlabel='hour', ylabel='distance'>"
      ]
     },
     "execution_count": 48,
     "metadata": {},
     "output_type": "execute_result"
    },
    {
     "data": {
      "image/png": "[encoded data removed]",
      "text/plain": [
       "<Figure size 432x288 with 1 Axes>"
      ]
     },
     "metadata": {
      "needs_background": "light"
     },
     "output_type": "display_data"
    }
   ],
   "source": [
    "# 3~5시 사이에 높은 이동량을 보인다.\n",
    "sns.barplot(data = train, x = 'hour', y = 'distance')"
   ]
  },
  {
   "cell_type": "code",
   "execution_count": 49,
   "metadata": {},
   "outputs": [
    {
     "data": {
      "text/plain": [
       "<AxesSubplot:xlabel='month', ylabel='distance'>"
      ]
     },
     "execution_count": 49,
     "metadata": {},
     "output_type": "execute_result"
    },
    {
     "data": {
      "image/png": "[encoded data removed]",
      "text/plain": [
       "<Figure size 432x288 with 1 Axes>"
      ]
     },
     "metadata": {
      "needs_background": "light"
     },
     "output_type": "display_data"
    }
   ],
   "source": [
    "# 눈이 오거나 안오거나에 따라서 거리에 차이가 있을 것 같다.\n",
    "sns.barplot(data = train, x = 'month', y = 'distance')\n",
    "\n",
    "# 즉, 눈이 올 시기인 1~2월에는 차들이 좀 더 서행운전을 하기 때문에 목적지에 더 늦게 도착할 것 같다."
   ]
  },
  {
   "attachments": {
    "%EC%BA%A1%EC%B2%98.PNG": {
     "image/png": "[encoded data removed]"
    }
   },
   "cell_type": "markdown",
   "metadata": {},
   "source": [
    "### 가정 1 : 날씨가 추운 1~2월은 적은 거리도 추운 날씨 때문에 택시를 탈 것이다.\n",
    "\n",
    "![%EC%BA%A1%EC%B2%98.PNG](attachment:%EC%BA%A1%EC%B2%98.PNG)\n",
    "\n",
    "- 변수 0 :1~2월은 겨울인 달\n",
    "- 변수 1 :3~6월은 겨울이 아닌 달"
   ]
  },
  {
   "cell_type": "code",
   "execution_count": 52,
   "metadata": {},
   "outputs": [],
   "source": [
    "train['cold'] = 1\n",
    "train.loc[(train['month'] == 1) | (train['month'] == 2), 'cold'] = 0\n",
    "\n",
    "test['cold'] = 1\n",
    "test.loc[(test['month'] == 1) | (test['month'] == 2), 'cold'] = 0"
   ]
  },
  {
   "cell_type": "code",
   "execution_count": 54,
   "metadata": {},
   "outputs": [
    {
     "data": {
      "text/plain": [
       "1    990634\n",
       "0    468006\n",
       "Name: cold, dtype: int64"
      ]
     },
     "execution_count": 54,
     "metadata": {},
     "output_type": "execute_result"
    }
   ],
   "source": [
    "train.cold.value_counts()"
   ]
  },
  {
   "cell_type": "code",
   "execution_count": 55,
   "metadata": {
    "scrolled": false
   },
   "outputs": [
    {
     "data": {
      "text/plain": [
       "<AxesSubplot:xlabel='cold', ylabel='target'>"
      ]
     },
     "execution_count": 55,
     "metadata": {},
     "output_type": "execute_result"
    },
    {
     "data": {
      "image/png": "[encoded data removed]",
      "text/plain": [
       "<Figure size 432x288 with 1 Axes>"
      ]
     },
     "metadata": {
      "needs_background": "light"
     },
     "output_type": "display_data"
    }
   ],
   "source": [
    "sns.barplot(data = train, x = 'cold', y = 'target')"
   ]
  },
  {
   "cell_type": "markdown",
   "metadata": {},
   "source": [
    "### 가정 2 :  평일의 일하는 시간대, 일하지 않는 시간대, 주말 이렇게 비교해보도록 하자.\n",
    "### 2. 일하는 시간대에 사람들이 가장 많이 활동하는 시간대 임으로 도로상황을 고려하여 차를 오래 탄다고 생각한다.\n",
    "### 1. 주말에 놀러 나가는 사람들이 많으나 일하는 시간대에 비해 차가 안막힌다고 가정한다.\n",
    "### 0. 평일 일하지 않는 시간대에는 차가 막히지 않으므로 택시를 타고 있는 시간이 적다고 가정했다."
   ]
  },
  {
   "cell_type": "code",
   "execution_count": 56,
   "metadata": {},
   "outputs": [
    {
     "data": {
      "text/plain": [
       "<AxesSubplot:xlabel='hour', ylabel='target'>"
      ]
     },
     "execution_count": 56,
     "metadata": {},
     "output_type": "execute_result"
    },
    {
     "data": {
      "image/png": "[encoded data removed]",
      "text/plain": [
       "<Figure size 432x288 with 1 Axes>"
      ]
     },
     "metadata": {
      "needs_background": "light"
     },
     "output_type": "display_data"
    }
   ],
   "source": [
    "sns.barplot(data = train, x=  'hour', y = 'target', hue = 'weekday')"
   ]
  },
  {
   "cell_type": "code",
   "execution_count": 57,
   "metadata": {},
   "outputs": [],
   "source": [
    "train.loc[(train['weekday'] == 0), 'working'] = 0\n",
    "train.loc[train['weekday'] == 1,'working'] = 1\n",
    "train.loc[(train['weekday'] == 0) & (8 <= train['hour']) & (train['hour'] <= 18), 'working'] = 2\n",
    "\n",
    "test.loc[(test['weekday'] == 0), 'working'] = 0\n",
    "test.loc[test['weekday'] == 1,'working'] = 1\n",
    "test.loc[(test['weekday'] == 0) & (8 <= test['hour']) & (test['hour'] <= 18), 'working'] = 2"
   ]
  },
  {
   "cell_type": "code",
   "execution_count": 58,
   "metadata": {},
   "outputs": [
    {
     "data": {
      "text/plain": [
       "<AxesSubplot:xlabel='working', ylabel='target'>"
      ]
     },
     "execution_count": 58,
     "metadata": {},
     "output_type": "execute_result"
    },
    {
     "data": {
      "image/png": "[encoded data removed]",
      "text/plain": [
       "<Figure size 432x288 with 1 Axes>"
      ]
     },
     "metadata": {
      "needs_background": "light"
     },
     "output_type": "display_data"
    }
   ],
   "source": [
    "sns.barplot(data = train, x = 'working', y = 'target')"
   ]
  },
  {
   "cell_type": "markdown",
   "metadata": {},
   "source": [
    "- 유의미한 변수가 될 것 같다.\n",
    "- 이 변수는 더미화를 시켜주지 않고 넣어주도록 하자."
   ]
  },
  {
   "cell_type": "markdown",
   "metadata": {},
   "source": [
    "## 모델링"
   ]
  },
  {
   "cell_type": "code",
   "execution_count": 59,
   "metadata": {},
   "outputs": [],
   "source": [
    "dummies=['vendor_id','store_and_fwd_flag','month','hour','weekday','distance_binning','passenger_count']\n",
    "data = pd.get_dummies(data = train[dummies], columns = dummies )\n",
    "data=pd.concat([data,train['working'], train['cold']], axis =1)"
   ]
  },
  {
   "cell_type": "code",
   "execution_count": 60,
   "metadata": {},
   "outputs": [],
   "source": [
    "from sklearn.model_selection import train_test_split\n",
    "from sklearn.linear_model import LinearRegression, Ridge, Lasso\n",
    "from sklearn.metrics import mean_squared_error\n",
    "from xgboost import XGBRFRegressor, XGBRegressor\n",
    "from catboost import CatBoostRegressor\n",
    "from lightgbm import LGBMRegressor"
   ]
  },
  {
   "cell_type": "code",
   "execution_count": 61,
   "metadata": {},
   "outputs": [],
   "source": [
    "# 평가 지표\n",
    "from sklearn.metrics import make_scorer\n",
    "def rmsle(predicted_values, actual_values):\n",
    "    # 넘파이로 배열 형태로 바꿔줌.  \n",
    "    predicted_values = np.array(predicted_values)\n",
    "    actual_values = np.array(actual_values)\n",
    "    \n",
    "    # 예측값과 실제 값에 1을 더하고 로그를 씌어줌 \n",
    "    log_predict = np.log(predicted_values + 1)\n",
    "    log_actual = np.log(actual_values + 1)\n",
    "    \n",
    "    # 위에서 계산한 예측값에서 실측값을 빼주고 제곱해줌\n",
    "    difference = log_predict - log_actual\n",
    "    difference = np.square(difference)\n",
    "    \n",
    "    # 평균을 냄\n",
    "    mean_difference = difference.mean()\n",
    "    \n",
    "    # 다시 루트를 씌움\n",
    "    score = np.sqrt(mean_difference)  \n",
    "    \n",
    "    return score"
   ]
  },
  {
   "cell_type": "code",
   "execution_count": 62,
   "metadata": {},
   "outputs": [],
   "source": [
    "# min(list(score.values()))"
   ]
  },
  {
   "cell_type": "code",
   "execution_count": 63,
   "metadata": {},
   "outputs": [],
   "source": [
    "# for key, values in score.items():\n",
    "#     value=min(score.values())\n",
    "#     if value == values:\n",
    "#         best_model = key"
   ]
  },
  {
   "cell_type": "markdown",
   "metadata": {},
   "source": [
    "## test data"
   ]
  },
  {
   "cell_type": "code",
   "execution_count": 64,
   "metadata": {},
   "outputs": [
    {
     "data": {
      "text/plain": [
       "count    625134.000000\n",
       "mean          1.067779\n",
       "std           0.656287\n",
       "min           0.000000\n",
       "25%           0.613279\n",
       "50%           0.927882\n",
       "75%           1.346734\n",
       "max           6.658587\n",
       "Name: distance, dtype: float64"
      ]
     },
     "execution_count": 64,
     "metadata": {},
     "output_type": "execute_result"
    }
   ],
   "source": [
    "test['distance'].describe()"
   ]
  },
  {
   "cell_type": "code",
   "execution_count": 65,
   "metadata": {},
   "outputs": [],
   "source": [
    "test_dummies=pd.get_dummies(test[dummies], columns = dummies)\n",
    "test_data = pd.concat([test_dummies, test['working'], test['cold']], axis = 1)"
   ]
  },
  {
   "cell_type": "code",
   "execution_count": 66,
   "metadata": {},
   "outputs": [],
   "source": [
    "from tqdm import tqdm\n",
    "models = {'lgb':LinearRegression(),'Ridge':Ridge(),'Lasso':Lasso(),\n",
    "          'cat':CatBoostRegressor(),'lightgbm':LGBMRegressor(),'xgbRF':XGBRFRegressor()}\n",
    "X_train, X_test, y_train, y_test = train_test_split(data, train['target'], test_size = 0.2, random_state = 42)\n",
    "def modeling(models,df = None, target = None, test_data = None):\n",
    "    circle = {}\n",
    "    X_train, X_test, y_train, y_test = train_test_split(df, target, test_size = 0.2, random_state = 42)\n",
    "    for model in tqdm(models):\n",
    "        models[model].fit(X_train,y_train)\n",
    "        y_pred=models[model].predict(X_test)\n",
    "#         score=rmsle(y_pred,y_test)\n",
    "        circle[model] = y_pred\n",
    "    score = circle\n",
    "    model_value = pd.DataFrame()\n",
    "    for key, value in score.items():\n",
    "        model_value[key] = value\n",
    "    \n",
    "    xgb =XGBRegressor()\n",
    "    xgb.fit(model_value, y_test)\n",
    "    \n",
    "    # train으로 stacking 모델을 만들어 놓고 test를 넣어주자.\n",
    "    final_score = {}\n",
    "    for model in tqdm(models):\n",
    "        y_pred=models[model].predict(test_data)\n",
    "        final_score[model] = y_pred\n",
    "    model_value = pd.DataFrame()\n",
    "    for key, value in final_score.items():\n",
    "        model_value[key] = value\n",
    "        \n",
    "    final_predict=xgb.predict(model_value)\n",
    "    \n",
    "    return final_predict"
   ]
  },
  {
   "cell_type": "code",
   "execution_count": 67,
   "metadata": {},
   "outputs": [
    {
     "name": "stderr",
     "output_type": "stream",
     "text": [
      " 50%|██████████████████████████████████████████                                          | 3/6 [00:22<00:27,  9.07s/it]"
     ]
    },
    {
     "name": "stdout",
     "output_type": "stream",
     "text": [
      "Learning rate set to 0.137194\n",
      "0:\tlearn: 5629.0642792\ttotal: 271ms\tremaining: 4m 30s\n",
      "1:\tlearn: 5625.3901997\ttotal: 414ms\tremaining: 3m 26s\n",
      "2:\tlearn: 5622.4256332\ttotal: 570ms\tremaining: 3m 9s\n",
      "3:\tlearn: 5620.4464781\ttotal: 722ms\tremaining: 2m 59s\n",
      "4:\tlearn: 5618.9226359\ttotal: 896ms\tremaining: 2m 58s\n",
      "5:\tlearn: 5617.8023629\ttotal: 1.06s\tremaining: 2m 55s\n",
      "6:\tlearn: 5616.9446633\ttotal: 1.22s\tremaining: 2m 53s\n",
      "7:\tlearn: 5616.3019559\ttotal: 1.37s\tremaining: 2m 49s\n",
      "8:\tlearn: 5614.0616885\ttotal: 1.53s\tremaining: 2m 48s\n",
      "9:\tlearn: 5613.6786488\ttotal: 1.69s\tremaining: 2m 47s\n",
      "10:\tlearn: 5613.3709606\ttotal: 1.83s\tremaining: 2m 44s\n",
      "11:\tlearn: 5611.8491947\ttotal: 1.96s\tremaining: 2m 41s\n",
      "12:\tlearn: 5610.4819433\ttotal: 2.08s\tremaining: 2m 37s\n",
      "13:\tlearn: 5610.3140515\ttotal: 2.19s\tremaining: 2m 34s\n",
      "14:\tlearn: 5610.0691330\ttotal: 2.33s\tremaining: 2m 32s\n",
      "15:\tlearn: 5609.7383728\ttotal: 2.44s\tremaining: 2m 30s\n",
      "16:\tlearn: 5609.6346804\ttotal: 2.56s\tremaining: 2m 28s\n",
      "17:\tlearn: 5609.5438650\ttotal: 2.69s\tremaining: 2m 26s\n",
      "18:\tlearn: 5609.3205377\ttotal: 2.81s\tremaining: 2m 24s\n",
      "19:\tlearn: 5608.3598081\ttotal: 2.93s\tremaining: 2m 23s\n",
      "20:\tlearn: 5608.3115249\ttotal: 3.04s\tremaining: 2m 21s\n",
      "21:\tlearn: 5608.0155983\ttotal: 3.18s\tremaining: 2m 21s\n",
      "22:\tlearn: 5607.8984150\ttotal: 3.29s\tremaining: 2m 19s\n",
      "23:\tlearn: 5607.8424274\ttotal: 3.41s\tremaining: 2m 18s\n",
      "24:\tlearn: 5607.7977827\ttotal: 3.56s\tremaining: 2m 18s\n",
      "25:\tlearn: 5607.7446423\ttotal: 3.74s\tremaining: 2m 20s\n",
      "26:\tlearn: 5607.7066313\ttotal: 3.88s\tremaining: 2m 19s\n",
      "27:\tlearn: 5607.5472833\ttotal: 4.01s\tremaining: 2m 19s\n",
      "28:\tlearn: 5607.5363845\ttotal: 4.11s\tremaining: 2m 17s\n",
      "29:\tlearn: 5607.4871989\ttotal: 4.24s\tremaining: 2m 16s\n",
      "30:\tlearn: 5607.4188399\ttotal: 4.36s\tremaining: 2m 16s\n",
      "31:\tlearn: 5606.9163739\ttotal: 4.48s\tremaining: 2m 15s\n",
      "32:\tlearn: 5606.8911099\ttotal: 4.63s\tremaining: 2m 15s\n",
      "33:\tlearn: 5606.8403596\ttotal: 4.74s\tremaining: 2m 14s\n",
      "34:\tlearn: 5606.8111736\ttotal: 4.86s\tremaining: 2m 14s\n",
      "35:\tlearn: 5606.7631428\ttotal: 4.99s\tremaining: 2m 13s\n",
      "36:\tlearn: 5606.6559652\ttotal: 5.12s\tremaining: 2m 13s\n",
      "37:\tlearn: 5606.6216196\ttotal: 5.24s\tremaining: 2m 12s\n",
      "38:\tlearn: 5606.5924489\ttotal: 5.38s\tremaining: 2m 12s\n",
      "39:\tlearn: 5606.5640253\ttotal: 5.51s\tremaining: 2m 12s\n",
      "40:\tlearn: 5606.5487251\ttotal: 5.65s\tremaining: 2m 12s\n",
      "41:\tlearn: 5606.5266970\ttotal: 5.79s\tremaining: 2m 11s\n",
      "42:\tlearn: 5606.5092094\ttotal: 5.92s\tremaining: 2m 11s\n",
      "43:\tlearn: 5606.4895258\ttotal: 6.05s\tremaining: 2m 11s\n",
      "44:\tlearn: 5606.4677678\ttotal: 6.18s\tremaining: 2m 11s\n",
      "45:\tlearn: 5606.4635950\ttotal: 6.28s\tremaining: 2m 10s\n",
      "46:\tlearn: 5606.2647725\ttotal: 6.45s\tremaining: 2m 10s\n",
      "47:\tlearn: 5606.2516893\ttotal: 6.63s\tremaining: 2m 11s\n",
      "48:\tlearn: 5606.2304787\ttotal: 6.78s\tremaining: 2m 11s\n",
      "49:\tlearn: 5606.2068343\ttotal: 6.9s\tremaining: 2m 11s\n",
      "50:\tlearn: 5606.1858625\ttotal: 7.04s\tremaining: 2m 11s\n",
      "51:\tlearn: 5606.1688636\ttotal: 7.19s\tremaining: 2m 11s\n",
      "52:\tlearn: 5605.7820608\ttotal: 7.34s\tremaining: 2m 11s\n",
      "53:\tlearn: 5605.7709662\ttotal: 7.49s\tremaining: 2m 11s\n",
      "54:\tlearn: 5605.7527768\ttotal: 7.82s\tremaining: 2m 14s\n",
      "55:\tlearn: 5605.7120603\ttotal: 7.96s\tremaining: 2m 14s\n",
      "56:\tlearn: 5605.6382179\ttotal: 8.09s\tremaining: 2m 13s\n",
      "57:\tlearn: 5605.6189680\ttotal: 8.22s\tremaining: 2m 13s\n",
      "58:\tlearn: 5605.5963842\ttotal: 8.37s\tremaining: 2m 13s\n",
      "59:\tlearn: 5605.5761518\ttotal: 8.52s\tremaining: 2m 13s\n",
      "60:\tlearn: 5605.5482907\ttotal: 8.65s\tremaining: 2m 13s\n",
      "61:\tlearn: 5605.5345346\ttotal: 8.78s\tremaining: 2m 12s\n",
      "62:\tlearn: 5605.5179498\ttotal: 8.89s\tremaining: 2m 12s\n",
      "63:\tlearn: 5605.5038966\ttotal: 9.01s\tremaining: 2m 11s\n",
      "64:\tlearn: 5605.4886151\ttotal: 9.14s\tremaining: 2m 11s\n",
      "65:\tlearn: 5605.4036468\ttotal: 9.25s\tremaining: 2m 10s\n",
      "66:\tlearn: 5605.3875434\ttotal: 9.38s\tremaining: 2m 10s\n",
      "67:\tlearn: 5605.3808627\ttotal: 9.51s\tremaining: 2m 10s\n",
      "68:\tlearn: 5605.3663938\ttotal: 9.63s\tremaining: 2m 9s\n",
      "69:\tlearn: 5605.3604760\ttotal: 9.75s\tremaining: 2m 9s\n",
      "70:\tlearn: 5605.3303666\ttotal: 9.88s\tremaining: 2m 9s\n",
      "71:\tlearn: 5605.3176653\ttotal: 10s\tremaining: 2m 8s\n",
      "72:\tlearn: 5605.3078623\ttotal: 10.1s\tremaining: 2m 8s\n",
      "73:\tlearn: 5605.0737781\ttotal: 10.2s\tremaining: 2m 7s\n",
      "74:\tlearn: 5605.0722849\ttotal: 10.3s\tremaining: 2m 6s\n",
      "75:\tlearn: 5605.0656139\ttotal: 10.4s\tremaining: 2m 6s\n",
      "76:\tlearn: 5605.0024795\ttotal: 10.6s\tremaining: 2m 6s\n",
      "77:\tlearn: 5604.9874509\ttotal: 10.7s\tremaining: 2m 6s\n",
      "78:\tlearn: 5604.9626498\ttotal: 10.9s\tremaining: 2m 6s\n",
      "79:\tlearn: 5604.9478441\ttotal: 11s\tremaining: 2m 6s\n",
      "80:\tlearn: 5604.9372856\ttotal: 11.1s\tremaining: 2m 5s\n",
      "81:\tlearn: 5604.9285389\ttotal: 11.2s\tremaining: 2m 5s\n",
      "82:\tlearn: 5604.9146010\ttotal: 11.4s\tremaining: 2m 5s\n",
      "83:\tlearn: 5604.9059925\ttotal: 11.5s\tremaining: 2m 5s\n",
      "84:\tlearn: 5604.8995210\ttotal: 11.6s\tremaining: 2m 5s\n",
      "85:\tlearn: 5604.8562178\ttotal: 11.8s\tremaining: 2m 4s\n",
      "86:\tlearn: 5604.6845281\ttotal: 11.9s\tremaining: 2m 4s\n",
      "87:\tlearn: 5604.6403629\ttotal: 12s\tremaining: 2m 4s\n",
      "88:\tlearn: 5604.6275446\ttotal: 12.2s\tremaining: 2m 4s\n",
      "89:\tlearn: 5604.5962066\ttotal: 12.3s\tremaining: 2m 4s\n",
      "90:\tlearn: 5604.5825823\ttotal: 12.5s\tremaining: 2m 4s\n",
      "91:\tlearn: 5604.5557791\ttotal: 12.7s\tremaining: 2m 4s\n",
      "92:\tlearn: 5604.5412932\ttotal: 12.8s\tremaining: 2m 4s\n",
      "93:\tlearn: 5604.5312667\ttotal: 12.9s\tremaining: 2m 4s\n",
      "94:\tlearn: 5604.5175353\ttotal: 13s\tremaining: 2m 4s\n",
      "95:\tlearn: 5604.5090633\ttotal: 13.2s\tremaining: 2m 3s\n",
      "96:\tlearn: 5604.4920628\ttotal: 13.3s\tremaining: 2m 3s\n",
      "97:\tlearn: 5604.3646010\ttotal: 13.4s\tremaining: 2m 3s\n",
      "98:\tlearn: 5604.2754362\ttotal: 13.5s\tremaining: 2m 3s\n",
      "99:\tlearn: 5604.2404240\ttotal: 13.7s\tremaining: 2m 3s\n",
      "100:\tlearn: 5604.2345983\ttotal: 13.8s\tremaining: 2m 3s\n",
      "101:\tlearn: 5604.2309353\ttotal: 14s\tremaining: 2m 2s\n",
      "102:\tlearn: 5604.1912648\ttotal: 14.1s\tremaining: 2m 2s\n",
      "103:\tlearn: 5604.1745414\ttotal: 14.2s\tremaining: 2m 2s\n",
      "104:\tlearn: 5604.1533236\ttotal: 14.3s\tremaining: 2m 2s\n",
      "105:\tlearn: 5604.1358814\ttotal: 14.5s\tremaining: 2m 2s\n",
      "106:\tlearn: 5604.1287038\ttotal: 14.6s\tremaining: 2m 2s\n",
      "107:\tlearn: 5604.1227901\ttotal: 14.7s\tremaining: 2m 1s\n",
      "108:\tlearn: 5604.0580961\ttotal: 14.8s\tremaining: 2m 1s\n",
      "109:\tlearn: 5604.0431961\ttotal: 15s\tremaining: 2m 1s\n",
      "110:\tlearn: 5604.0271035\ttotal: 15.3s\tremaining: 2m 2s\n",
      "111:\tlearn: 5604.0227509\ttotal: 15.4s\tremaining: 2m 1s\n",
      "112:\tlearn: 5604.0108516\ttotal: 15.5s\tremaining: 2m 1s\n",
      "113:\tlearn: 5603.9919965\ttotal: 15.7s\tremaining: 2m 1s\n",
      "114:\tlearn: 5603.9871351\ttotal: 15.8s\tremaining: 2m 1s\n",
      "115:\tlearn: 5603.9735013\ttotal: 15.9s\tremaining: 2m 1s\n",
      "116:\tlearn: 5603.9320697\ttotal: 16s\tremaining: 2m\n",
      "117:\tlearn: 5603.9149382\ttotal: 16.1s\tremaining: 2m\n",
      "118:\tlearn: 5603.8705367\ttotal: 16.2s\tremaining: 2m\n",
      "119:\tlearn: 5603.8417288\ttotal: 16.4s\tremaining: 2m\n",
      "120:\tlearn: 5603.8273454\ttotal: 16.5s\tremaining: 1m 59s\n",
      "121:\tlearn: 5603.8117085\ttotal: 16.6s\tremaining: 1m 59s\n",
      "122:\tlearn: 5603.7986159\ttotal: 16.7s\tremaining: 1m 59s\n",
      "123:\tlearn: 5603.7834250\ttotal: 16.8s\tremaining: 1m 59s\n",
      "124:\tlearn: 5603.7491345\ttotal: 17s\tremaining: 1m 58s\n",
      "125:\tlearn: 5603.7385837\ttotal: 17.1s\tremaining: 1m 58s\n",
      "126:\tlearn: 5603.7048404\ttotal: 17.2s\tremaining: 1m 58s\n",
      "127:\tlearn: 5603.6720774\ttotal: 17.4s\tremaining: 1m 58s\n",
      "128:\tlearn: 5603.6625691\ttotal: 17.5s\tremaining: 1m 58s\n",
      "129:\tlearn: 5603.6440301\ttotal: 17.6s\tremaining: 1m 57s\n",
      "130:\tlearn: 5603.6114201\ttotal: 17.7s\tremaining: 1m 57s\n",
      "131:\tlearn: 5603.5949288\ttotal: 17.9s\tremaining: 1m 57s\n",
      "132:\tlearn: 5603.5858542\ttotal: 18s\tremaining: 1m 57s\n",
      "133:\tlearn: 5603.5476252\ttotal: 18.1s\tremaining: 1m 56s\n",
      "134:\tlearn: 5603.5337030\ttotal: 18.2s\tremaining: 1m 56s\n",
      "135:\tlearn: 5603.5047454\ttotal: 18.3s\tremaining: 1m 56s\n",
      "136:\tlearn: 5603.5014884\ttotal: 18.4s\tremaining: 1m 55s\n",
      "137:\tlearn: 5603.4830128\ttotal: 18.5s\tremaining: 1m 55s\n",
      "138:\tlearn: 5603.4690913\ttotal: 18.7s\tremaining: 1m 55s\n",
      "139:\tlearn: 5603.4660160\ttotal: 18.8s\tremaining: 1m 55s\n",
      "140:\tlearn: 5603.4537297\ttotal: 18.9s\tremaining: 1m 54s\n",
      "141:\tlearn: 5603.4510188\ttotal: 19s\tremaining: 1m 54s\n",
      "142:\tlearn: 5603.4245686\ttotal: 19.1s\tremaining: 1m 54s\n",
      "143:\tlearn: 5603.4111619\ttotal: 19.3s\tremaining: 1m 54s\n",
      "144:\tlearn: 5603.3825111\ttotal: 19.4s\tremaining: 1m 54s\n",
      "145:\tlearn: 5603.3667571\ttotal: 19.5s\tremaining: 1m 54s\n",
      "146:\tlearn: 5603.3378561\ttotal: 19.7s\tremaining: 1m 54s\n",
      "147:\tlearn: 5603.3216449\ttotal: 19.8s\tremaining: 1m 54s\n",
      "148:\tlearn: 5603.3113063\ttotal: 19.9s\tremaining: 1m 53s\n",
      "149:\tlearn: 5603.2857623\ttotal: 20.1s\tremaining: 1m 53s\n",
      "150:\tlearn: 5603.2614975\ttotal: 20.2s\tremaining: 1m 53s\n"
     ]
    },
    {
     "name": "stdout",
     "output_type": "stream",
     "text": [
      "151:\tlearn: 5603.2502868\ttotal: 20.3s\tremaining: 1m 53s\n",
      "152:\tlearn: 5603.2479298\ttotal: 20.4s\tremaining: 1m 53s\n",
      "153:\tlearn: 5603.2255215\ttotal: 20.5s\tremaining: 1m 52s\n",
      "154:\tlearn: 5603.2233254\ttotal: 20.8s\tremaining: 1m 53s\n",
      "155:\tlearn: 5603.2125237\ttotal: 21s\tremaining: 1m 53s\n",
      "156:\tlearn: 5603.1982880\ttotal: 21.1s\tremaining: 1m 53s\n",
      "157:\tlearn: 5603.1737223\ttotal: 21.2s\tremaining: 1m 53s\n",
      "158:\tlearn: 5603.0739111\ttotal: 21.3s\tremaining: 1m 52s\n",
      "159:\tlearn: 5603.0355150\ttotal: 21.5s\tremaining: 1m 52s\n",
      "160:\tlearn: 5602.9805566\ttotal: 21.6s\tremaining: 1m 52s\n",
      "161:\tlearn: 5602.9588636\ttotal: 21.8s\tremaining: 1m 52s\n",
      "162:\tlearn: 5602.9568167\ttotal: 21.9s\tremaining: 1m 52s\n",
      "163:\tlearn: 5602.9406075\ttotal: 22s\tremaining: 1m 52s\n",
      "164:\tlearn: 5602.9387002\ttotal: 22.1s\tremaining: 1m 51s\n",
      "165:\tlearn: 5602.9280054\ttotal: 22.3s\tremaining: 1m 51s\n",
      "166:\tlearn: 5602.9071643\ttotal: 22.4s\tremaining: 1m 51s\n",
      "167:\tlearn: 5602.9053869\ttotal: 22.5s\tremaining: 1m 51s\n",
      "168:\tlearn: 5602.8728662\ttotal: 22.6s\tremaining: 1m 51s\n",
      "169:\tlearn: 5602.8391113\ttotal: 22.7s\tremaining: 1m 50s\n",
      "170:\tlearn: 5602.7678032\ttotal: 22.9s\tremaining: 1m 50s\n",
      "171:\tlearn: 5602.7661467\ttotal: 23s\tremaining: 1m 50s\n",
      "172:\tlearn: 5602.7476976\ttotal: 23.1s\tremaining: 1m 50s\n",
      "173:\tlearn: 5602.7461539\ttotal: 23.2s\tremaining: 1m 50s\n",
      "174:\tlearn: 5602.7277624\ttotal: 23.3s\tremaining: 1m 50s\n",
      "175:\tlearn: 5602.7263239\ttotal: 23.5s\tremaining: 1m 49s\n",
      "176:\tlearn: 5602.7144125\ttotal: 23.6s\tremaining: 1m 49s\n",
      "177:\tlearn: 5602.6954280\ttotal: 23.7s\tremaining: 1m 49s\n",
      "178:\tlearn: 5602.6940852\ttotal: 23.8s\tremaining: 1m 49s\n",
      "179:\tlearn: 5602.6755446\ttotal: 24s\tremaining: 1m 49s\n",
      "180:\tlearn: 5602.6573124\ttotal: 24.1s\tremaining: 1m 49s\n",
      "181:\tlearn: 5602.6438968\ttotal: 24.2s\tremaining: 1m 48s\n",
      "182:\tlearn: 5602.6262462\ttotal: 24.4s\tremaining: 1m 48s\n",
      "183:\tlearn: 5602.6113966\ttotal: 24.5s\tremaining: 1m 48s\n",
      "184:\tlearn: 5602.6101440\ttotal: 24.6s\tremaining: 1m 48s\n",
      "185:\tlearn: 5602.5940977\ttotal: 24.8s\tremaining: 1m 48s\n",
      "186:\tlearn: 5602.5929303\ttotal: 24.9s\tremaining: 1m 48s\n",
      "187:\tlearn: 5602.5918423\ttotal: 25s\tremaining: 1m 47s\n",
      "188:\tlearn: 5602.5908281\ttotal: 25.1s\tremaining: 1m 47s\n",
      "189:\tlearn: 5602.5704784\ttotal: 25.2s\tremaining: 1m 47s\n",
      "190:\tlearn: 5602.5563066\ttotal: 25.3s\tremaining: 1m 47s\n",
      "191:\tlearn: 5602.5553611\ttotal: 25.4s\tremaining: 1m 47s\n",
      "192:\tlearn: 5602.5364354\ttotal: 25.6s\tremaining: 1m 46s\n",
      "193:\tlearn: 5602.5220918\ttotal: 25.7s\tremaining: 1m 46s\n",
      "194:\tlearn: 5602.5087235\ttotal: 25.8s\tremaining: 1m 46s\n",
      "195:\tlearn: 5602.4779436\ttotal: 26s\tremaining: 1m 46s\n",
      "196:\tlearn: 5602.4484119\ttotal: 26.1s\tremaining: 1m 46s\n",
      "197:\tlearn: 5602.4475308\ttotal: 26.2s\tremaining: 1m 46s\n",
      "198:\tlearn: 5602.4318151\ttotal: 26.3s\tremaining: 1m 45s\n",
      "199:\tlearn: 5602.4309937\ttotal: 26.4s\tremaining: 1m 45s\n",
      "200:\tlearn: 5602.4172394\ttotal: 26.5s\tremaining: 1m 45s\n",
      "201:\tlearn: 5602.4164737\ttotal: 26.6s\tremaining: 1m 45s\n",
      "202:\tlearn: 5602.4071861\ttotal: 26.8s\tremaining: 1m 45s\n",
      "203:\tlearn: 5602.3976523\ttotal: 26.9s\tremaining: 1m 44s\n",
      "204:\tlearn: 5602.3803943\ttotal: 27s\tremaining: 1m 44s\n",
      "205:\tlearn: 5602.3665164\ttotal: 27.2s\tremaining: 1m 44s\n",
      "206:\tlearn: 5602.3658026\ttotal: 27.3s\tremaining: 1m 44s\n",
      "207:\tlearn: 5602.3495461\ttotal: 27.4s\tremaining: 1m 44s\n",
      "208:\tlearn: 5602.3426025\ttotal: 27.5s\tremaining: 1m 44s\n",
      "209:\tlearn: 5602.3419371\ttotal: 27.6s\tremaining: 1m 43s\n",
      "210:\tlearn: 5602.3273747\ttotal: 27.7s\tremaining: 1m 43s\n",
      "211:\tlearn: 5602.3201961\ttotal: 27.9s\tremaining: 1m 43s\n",
      "212:\tlearn: 5602.3080609\ttotal: 28s\tremaining: 1m 43s\n",
      "213:\tlearn: 5602.2923688\ttotal: 28.1s\tremaining: 1m 43s\n",
      "214:\tlearn: 5602.2825059\ttotal: 28.3s\tremaining: 1m 43s\n",
      "215:\tlearn: 5602.2732529\ttotal: 28.4s\tremaining: 1m 43s\n",
      "216:\tlearn: 5602.2332731\ttotal: 28.6s\tremaining: 1m 43s\n",
      "217:\tlearn: 5602.2110278\ttotal: 28.8s\tremaining: 1m 43s\n",
      "218:\tlearn: 5602.1788479\ttotal: 28.9s\tremaining: 1m 43s\n",
      "219:\tlearn: 5602.1517920\ttotal: 29.1s\tremaining: 1m 43s\n",
      "220:\tlearn: 5602.1406920\ttotal: 29.2s\tremaining: 1m 43s\n",
      "221:\tlearn: 5602.1401129\ttotal: 29.4s\tremaining: 1m 42s\n",
      "222:\tlearn: 5602.1234479\ttotal: 29.5s\tremaining: 1m 42s\n",
      "223:\tlearn: 5602.1229079\ttotal: 29.7s\tremaining: 1m 42s\n",
      "224:\tlearn: 5602.1046901\ttotal: 29.9s\tremaining: 1m 42s\n",
      "225:\tlearn: 5602.1041866\ttotal: 30s\tremaining: 1m 42s\n",
      "226:\tlearn: 5602.0905992\ttotal: 30.1s\tremaining: 1m 42s\n",
      "227:\tlearn: 5602.0751641\ttotal: 30.2s\tremaining: 1m 42s\n",
      "228:\tlearn: 5602.0746948\ttotal: 30.3s\tremaining: 1m 42s\n",
      "229:\tlearn: 5602.0689758\ttotal: 30.5s\tremaining: 1m 42s\n",
      "230:\tlearn: 5602.0614440\ttotal: 30.6s\tremaining: 1m 41s\n",
      "231:\tlearn: 5602.0459522\ttotal: 30.8s\tremaining: 1m 41s\n",
      "232:\tlearn: 5602.0344124\ttotal: 30.9s\tremaining: 1m 41s\n",
      "233:\tlearn: 5602.0251444\ttotal: 31s\tremaining: 1m 41s\n",
      "234:\tlearn: 5602.0247364\ttotal: 31.1s\tremaining: 1m 41s\n",
      "235:\tlearn: 5601.9677903\ttotal: 31.2s\tremaining: 1m 41s\n",
      "236:\tlearn: 5601.9551323\ttotal: 31.3s\tremaining: 1m 40s\n",
      "237:\tlearn: 5601.9218365\ttotal: 31.5s\tremaining: 1m 40s\n",
      "238:\tlearn: 5601.9113462\ttotal: 31.6s\tremaining: 1m 40s\n",
      "239:\tlearn: 5601.9021812\ttotal: 31.7s\tremaining: 1m 40s\n",
      "240:\tlearn: 5601.8941929\ttotal: 31.9s\tremaining: 1m 40s\n",
      "241:\tlearn: 5601.8938126\ttotal: 32s\tremaining: 1m 40s\n",
      "242:\tlearn: 5601.8815924\ttotal: 32.1s\tremaining: 1m 39s\n",
      "243:\tlearn: 5601.8727159\ttotal: 32.2s\tremaining: 1m 39s\n",
      "244:\tlearn: 5601.8631672\ttotal: 32.3s\tremaining: 1m 39s\n",
      "245:\tlearn: 5601.8582781\ttotal: 32.5s\tremaining: 1m 39s\n",
      "246:\tlearn: 5601.8457276\ttotal: 32.6s\tremaining: 1m 39s\n",
      "247:\tlearn: 5601.8453969\ttotal: 32.7s\tremaining: 1m 39s\n",
      "248:\tlearn: 5601.8450886\ttotal: 32.8s\tremaining: 1m 38s\n",
      "249:\tlearn: 5601.8346441\ttotal: 32.9s\tremaining: 1m 38s\n",
      "250:\tlearn: 5601.8218486\ttotal: 33.1s\tremaining: 1m 38s\n",
      "251:\tlearn: 5601.8153840\ttotal: 33.2s\tremaining: 1m 38s\n",
      "252:\tlearn: 5601.8102211\ttotal: 33.3s\tremaining: 1m 38s\n",
      "253:\tlearn: 5601.8006171\ttotal: 33.5s\tremaining: 1m 38s\n",
      "254:\tlearn: 5601.7881366\ttotal: 33.6s\tremaining: 1m 38s\n",
      "255:\tlearn: 5601.7878866\ttotal: 33.7s\tremaining: 1m 37s\n",
      "256:\tlearn: 5601.7832632\ttotal: 33.8s\tremaining: 1m 37s\n",
      "257:\tlearn: 5601.7736570\ttotal: 33.9s\tremaining: 1m 37s\n",
      "258:\tlearn: 5601.7678264\ttotal: 34.1s\tremaining: 1m 37s\n",
      "259:\tlearn: 5601.7543726\ttotal: 34.2s\tremaining: 1m 37s\n",
      "260:\tlearn: 5601.7348137\ttotal: 34.3s\tremaining: 1m 37s\n",
      "261:\tlearn: 5601.7245175\ttotal: 34.4s\tremaining: 1m 36s\n",
      "262:\tlearn: 5601.7151798\ttotal: 34.6s\tremaining: 1m 36s\n",
      "263:\tlearn: 5601.7149624\ttotal: 34.7s\tremaining: 1m 36s\n",
      "264:\tlearn: 5601.7022594\ttotal: 34.8s\tremaining: 1m 36s\n",
      "265:\tlearn: 5601.6912326\ttotal: 34.9s\tremaining: 1m 36s\n",
      "266:\tlearn: 5601.6850906\ttotal: 35s\tremaining: 1m 36s\n",
      "267:\tlearn: 5601.6807829\ttotal: 35.2s\tremaining: 1m 36s\n",
      "268:\tlearn: 5601.6805941\ttotal: 35.3s\tremaining: 1m 35s\n",
      "269:\tlearn: 5601.6558106\ttotal: 35.4s\tremaining: 1m 35s\n",
      "270:\tlearn: 5601.6401652\ttotal: 35.5s\tremaining: 1m 35s\n",
      "271:\tlearn: 5601.6399891\ttotal: 35.6s\tremaining: 1m 35s\n",
      "272:\tlearn: 5601.6294944\ttotal: 35.8s\tremaining: 1m 35s\n",
      "273:\tlearn: 5601.6259907\ttotal: 35.9s\tremaining: 1m 35s\n",
      "274:\tlearn: 5601.6131462\ttotal: 36s\tremaining: 1m 34s\n",
      "275:\tlearn: 5601.6049967\ttotal: 36.1s\tremaining: 1m 34s\n",
      "276:\tlearn: 5601.6014895\ttotal: 36.2s\tremaining: 1m 34s\n",
      "277:\tlearn: 5601.6013468\ttotal: 36.3s\tremaining: 1m 34s\n",
      "278:\tlearn: 5601.5886041\ttotal: 36.5s\tremaining: 1m 34s\n",
      "279:\tlearn: 5601.5762585\ttotal: 36.6s\tremaining: 1m 34s\n",
      "280:\tlearn: 5601.5682456\ttotal: 36.7s\tremaining: 1m 33s\n",
      "281:\tlearn: 5601.5681215\ttotal: 36.8s\tremaining: 1m 33s\n",
      "282:\tlearn: 5601.5331331\ttotal: 36.9s\tremaining: 1m 33s\n",
      "283:\tlearn: 5601.5149863\ttotal: 37.1s\tremaining: 1m 33s\n",
      "284:\tlearn: 5601.5056123\ttotal: 37.2s\tremaining: 1m 33s\n",
      "285:\tlearn: 5601.4954507\ttotal: 37.3s\tremaining: 1m 33s\n",
      "286:\tlearn: 5601.4401700\ttotal: 37.5s\tremaining: 1m 33s\n",
      "287:\tlearn: 5601.4321011\ttotal: 37.6s\tremaining: 1m 32s\n",
      "288:\tlearn: 5601.4225451\ttotal: 37.7s\tremaining: 1m 32s\n",
      "289:\tlearn: 5601.4129936\ttotal: 37.9s\tremaining: 1m 32s\n",
      "290:\tlearn: 5601.4043239\ttotal: 38s\tremaining: 1m 32s\n",
      "291:\tlearn: 5601.3922628\ttotal: 38.1s\tremaining: 1m 32s\n",
      "292:\tlearn: 5601.3817249\ttotal: 38.2s\tremaining: 1m 32s\n",
      "293:\tlearn: 5601.3582656\ttotal: 38.4s\tremaining: 1m 32s\n",
      "294:\tlearn: 5601.3549443\ttotal: 38.5s\tremaining: 1m 32s\n",
      "295:\tlearn: 5601.3458590\ttotal: 38.6s\tremaining: 1m 31s\n",
      "296:\tlearn: 5601.3410394\ttotal: 38.8s\tremaining: 1m 31s\n",
      "297:\tlearn: 5601.3321063\ttotal: 38.9s\tremaining: 1m 31s\n",
      "298:\tlearn: 5601.3203607\ttotal: 39s\tremaining: 1m 31s\n"
     ]
    },
    {
     "name": "stdout",
     "output_type": "stream",
     "text": [
      "299:\tlearn: 5601.3058075\ttotal: 39.1s\tremaining: 1m 31s\n",
      "300:\tlearn: 5601.2845367\ttotal: 39.2s\tremaining: 1m 31s\n",
      "301:\tlearn: 5601.2732211\ttotal: 39.4s\tremaining: 1m 31s\n",
      "302:\tlearn: 5601.2611902\ttotal: 39.5s\tremaining: 1m 30s\n",
      "303:\tlearn: 5601.2509025\ttotal: 39.7s\tremaining: 1m 30s\n",
      "304:\tlearn: 5601.2438853\ttotal: 39.8s\tremaining: 1m 30s\n",
      "305:\tlearn: 5601.2367927\ttotal: 39.9s\tremaining: 1m 30s\n",
      "306:\tlearn: 5601.2366920\ttotal: 40s\tremaining: 1m 30s\n",
      "307:\tlearn: 5601.2122523\ttotal: 40.1s\tremaining: 1m 30s\n",
      "308:\tlearn: 5601.2010379\ttotal: 40.2s\tremaining: 1m 29s\n",
      "309:\tlearn: 5601.1895260\ttotal: 40.4s\tremaining: 1m 29s\n",
      "310:\tlearn: 5601.1590672\ttotal: 40.5s\tremaining: 1m 29s\n",
      "311:\tlearn: 5601.1370475\ttotal: 40.6s\tremaining: 1m 29s\n",
      "312:\tlearn: 5601.1311044\ttotal: 40.8s\tremaining: 1m 29s\n",
      "313:\tlearn: 5601.1199336\ttotal: 40.9s\tremaining: 1m 29s\n",
      "314:\tlearn: 5601.1111738\ttotal: 41s\tremaining: 1m 29s\n",
      "315:\tlearn: 5601.1081760\ttotal: 41.1s\tremaining: 1m 29s\n",
      "316:\tlearn: 5601.0891995\ttotal: 41.3s\tremaining: 1m 28s\n",
      "317:\tlearn: 5601.0801426\ttotal: 41.4s\tremaining: 1m 28s\n",
      "318:\tlearn: 5601.0607984\ttotal: 41.5s\tremaining: 1m 28s\n",
      "319:\tlearn: 5601.0578118\ttotal: 41.6s\tremaining: 1m 28s\n",
      "320:\tlearn: 5601.0549946\ttotal: 41.8s\tremaining: 1m 28s\n",
      "321:\tlearn: 5601.0513223\ttotal: 41.9s\tremaining: 1m 28s\n",
      "322:\tlearn: 5601.0405916\ttotal: 42s\tremaining: 1m 28s\n",
      "323:\tlearn: 5601.0361575\ttotal: 42.2s\tremaining: 1m 27s\n",
      "324:\tlearn: 5601.0232688\ttotal: 42.3s\tremaining: 1m 27s\n",
      "325:\tlearn: 5601.0106206\ttotal: 42.4s\tremaining: 1m 27s\n",
      "326:\tlearn: 5600.9990528\ttotal: 42.6s\tremaining: 1m 27s\n",
      "327:\tlearn: 5600.9852764\ttotal: 42.7s\tremaining: 1m 27s\n",
      "328:\tlearn: 5600.9719061\ttotal: 42.8s\tremaining: 1m 27s\n",
      "329:\tlearn: 5600.9627428\ttotal: 42.9s\tremaining: 1m 27s\n",
      "330:\tlearn: 5600.9461843\ttotal: 43.1s\tremaining: 1m 27s\n",
      "331:\tlearn: 5600.9437162\ttotal: 43.2s\tremaining: 1m 26s\n",
      "332:\tlearn: 5600.9415066\ttotal: 43.3s\tremaining: 1m 26s\n",
      "333:\tlearn: 5600.9211885\ttotal: 43.5s\tremaining: 1m 26s\n",
      "334:\tlearn: 5600.9143168\ttotal: 43.6s\tremaining: 1m 26s\n",
      "335:\tlearn: 5600.9057537\ttotal: 43.7s\tremaining: 1m 26s\n",
      "336:\tlearn: 5600.8888612\ttotal: 43.8s\tremaining: 1m 26s\n",
      "337:\tlearn: 5600.8828422\ttotal: 44s\tremaining: 1m 26s\n",
      "338:\tlearn: 5600.8740912\ttotal: 44.1s\tremaining: 1m 25s\n",
      "339:\tlearn: 5600.8647293\ttotal: 44.2s\tremaining: 1m 25s\n",
      "340:\tlearn: 5600.8624965\ttotal: 44.3s\tremaining: 1m 25s\n",
      "341:\tlearn: 5600.8575568\ttotal: 44.5s\tremaining: 1m 25s\n",
      "342:\tlearn: 5600.8547709\ttotal: 44.6s\tremaining: 1m 25s\n",
      "343:\tlearn: 5600.8517033\ttotal: 44.7s\tremaining: 1m 25s\n",
      "344:\tlearn: 5600.8443681\ttotal: 44.8s\tremaining: 1m 25s\n",
      "345:\tlearn: 5600.8349170\ttotal: 45s\tremaining: 1m 24s\n",
      "346:\tlearn: 5600.8254790\ttotal: 45.1s\tremaining: 1m 24s\n",
      "347:\tlearn: 5600.8185431\ttotal: 45.2s\tremaining: 1m 24s\n",
      "348:\tlearn: 5600.7810742\ttotal: 45.3s\tremaining: 1m 24s\n",
      "349:\tlearn: 5600.7744728\ttotal: 45.5s\tremaining: 1m 24s\n",
      "350:\tlearn: 5600.7695973\ttotal: 45.6s\tremaining: 1m 24s\n",
      "351:\tlearn: 5600.7547471\ttotal: 45.7s\tremaining: 1m 24s\n",
      "352:\tlearn: 5600.7476934\ttotal: 45.8s\tremaining: 1m 24s\n",
      "353:\tlearn: 5600.7410006\ttotal: 46s\tremaining: 1m 23s\n",
      "354:\tlearn: 5600.7320511\ttotal: 46.1s\tremaining: 1m 23s\n",
      "355:\tlearn: 5600.7193829\ttotal: 46.2s\tremaining: 1m 23s\n",
      "356:\tlearn: 5600.7016879\ttotal: 46.4s\tremaining: 1m 23s\n",
      "357:\tlearn: 5600.6984243\ttotal: 46.5s\tremaining: 1m 23s\n",
      "358:\tlearn: 5600.6958043\ttotal: 46.6s\tremaining: 1m 23s\n",
      "359:\tlearn: 5600.6939232\ttotal: 46.7s\tremaining: 1m 23s\n",
      "360:\tlearn: 5600.6811569\ttotal: 46.9s\tremaining: 1m 22s\n",
      "361:\tlearn: 5600.6704068\ttotal: 47s\tremaining: 1m 22s\n",
      "362:\tlearn: 5600.6614283\ttotal: 47.1s\tremaining: 1m 22s\n",
      "363:\tlearn: 5600.6559422\ttotal: 47.2s\tremaining: 1m 22s\n",
      "364:\tlearn: 5600.6461571\ttotal: 47.4s\tremaining: 1m 22s\n",
      "365:\tlearn: 5600.6437622\ttotal: 47.5s\tremaining: 1m 22s\n",
      "366:\tlearn: 5600.6282198\ttotal: 47.6s\tremaining: 1m 22s\n",
      "367:\tlearn: 5600.6226652\ttotal: 47.8s\tremaining: 1m 22s\n",
      "368:\tlearn: 5600.6049046\ttotal: 47.9s\tremaining: 1m 21s\n",
      "369:\tlearn: 5600.5994437\ttotal: 48s\tremaining: 1m 21s\n",
      "370:\tlearn: 5600.5974335\ttotal: 48.1s\tremaining: 1m 21s\n",
      "371:\tlearn: 5600.5946189\ttotal: 48.3s\tremaining: 1m 21s\n",
      "372:\tlearn: 5600.5895375\ttotal: 48.4s\tremaining: 1m 21s\n",
      "373:\tlearn: 5600.5785486\ttotal: 48.5s\tremaining: 1m 21s\n",
      "374:\tlearn: 5600.5692438\ttotal: 48.6s\tremaining: 1m 21s\n",
      "375:\tlearn: 5600.5590210\ttotal: 48.8s\tremaining: 1m 20s\n",
      "376:\tlearn: 5600.5507956\ttotal: 48.9s\tremaining: 1m 20s\n",
      "377:\tlearn: 5600.5418807\ttotal: 49s\tremaining: 1m 20s\n",
      "378:\tlearn: 5600.5293382\ttotal: 49.1s\tremaining: 1m 20s\n",
      "379:\tlearn: 5600.4936570\ttotal: 49.2s\tremaining: 1m 20s\n",
      "380:\tlearn: 5600.4851513\ttotal: 49.4s\tremaining: 1m 20s\n",
      "381:\tlearn: 5600.4838731\ttotal: 49.5s\tremaining: 1m 20s\n",
      "382:\tlearn: 5600.4773825\ttotal: 49.6s\tremaining: 1m 19s\n",
      "383:\tlearn: 5600.4660723\ttotal: 49.8s\tremaining: 1m 19s\n",
      "384:\tlearn: 5600.4486621\ttotal: 49.9s\tremaining: 1m 19s\n",
      "385:\tlearn: 5600.4232398\ttotal: 50s\tremaining: 1m 19s\n",
      "386:\tlearn: 5600.4137126\ttotal: 50.2s\tremaining: 1m 19s\n",
      "387:\tlearn: 5600.4064658\ttotal: 50.3s\tremaining: 1m 19s\n",
      "388:\tlearn: 5600.4011548\ttotal: 50.4s\tremaining: 1m 19s\n",
      "389:\tlearn: 5600.3976353\ttotal: 50.6s\tremaining: 1m 19s\n",
      "390:\tlearn: 5600.3964270\ttotal: 50.7s\tremaining: 1m 18s\n",
      "391:\tlearn: 5600.3749742\ttotal: 50.8s\tremaining: 1m 18s\n",
      "392:\tlearn: 5600.3696443\ttotal: 51s\tremaining: 1m 18s\n",
      "393:\tlearn: 5600.3609385\ttotal: 51.1s\tremaining: 1m 18s\n",
      "394:\tlearn: 5600.3590415\ttotal: 51.2s\tremaining: 1m 18s\n",
      "395:\tlearn: 5600.3510408\ttotal: 51.3s\tremaining: 1m 18s\n",
      "396:\tlearn: 5600.3439178\ttotal: 51.5s\tremaining: 1m 18s\n",
      "397:\tlearn: 5600.3357628\ttotal: 51.6s\tremaining: 1m 18s\n",
      "398:\tlearn: 5600.3087160\ttotal: 51.7s\tremaining: 1m 17s\n",
      "399:\tlearn: 5600.2951240\ttotal: 51.9s\tremaining: 1m 17s\n",
      "400:\tlearn: 5600.2878650\ttotal: 52s\tremaining: 1m 17s\n",
      "401:\tlearn: 5600.2814052\ttotal: 52.1s\tremaining: 1m 17s\n",
      "402:\tlearn: 5600.2753794\ttotal: 52.2s\tremaining: 1m 17s\n",
      "403:\tlearn: 5600.2531888\ttotal: 52.4s\tremaining: 1m 17s\n",
      "404:\tlearn: 5600.2520752\ttotal: 52.5s\tremaining: 1m 17s\n",
      "405:\tlearn: 5600.2426138\ttotal: 52.6s\tremaining: 1m 16s\n",
      "406:\tlearn: 5600.2417991\ttotal: 52.7s\tremaining: 1m 16s\n",
      "407:\tlearn: 5600.2378091\ttotal: 52.9s\tremaining: 1m 16s\n",
      "408:\tlearn: 5600.2337961\ttotal: 53s\tremaining: 1m 16s\n",
      "409:\tlearn: 5600.2199255\ttotal: 53.1s\tremaining: 1m 16s\n",
      "410:\tlearn: 5600.2114420\ttotal: 53.2s\tremaining: 1m 16s\n",
      "411:\tlearn: 5600.2055895\ttotal: 53.4s\tremaining: 1m 16s\n",
      "412:\tlearn: 5600.2002735\ttotal: 53.5s\tremaining: 1m 16s\n",
      "413:\tlearn: 5600.1920335\ttotal: 53.6s\tremaining: 1m 15s\n",
      "414:\tlearn: 5600.1826504\ttotal: 53.8s\tremaining: 1m 15s\n",
      "415:\tlearn: 5600.1726174\ttotal: 53.9s\tremaining: 1m 15s\n",
      "416:\tlearn: 5600.1662820\ttotal: 54s\tremaining: 1m 15s\n",
      "417:\tlearn: 5600.1502505\ttotal: 54.2s\tremaining: 1m 15s\n",
      "418:\tlearn: 5600.1434825\ttotal: 54.3s\tremaining: 1m 15s\n",
      "419:\tlearn: 5600.1190624\ttotal: 54.4s\tremaining: 1m 15s\n",
      "420:\tlearn: 5600.1104603\ttotal: 54.5s\tremaining: 1m 15s\n",
      "421:\tlearn: 5600.0982441\ttotal: 54.7s\tremaining: 1m 14s\n",
      "422:\tlearn: 5600.0951393\ttotal: 54.8s\tremaining: 1m 14s\n",
      "423:\tlearn: 5600.0881143\ttotal: 54.9s\tremaining: 1m 14s\n",
      "424:\tlearn: 5600.0799111\ttotal: 55s\tremaining: 1m 14s\n",
      "425:\tlearn: 5600.0773572\ttotal: 55.2s\tremaining: 1m 14s\n",
      "426:\tlearn: 5600.0659658\ttotal: 55.3s\tremaining: 1m 14s\n",
      "427:\tlearn: 5600.0633600\ttotal: 55.4s\tremaining: 1m 14s\n",
      "428:\tlearn: 5600.0601470\ttotal: 55.5s\tremaining: 1m 13s\n",
      "429:\tlearn: 5600.0564144\ttotal: 55.7s\tremaining: 1m 13s\n",
      "430:\tlearn: 5600.0522709\ttotal: 55.8s\tremaining: 1m 13s\n",
      "431:\tlearn: 5600.0404444\ttotal: 55.9s\tremaining: 1m 13s\n",
      "432:\tlearn: 5600.0330141\ttotal: 56s\tremaining: 1m 13s\n",
      "433:\tlearn: 5600.0279213\ttotal: 56.2s\tremaining: 1m 13s\n",
      "434:\tlearn: 5600.0205607\ttotal: 56.3s\tremaining: 1m 13s\n",
      "435:\tlearn: 5600.0100836\ttotal: 56.4s\tremaining: 1m 12s\n",
      "436:\tlearn: 5600.0030672\ttotal: 56.5s\tremaining: 1m 12s\n",
      "437:\tlearn: 5599.9986162\ttotal: 56.7s\tremaining: 1m 12s\n",
      "438:\tlearn: 5599.9916515\ttotal: 56.8s\tremaining: 1m 12s\n",
      "439:\tlearn: 5599.9842087\ttotal: 56.9s\tremaining: 1m 12s\n",
      "440:\tlearn: 5599.9780700\ttotal: 57s\tremaining: 1m 12s\n",
      "441:\tlearn: 5599.9703718\ttotal: 57.2s\tremaining: 1m 12s\n",
      "442:\tlearn: 5599.9556042\ttotal: 57.3s\tremaining: 1m 12s\n",
      "443:\tlearn: 5599.9536321\ttotal: 57.4s\tremaining: 1m 11s\n",
      "444:\tlearn: 5599.9397379\ttotal: 57.6s\tremaining: 1m 11s\n",
      "445:\tlearn: 5599.9355435\ttotal: 57.7s\tremaining: 1m 11s\n",
      "446:\tlearn: 5599.9309841\ttotal: 57.8s\tremaining: 1m 11s\n"
     ]
    },
    {
     "name": "stdout",
     "output_type": "stream",
     "text": [
      "447:\tlearn: 5599.9270910\ttotal: 57.9s\tremaining: 1m 11s\n",
      "448:\tlearn: 5599.9200813\ttotal: 58.1s\tremaining: 1m 11s\n",
      "449:\tlearn: 5599.9092418\ttotal: 58.2s\tremaining: 1m 11s\n",
      "450:\tlearn: 5599.9008295\ttotal: 58.3s\tremaining: 1m 10s\n",
      "451:\tlearn: 5599.8925010\ttotal: 58.4s\tremaining: 1m 10s\n",
      "452:\tlearn: 5599.8844128\ttotal: 58.6s\tremaining: 1m 10s\n",
      "453:\tlearn: 5599.8785625\ttotal: 58.7s\tremaining: 1m 10s\n",
      "454:\tlearn: 5599.8762755\ttotal: 58.8s\tremaining: 1m 10s\n",
      "455:\tlearn: 5599.8675871\ttotal: 58.9s\tremaining: 1m 10s\n",
      "456:\tlearn: 5599.8476312\ttotal: 59.1s\tremaining: 1m 10s\n",
      "457:\tlearn: 5599.8333246\ttotal: 59.2s\tremaining: 1m 10s\n",
      "458:\tlearn: 5599.8286025\ttotal: 59.3s\tremaining: 1m 9s\n",
      "459:\tlearn: 5599.8218588\ttotal: 59.5s\tremaining: 1m 9s\n",
      "460:\tlearn: 5599.8136378\ttotal: 59.6s\tremaining: 1m 9s\n",
      "461:\tlearn: 5599.8020592\ttotal: 59.7s\tremaining: 1m 9s\n",
      "462:\tlearn: 5599.7971915\ttotal: 59.8s\tremaining: 1m 9s\n",
      "463:\tlearn: 5599.7909735\ttotal: 59.9s\tremaining: 1m 9s\n",
      "464:\tlearn: 5599.7877760\ttotal: 1m\tremaining: 1m 9s\n",
      "465:\tlearn: 5599.7771997\ttotal: 1m\tremaining: 1m 8s\n",
      "466:\tlearn: 5599.7723687\ttotal: 1m\tremaining: 1m 8s\n",
      "467:\tlearn: 5599.7631874\ttotal: 1m\tremaining: 1m 8s\n",
      "468:\tlearn: 5599.7585694\ttotal: 1m\tremaining: 1m 8s\n",
      "469:\tlearn: 5599.7551571\ttotal: 1m\tremaining: 1m 8s\n",
      "470:\tlearn: 5599.7533285\ttotal: 1m\tremaining: 1m 8s\n",
      "471:\tlearn: 5599.7410062\ttotal: 1m\tremaining: 1m 8s\n",
      "472:\tlearn: 5599.7381460\ttotal: 1m 1s\tremaining: 1m 8s\n",
      "473:\tlearn: 5599.7267345\ttotal: 1m 1s\tremaining: 1m 7s\n",
      "474:\tlearn: 5599.7212808\ttotal: 1m 1s\tremaining: 1m 7s\n",
      "475:\tlearn: 5599.7155269\ttotal: 1m 1s\tremaining: 1m 7s\n",
      "476:\tlearn: 5599.7084469\ttotal: 1m 1s\tremaining: 1m 7s\n",
      "477:\tlearn: 5599.7035193\ttotal: 1m 1s\tremaining: 1m 7s\n",
      "478:\tlearn: 5599.6953510\ttotal: 1m 1s\tremaining: 1m 7s\n",
      "479:\tlearn: 5599.6847497\ttotal: 1m 1s\tremaining: 1m 7s\n",
      "480:\tlearn: 5599.6732926\ttotal: 1m 2s\tremaining: 1m 6s\n",
      "481:\tlearn: 5599.6680241\ttotal: 1m 2s\tremaining: 1m 6s\n",
      "482:\tlearn: 5599.6622415\ttotal: 1m 2s\tremaining: 1m 6s\n",
      "483:\tlearn: 5599.6547345\ttotal: 1m 2s\tremaining: 1m 6s\n",
      "484:\tlearn: 5599.6384754\ttotal: 1m 2s\tremaining: 1m 6s\n",
      "485:\tlearn: 5599.6331499\ttotal: 1m 2s\tremaining: 1m 6s\n",
      "486:\tlearn: 5599.6233706\ttotal: 1m 2s\tremaining: 1m 6s\n",
      "487:\tlearn: 5599.6202847\ttotal: 1m 2s\tremaining: 1m 6s\n",
      "488:\tlearn: 5599.6118256\ttotal: 1m 3s\tremaining: 1m 5s\n",
      "489:\tlearn: 5599.6053917\ttotal: 1m 3s\tremaining: 1m 5s\n",
      "490:\tlearn: 5599.5979294\ttotal: 1m 3s\tremaining: 1m 5s\n",
      "491:\tlearn: 5599.5913571\ttotal: 1m 3s\tremaining: 1m 5s\n",
      "492:\tlearn: 5599.5843405\ttotal: 1m 3s\tremaining: 1m 5s\n",
      "493:\tlearn: 5599.5712724\ttotal: 1m 3s\tremaining: 1m 5s\n",
      "494:\tlearn: 5599.5678074\ttotal: 1m 3s\tremaining: 1m 5s\n",
      "495:\tlearn: 5599.5599207\ttotal: 1m 3s\tremaining: 1m 4s\n",
      "496:\tlearn: 5599.5560633\ttotal: 1m 4s\tremaining: 1m 4s\n",
      "497:\tlearn: 5599.5505133\ttotal: 1m 4s\tremaining: 1m 4s\n",
      "498:\tlearn: 5599.5438843\ttotal: 1m 4s\tremaining: 1m 4s\n",
      "499:\tlearn: 5599.5324855\ttotal: 1m 4s\tremaining: 1m 4s\n",
      "500:\tlearn: 5599.5256548\ttotal: 1m 4s\tremaining: 1m 4s\n",
      "501:\tlearn: 5599.5172825\ttotal: 1m 4s\tremaining: 1m 4s\n",
      "502:\tlearn: 5599.5148843\ttotal: 1m 4s\tremaining: 1m 4s\n",
      "503:\tlearn: 5599.5036655\ttotal: 1m 4s\tremaining: 1m 3s\n",
      "504:\tlearn: 5599.4984856\ttotal: 1m 5s\tremaining: 1m 3s\n",
      "505:\tlearn: 5599.4832379\ttotal: 1m 5s\tremaining: 1m 3s\n",
      "506:\tlearn: 5599.4690985\ttotal: 1m 5s\tremaining: 1m 3s\n",
      "507:\tlearn: 5599.4563517\ttotal: 1m 5s\tremaining: 1m 3s\n",
      "508:\tlearn: 5599.4492591\ttotal: 1m 5s\tremaining: 1m 3s\n",
      "509:\tlearn: 5599.4444673\ttotal: 1m 5s\tremaining: 1m 3s\n",
      "510:\tlearn: 5599.4378229\ttotal: 1m 5s\tremaining: 1m 3s\n",
      "511:\tlearn: 5599.4297367\ttotal: 1m 5s\tremaining: 1m 2s\n",
      "512:\tlearn: 5599.4224003\ttotal: 1m 6s\tremaining: 1m 2s\n",
      "513:\tlearn: 5599.4128743\ttotal: 1m 6s\tremaining: 1m 2s\n",
      "514:\tlearn: 5599.4078001\ttotal: 1m 6s\tremaining: 1m 2s\n",
      "515:\tlearn: 5599.4010614\ttotal: 1m 6s\tremaining: 1m 2s\n",
      "516:\tlearn: 5599.3931401\ttotal: 1m 6s\tremaining: 1m 2s\n",
      "517:\tlearn: 5599.3876410\ttotal: 1m 6s\tremaining: 1m 2s\n",
      "518:\tlearn: 5599.3829312\ttotal: 1m 6s\tremaining: 1m 1s\n",
      "519:\tlearn: 5599.3764754\ttotal: 1m 6s\tremaining: 1m 1s\n",
      "520:\tlearn: 5599.3688300\ttotal: 1m 7s\tremaining: 1m 1s\n",
      "521:\tlearn: 5599.3626207\ttotal: 1m 7s\tremaining: 1m 1s\n",
      "522:\tlearn: 5599.3383909\ttotal: 1m 7s\tremaining: 1m 1s\n",
      "523:\tlearn: 5599.3344550\ttotal: 1m 7s\tremaining: 1m 1s\n",
      "524:\tlearn: 5599.3292691\ttotal: 1m 7s\tremaining: 1m 1s\n",
      "525:\tlearn: 5599.3242584\ttotal: 1m 7s\tremaining: 1m 1s\n",
      "526:\tlearn: 5599.3204564\ttotal: 1m 8s\tremaining: 1m 1s\n",
      "527:\tlearn: 5599.3110056\ttotal: 1m 8s\tremaining: 1m\n",
      "528:\tlearn: 5599.3063183\ttotal: 1m 8s\tremaining: 1m\n",
      "529:\tlearn: 5599.2877588\ttotal: 1m 8s\tremaining: 1m\n",
      "530:\tlearn: 5599.2822301\ttotal: 1m 8s\tremaining: 1m\n",
      "531:\tlearn: 5599.2738996\ttotal: 1m 8s\tremaining: 1m\n",
      "532:\tlearn: 5599.2698881\ttotal: 1m 8s\tremaining: 1m\n",
      "533:\tlearn: 5599.2646829\ttotal: 1m 9s\tremaining: 1m\n",
      "534:\tlearn: 5599.2588677\ttotal: 1m 9s\tremaining: 1m\n",
      "535:\tlearn: 5599.2504832\ttotal: 1m 9s\tremaining: 1m\n",
      "536:\tlearn: 5599.2415421\ttotal: 1m 9s\tremaining: 60s\n",
      "537:\tlearn: 5599.2357883\ttotal: 1m 9s\tremaining: 59.9s\n",
      "538:\tlearn: 5599.2298177\ttotal: 1m 10s\tremaining: 59.9s\n",
      "539:\tlearn: 5599.2219387\ttotal: 1m 10s\tremaining: 59.8s\n",
      "540:\tlearn: 5599.2122532\ttotal: 1m 10s\tremaining: 59.7s\n",
      "541:\tlearn: 5599.2055118\ttotal: 1m 10s\tremaining: 59.6s\n",
      "542:\tlearn: 5599.1967886\ttotal: 1m 10s\tremaining: 59.5s\n",
      "543:\tlearn: 5599.1911101\ttotal: 1m 11s\tremaining: 59.7s\n",
      "544:\tlearn: 5599.1858316\ttotal: 1m 11s\tremaining: 59.7s\n",
      "545:\tlearn: 5599.1714821\ttotal: 1m 11s\tremaining: 59.5s\n",
      "546:\tlearn: 5599.1540828\ttotal: 1m 11s\tremaining: 59.5s\n",
      "547:\tlearn: 5599.1445584\ttotal: 1m 11s\tremaining: 59.4s\n",
      "548:\tlearn: 5599.1398780\ttotal: 1m 12s\tremaining: 59.2s\n",
      "549:\tlearn: 5599.1162546\ttotal: 1m 12s\tremaining: 59.2s\n",
      "550:\tlearn: 5599.1101098\ttotal: 1m 12s\tremaining: 59.1s\n",
      "551:\tlearn: 5599.1075032\ttotal: 1m 12s\tremaining: 58.9s\n",
      "552:\tlearn: 5599.0959735\ttotal: 1m 12s\tremaining: 58.9s\n",
      "553:\tlearn: 5599.0889940\ttotal: 1m 12s\tremaining: 58.7s\n",
      "554:\tlearn: 5599.0559203\ttotal: 1m 13s\tremaining: 58.6s\n",
      "555:\tlearn: 5599.0522709\ttotal: 1m 13s\tremaining: 58.6s\n",
      "556:\tlearn: 5599.0446007\ttotal: 1m 13s\tremaining: 58.8s\n",
      "557:\tlearn: 5599.0305645\ttotal: 1m 14s\tremaining: 58.8s\n",
      "558:\tlearn: 5599.0245984\ttotal: 1m 14s\tremaining: 58.7s\n",
      "559:\tlearn: 5599.0174226\ttotal: 1m 14s\tremaining: 58.6s\n",
      "560:\tlearn: 5599.0078276\ttotal: 1m 14s\tremaining: 58.6s\n",
      "561:\tlearn: 5598.9998265\ttotal: 1m 15s\tremaining: 58.5s\n",
      "562:\tlearn: 5598.9937445\ttotal: 1m 15s\tremaining: 58.4s\n",
      "563:\tlearn: 5598.9898606\ttotal: 1m 15s\tremaining: 58.3s\n",
      "564:\tlearn: 5598.9854069\ttotal: 1m 15s\tremaining: 58.2s\n",
      "565:\tlearn: 5598.9779979\ttotal: 1m 15s\tremaining: 58.1s\n",
      "566:\tlearn: 5598.9711398\ttotal: 1m 15s\tremaining: 58s\n",
      "567:\tlearn: 5598.9501722\ttotal: 1m 16s\tremaining: 57.9s\n",
      "568:\tlearn: 5598.9460496\ttotal: 1m 16s\tremaining: 57.8s\n",
      "569:\tlearn: 5598.9268778\ttotal: 1m 16s\tremaining: 57.6s\n",
      "570:\tlearn: 5598.9218510\ttotal: 1m 16s\tremaining: 57.5s\n",
      "571:\tlearn: 5598.9175106\ttotal: 1m 16s\tremaining: 57.4s\n",
      "572:\tlearn: 5598.9126400\ttotal: 1m 16s\tremaining: 57.3s\n",
      "573:\tlearn: 5598.9021691\ttotal: 1m 16s\tremaining: 57.1s\n",
      "574:\tlearn: 5598.8986033\ttotal: 1m 17s\tremaining: 57s\n",
      "575:\tlearn: 5598.8926903\ttotal: 1m 17s\tremaining: 56.9s\n",
      "576:\tlearn: 5598.8750864\ttotal: 1m 17s\tremaining: 56.8s\n",
      "577:\tlearn: 5598.8697320\ttotal: 1m 17s\tremaining: 56.7s\n",
      "578:\tlearn: 5598.8534002\ttotal: 1m 17s\tremaining: 56.5s\n",
      "579:\tlearn: 5598.8477059\ttotal: 1m 17s\tremaining: 56.4s\n",
      "580:\tlearn: 5598.8398171\ttotal: 1m 18s\tremaining: 56.3s\n",
      "581:\tlearn: 5598.8137459\ttotal: 1m 18s\tremaining: 56.1s\n",
      "582:\tlearn: 5598.8083141\ttotal: 1m 18s\tremaining: 56s\n",
      "583:\tlearn: 5598.8023654\ttotal: 1m 18s\tremaining: 55.9s\n",
      "584:\tlearn: 5598.7975124\ttotal: 1m 18s\tremaining: 55.9s\n",
      "585:\tlearn: 5598.7941473\ttotal: 1m 18s\tremaining: 55.7s\n",
      "586:\tlearn: 5598.7774377\ttotal: 1m 19s\tremaining: 55.6s\n",
      "587:\tlearn: 5598.7749815\ttotal: 1m 19s\tremaining: 55.5s\n",
      "588:\tlearn: 5598.7713147\ttotal: 1m 19s\tremaining: 55.3s\n",
      "589:\tlearn: 5598.7633418\ttotal: 1m 19s\tremaining: 55.2s\n",
      "590:\tlearn: 5598.7559028\ttotal: 1m 19s\tremaining: 55.1s\n",
      "591:\tlearn: 5598.7535182\ttotal: 1m 19s\tremaining: 54.9s\n",
      "592:\tlearn: 5598.7386232\ttotal: 1m 19s\tremaining: 54.8s\n",
      "593:\tlearn: 5598.7328523\ttotal: 1m 19s\tremaining: 54.7s\n",
      "594:\tlearn: 5598.7224731\ttotal: 1m 20s\tremaining: 54.6s\n",
      "595:\tlearn: 5598.7086420\ttotal: 1m 20s\tremaining: 54.4s\n"
     ]
    },
    {
     "name": "stdout",
     "output_type": "stream",
     "text": [
      "596:\tlearn: 5598.6966276\ttotal: 1m 20s\tremaining: 54.3s\n",
      "597:\tlearn: 5598.6825942\ttotal: 1m 20s\tremaining: 54.3s\n",
      "598:\tlearn: 5598.6727984\ttotal: 1m 20s\tremaining: 54.2s\n",
      "599:\tlearn: 5598.6615244\ttotal: 1m 21s\tremaining: 54s\n",
      "600:\tlearn: 5598.6570760\ttotal: 1m 21s\tremaining: 53.9s\n",
      "601:\tlearn: 5598.6465825\ttotal: 1m 21s\tremaining: 53.8s\n",
      "602:\tlearn: 5598.6430925\ttotal: 1m 21s\tremaining: 53.6s\n",
      "603:\tlearn: 5598.6378450\ttotal: 1m 21s\tremaining: 53.5s\n",
      "604:\tlearn: 5598.6282076\ttotal: 1m 21s\tremaining: 53.4s\n",
      "605:\tlearn: 5598.6218509\ttotal: 1m 21s\tremaining: 53.3s\n",
      "606:\tlearn: 5598.6091295\ttotal: 1m 22s\tremaining: 53.1s\n",
      "607:\tlearn: 5598.6008909\ttotal: 1m 22s\tremaining: 53s\n",
      "608:\tlearn: 5598.5952554\ttotal: 1m 22s\tremaining: 52.9s\n",
      "609:\tlearn: 5598.5909712\ttotal: 1m 22s\tremaining: 52.7s\n",
      "610:\tlearn: 5598.5800726\ttotal: 1m 22s\tremaining: 52.6s\n",
      "611:\tlearn: 5598.5747518\ttotal: 1m 22s\tremaining: 52.5s\n",
      "612:\tlearn: 5598.5708576\ttotal: 1m 22s\tremaining: 52.4s\n",
      "613:\tlearn: 5598.5650801\ttotal: 1m 23s\tremaining: 52.2s\n",
      "614:\tlearn: 5598.5558941\ttotal: 1m 23s\tremaining: 52.1s\n",
      "615:\tlearn: 5598.5494281\ttotal: 1m 23s\tremaining: 52s\n",
      "616:\tlearn: 5598.5387183\ttotal: 1m 23s\tremaining: 51.8s\n",
      "617:\tlearn: 5598.5348540\ttotal: 1m 23s\tremaining: 51.7s\n",
      "618:\tlearn: 5598.5301039\ttotal: 1m 23s\tremaining: 51.6s\n",
      "619:\tlearn: 5598.5246325\ttotal: 1m 23s\tremaining: 51.4s\n",
      "620:\tlearn: 5598.5212027\ttotal: 1m 24s\tremaining: 51.3s\n",
      "621:\tlearn: 5598.5159987\ttotal: 1m 24s\tremaining: 51.2s\n",
      "622:\tlearn: 5598.5135134\ttotal: 1m 24s\tremaining: 51.1s\n",
      "623:\tlearn: 5598.5084342\ttotal: 1m 24s\tremaining: 51s\n",
      "624:\tlearn: 5598.5004649\ttotal: 1m 24s\tremaining: 50.9s\n",
      "625:\tlearn: 5598.4991911\ttotal: 1m 24s\tremaining: 50.7s\n",
      "626:\tlearn: 5598.4928041\ttotal: 1m 25s\tremaining: 50.6s\n",
      "627:\tlearn: 5598.4894188\ttotal: 1m 25s\tremaining: 50.4s\n",
      "628:\tlearn: 5598.4856728\ttotal: 1m 25s\tremaining: 50.3s\n",
      "629:\tlearn: 5598.4818617\ttotal: 1m 25s\tremaining: 50.2s\n",
      "630:\tlearn: 5598.4734513\ttotal: 1m 25s\tremaining: 50s\n",
      "631:\tlearn: 5598.4647386\ttotal: 1m 25s\tremaining: 49.9s\n",
      "632:\tlearn: 5598.4627301\ttotal: 1m 25s\tremaining: 49.7s\n",
      "633:\tlearn: 5598.4599682\ttotal: 1m 25s\tremaining: 49.6s\n",
      "634:\tlearn: 5598.4523721\ttotal: 1m 26s\tremaining: 49.5s\n",
      "635:\tlearn: 5598.4486143\ttotal: 1m 26s\tremaining: 49.3s\n",
      "636:\tlearn: 5598.4449067\ttotal: 1m 26s\tremaining: 49.2s\n",
      "637:\tlearn: 5598.4410884\ttotal: 1m 26s\tremaining: 49s\n",
      "638:\tlearn: 5598.4279602\ttotal: 1m 26s\tremaining: 48.9s\n",
      "639:\tlearn: 5598.4259642\ttotal: 1m 26s\tremaining: 48.8s\n",
      "640:\tlearn: 5598.4211824\ttotal: 1m 26s\tremaining: 48.6s\n",
      "641:\tlearn: 5598.4152789\ttotal: 1m 26s\tremaining: 48.5s\n",
      "642:\tlearn: 5598.4119015\ttotal: 1m 27s\tremaining: 48.4s\n",
      "643:\tlearn: 5598.4044576\ttotal: 1m 27s\tremaining: 48.2s\n",
      "644:\tlearn: 5598.3995042\ttotal: 1m 27s\tremaining: 48.1s\n",
      "645:\tlearn: 5598.3941421\ttotal: 1m 27s\tremaining: 48s\n",
      "646:\tlearn: 5598.3898459\ttotal: 1m 27s\tremaining: 47.8s\n",
      "647:\tlearn: 5598.3871321\ttotal: 1m 27s\tremaining: 47.7s\n",
      "648:\tlearn: 5598.3822083\ttotal: 1m 27s\tremaining: 47.5s\n",
      "649:\tlearn: 5598.3794643\ttotal: 1m 28s\tremaining: 47.4s\n",
      "650:\tlearn: 5598.3666372\ttotal: 1m 28s\tremaining: 47.3s\n",
      "651:\tlearn: 5598.3637265\ttotal: 1m 28s\tremaining: 47.1s\n",
      "652:\tlearn: 5598.3576871\ttotal: 1m 28s\tremaining: 47s\n",
      "653:\tlearn: 5598.3505192\ttotal: 1m 28s\tremaining: 46.9s\n",
      "654:\tlearn: 5598.3378802\ttotal: 1m 28s\tremaining: 46.7s\n",
      "655:\tlearn: 5598.3310658\ttotal: 1m 28s\tremaining: 46.6s\n",
      "656:\tlearn: 5598.3278580\ttotal: 1m 29s\tremaining: 46.5s\n",
      "657:\tlearn: 5598.3218242\ttotal: 1m 29s\tremaining: 46.4s\n",
      "658:\tlearn: 5598.3180436\ttotal: 1m 29s\tremaining: 46.3s\n",
      "659:\tlearn: 5598.3104663\ttotal: 1m 29s\tremaining: 46.1s\n",
      "660:\tlearn: 5598.3070832\ttotal: 1m 29s\tremaining: 46s\n",
      "661:\tlearn: 5598.3048017\ttotal: 1m 29s\tremaining: 45.9s\n",
      "662:\tlearn: 5598.3007932\ttotal: 1m 29s\tremaining: 45.7s\n",
      "663:\tlearn: 5598.2924588\ttotal: 1m 30s\tremaining: 45.6s\n",
      "664:\tlearn: 5598.2831766\ttotal: 1m 30s\tremaining: 45.4s\n",
      "665:\tlearn: 5598.2772911\ttotal: 1m 30s\tremaining: 45.3s\n",
      "666:\tlearn: 5598.2725971\ttotal: 1m 30s\tremaining: 45.2s\n",
      "667:\tlearn: 5598.2705983\ttotal: 1m 30s\tremaining: 45s\n",
      "668:\tlearn: 5598.2662976\ttotal: 1m 30s\tremaining: 44.9s\n",
      "669:\tlearn: 5598.2632375\ttotal: 1m 30s\tremaining: 44.7s\n",
      "670:\tlearn: 5598.2594678\ttotal: 1m 30s\tremaining: 44.6s\n",
      "671:\tlearn: 5598.2511155\ttotal: 1m 31s\tremaining: 44.5s\n",
      "672:\tlearn: 5598.2443990\ttotal: 1m 31s\tremaining: 44.3s\n",
      "673:\tlearn: 5598.2384552\ttotal: 1m 31s\tremaining: 44.2s\n",
      "674:\tlearn: 5598.2350609\ttotal: 1m 31s\tremaining: 44.1s\n",
      "675:\tlearn: 5598.2331591\ttotal: 1m 31s\tremaining: 43.9s\n",
      "676:\tlearn: 5598.2248685\ttotal: 1m 31s\tremaining: 43.8s\n",
      "677:\tlearn: 5598.2093594\ttotal: 1m 31s\tremaining: 43.6s\n",
      "678:\tlearn: 5598.1982271\ttotal: 1m 31s\tremaining: 43.5s\n",
      "679:\tlearn: 5598.1880658\ttotal: 1m 32s\tremaining: 43.3s\n",
      "680:\tlearn: 5598.1832382\ttotal: 1m 32s\tremaining: 43.2s\n",
      "681:\tlearn: 5598.1757348\ttotal: 1m 32s\tremaining: 43.1s\n",
      "682:\tlearn: 5598.1683895\ttotal: 1m 32s\tremaining: 42.9s\n",
      "683:\tlearn: 5598.1624141\ttotal: 1m 32s\tremaining: 42.8s\n",
      "684:\tlearn: 5598.1558190\ttotal: 1m 32s\tremaining: 42.7s\n",
      "685:\tlearn: 5598.1514113\ttotal: 1m 32s\tremaining: 42.5s\n",
      "686:\tlearn: 5598.1472775\ttotal: 1m 33s\tremaining: 42.4s\n",
      "687:\tlearn: 5598.1463814\ttotal: 1m 33s\tremaining: 42.2s\n",
      "688:\tlearn: 5598.1433285\ttotal: 1m 33s\tremaining: 42.1s\n",
      "689:\tlearn: 5598.1326010\ttotal: 1m 33s\tremaining: 42s\n",
      "690:\tlearn: 5598.1272482\ttotal: 1m 33s\tremaining: 41.8s\n",
      "691:\tlearn: 5598.1180487\ttotal: 1m 33s\tremaining: 41.7s\n",
      "692:\tlearn: 5598.1153160\ttotal: 1m 33s\tremaining: 41.6s\n",
      "693:\tlearn: 5598.1098207\ttotal: 1m 33s\tremaining: 41.4s\n",
      "694:\tlearn: 5598.1050984\ttotal: 1m 34s\tremaining: 41.3s\n",
      "695:\tlearn: 5598.0991814\ttotal: 1m 34s\tremaining: 41.1s\n",
      "696:\tlearn: 5598.0947403\ttotal: 1m 34s\tremaining: 41s\n",
      "697:\tlearn: 5598.0862623\ttotal: 1m 34s\tremaining: 40.9s\n",
      "698:\tlearn: 5598.0800279\ttotal: 1m 34s\tremaining: 40.7s\n",
      "699:\tlearn: 5598.0785348\ttotal: 1m 34s\tremaining: 40.6s\n",
      "700:\tlearn: 5598.0775767\ttotal: 1m 34s\tremaining: 40.4s\n",
      "701:\tlearn: 5598.0736384\ttotal: 1m 34s\tremaining: 40.3s\n",
      "702:\tlearn: 5598.0696338\ttotal: 1m 35s\tremaining: 40.2s\n",
      "703:\tlearn: 5598.0645402\ttotal: 1m 35s\tremaining: 40s\n",
      "704:\tlearn: 5598.0589234\ttotal: 1m 35s\tremaining: 39.9s\n",
      "705:\tlearn: 5598.0548109\ttotal: 1m 35s\tremaining: 39.7s\n",
      "706:\tlearn: 5598.0475101\ttotal: 1m 35s\tremaining: 39.6s\n",
      "707:\tlearn: 5598.0414486\ttotal: 1m 35s\tremaining: 39.5s\n",
      "708:\tlearn: 5598.0326985\ttotal: 1m 35s\tremaining: 39.3s\n",
      "709:\tlearn: 5598.0268698\ttotal: 1m 35s\tremaining: 39.2s\n",
      "710:\tlearn: 5598.0174055\ttotal: 1m 36s\tremaining: 39.1s\n",
      "711:\tlearn: 5598.0145310\ttotal: 1m 36s\tremaining: 38.9s\n",
      "712:\tlearn: 5598.0112838\ttotal: 1m 36s\tremaining: 38.8s\n",
      "713:\tlearn: 5598.0057644\ttotal: 1m 36s\tremaining: 38.7s\n",
      "714:\tlearn: 5598.0002176\ttotal: 1m 36s\tremaining: 38.5s\n",
      "715:\tlearn: 5597.9928755\ttotal: 1m 36s\tremaining: 38.4s\n",
      "716:\tlearn: 5597.9907362\ttotal: 1m 37s\tremaining: 38.3s\n",
      "717:\tlearn: 5597.9803370\ttotal: 1m 37s\tremaining: 38.2s\n",
      "718:\tlearn: 5597.9770520\ttotal: 1m 37s\tremaining: 38s\n",
      "719:\tlearn: 5597.9697238\ttotal: 1m 37s\tremaining: 37.9s\n",
      "720:\tlearn: 5597.9666130\ttotal: 1m 37s\tremaining: 37.8s\n",
      "721:\tlearn: 5597.9608052\ttotal: 1m 37s\tremaining: 37.6s\n",
      "722:\tlearn: 5597.9581058\ttotal: 1m 37s\tremaining: 37.5s\n",
      "723:\tlearn: 5597.9561755\ttotal: 1m 37s\tremaining: 37.4s\n",
      "724:\tlearn: 5597.9497977\ttotal: 1m 38s\tremaining: 37.2s\n",
      "725:\tlearn: 5597.9438723\ttotal: 1m 38s\tremaining: 37.1s\n",
      "726:\tlearn: 5597.9373898\ttotal: 1m 38s\tremaining: 36.9s\n",
      "727:\tlearn: 5597.9330881\ttotal: 1m 38s\tremaining: 36.8s\n",
      "728:\tlearn: 5597.9266169\ttotal: 1m 38s\tremaining: 36.7s\n",
      "729:\tlearn: 5597.9220925\ttotal: 1m 38s\tremaining: 36.5s\n",
      "730:\tlearn: 5597.9167059\ttotal: 1m 38s\tremaining: 36.4s\n",
      "731:\tlearn: 5597.9090261\ttotal: 1m 39s\tremaining: 36.3s\n",
      "732:\tlearn: 5597.9037213\ttotal: 1m 39s\tremaining: 36.1s\n",
      "733:\tlearn: 5597.8939016\ttotal: 1m 39s\tremaining: 36s\n",
      "734:\tlearn: 5597.8888039\ttotal: 1m 39s\tremaining: 35.8s\n",
      "735:\tlearn: 5597.8828992\ttotal: 1m 39s\tremaining: 35.7s\n",
      "736:\tlearn: 5597.8675003\ttotal: 1m 39s\tremaining: 35.6s\n",
      "737:\tlearn: 5597.8396596\ttotal: 1m 40s\tremaining: 35.5s\n",
      "738:\tlearn: 5597.8363137\ttotal: 1m 40s\tremaining: 35.4s\n",
      "739:\tlearn: 5597.8317260\ttotal: 1m 40s\tremaining: 35.2s\n",
      "740:\tlearn: 5597.8259858\ttotal: 1m 40s\tremaining: 35.1s\n",
      "741:\tlearn: 5597.8220626\ttotal: 1m 40s\tremaining: 35s\n",
      "742:\tlearn: 5597.8190549\ttotal: 1m 40s\tremaining: 34.9s\n"
     ]
    },
    {
     "name": "stdout",
     "output_type": "stream",
     "text": [
      "743:\tlearn: 5597.8151232\ttotal: 1m 40s\tremaining: 34.7s\n",
      "744:\tlearn: 5597.8054148\ttotal: 1m 41s\tremaining: 34.6s\n",
      "745:\tlearn: 5597.8022644\ttotal: 1m 41s\tremaining: 34.5s\n",
      "746:\tlearn: 5597.7983224\ttotal: 1m 41s\tremaining: 34.4s\n",
      "747:\tlearn: 5597.7938962\ttotal: 1m 41s\tremaining: 34.2s\n",
      "748:\tlearn: 5597.7881007\ttotal: 1m 41s\tremaining: 34.1s\n",
      "749:\tlearn: 5597.7811128\ttotal: 1m 42s\tremaining: 34s\n",
      "750:\tlearn: 5597.7788949\ttotal: 1m 42s\tremaining: 33.9s\n",
      "751:\tlearn: 5597.7781974\ttotal: 1m 42s\tremaining: 33.8s\n",
      "752:\tlearn: 5597.7742958\ttotal: 1m 42s\tremaining: 33.7s\n",
      "753:\tlearn: 5597.7717752\ttotal: 1m 43s\tremaining: 33.6s\n",
      "754:\tlearn: 5597.7696984\ttotal: 1m 43s\tremaining: 33.6s\n",
      "755:\tlearn: 5597.7664511\ttotal: 1m 43s\tremaining: 33.5s\n",
      "756:\tlearn: 5597.7621069\ttotal: 1m 43s\tremaining: 33.3s\n",
      "757:\tlearn: 5597.7538076\ttotal: 1m 44s\tremaining: 33.2s\n",
      "758:\tlearn: 5597.7473531\ttotal: 1m 44s\tremaining: 33.1s\n",
      "759:\tlearn: 5597.7415228\ttotal: 1m 44s\tremaining: 33s\n",
      "760:\tlearn: 5597.7347078\ttotal: 1m 44s\tremaining: 32.8s\n",
      "761:\tlearn: 5597.7313464\ttotal: 1m 44s\tremaining: 32.7s\n",
      "762:\tlearn: 5597.7243537\ttotal: 1m 44s\tremaining: 32.5s\n",
      "763:\tlearn: 5597.7148722\ttotal: 1m 44s\tremaining: 32.4s\n",
      "764:\tlearn: 5597.7118911\ttotal: 1m 45s\tremaining: 32.3s\n",
      "765:\tlearn: 5597.7078806\ttotal: 1m 45s\tremaining: 32.2s\n",
      "766:\tlearn: 5597.7019347\ttotal: 1m 45s\tremaining: 32.1s\n",
      "767:\tlearn: 5597.7007158\ttotal: 1m 45s\tremaining: 31.9s\n",
      "768:\tlearn: 5597.6968163\ttotal: 1m 45s\tremaining: 31.8s\n",
      "769:\tlearn: 5597.6936406\ttotal: 1m 45s\tremaining: 31.6s\n",
      "770:\tlearn: 5597.6905862\ttotal: 1m 46s\tremaining: 31.5s\n",
      "771:\tlearn: 5597.6875107\ttotal: 1m 46s\tremaining: 31.4s\n",
      "772:\tlearn: 5597.6834421\ttotal: 1m 46s\tremaining: 31.2s\n",
      "773:\tlearn: 5597.6806110\ttotal: 1m 46s\tremaining: 31.1s\n",
      "774:\tlearn: 5597.6738592\ttotal: 1m 46s\tremaining: 31s\n",
      "775:\tlearn: 5597.6705888\ttotal: 1m 46s\tremaining: 30.8s\n",
      "776:\tlearn: 5597.6671146\ttotal: 1m 46s\tremaining: 30.7s\n",
      "777:\tlearn: 5597.6632464\ttotal: 1m 47s\tremaining: 30.5s\n",
      "778:\tlearn: 5597.6579451\ttotal: 1m 47s\tremaining: 30.4s\n",
      "779:\tlearn: 5597.6475131\ttotal: 1m 47s\tremaining: 30.3s\n",
      "780:\tlearn: 5597.6438034\ttotal: 1m 47s\tremaining: 30.2s\n",
      "781:\tlearn: 5597.6413845\ttotal: 1m 47s\tremaining: 30s\n",
      "782:\tlearn: 5597.6391775\ttotal: 1m 47s\tremaining: 29.9s\n",
      "783:\tlearn: 5597.6377927\ttotal: 1m 47s\tremaining: 29.7s\n",
      "784:\tlearn: 5597.6347968\ttotal: 1m 48s\tremaining: 29.6s\n",
      "785:\tlearn: 5597.6281283\ttotal: 1m 48s\tremaining: 29.5s\n",
      "786:\tlearn: 5597.6240593\ttotal: 1m 48s\tremaining: 29.3s\n",
      "787:\tlearn: 5597.6209783\ttotal: 1m 48s\tremaining: 29.2s\n",
      "788:\tlearn: 5597.6158808\ttotal: 1m 48s\tremaining: 29.1s\n",
      "789:\tlearn: 5597.6122228\ttotal: 1m 48s\tremaining: 28.9s\n",
      "790:\tlearn: 5597.6105033\ttotal: 1m 48s\tremaining: 28.8s\n",
      "791:\tlearn: 5597.6043800\ttotal: 1m 49s\tremaining: 28.6s\n",
      "792:\tlearn: 5597.6013787\ttotal: 1m 49s\tremaining: 28.5s\n",
      "793:\tlearn: 5597.5989768\ttotal: 1m 49s\tremaining: 28.4s\n",
      "794:\tlearn: 5597.5965948\ttotal: 1m 49s\tremaining: 28.2s\n",
      "795:\tlearn: 5597.5874903\ttotal: 1m 49s\tremaining: 28.1s\n",
      "796:\tlearn: 5597.5818704\ttotal: 1m 49s\tremaining: 28s\n",
      "797:\tlearn: 5597.5781869\ttotal: 1m 49s\tremaining: 27.8s\n",
      "798:\tlearn: 5597.5718721\ttotal: 1m 50s\tremaining: 27.7s\n",
      "799:\tlearn: 5597.5612864\ttotal: 1m 50s\tremaining: 27.6s\n",
      "800:\tlearn: 5597.5576363\ttotal: 1m 50s\tremaining: 27.4s\n",
      "801:\tlearn: 5597.5563139\ttotal: 1m 50s\tremaining: 27.3s\n",
      "802:\tlearn: 5597.5514937\ttotal: 1m 50s\tremaining: 27.1s\n",
      "803:\tlearn: 5597.5456249\ttotal: 1m 50s\tremaining: 27s\n",
      "804:\tlearn: 5597.5415366\ttotal: 1m 50s\tremaining: 26.9s\n",
      "805:\tlearn: 5597.5395209\ttotal: 1m 51s\tremaining: 26.7s\n",
      "806:\tlearn: 5597.5377960\ttotal: 1m 51s\tremaining: 26.6s\n",
      "807:\tlearn: 5597.5330254\ttotal: 1m 51s\tremaining: 26.4s\n",
      "808:\tlearn: 5597.5303656\ttotal: 1m 51s\tremaining: 26.3s\n",
      "809:\tlearn: 5597.5215919\ttotal: 1m 51s\tremaining: 26.2s\n",
      "810:\tlearn: 5597.5164907\ttotal: 1m 51s\tremaining: 26s\n",
      "811:\tlearn: 5597.5149280\ttotal: 1m 51s\tremaining: 25.9s\n",
      "812:\tlearn: 5597.5099227\ttotal: 1m 52s\tremaining: 25.8s\n",
      "813:\tlearn: 5597.5049316\ttotal: 1m 52s\tremaining: 25.6s\n",
      "814:\tlearn: 5597.5024258\ttotal: 1m 52s\tremaining: 25.5s\n",
      "815:\tlearn: 5597.4996500\ttotal: 1m 52s\tremaining: 25.4s\n",
      "816:\tlearn: 5597.4960986\ttotal: 1m 52s\tremaining: 25.2s\n",
      "817:\tlearn: 5597.4916492\ttotal: 1m 52s\tremaining: 25.1s\n",
      "818:\tlearn: 5597.4886146\ttotal: 1m 52s\tremaining: 24.9s\n",
      "819:\tlearn: 5597.4772148\ttotal: 1m 53s\tremaining: 24.8s\n",
      "820:\tlearn: 5597.4723450\ttotal: 1m 53s\tremaining: 24.7s\n",
      "821:\tlearn: 5597.4657302\ttotal: 1m 53s\tremaining: 24.5s\n",
      "822:\tlearn: 5597.4635109\ttotal: 1m 53s\tremaining: 24.4s\n",
      "823:\tlearn: 5597.4587872\ttotal: 1m 53s\tremaining: 24.3s\n",
      "824:\tlearn: 5597.4473002\ttotal: 1m 53s\tremaining: 24.1s\n",
      "825:\tlearn: 5597.4444131\ttotal: 1m 53s\tremaining: 24s\n",
      "826:\tlearn: 5597.4414461\ttotal: 1m 54s\tremaining: 23.9s\n",
      "827:\tlearn: 5597.4359300\ttotal: 1m 54s\tremaining: 23.7s\n",
      "828:\tlearn: 5597.4253633\ttotal: 1m 54s\tremaining: 23.6s\n",
      "829:\tlearn: 5597.4212085\ttotal: 1m 54s\tremaining: 23.4s\n",
      "830:\tlearn: 5597.4180518\ttotal: 1m 54s\tremaining: 23.3s\n",
      "831:\tlearn: 5597.4109317\ttotal: 1m 54s\tremaining: 23.2s\n",
      "832:\tlearn: 5597.4063427\ttotal: 1m 54s\tremaining: 23s\n",
      "833:\tlearn: 5597.4051128\ttotal: 1m 54s\tremaining: 22.9s\n",
      "834:\tlearn: 5597.4023883\ttotal: 1m 55s\tremaining: 22.7s\n",
      "835:\tlearn: 5597.3955901\ttotal: 1m 55s\tremaining: 22.6s\n",
      "836:\tlearn: 5597.3844471\ttotal: 1m 55s\tremaining: 22.5s\n",
      "837:\tlearn: 5597.3837846\ttotal: 1m 55s\tremaining: 22.3s\n",
      "838:\tlearn: 5597.3796920\ttotal: 1m 55s\tremaining: 22.2s\n",
      "839:\tlearn: 5597.3761104\ttotal: 1m 55s\tremaining: 22.1s\n",
      "840:\tlearn: 5597.3730716\ttotal: 1m 55s\tremaining: 21.9s\n",
      "841:\tlearn: 5597.3677508\ttotal: 1m 56s\tremaining: 21.8s\n",
      "842:\tlearn: 5597.3628922\ttotal: 1m 56s\tremaining: 21.6s\n",
      "843:\tlearn: 5597.3574687\ttotal: 1m 56s\tremaining: 21.5s\n",
      "844:\tlearn: 5597.3537666\ttotal: 1m 56s\tremaining: 21.4s\n",
      "845:\tlearn: 5597.3524226\ttotal: 1m 56s\tremaining: 21.2s\n",
      "846:\tlearn: 5597.3447058\ttotal: 1m 56s\tremaining: 21.1s\n",
      "847:\tlearn: 5597.3387204\ttotal: 1m 56s\tremaining: 21s\n",
      "848:\tlearn: 5597.3325177\ttotal: 1m 57s\tremaining: 20.8s\n",
      "849:\tlearn: 5597.3278324\ttotal: 1m 57s\tremaining: 20.7s\n",
      "850:\tlearn: 5597.3236017\ttotal: 1m 57s\tremaining: 20.5s\n",
      "851:\tlearn: 5597.3200514\ttotal: 1m 57s\tremaining: 20.4s\n",
      "852:\tlearn: 5597.3177951\ttotal: 1m 57s\tremaining: 20.3s\n",
      "853:\tlearn: 5597.3167394\ttotal: 1m 57s\tremaining: 20.1s\n",
      "854:\tlearn: 5597.3114750\ttotal: 1m 57s\tremaining: 20s\n",
      "855:\tlearn: 5597.3044925\ttotal: 1m 58s\tremaining: 19.9s\n",
      "856:\tlearn: 5597.3012966\ttotal: 1m 58s\tremaining: 19.7s\n",
      "857:\tlearn: 5597.2965582\ttotal: 1m 58s\tremaining: 19.6s\n",
      "858:\tlearn: 5597.2929650\ttotal: 1m 58s\tremaining: 19.4s\n",
      "859:\tlearn: 5597.2886330\ttotal: 1m 58s\tremaining: 19.3s\n",
      "860:\tlearn: 5597.2826040\ttotal: 1m 58s\tremaining: 19.2s\n",
      "861:\tlearn: 5597.2793751\ttotal: 1m 58s\tremaining: 19s\n",
      "862:\tlearn: 5597.2764461\ttotal: 1m 59s\tremaining: 18.9s\n",
      "863:\tlearn: 5597.2693450\ttotal: 1m 59s\tremaining: 18.8s\n",
      "864:\tlearn: 5597.2649943\ttotal: 1m 59s\tremaining: 18.6s\n",
      "865:\tlearn: 5597.2634518\ttotal: 1m 59s\tremaining: 18.5s\n",
      "866:\tlearn: 5597.2580876\ttotal: 1m 59s\tremaining: 18.3s\n",
      "867:\tlearn: 5597.2535043\ttotal: 1m 59s\tremaining: 18.2s\n",
      "868:\tlearn: 5597.2505697\ttotal: 1m 59s\tremaining: 18.1s\n",
      "869:\tlearn: 5597.2461303\ttotal: 1m 59s\tremaining: 17.9s\n",
      "870:\tlearn: 5597.2448853\ttotal: 2m\tremaining: 17.8s\n",
      "871:\tlearn: 5597.2414197\ttotal: 2m\tremaining: 17.6s\n",
      "872:\tlearn: 5597.2375875\ttotal: 2m\tremaining: 17.5s\n",
      "873:\tlearn: 5597.2334222\ttotal: 2m\tremaining: 17.4s\n",
      "874:\tlearn: 5597.2292393\ttotal: 2m\tremaining: 17.2s\n",
      "875:\tlearn: 5597.2237584\ttotal: 2m\tremaining: 17.1s\n",
      "876:\tlearn: 5597.2210696\ttotal: 2m\tremaining: 17s\n",
      "877:\tlearn: 5597.2189202\ttotal: 2m 1s\tremaining: 16.8s\n",
      "878:\tlearn: 5597.2092635\ttotal: 2m 1s\tremaining: 16.7s\n",
      "879:\tlearn: 5597.2072919\ttotal: 2m 1s\tremaining: 16.5s\n",
      "880:\tlearn: 5597.2041128\ttotal: 2m 1s\tremaining: 16.4s\n",
      "881:\tlearn: 5597.2014080\ttotal: 2m 1s\tremaining: 16.3s\n",
      "882:\tlearn: 5597.1969034\ttotal: 2m 1s\tremaining: 16.1s\n",
      "883:\tlearn: 5597.1938385\ttotal: 2m 1s\tremaining: 16s\n",
      "884:\tlearn: 5597.1881880\ttotal: 2m 2s\tremaining: 15.9s\n",
      "885:\tlearn: 5597.1847777\ttotal: 2m 2s\tremaining: 15.7s\n",
      "886:\tlearn: 5597.1799841\ttotal: 2m 2s\tremaining: 15.6s\n",
      "887:\tlearn: 5597.1776221\ttotal: 2m 2s\tremaining: 15.4s\n",
      "888:\tlearn: 5597.1735041\ttotal: 2m 2s\tremaining: 15.3s\n",
      "889:\tlearn: 5597.1720817\ttotal: 2m 2s\tremaining: 15.2s\n",
      "890:\tlearn: 5597.1690778\ttotal: 2m 2s\tremaining: 15s\n",
      "891:\tlearn: 5597.1651518\ttotal: 2m 2s\tremaining: 14.9s\n"
     ]
    },
    {
     "name": "stdout",
     "output_type": "stream",
     "text": [
      "892:\tlearn: 5597.1625240\ttotal: 2m 3s\tremaining: 14.8s\n",
      "893:\tlearn: 5597.1599619\ttotal: 2m 3s\tremaining: 14.6s\n",
      "894:\tlearn: 5597.1567453\ttotal: 2m 3s\tremaining: 14.5s\n",
      "895:\tlearn: 5597.1506617\ttotal: 2m 3s\tremaining: 14.3s\n",
      "896:\tlearn: 5597.1485617\ttotal: 2m 3s\tremaining: 14.2s\n",
      "897:\tlearn: 5597.1437536\ttotal: 2m 3s\tremaining: 14.1s\n",
      "898:\tlearn: 5597.1409773\ttotal: 2m 3s\tremaining: 13.9s\n",
      "899:\tlearn: 5597.1368083\ttotal: 2m 4s\tremaining: 13.8s\n",
      "900:\tlearn: 5597.1322741\ttotal: 2m 4s\tremaining: 13.6s\n",
      "901:\tlearn: 5597.1292118\ttotal: 2m 4s\tremaining: 13.5s\n",
      "902:\tlearn: 5597.1236736\ttotal: 2m 4s\tremaining: 13.4s\n",
      "903:\tlearn: 5597.1223417\ttotal: 2m 4s\tremaining: 13.2s\n",
      "904:\tlearn: 5597.1187236\ttotal: 2m 4s\tremaining: 13.1s\n",
      "905:\tlearn: 5597.1055904\ttotal: 2m 4s\tremaining: 13s\n",
      "906:\tlearn: 5597.1035534\ttotal: 2m 5s\tremaining: 12.8s\n",
      "907:\tlearn: 5597.1025000\ttotal: 2m 5s\tremaining: 12.7s\n",
      "908:\tlearn: 5597.1000791\ttotal: 2m 5s\tremaining: 12.5s\n",
      "909:\tlearn: 5597.0946961\ttotal: 2m 5s\tremaining: 12.4s\n",
      "910:\tlearn: 5597.0909952\ttotal: 2m 5s\tremaining: 12.3s\n",
      "911:\tlearn: 5597.0843769\ttotal: 2m 5s\tremaining: 12.1s\n",
      "912:\tlearn: 5597.0818933\ttotal: 2m 5s\tremaining: 12s\n",
      "913:\tlearn: 5597.0806498\ttotal: 2m 5s\tremaining: 11.9s\n",
      "914:\tlearn: 5597.0784232\ttotal: 2m 6s\tremaining: 11.7s\n",
      "915:\tlearn: 5597.0748189\ttotal: 2m 6s\tremaining: 11.6s\n",
      "916:\tlearn: 5597.0648402\ttotal: 2m 6s\tremaining: 11.4s\n",
      "917:\tlearn: 5597.0589468\ttotal: 2m 6s\tremaining: 11.3s\n",
      "918:\tlearn: 5597.0551800\ttotal: 2m 6s\tremaining: 11.2s\n",
      "919:\tlearn: 5597.0527452\ttotal: 2m 6s\tremaining: 11s\n",
      "920:\tlearn: 5597.0501071\ttotal: 2m 6s\tremaining: 10.9s\n",
      "921:\tlearn: 5597.0459452\ttotal: 2m 7s\tremaining: 10.8s\n",
      "922:\tlearn: 5597.0387705\ttotal: 2m 7s\tremaining: 10.6s\n",
      "923:\tlearn: 5597.0363207\ttotal: 2m 7s\tremaining: 10.5s\n",
      "924:\tlearn: 5597.0334809\ttotal: 2m 7s\tremaining: 10.3s\n",
      "925:\tlearn: 5597.0307543\ttotal: 2m 7s\tremaining: 10.2s\n",
      "926:\tlearn: 5597.0281089\ttotal: 2m 7s\tremaining: 10.1s\n",
      "927:\tlearn: 5597.0251719\ttotal: 2m 7s\tremaining: 9.93s\n",
      "928:\tlearn: 5597.0228160\ttotal: 2m 8s\tremaining: 9.79s\n",
      "929:\tlearn: 5597.0190102\ttotal: 2m 8s\tremaining: 9.65s\n",
      "930:\tlearn: 5597.0175116\ttotal: 2m 8s\tremaining: 9.51s\n",
      "931:\tlearn: 5597.0119171\ttotal: 2m 8s\tremaining: 9.37s\n",
      "932:\tlearn: 5597.0070630\ttotal: 2m 8s\tremaining: 9.24s\n",
      "933:\tlearn: 5597.0047803\ttotal: 2m 8s\tremaining: 9.1s\n",
      "934:\tlearn: 5597.0027208\ttotal: 2m 8s\tremaining: 8.96s\n",
      "935:\tlearn: 5597.0018375\ttotal: 2m 9s\tremaining: 8.82s\n",
      "936:\tlearn: 5596.9971383\ttotal: 2m 9s\tremaining: 8.69s\n",
      "937:\tlearn: 5596.9958315\ttotal: 2m 9s\tremaining: 8.55s\n",
      "938:\tlearn: 5596.9920424\ttotal: 2m 9s\tremaining: 8.41s\n",
      "939:\tlearn: 5596.9907662\ttotal: 2m 9s\tremaining: 8.27s\n",
      "940:\tlearn: 5596.9866909\ttotal: 2m 9s\tremaining: 8.14s\n",
      "941:\tlearn: 5596.9848737\ttotal: 2m 9s\tremaining: 8s\n",
      "942:\tlearn: 5596.9776622\ttotal: 2m 10s\tremaining: 7.86s\n",
      "943:\tlearn: 5596.9749395\ttotal: 2m 10s\tremaining: 7.72s\n",
      "944:\tlearn: 5596.9721856\ttotal: 2m 10s\tremaining: 7.58s\n",
      "945:\tlearn: 5596.9685444\ttotal: 2m 10s\tremaining: 7.45s\n",
      "946:\tlearn: 5596.9663440\ttotal: 2m 10s\tremaining: 7.31s\n",
      "947:\tlearn: 5596.9620256\ttotal: 2m 10s\tremaining: 7.17s\n",
      "948:\tlearn: 5596.9575083\ttotal: 2m 10s\tremaining: 7.03s\n",
      "949:\tlearn: 5596.9550295\ttotal: 2m 11s\tremaining: 6.89s\n",
      "950:\tlearn: 5596.9488375\ttotal: 2m 11s\tremaining: 6.76s\n",
      "951:\tlearn: 5596.9452643\ttotal: 2m 11s\tremaining: 6.62s\n",
      "952:\tlearn: 5596.9423619\ttotal: 2m 11s\tremaining: 6.48s\n",
      "953:\tlearn: 5596.9376053\ttotal: 2m 11s\tremaining: 6.35s\n",
      "954:\tlearn: 5596.9290539\ttotal: 2m 11s\tremaining: 6.21s\n",
      "955:\tlearn: 5596.9276345\ttotal: 2m 11s\tremaining: 6.07s\n",
      "956:\tlearn: 5596.9255311\ttotal: 2m 12s\tremaining: 5.93s\n",
      "957:\tlearn: 5596.9234830\ttotal: 2m 12s\tremaining: 5.79s\n",
      "958:\tlearn: 5596.9178967\ttotal: 2m 12s\tremaining: 5.66s\n",
      "959:\tlearn: 5596.9150436\ttotal: 2m 12s\tremaining: 5.52s\n",
      "960:\tlearn: 5596.9142771\ttotal: 2m 12s\tremaining: 5.38s\n",
      "961:\tlearn: 5596.9109301\ttotal: 2m 12s\tremaining: 5.24s\n",
      "962:\tlearn: 5596.9080482\ttotal: 2m 12s\tremaining: 5.1s\n",
      "963:\tlearn: 5596.9063298\ttotal: 2m 12s\tremaining: 4.96s\n",
      "964:\tlearn: 5596.9027250\ttotal: 2m 13s\tremaining: 4.83s\n",
      "965:\tlearn: 5596.9004089\ttotal: 2m 13s\tremaining: 4.69s\n",
      "966:\tlearn: 5596.8948127\ttotal: 2m 13s\tremaining: 4.55s\n",
      "967:\tlearn: 5596.8899725\ttotal: 2m 13s\tremaining: 4.41s\n",
      "968:\tlearn: 5596.8885710\ttotal: 2m 13s\tremaining: 4.28s\n",
      "969:\tlearn: 5596.8863069\ttotal: 2m 13s\tremaining: 4.14s\n",
      "970:\tlearn: 5596.8832372\ttotal: 2m 13s\tremaining: 4s\n",
      "971:\tlearn: 5596.8785392\ttotal: 2m 14s\tremaining: 3.86s\n",
      "972:\tlearn: 5596.8761793\ttotal: 2m 14s\tremaining: 3.72s\n",
      "973:\tlearn: 5596.8739094\ttotal: 2m 14s\tremaining: 3.59s\n",
      "974:\tlearn: 5596.8718866\ttotal: 2m 14s\tremaining: 3.45s\n",
      "975:\tlearn: 5596.8704300\ttotal: 2m 14s\tremaining: 3.31s\n",
      "976:\tlearn: 5596.8677194\ttotal: 2m 14s\tremaining: 3.17s\n",
      "977:\tlearn: 5596.8624593\ttotal: 2m 14s\tremaining: 3.03s\n",
      "978:\tlearn: 5596.8536685\ttotal: 2m 15s\tremaining: 2.9s\n",
      "979:\tlearn: 5596.8487526\ttotal: 2m 15s\tremaining: 2.76s\n",
      "980:\tlearn: 5596.8464844\ttotal: 2m 15s\tremaining: 2.62s\n",
      "981:\tlearn: 5596.8403756\ttotal: 2m 15s\tremaining: 2.48s\n",
      "982:\tlearn: 5596.8379811\ttotal: 2m 15s\tremaining: 2.35s\n",
      "983:\tlearn: 5596.8353022\ttotal: 2m 15s\tremaining: 2.21s\n",
      "984:\tlearn: 5596.8264352\ttotal: 2m 15s\tremaining: 2.07s\n",
      "985:\tlearn: 5596.8245215\ttotal: 2m 16s\tremaining: 1.93s\n",
      "986:\tlearn: 5596.8191351\ttotal: 2m 16s\tremaining: 1.79s\n",
      "987:\tlearn: 5596.8143918\ttotal: 2m 16s\tremaining: 1.66s\n",
      "988:\tlearn: 5596.8109437\ttotal: 2m 16s\tremaining: 1.52s\n",
      "989:\tlearn: 5596.8055666\ttotal: 2m 16s\tremaining: 1.38s\n",
      "990:\tlearn: 5596.8040396\ttotal: 2m 16s\tremaining: 1.24s\n",
      "991:\tlearn: 5596.8007920\ttotal: 2m 16s\tremaining: 1.1s\n",
      "992:\tlearn: 5596.7968235\ttotal: 2m 16s\tremaining: 966ms\n",
      "993:\tlearn: 5596.7936717\ttotal: 2m 17s\tremaining: 828ms\n",
      "994:\tlearn: 5596.7901412\ttotal: 2m 17s\tremaining: 690ms\n",
      "995:\tlearn: 5596.7879469\ttotal: 2m 17s\tremaining: 552ms\n",
      "996:\tlearn: 5596.7821899\ttotal: 2m 17s\tremaining: 414ms\n",
      "997:\tlearn: 5596.7802090\ttotal: 2m 17s\tremaining: 276ms\n",
      "998:\tlearn: 5596.7783834\ttotal: 2m 17s\tremaining: 138ms\n",
      "999:\tlearn: 5596.7717914\ttotal: 2m 17s\tremaining: 0us\n"
     ]
    },
    {
     "name": "stderr",
     "output_type": "stream",
     "text": [
      "100%|████████████████████████████████████████████████████████████████████████████████████| 6/6 [04:11<00:00, 41.88s/it]\n",
      "100%|████████████████████████████████████████████████████████████████████████████████████| 6/6 [00:03<00:00,  1.99it/s]\n"
     ]
    }
   ],
   "source": [
    "final_predict=modeling(models,df = data, target = train['target'], test_data = test_data)"
   ]
  },
  {
   "cell_type": "code",
   "execution_count": 68,
   "metadata": {},
   "outputs": [
    {
     "data": {
      "text/plain": [
       "array([ 369.9123 ,  558.1462 ,  558.1462 , ..., 1227.5684 , 1119.62   ,\n",
       "        719.91595], dtype=float32)"
      ]
     },
     "execution_count": 68,
     "metadata": {},
     "output_type": "execute_result"
    }
   ],
   "source": [
    "final_predict"
   ]
  },
  {
   "cell_type": "code",
   "execution_count": 69,
   "metadata": {},
   "outputs": [],
   "source": [
    "submission['trip_duration'] = final_predict"
   ]
  },
  {
   "cell_type": "code",
   "execution_count": 70,
   "metadata": {},
   "outputs": [],
   "source": [
    "submission.to_csv(\"submission\", index_label=False, index = False)"
   ]
  },
  {
   "cell_type": "code",
   "execution_count": 71,
   "metadata": {
    "scrolled": false
   },
   "outputs": [
    {
     "data": {
      "text/html": [
       "<div>\n",
       "<style scoped>\n",
       "    .dataframe tbody tr th:only-of-type {\n",
       "        vertical-align: middle;\n",
       "    }\n",
       "\n",
       "    .dataframe tbody tr th {\n",
       "        vertical-align: top;\n",
       "    }\n",
       "\n",
       "    .dataframe thead th {\n",
       "        text-align: right;\n",
       "    }\n",
       "</style>\n",
       "<table border=\"1\" class=\"dataframe\">\n",
       "  <thead>\n",
       "    <tr style=\"text-align: right;\">\n",
       "      <th></th>\n",
       "      <th>id</th>\n",
       "      <th>trip_duration</th>\n",
       "    </tr>\n",
       "  </thead>\n",
       "  <tbody>\n",
       "    <tr>\n",
       "      <th>0</th>\n",
       "      <td>id3004672</td>\n",
       "      <td>369.912292</td>\n",
       "    </tr>\n",
       "    <tr>\n",
       "      <th>1</th>\n",
       "      <td>id3505355</td>\n",
       "      <td>558.146179</td>\n",
       "    </tr>\n",
       "    <tr>\n",
       "      <th>2</th>\n",
       "      <td>id1217141</td>\n",
       "      <td>558.146179</td>\n",
       "    </tr>\n",
       "    <tr>\n",
       "      <th>3</th>\n",
       "      <td>id2150126</td>\n",
       "      <td>1417.671875</td>\n",
       "    </tr>\n",
       "    <tr>\n",
       "      <th>4</th>\n",
       "      <td>id1598245</td>\n",
       "      <td>558.146179</td>\n",
       "    </tr>\n",
       "    <tr>\n",
       "      <th>...</th>\n",
       "      <td>...</td>\n",
       "      <td>...</td>\n",
       "    </tr>\n",
       "    <tr>\n",
       "      <th>625129</th>\n",
       "      <td>id3008929</td>\n",
       "      <td>312.960999</td>\n",
       "    </tr>\n",
       "    <tr>\n",
       "      <th>625130</th>\n",
       "      <td>id3700764</td>\n",
       "      <td>1119.619995</td>\n",
       "    </tr>\n",
       "    <tr>\n",
       "      <th>625131</th>\n",
       "      <td>id2568735</td>\n",
       "      <td>1227.568359</td>\n",
       "    </tr>\n",
       "    <tr>\n",
       "      <th>625132</th>\n",
       "      <td>id1384355</td>\n",
       "      <td>1119.619995</td>\n",
       "    </tr>\n",
       "    <tr>\n",
       "      <th>625133</th>\n",
       "      <td>id0621643</td>\n",
       "      <td>719.915955</td>\n",
       "    </tr>\n",
       "  </tbody>\n",
       "</table>\n",
       "<p>625134 rows × 2 columns</p>\n",
       "</div>"
      ],
      "text/plain": [
       "               id  trip_duration\n",
       "0       id3004672     369.912292\n",
       "1       id3505355     558.146179\n",
       "2       id1217141     558.146179\n",
       "3       id2150126    1417.671875\n",
       "4       id1598245     558.146179\n",
       "...           ...            ...\n",
       "625129  id3008929     312.960999\n",
       "625130  id3700764    1119.619995\n",
       "625131  id2568735    1227.568359\n",
       "625132  id1384355    1119.619995\n",
       "625133  id0621643     719.915955\n",
       "\n",
       "[625134 rows x 2 columns]"
      ]
     },
     "execution_count": 71,
     "metadata": {},
     "output_type": "execute_result"
    }
   ],
   "source": [
    "submission"
   ]
  },
  {
   "cell_type": "code",
   "execution_count": null,
   "metadata": {},
   "outputs": [],
   "source": []
  }
 ],
 "metadata": {
  "kernelspec": {
   "display_name": "Python 3",
   "language": "python",
   "name": "python3"
  },
  "language_info": {
   "codemirror_mode": {
    "name": "ipython",
    "version": 3
   },
   "file_extension": ".py",
   "mimetype": "text/x-python",
   "name": "python",
   "nbconvert_exporter": "python",
   "pygments_lexer": "ipython3",
   "version": "3.8.5"
  }
 },
 "nbformat": 4,
 "nbformat_minor": 4
}
