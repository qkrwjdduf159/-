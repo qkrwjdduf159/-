{
 "cells": [
  {
   "cell_type": "code",
   "execution_count": 1,
   "metadata": {},
   "outputs": [],
   "source": [
    "import numpy as np\n",
    "import pandas as pd\n",
    "import matplotlib.pyplot as plt\n",
    "import seaborn as sns\n",
    "import datetime as dt\n",
    "from math import sin, cos, sqrt, atan2, radians, degrees"
   ]
  },
  {
   "cell_type": "code",
   "execution_count": 2,
   "metadata": {},
   "outputs": [],
   "source": [
    "train=pd.read_csv('train.csv')\n",
    "test = pd.read_csv('test.csv')\n",
    "submission = pd.read_csv('sample_submission.csv')"
   ]
  },
  {
   "cell_type": "code",
   "execution_count": 3,
   "metadata": {},
   "outputs": [
    {
     "name": "stdout",
     "output_type": "stream",
     "text": [
      "train shape : (1458644, 11)\n",
      "test shape : (625134, 9)\n"
     ]
    }
   ],
   "source": [
    "print('train shape :', train.shape)\n",
    "print('test shape :',test.shape)"
   ]
  },
  {
   "cell_type": "markdown",
   "metadata": {},
   "source": [
    "- ID - 각 여행에 대한 고유 식별자\n",
    "- vendor_id - 여행 기록과 관련된 공급자를 나타내는 코드\n",
    "- pickup_datetime - 미터가 종사한 날짜 및 시간\n",
    "- dropoff_datetime - 미터가 분리된 날짜 및 시간\n",
    "- passenger_count - 차량의 승객 수 (운전자가 값을 입력)\n",
    "- pickup_longitude - 미터가 종사하는 경도\n",
    "- pickup_latitude - 미터가 종사하는 위도\n",
    "- dropoff_longitude - 미터가 분리 된 경도\n",
    "- dropoff_latitude - 미터가 분리 된 위도\n",
    "- store_and_fwd_flag - 이 플래그는 차량이 서버에 연결되지 않았기 때문에 공급 업체에 보내기 전에 여행 기록이 차량 메모리에 보관되었는지 여부를 나타냅니다.-Y = 저장 및 전달; N = 저장 및 전진 여행 아님\n",
    "- trip_duration - 초 여행의 기간"
   ]
  },
  {
   "cell_type": "code",
   "execution_count": 4,
   "metadata": {},
   "outputs": [
    {
     "data": {
      "text/html": [
       "<div>\n",
       "<style scoped>\n",
       "    .dataframe tbody tr th:only-of-type {\n",
       "        vertical-align: middle;\n",
       "    }\n",
       "\n",
       "    .dataframe tbody tr th {\n",
       "        vertical-align: top;\n",
       "    }\n",
       "\n",
       "    .dataframe thead th {\n",
       "        text-align: right;\n",
       "    }\n",
       "</style>\n",
       "<table border=\"1\" class=\"dataframe\">\n",
       "  <thead>\n",
       "    <tr style=\"text-align: right;\">\n",
       "      <th></th>\n",
       "      <th>id</th>\n",
       "      <th>vendor_id</th>\n",
       "      <th>pickup_datetime</th>\n",
       "      <th>dropoff_datetime</th>\n",
       "      <th>passenger_count</th>\n",
       "      <th>pickup_longitude</th>\n",
       "      <th>pickup_latitude</th>\n",
       "      <th>dropoff_longitude</th>\n",
       "      <th>dropoff_latitude</th>\n",
       "      <th>store_and_fwd_flag</th>\n",
       "      <th>trip_duration</th>\n",
       "    </tr>\n",
       "  </thead>\n",
       "  <tbody>\n",
       "    <tr>\n",
       "      <th>0</th>\n",
       "      <td>id2875421</td>\n",
       "      <td>2</td>\n",
       "      <td>2016-03-14 17:24:55</td>\n",
       "      <td>2016-03-14 17:32:30</td>\n",
       "      <td>1</td>\n",
       "      <td>-73.982155</td>\n",
       "      <td>40.767937</td>\n",
       "      <td>-73.964630</td>\n",
       "      <td>40.765602</td>\n",
       "      <td>N</td>\n",
       "      <td>455</td>\n",
       "    </tr>\n",
       "    <tr>\n",
       "      <th>1</th>\n",
       "      <td>id2377394</td>\n",
       "      <td>1</td>\n",
       "      <td>2016-06-12 00:43:35</td>\n",
       "      <td>2016-06-12 00:54:38</td>\n",
       "      <td>1</td>\n",
       "      <td>-73.980415</td>\n",
       "      <td>40.738564</td>\n",
       "      <td>-73.999481</td>\n",
       "      <td>40.731152</td>\n",
       "      <td>N</td>\n",
       "      <td>663</td>\n",
       "    </tr>\n",
       "    <tr>\n",
       "      <th>2</th>\n",
       "      <td>id3858529</td>\n",
       "      <td>2</td>\n",
       "      <td>2016-01-19 11:35:24</td>\n",
       "      <td>2016-01-19 12:10:48</td>\n",
       "      <td>1</td>\n",
       "      <td>-73.979027</td>\n",
       "      <td>40.763939</td>\n",
       "      <td>-74.005333</td>\n",
       "      <td>40.710087</td>\n",
       "      <td>N</td>\n",
       "      <td>2124</td>\n",
       "    </tr>\n",
       "    <tr>\n",
       "      <th>3</th>\n",
       "      <td>id3504673</td>\n",
       "      <td>2</td>\n",
       "      <td>2016-04-06 19:32:31</td>\n",
       "      <td>2016-04-06 19:39:40</td>\n",
       "      <td>1</td>\n",
       "      <td>-74.010040</td>\n",
       "      <td>40.719971</td>\n",
       "      <td>-74.012268</td>\n",
       "      <td>40.706718</td>\n",
       "      <td>N</td>\n",
       "      <td>429</td>\n",
       "    </tr>\n",
       "    <tr>\n",
       "      <th>4</th>\n",
       "      <td>id2181028</td>\n",
       "      <td>2</td>\n",
       "      <td>2016-03-26 13:30:55</td>\n",
       "      <td>2016-03-26 13:38:10</td>\n",
       "      <td>1</td>\n",
       "      <td>-73.973053</td>\n",
       "      <td>40.793209</td>\n",
       "      <td>-73.972923</td>\n",
       "      <td>40.782520</td>\n",
       "      <td>N</td>\n",
       "      <td>435</td>\n",
       "    </tr>\n",
       "  </tbody>\n",
       "</table>\n",
       "</div>"
      ],
      "text/plain": [
       "          id  vendor_id      pickup_datetime     dropoff_datetime  \\\n",
       "0  id2875421          2  2016-03-14 17:24:55  2016-03-14 17:32:30   \n",
       "1  id2377394          1  2016-06-12 00:43:35  2016-06-12 00:54:38   \n",
       "2  id3858529          2  2016-01-19 11:35:24  2016-01-19 12:10:48   \n",
       "3  id3504673          2  2016-04-06 19:32:31  2016-04-06 19:39:40   \n",
       "4  id2181028          2  2016-03-26 13:30:55  2016-03-26 13:38:10   \n",
       "\n",
       "   passenger_count  pickup_longitude  pickup_latitude  dropoff_longitude  \\\n",
       "0                1        -73.982155        40.767937         -73.964630   \n",
       "1                1        -73.980415        40.738564         -73.999481   \n",
       "2                1        -73.979027        40.763939         -74.005333   \n",
       "3                1        -74.010040        40.719971         -74.012268   \n",
       "4                1        -73.973053        40.793209         -73.972923   \n",
       "\n",
       "   dropoff_latitude store_and_fwd_flag  trip_duration  \n",
       "0         40.765602                  N            455  \n",
       "1         40.731152                  N            663  \n",
       "2         40.710087                  N           2124  \n",
       "3         40.706718                  N            429  \n",
       "4         40.782520                  N            435  "
      ]
     },
     "execution_count": 4,
     "metadata": {},
     "output_type": "execute_result"
    }
   ],
   "source": [
    "train.head()"
   ]
  },
  {
   "cell_type": "code",
   "execution_count": 5,
   "metadata": {
    "scrolled": false
   },
   "outputs": [
    {
     "name": "stdout",
     "output_type": "stream",
     "text": [
      "########### train ##################\n",
      "<class 'pandas.core.frame.DataFrame'>\n",
      "RangeIndex: 1458644 entries, 0 to 1458643\n",
      "Data columns (total 11 columns):\n",
      " #   Column              Non-Null Count    Dtype  \n",
      "---  ------              --------------    -----  \n",
      " 0   id                  1458644 non-null  object \n",
      " 1   vendor_id           1458644 non-null  int64  \n",
      " 2   pickup_datetime     1458644 non-null  object \n",
      " 3   dropoff_datetime    1458644 non-null  object \n",
      " 4   passenger_count     1458644 non-null  int64  \n",
      " 5   pickup_longitude    1458644 non-null  float64\n",
      " 6   pickup_latitude     1458644 non-null  float64\n",
      " 7   dropoff_longitude   1458644 non-null  float64\n",
      " 8   dropoff_latitude    1458644 non-null  float64\n",
      " 9   store_and_fwd_flag  1458644 non-null  object \n",
      " 10  trip_duration       1458644 non-null  int64  \n",
      "dtypes: float64(4), int64(3), object(4)\n",
      "memory usage: 122.4+ MB\n",
      "None\n",
      "########### test ##################\n",
      "<class 'pandas.core.frame.DataFrame'>\n",
      "RangeIndex: 625134 entries, 0 to 625133\n",
      "Data columns (total 9 columns):\n",
      " #   Column              Non-Null Count   Dtype  \n",
      "---  ------              --------------   -----  \n",
      " 0   id                  625134 non-null  object \n",
      " 1   vendor_id           625134 non-null  int64  \n",
      " 2   pickup_datetime     625134 non-null  object \n",
      " 3   passenger_count     625134 non-null  int64  \n",
      " 4   pickup_longitude    625134 non-null  float64\n",
      " 5   pickup_latitude     625134 non-null  float64\n",
      " 6   dropoff_longitude   625134 non-null  float64\n",
      " 7   dropoff_latitude    625134 non-null  float64\n",
      " 8   store_and_fwd_flag  625134 non-null  object \n",
      "dtypes: float64(4), int64(2), object(3)\n",
      "memory usage: 42.9+ MB\n",
      "None\n"
     ]
    }
   ],
   "source": [
    "print('########### train ##################')\n",
    "print(train.info())\n",
    "\n",
    "print('########### test ##################')\n",
    "print(test.info())"
   ]
  },
  {
   "cell_type": "code",
   "execution_count": 6,
   "metadata": {},
   "outputs": [
    {
     "name": "stdout",
     "output_type": "stream",
     "text": [
      "############# train 결측치 ##############\n",
      "id                    0\n",
      "vendor_id             0\n",
      "pickup_datetime       0\n",
      "dropoff_datetime      0\n",
      "passenger_count       0\n",
      "pickup_longitude      0\n",
      "pickup_latitude       0\n",
      "dropoff_longitude     0\n",
      "dropoff_latitude      0\n",
      "store_and_fwd_flag    0\n",
      "trip_duration         0\n",
      "dtype: int64\n",
      "############# test 결측치 ##############\n",
      "id                    0\n",
      "vendor_id             0\n",
      "pickup_datetime       0\n",
      "passenger_count       0\n",
      "pickup_longitude      0\n",
      "pickup_latitude       0\n",
      "dropoff_longitude     0\n",
      "dropoff_latitude      0\n",
      "store_and_fwd_flag    0\n",
      "dtype: int64\n"
     ]
    }
   ],
   "source": [
    "print('############# train 결측치 ##############')\n",
    "print(train.isnull().sum())\n",
    "\n",
    "print('############# test 결측치 ##############')\n",
    "print(test.isnull().sum())"
   ]
  },
  {
   "cell_type": "markdown",
   "metadata": {},
   "source": [
    "- 결측치는 모든 데이터에 없다."
   ]
  },
  {
   "cell_type": "code",
   "execution_count": 7,
   "metadata": {},
   "outputs": [
    {
     "name": "stdout",
     "output_type": "stream",
     "text": [
      "####################### train ##################\n"
     ]
    },
    {
     "data": {
      "text/html": [
       "<div>\n",
       "<style scoped>\n",
       "    .dataframe tbody tr th:only-of-type {\n",
       "        vertical-align: middle;\n",
       "    }\n",
       "\n",
       "    .dataframe tbody tr th {\n",
       "        vertical-align: top;\n",
       "    }\n",
       "\n",
       "    .dataframe thead th {\n",
       "        text-align: right;\n",
       "    }\n",
       "</style>\n",
       "<table border=\"1\" class=\"dataframe\">\n",
       "  <thead>\n",
       "    <tr style=\"text-align: right;\">\n",
       "      <th></th>\n",
       "      <th>vendor_id</th>\n",
       "      <th>passenger_count</th>\n",
       "      <th>pickup_longitude</th>\n",
       "      <th>pickup_latitude</th>\n",
       "      <th>dropoff_longitude</th>\n",
       "      <th>dropoff_latitude</th>\n",
       "      <th>trip_duration</th>\n",
       "    </tr>\n",
       "  </thead>\n",
       "  <tbody>\n",
       "    <tr>\n",
       "      <th>count</th>\n",
       "      <td>1.458644e+06</td>\n",
       "      <td>1.458644e+06</td>\n",
       "      <td>1.458644e+06</td>\n",
       "      <td>1.458644e+06</td>\n",
       "      <td>1.458644e+06</td>\n",
       "      <td>1.458644e+06</td>\n",
       "      <td>1.458644e+06</td>\n",
       "    </tr>\n",
       "    <tr>\n",
       "      <th>mean</th>\n",
       "      <td>1.534950e+00</td>\n",
       "      <td>1.664530e+00</td>\n",
       "      <td>-7.397349e+01</td>\n",
       "      <td>4.075092e+01</td>\n",
       "      <td>-7.397342e+01</td>\n",
       "      <td>4.075180e+01</td>\n",
       "      <td>9.594923e+02</td>\n",
       "    </tr>\n",
       "    <tr>\n",
       "      <th>std</th>\n",
       "      <td>4.987772e-01</td>\n",
       "      <td>1.314242e+00</td>\n",
       "      <td>7.090186e-02</td>\n",
       "      <td>3.288119e-02</td>\n",
       "      <td>7.064327e-02</td>\n",
       "      <td>3.589056e-02</td>\n",
       "      <td>5.237432e+03</td>\n",
       "    </tr>\n",
       "    <tr>\n",
       "      <th>min</th>\n",
       "      <td>1.000000e+00</td>\n",
       "      <td>0.000000e+00</td>\n",
       "      <td>-1.219333e+02</td>\n",
       "      <td>3.435970e+01</td>\n",
       "      <td>-1.219333e+02</td>\n",
       "      <td>3.218114e+01</td>\n",
       "      <td>1.000000e+00</td>\n",
       "    </tr>\n",
       "    <tr>\n",
       "      <th>25%</th>\n",
       "      <td>1.000000e+00</td>\n",
       "      <td>1.000000e+00</td>\n",
       "      <td>-7.399187e+01</td>\n",
       "      <td>4.073735e+01</td>\n",
       "      <td>-7.399133e+01</td>\n",
       "      <td>4.073588e+01</td>\n",
       "      <td>3.970000e+02</td>\n",
       "    </tr>\n",
       "    <tr>\n",
       "      <th>50%</th>\n",
       "      <td>2.000000e+00</td>\n",
       "      <td>1.000000e+00</td>\n",
       "      <td>-7.398174e+01</td>\n",
       "      <td>4.075410e+01</td>\n",
       "      <td>-7.397975e+01</td>\n",
       "      <td>4.075452e+01</td>\n",
       "      <td>6.620000e+02</td>\n",
       "    </tr>\n",
       "    <tr>\n",
       "      <th>75%</th>\n",
       "      <td>2.000000e+00</td>\n",
       "      <td>2.000000e+00</td>\n",
       "      <td>-7.396733e+01</td>\n",
       "      <td>4.076836e+01</td>\n",
       "      <td>-7.396301e+01</td>\n",
       "      <td>4.076981e+01</td>\n",
       "      <td>1.075000e+03</td>\n",
       "    </tr>\n",
       "    <tr>\n",
       "      <th>max</th>\n",
       "      <td>2.000000e+00</td>\n",
       "      <td>9.000000e+00</td>\n",
       "      <td>-6.133553e+01</td>\n",
       "      <td>5.188108e+01</td>\n",
       "      <td>-6.133553e+01</td>\n",
       "      <td>4.392103e+01</td>\n",
       "      <td>3.526282e+06</td>\n",
       "    </tr>\n",
       "  </tbody>\n",
       "</table>\n",
       "</div>"
      ],
      "text/plain": [
       "          vendor_id  passenger_count  pickup_longitude  pickup_latitude  \\\n",
       "count  1.458644e+06     1.458644e+06      1.458644e+06     1.458644e+06   \n",
       "mean   1.534950e+00     1.664530e+00     -7.397349e+01     4.075092e+01   \n",
       "std    4.987772e-01     1.314242e+00      7.090186e-02     3.288119e-02   \n",
       "min    1.000000e+00     0.000000e+00     -1.219333e+02     3.435970e+01   \n",
       "25%    1.000000e+00     1.000000e+00     -7.399187e+01     4.073735e+01   \n",
       "50%    2.000000e+00     1.000000e+00     -7.398174e+01     4.075410e+01   \n",
       "75%    2.000000e+00     2.000000e+00     -7.396733e+01     4.076836e+01   \n",
       "max    2.000000e+00     9.000000e+00     -6.133553e+01     5.188108e+01   \n",
       "\n",
       "       dropoff_longitude  dropoff_latitude  trip_duration  \n",
       "count       1.458644e+06      1.458644e+06   1.458644e+06  \n",
       "mean       -7.397342e+01      4.075180e+01   9.594923e+02  \n",
       "std         7.064327e-02      3.589056e-02   5.237432e+03  \n",
       "min        -1.219333e+02      3.218114e+01   1.000000e+00  \n",
       "25%        -7.399133e+01      4.073588e+01   3.970000e+02  \n",
       "50%        -7.397975e+01      4.075452e+01   6.620000e+02  \n",
       "75%        -7.396301e+01      4.076981e+01   1.075000e+03  \n",
       "max        -6.133553e+01      4.392103e+01   3.526282e+06  "
      ]
     },
     "metadata": {},
     "output_type": "display_data"
    },
    {
     "name": "stdout",
     "output_type": "stream",
     "text": [
      "###################### test ###################\n"
     ]
    },
    {
     "data": {
      "text/html": [
       "<div>\n",
       "<style scoped>\n",
       "    .dataframe tbody tr th:only-of-type {\n",
       "        vertical-align: middle;\n",
       "    }\n",
       "\n",
       "    .dataframe tbody tr th {\n",
       "        vertical-align: top;\n",
       "    }\n",
       "\n",
       "    .dataframe thead th {\n",
       "        text-align: right;\n",
       "    }\n",
       "</style>\n",
       "<table border=\"1\" class=\"dataframe\">\n",
       "  <thead>\n",
       "    <tr style=\"text-align: right;\">\n",
       "      <th></th>\n",
       "      <th>vendor_id</th>\n",
       "      <th>passenger_count</th>\n",
       "      <th>pickup_longitude</th>\n",
       "      <th>pickup_latitude</th>\n",
       "      <th>dropoff_longitude</th>\n",
       "      <th>dropoff_latitude</th>\n",
       "    </tr>\n",
       "  </thead>\n",
       "  <tbody>\n",
       "    <tr>\n",
       "      <th>count</th>\n",
       "      <td>625134.000000</td>\n",
       "      <td>625134.000000</td>\n",
       "      <td>625134.000000</td>\n",
       "      <td>625134.000000</td>\n",
       "      <td>625134.000000</td>\n",
       "      <td>625134.000000</td>\n",
       "    </tr>\n",
       "    <tr>\n",
       "      <th>mean</th>\n",
       "      <td>1.534884</td>\n",
       "      <td>1.661765</td>\n",
       "      <td>-73.973614</td>\n",
       "      <td>40.750927</td>\n",
       "      <td>-73.973458</td>\n",
       "      <td>40.751816</td>\n",
       "    </tr>\n",
       "    <tr>\n",
       "      <th>std</th>\n",
       "      <td>0.498782</td>\n",
       "      <td>1.311293</td>\n",
       "      <td>0.073389</td>\n",
       "      <td>0.029848</td>\n",
       "      <td>0.072565</td>\n",
       "      <td>0.035824</td>\n",
       "    </tr>\n",
       "    <tr>\n",
       "      <th>min</th>\n",
       "      <td>1.000000</td>\n",
       "      <td>0.000000</td>\n",
       "      <td>-121.933128</td>\n",
       "      <td>37.389587</td>\n",
       "      <td>-121.933327</td>\n",
       "      <td>36.601322</td>\n",
       "    </tr>\n",
       "    <tr>\n",
       "      <th>25%</th>\n",
       "      <td>1.000000</td>\n",
       "      <td>1.000000</td>\n",
       "      <td>-73.991852</td>\n",
       "      <td>40.737392</td>\n",
       "      <td>-73.991318</td>\n",
       "      <td>40.736000</td>\n",
       "    </tr>\n",
       "    <tr>\n",
       "      <th>50%</th>\n",
       "      <td>2.000000</td>\n",
       "      <td>1.000000</td>\n",
       "      <td>-73.981743</td>\n",
       "      <td>40.754093</td>\n",
       "      <td>-73.979774</td>\n",
       "      <td>40.754543</td>\n",
       "    </tr>\n",
       "    <tr>\n",
       "      <th>75%</th>\n",
       "      <td>2.000000</td>\n",
       "      <td>2.000000</td>\n",
       "      <td>-73.967400</td>\n",
       "      <td>40.768394</td>\n",
       "      <td>-73.963013</td>\n",
       "      <td>40.769852</td>\n",
       "    </tr>\n",
       "    <tr>\n",
       "      <th>max</th>\n",
       "      <td>2.000000</td>\n",
       "      <td>9.000000</td>\n",
       "      <td>-69.248917</td>\n",
       "      <td>42.814938</td>\n",
       "      <td>-67.496796</td>\n",
       "      <td>48.857597</td>\n",
       "    </tr>\n",
       "  </tbody>\n",
       "</table>\n",
       "</div>"
      ],
      "text/plain": [
       "           vendor_id  passenger_count  pickup_longitude  pickup_latitude  \\\n",
       "count  625134.000000    625134.000000     625134.000000    625134.000000   \n",
       "mean        1.534884         1.661765        -73.973614        40.750927   \n",
       "std         0.498782         1.311293          0.073389         0.029848   \n",
       "min         1.000000         0.000000       -121.933128        37.389587   \n",
       "25%         1.000000         1.000000        -73.991852        40.737392   \n",
       "50%         2.000000         1.000000        -73.981743        40.754093   \n",
       "75%         2.000000         2.000000        -73.967400        40.768394   \n",
       "max         2.000000         9.000000        -69.248917        42.814938   \n",
       "\n",
       "       dropoff_longitude  dropoff_latitude  \n",
       "count      625134.000000     625134.000000  \n",
       "mean          -73.973458         40.751816  \n",
       "std             0.072565          0.035824  \n",
       "min          -121.933327         36.601322  \n",
       "25%           -73.991318         40.736000  \n",
       "50%           -73.979774         40.754543  \n",
       "75%           -73.963013         40.769852  \n",
       "max           -67.496796         48.857597  "
      ]
     },
     "metadata": {},
     "output_type": "display_data"
    }
   ],
   "source": [
    "print('####################### train ##################')\n",
    "display(train.describe())\n",
    "\n",
    "print('###################### test ###################')\n",
    "display(test.describe())"
   ]
  },
  {
   "cell_type": "code",
   "execution_count": 8,
   "metadata": {},
   "outputs": [],
   "source": [
    "train['pickup_datetime'] = pd.to_datetime(train['pickup_datetime'])\n",
    "train['dropoff_datetime'] = pd.to_datetime(train['dropoff_datetime'])\n",
    "test['pickup_datetime'] = pd.to_datetime(test['pickup_datetime'])\n",
    "\n",
    "# trip_duration을 target으로 바꿔준다.\n",
    "train=train.rename(columns = {'trip_duration':'target'})"
   ]
  },
  {
   "cell_type": "code",
   "execution_count": 9,
   "metadata": {},
   "outputs": [],
   "source": [
    "def sub_function(x):\n",
    "    a=set(train[x].unique())\n",
    "    b =set(test[x].unique())\n",
    "    a =a.difference(test[x])\n",
    "    b =b.difference(train[x])\n",
    "    print(f'train_set 에만 있는 값 {a}')\n",
    "    print(f'test_set 에만 있는 값 {b}')    "
   ]
  },
  {
   "cell_type": "code",
   "execution_count": 10,
   "metadata": {},
   "outputs": [
    {
     "data": {
      "text/plain": [
       "<AxesSubplot:xlabel='target', ylabel='Density'>"
      ]
     },
     "execution_count": 10,
     "metadata": {},
     "output_type": "execute_result"
    },
    {
     "data": {
      "image/png": "[encoded data removed]",
      "text/plain": [
       "<Figure size 1152x576 with 1 Axes>"
      ]
     },
     "metadata": {
      "needs_background": "light"
     },
     "output_type": "display_data"
    }
   ],
   "source": [
    "# target에 정규화를 시켜주고 분석을 진행해 주자.\n",
    "plt.figure(figsize = (16,8))\n",
    "sns.kdeplot(train['target'])"
   ]
  },
  {
   "cell_type": "markdown",
   "metadata": {},
   "source": [
    "# id"
   ]
  },
  {
   "cell_type": "code",
   "execution_count": 11,
   "metadata": {},
   "outputs": [],
   "source": [
    "train['id']=train['id'].apply(lambda x:x[2:])\n",
    "train['id']=train['id'].astype('int')\n",
    "\n",
    "test['id'] = test['id'].apply(lambda x: x[2:])\n",
    "test['id'] = test['id'].astype('int')"
   ]
  },
  {
   "cell_type": "code",
   "execution_count": 12,
   "metadata": {},
   "outputs": [
    {
     "data": {
      "text/plain": [
       "count    1.458644e+06\n",
       "mean     1.999021e+06\n",
       "std      1.154740e+06\n",
       "min      1.000000e+00\n",
       "25%      9.992588e+05\n",
       "50%      1.998046e+06\n",
       "75%      2.999228e+06\n",
       "max      4.000000e+06\n",
       "Name: id, dtype: float64"
      ]
     },
     "execution_count": 12,
     "metadata": {},
     "output_type": "execute_result"
    }
   ],
   "source": [
    "train['id'].describe()"
   ]
  },
  {
   "cell_type": "code",
   "execution_count": 63,
   "metadata": {},
   "outputs": [
    {
     "name": "stdout",
     "output_type": "stream",
     "text": [
      "1 4000000\n",
      "2 3999997\n"
     ]
    }
   ],
   "source": [
    "print(train['id'].min(), train['id'].max())\n",
    "print(test['id'].min(), test['id'].max())"
   ]
  },
  {
   "cell_type": "code",
   "execution_count": 67,
   "metadata": {},
   "outputs": [
    {
     "data": {
      "text/plain": [
       "<AxesSubplot:xlabel='id', ylabel='Density'>"
      ]
     },
     "execution_count": 67,
     "metadata": {},
     "output_type": "execute_result"
    },
    {
     "data": {
      "image/png": "[encoded data removed]",
      "text/plain": [
       "<Figure size 432x288 with 1 Axes>"
      ]
     },
     "metadata": {
      "needs_background": "light"
     },
     "output_type": "display_data"
    }
   ],
   "source": [
    "# 특정한 분포를 찾을 수 없으므로 이 데이터는 제거 해 주도록 하자.\n",
    "sns.kdeplot(data = train, x = 'id')"
   ]
  },
  {
   "cell_type": "markdown",
   "metadata": {},
   "source": [
    "## vendor_id"
   ]
  },
  {
   "cell_type": "code",
   "execution_count": 14,
   "metadata": {
    "scrolled": true
   },
   "outputs": [
    {
     "data": {
      "text/plain": [
       "2    780302\n",
       "1    678342\n",
       "Name: vendor_id, dtype: int64"
      ]
     },
     "execution_count": 14,
     "metadata": {},
     "output_type": "execute_result"
    }
   ],
   "source": [
    "train.vendor_id.value_counts()"
   ]
  },
  {
   "cell_type": "code",
   "execution_count": 15,
   "metadata": {},
   "outputs": [
    {
     "data": {
      "text/plain": [
       "<AxesSubplot:xlabel='vendor_id', ylabel='target'>"
      ]
     },
     "execution_count": 15,
     "metadata": {},
     "output_type": "execute_result"
    },
    {
     "data": {
      "image/png": "[encoded data removed]",
      "text/plain": [
       "<Figure size 432x288 with 1 Axes>"
      ]
     },
     "metadata": {
      "needs_background": "light"
     },
     "output_type": "display_data"
    }
   ],
   "source": [
    "sns.barplot(data = train, x = 'vendor_id', y = 'target')"
   ]
  },
  {
   "cell_type": "code",
   "execution_count": 16,
   "metadata": {},
   "outputs": [
    {
     "name": "stdout",
     "output_type": "stream",
     "text": [
      "train_set 에만 있는 값 set()\n",
      "test_set 에만 있는 값 set()\n"
     ]
    }
   ],
   "source": [
    "sub_function('vendor_id')"
   ]
  },
  {
   "cell_type": "markdown",
   "metadata": {},
   "source": [
    "- 이 데이터의 경우 설명도 나와 있지 않기 때문에 나중에 다른 변수와 비교할 때 사용해야 겠다."
   ]
  },
  {
   "cell_type": "markdown",
   "metadata": {},
   "source": [
    "## passenger_count"
   ]
  },
  {
   "cell_type": "code",
   "execution_count": 17,
   "metadata": {
    "scrolled": true
   },
   "outputs": [
    {
     "name": "stdout",
     "output_type": "stream",
     "text": [
      "train의 passenger_count\n",
      "1    1033540\n",
      "2     210318\n",
      "5      78088\n",
      "3      59896\n",
      "6      48333\n",
      "4      28404\n",
      "0         60\n",
      "7          3\n",
      "9          1\n",
      "8          1\n",
      "Name: passenger_count, dtype: int64\n",
      "test의 passenger_count\n",
      "1    443447\n",
      "2     90027\n",
      "5     33411\n",
      "3     25686\n",
      "6     20521\n",
      "4     12017\n",
      "0        23\n",
      "9         2\n",
      "Name: passenger_count, dtype: int64\n"
     ]
    }
   ],
   "source": [
    "print('train의 passenger_count')\n",
    "print(train['passenger_count'].value_counts())\n",
    "print('test의 passenger_count')\n",
    "print(test['passenger_count'].value_counts())"
   ]
  },
  {
   "cell_type": "code",
   "execution_count": 18,
   "metadata": {
    "scrolled": true
   },
   "outputs": [
    {
     "data": {
      "text/plain": [
       "<AxesSubplot:xlabel='passenger_count', ylabel='target'>"
      ]
     },
     "execution_count": 18,
     "metadata": {},
     "output_type": "execute_result"
    },
    {
     "data": {
      "image/png": "[encoded data removed]",
      "text/plain": [
       "<Figure size 432x288 with 1 Axes>"
      ]
     },
     "metadata": {
      "needs_background": "light"
     },
     "output_type": "display_data"
    }
   ],
   "source": [
    "sns.barplot(data = train, x = 'passenger_count', y = 'target')"
   ]
  },
  {
   "cell_type": "markdown",
   "metadata": {},
   "source": [
    "- 0명을 태웠다는 말은 무슨말일까?\n",
    "- 일단 test셋에 7과 8이 없음으로 7과 8의 데이터를 지워주도록 하자!!"
   ]
  },
  {
   "cell_type": "markdown",
   "metadata": {},
   "source": [
    "## pickup_datetime"
   ]
  },
  {
   "cell_type": "code",
   "execution_count": 19,
   "metadata": {},
   "outputs": [],
   "source": [
    "def datetime(df, column):\n",
    "    df['month'] = df[column].dt.month\n",
    "    df['day'] = df[column].dt.day\n",
    "    df['hour'] = df[column].dt.hour\n",
    "    return df"
   ]
  },
  {
   "cell_type": "code",
   "execution_count": 20,
   "metadata": {},
   "outputs": [],
   "source": [
    "train=datetime(df = train, column = 'pickup_datetime')\n",
    "test=datetime(df = test, column = 'pickup_datetime')"
   ]
  },
  {
   "cell_type": "code",
   "execution_count": 21,
   "metadata": {},
   "outputs": [],
   "source": [
    "# 주말과 평일을 나누어서 데이터를 분석해 보자.\n",
    "train['weekday'] = train['pickup_datetime'].apply(lambda x:x.weekday())\n",
    "train['weekday']=train['weekday'].apply(lambda x: 1 if x > 4 else 0)\n",
    "\n",
    "test['weekday'] = test['pickup_datetime'].apply(lambda x:x.weekday())\n",
    "test['weekday']=test['weekday'].apply(lambda x: 1 if x > 4 else 0)"
   ]
  },
  {
   "cell_type": "markdown",
   "metadata": {},
   "source": [
    "### 평일과 공휴일의 차이"
   ]
  },
  {
   "cell_type": "code",
   "execution_count": 22,
   "metadata": {},
   "outputs": [
    {
     "data": {
      "text/plain": [
       "Text(0.5, 1.0, 'weekday vs target')"
      ]
     },
     "execution_count": 22,
     "metadata": {},
     "output_type": "execute_result"
    },
    {
     "data": {
      "image/png": "[encoded data removed]",
      "text/plain": [
       "<Figure size 1152x576 with 2 Axes>"
      ]
     },
     "metadata": {
      "needs_background": "light"
     },
     "output_type": "display_data"
    }
   ],
   "source": [
    "fig, ax = plt.subplots(ncols = 2, figsize = (16,8))\n",
    "sns.barplot(data = train, x = 'weekday', y = 'target', ax = ax[0])\n",
    "ax[0].set_title('weekday vs target')\n",
    "\n",
    "sns.boxenplot(data = train, x = 'weekday', y = 'target', ax = ax[1])\n",
    "ax[1].set_title('weekday vs target')"
   ]
  },
  {
   "cell_type": "markdown",
   "metadata": {},
   "source": [
    "- 사람들은 평일에 택시를 더 많이 타는 것을 알 수있다."
   ]
  },
  {
   "cell_type": "markdown",
   "metadata": {},
   "source": [
    "### 월별로 차이"
   ]
  },
  {
   "cell_type": "code",
   "execution_count": 23,
   "metadata": {},
   "outputs": [
    {
     "data": {
      "text/plain": [
       "Text(0.5, 1.0, 'month vs target')"
      ]
     },
     "execution_count": 23,
     "metadata": {},
     "output_type": "execute_result"
    },
    {
     "data": {
      "image/png": "[encoded data removed]",
      "text/plain": [
       "<Figure size 1152x576 with 2 Axes>"
      ]
     },
     "metadata": {
      "needs_background": "light"
     },
     "output_type": "display_data"
    }
   ],
   "source": [
    "fig, ax = plt.subplots(ncols = 2, figsize = (16,8))\n",
    "sns.barplot(data = train, x = 'month', y = 'target', ax = ax[0])\n",
    "ax[0].set_title('month vs target')\n",
    "\n",
    "sns.boxenplot(data = train, x = 'month', y = 'target', ax = ax[1])\n",
    "ax[1].set_title('month vs target')"
   ]
  },
  {
   "cell_type": "markdown",
   "metadata": {},
   "source": [
    "- 매 달마다 택시를 타는 사람이 늘어나고 있다."
   ]
  },
  {
   "cell_type": "code",
   "execution_count": 24,
   "metadata": {},
   "outputs": [
    {
     "name": "stdout",
     "output_type": "stream",
     "text": [
      "train_set 에만 있는 값 set()\n",
      "test_set 에만 있는 값 set()\n"
     ]
    }
   ],
   "source": [
    "sub_function('month')"
   ]
  },
  {
   "cell_type": "markdown",
   "metadata": {},
   "source": [
    "### 일별로 차이"
   ]
  },
  {
   "cell_type": "code",
   "execution_count": 25,
   "metadata": {},
   "outputs": [
    {
     "data": {
      "text/plain": [
       "<AxesSubplot:xlabel='day', ylabel='target'>"
      ]
     },
     "execution_count": 25,
     "metadata": {},
     "output_type": "execute_result"
    },
    {
     "data": {
      "image/png": "[encoded data removed]",
      "text/plain": [
       "<Figure size 1152x576 with 1 Axes>"
      ]
     },
     "metadata": {
      "needs_background": "light"
     },
     "output_type": "display_data"
    }
   ],
   "source": [
    "plt.figure(figsize = (16,8))\n",
    "sns.barplot(data = train, x = 'day', y = 'target')"
   ]
  },
  {
   "cell_type": "markdown",
   "metadata": {},
   "source": [
    "- 일별로는 다른 차이점을 발견하지 못했다."
   ]
  },
  {
   "cell_type": "code",
   "execution_count": 26,
   "metadata": {},
   "outputs": [
    {
     "name": "stdout",
     "output_type": "stream",
     "text": [
      "train_set 에만 있는 값 set()\n",
      "test_set 에만 있는 값 set()\n"
     ]
    }
   ],
   "source": [
    "sub_function('day')"
   ]
  },
  {
   "cell_type": "code",
   "execution_count": 27,
   "metadata": {
    "scrolled": false
   },
   "outputs": [
    {
     "data": {
      "text/plain": [
       "<AxesSubplot:xlabel='hour', ylabel='target'>"
      ]
     },
     "execution_count": 27,
     "metadata": {},
     "output_type": "execute_result"
    },
    {
     "data": {
      "image/png": "[encoded data removed]",
      "text/plain": [
       "<Figure size 1152x576 with 1 Axes>"
      ]
     },
     "metadata": {
      "needs_background": "light"
     },
     "output_type": "display_data"
    }
   ],
   "source": [
    "plt.figure(figsize = (16,8))\n",
    "sns.barplot(data = train, x = 'hour', y = 'target', hue = 'weekday')"
   ]
  },
  {
   "cell_type": "markdown",
   "metadata": {},
   "source": [
    "- 시간별로 공휴일인지 아닌지는 차이가 있는 것 같다."
   ]
  },
  {
   "cell_type": "markdown",
   "metadata": {},
   "source": [
    "## 위도 경도를 이용해 거리 구하기"
   ]
  },
  {
   "cell_type": "code",
   "execution_count": 28,
   "metadata": {},
   "outputs": [],
   "source": [
    "from haversine import haversine"
   ]
  },
  {
   "cell_type": "code",
   "execution_count": 29,
   "metadata": {},
   "outputs": [
    {
     "data": {
      "text/plain": [
       "Index(['id', 'vendor_id', 'pickup_datetime', 'dropoff_datetime',\n",
       "       'passenger_count', 'pickup_longitude', 'pickup_latitude',\n",
       "       'dropoff_longitude', 'dropoff_latitude', 'store_and_fwd_flag', 'target',\n",
       "       'month', 'day', 'hour', 'weekday'],\n",
       "      dtype='object')"
      ]
     },
     "execution_count": 29,
     "metadata": {},
     "output_type": "execute_result"
    }
   ],
   "source": [
    "train.columns"
   ]
  },
  {
   "cell_type": "code",
   "execution_count": 30,
   "metadata": {},
   "outputs": [],
   "source": [
    "def haversine1(lat1, lon1, lat2, lon2, R = 6373.0):\n",
    "    \n",
    "    R = R # 'km'를 나타내기위해 수를 지정해준다.\n",
    "    lat1 = radians(lat1)\n",
    "    lon1 = radians(lon1)\n",
    "    lat2 = radians(lat2)\n",
    "    lon2 = radians(lon2)\n",
    "    dlon = lon2 - lon1\n",
    "    dlat = lat2 - lat1\n",
    "    \n",
    "    a = sin(dlat / 2)**2 + cos(lat1)*cos(lat2)*sin(dlon / 2)**2\n",
    "    c = 2 * atan2(sqrt(a), sqrt(1-a))\n",
    "    \n",
    "    distance = R * c\n",
    "    return distance\n",
    "    \n",
    "train['distance'] = train.apply(lambda x:haversine1(x['pickup_latitude'],\n",
    "                                                   x['pickup_longitude'],\n",
    "                                                   x['dropoff_latitude'],\n",
    "                                                   x['dropoff_longitude']\n",
    "                                                   ), axis = 1)\n",
    "\n",
    "test['distance'] = test.apply(lambda x:haversine1(x['pickup_latitude'],\n",
    "                                                   x['pickup_longitude'],\n",
    "                                                   x['dropoff_latitude'],\n",
    "                                                   x['dropoff_longitude']\n",
    "                                                   ), axis = 1)"
   ]
  },
  {
   "cell_type": "code",
   "execution_count": 31,
   "metadata": {},
   "outputs": [],
   "source": [
    "# haversine을 짯지만 너무 느린관계로 쓰지 않는다.\n",
    "# from tqdm import tqdm\n",
    "\n",
    "# def haversine1(df = None):\n",
    "#     for i in tqdm(df.index):\n",
    "#         df.loc[i,'distance'] = haversine((df.loc[i,'pickup_longitude'],df.loc[i,'pickup_latitude']),\n",
    "#                                          (df.loc[i,'dropoff_longitude'],df.loc[i,'dropoff_latitude']), unit = 'm')\n",
    "#     return df\n",
    "\n",
    "# distance_train=haversine1(df = train)\n",
    "# distance_train=pd.DataFrame(distance_train)\n",
    "\n",
    "# distance_test = haversine1(df = test)\n",
    "# distance_test = pd.DataFrame(distance_test)"
   ]
  },
  {
   "cell_type": "code",
   "execution_count": 32,
   "metadata": {},
   "outputs": [
    {
     "data": {
      "text/html": [
       "<div>\n",
       "<style scoped>\n",
       "    .dataframe tbody tr th:only-of-type {\n",
       "        vertical-align: middle;\n",
       "    }\n",
       "\n",
       "    .dataframe tbody tr th {\n",
       "        vertical-align: top;\n",
       "    }\n",
       "\n",
       "    .dataframe thead th {\n",
       "        text-align: right;\n",
       "    }\n",
       "</style>\n",
       "<table border=\"1\" class=\"dataframe\">\n",
       "  <thead>\n",
       "    <tr style=\"text-align: right;\">\n",
       "      <th></th>\n",
       "      <th>distance</th>\n",
       "      <th>target</th>\n",
       "    </tr>\n",
       "  </thead>\n",
       "  <tbody>\n",
       "    <tr>\n",
       "      <th>distance</th>\n",
       "      <td>1.000000</td>\n",
       "      <td>0.094777</td>\n",
       "    </tr>\n",
       "    <tr>\n",
       "      <th>target</th>\n",
       "      <td>0.094777</td>\n",
       "      <td>1.000000</td>\n",
       "    </tr>\n",
       "  </tbody>\n",
       "</table>\n",
       "</div>"
      ],
      "text/plain": [
       "          distance    target\n",
       "distance  1.000000  0.094777\n",
       "target    0.094777  1.000000"
      ]
     },
     "execution_count": 32,
     "metadata": {},
     "output_type": "execute_result"
    }
   ],
   "source": [
    "# 상관관계는 0.1도 안되는걸 확인했다.\n",
    "train[['distance','target']].corr()"
   ]
  },
  {
   "cell_type": "code",
   "execution_count": 33,
   "metadata": {},
   "outputs": [
    {
     "data": {
      "text/plain": [
       "<AxesSubplot:xlabel='distance', ylabel='Density'>"
      ]
     },
     "execution_count": 33,
     "metadata": {},
     "output_type": "execute_result"
    },
    {
     "data": {
      "image/png": "[encoded data removed]",
      "text/plain": [
       "<Figure size 432x288 with 1 Axes>"
      ]
     },
     "metadata": {
      "needs_background": "light"
     },
     "output_type": "display_data"
    }
   ],
   "source": [
    "# 그래프를 그려봤을 때 0에 몰려있는 것을 확인했다.\n",
    "# 로그를 이용해서 정규화를 시켜주자.\n",
    "sns.kdeplot(data = train, x = 'distance')"
   ]
  },
  {
   "cell_type": "code",
   "execution_count": 34,
   "metadata": {},
   "outputs": [],
   "source": [
    "# 로그화 작업\n",
    "train['distance'] = train['distance'].apply(lambda x: np.log1p(x))\n",
    "test['distance'] = test['distance'].apply(lambda x:np.log1p(x))"
   ]
  },
  {
   "cell_type": "markdown",
   "metadata": {},
   "source": [
    "## store_and_fwd_flag"
   ]
  },
  {
   "cell_type": "code",
   "execution_count": 35,
   "metadata": {},
   "outputs": [
    {
     "data": {
      "text/plain": [
       "N    1450599\n",
       "Y       8045\n",
       "Name: store_and_fwd_flag, dtype: int64"
      ]
     },
     "execution_count": 35,
     "metadata": {},
     "output_type": "execute_result"
    }
   ],
   "source": [
    "train['store_and_fwd_flag'].value_counts()"
   ]
  },
  {
   "cell_type": "code",
   "execution_count": 36,
   "metadata": {},
   "outputs": [
    {
     "data": {
      "text/plain": [
       "<AxesSubplot:xlabel='store_and_fwd_flag', ylabel='target'>"
      ]
     },
     "execution_count": 36,
     "metadata": {},
     "output_type": "execute_result"
    },
    {
     "data": {
      "image/png": "[encoded data removed]",
      "text/plain": [
       "<Figure size 432x288 with 1 Axes>"
      ]
     },
     "metadata": {
      "needs_background": "light"
     },
     "output_type": "display_data"
    }
   ],
   "source": [
    "sns.boxenplot(data = train, x = 'store_and_fwd_flag', y = 'target')"
   ]
  },
  {
   "cell_type": "markdown",
   "metadata": {},
   "source": [
    "- Y가 N보다 더 높은 시간은 나타낸다."
   ]
  },
  {
   "cell_type": "code",
   "execution_count": 37,
   "metadata": {},
   "outputs": [
    {
     "name": "stdout",
     "output_type": "stream",
     "text": [
      "train_set 에만 있는 값 set()\n",
      "test_set 에만 있는 값 set()\n"
     ]
    }
   ],
   "source": [
    "sub_function('store_and_fwd_flag')"
   ]
  },
  {
   "cell_type": "code",
   "execution_count": 38,
   "metadata": {
    "scrolled": false
   },
   "outputs": [
    {
     "data": {
      "text/plain": [
       "<AxesSubplot:xlabel='store_and_fwd_flag', ylabel='target'>"
      ]
     },
     "execution_count": 38,
     "metadata": {},
     "output_type": "execute_result"
    },
    {
     "data": {
      "image/png": "[encoded data removed]",
      "text/plain": [
       "<Figure size 432x288 with 1 Axes>"
      ]
     },
     "metadata": {
      "needs_background": "light"
     },
     "output_type": "display_data"
    }
   ],
   "source": [
    "sns.barplot(data = train, x = 'store_and_fwd_flag', y = 'target', hue = 'weekday')"
   ]
  },
  {
   "cell_type": "code",
   "execution_count": 39,
   "metadata": {
    "scrolled": false
   },
   "outputs": [
    {
     "data": {
      "text/plain": [
       "<AxesSubplot:>"
      ]
     },
     "execution_count": 39,
     "metadata": {},
     "output_type": "execute_result"
    },
    {
     "data": {
      "image/png": "[encoded data removed]",
      "text/plain": [
       "<Figure size 1152x576 with 2 Axes>"
      ]
     },
     "metadata": {
      "needs_background": "light"
     },
     "output_type": "display_data"
    }
   ],
   "source": [
    "plt.figure(figsize = (16,8))\n",
    "train_corr=train.corr()\n",
    "sns.heatmap(train_corr, annot = True)"
   ]
  },
  {
   "cell_type": "code",
   "execution_count": 40,
   "metadata": {},
   "outputs": [],
   "source": [
    "# import folium"
   ]
  },
  {
   "cell_type": "code",
   "execution_count": 41,
   "metadata": {},
   "outputs": [],
   "source": [
    "# start=train[['pickup_latitude','pickup_longtitude']]\n",
    "# g_map = folium.Map(location = [73.982155,40.767937], zoom_start = 18)\n",
    "# for start in zip(train['pickup_longitude'], train['pickup_latitude']):\n",
    "#     start = list(start)\n",
    "#     marker=folium.Marker(start, popup = 'campus seven', icon = folium.Icon(color = 'blue'))\n",
    "#     marker.add_to(g_map)"
   ]
  },
  {
   "cell_type": "code",
   "execution_count": 42,
   "metadata": {},
   "outputs": [
    {
     "name": "stdout",
     "output_type": "stream",
     "text": [
      "-------- train ----------\n",
      "count    1.458644e+06\n",
      "mean     1.254794e+00\n",
      "std      6.272036e-01\n",
      "min      0.000000e+00\n",
      "25%      8.029981e-01\n",
      "50%      1.129586e+00\n",
      "75%      1.584439e+00\n",
      "max      7.124718e+00\n",
      "Name: distance, dtype: float64\n",
      "------------ test -----------\n",
      "count    625134.000000\n",
      "mean          1.254233\n",
      "std           0.626017\n",
      "min           0.000000\n",
      "25%           0.803040\n",
      "50%           1.129592\n",
      "75%           1.585919\n",
      "max           6.944443\n",
      "Name: distance, dtype: float64\n"
     ]
    }
   ],
   "source": [
    "print('-------- train ----------')\n",
    "print(train['distance'].describe())\n",
    "print('------------ test -----------')\n",
    "print(test['distance'].describe())"
   ]
  },
  {
   "cell_type": "code",
   "execution_count": 43,
   "metadata": {},
   "outputs": [],
   "source": [
    "# 그래서 거리의 사분위수를 이용해 나눠주기로 하자.\n",
    "train['distance'].describe()\n",
    "\n",
    "train.loc[train['distance'] <= 0.8029981 , 'distance_binning'] = 0\n",
    "train.loc[(train['distance'] >=0.8029981) & (train['distance'] < 1.129586), 'distance_binning'] = 1\n",
    "train.loc[(train['distance'] >= 1.129586) & (train['distance'] < 1.584439 ), 'distance_binning'] = 2\n",
    "train.loc[train['distance'] >= 1.584439, 'distance_binning'] = 3\n",
    "\n",
    "test.loc[test['distance'] <= 0.803040 , 'distance_binning'] = 0\n",
    "test.loc[(test['distance'] >= 0.803040) & (test['distance'] < 1.129592), 'distance_binning'] = 1\n",
    "test.loc[(test['distance'] >= 1.129592) & (test['distance'] < 1.585919 ), 'distance_binning'] = 2\n",
    "test.loc[test['distance'] >= 1.585919, 'distance_binning'] = 3"
   ]
  },
  {
   "cell_type": "code",
   "execution_count": 44,
   "metadata": {},
   "outputs": [
    {
     "data": {
      "text/plain": [
       "<AxesSubplot:xlabel='distance_binning', ylabel='target'>"
      ]
     },
     "execution_count": 44,
     "metadata": {},
     "output_type": "execute_result"
    },
    {
     "data": {
      "image/png": "[encoded data removed]",
      "text/plain": [
       "<Figure size 432x288 with 1 Axes>"
      ]
     },
     "metadata": {
      "needs_background": "light"
     },
     "output_type": "display_data"
    }
   ],
   "source": [
    "sns.barplot(data = train, x = 'distance_binning', y = 'target')"
   ]
  },
  {
   "cell_type": "markdown",
   "metadata": {},
   "source": [
    "- 변수마다 연관이 있는 걸로 보여진다."
   ]
  },
  {
   "cell_type": "code",
   "execution_count": 45,
   "metadata": {
    "scrolled": true
   },
   "outputs": [
    {
     "name": "stdout",
     "output_type": "stream",
     "text": [
      "train_set 에만 있는 값 set()\n",
      "test_set 에만 있는 값 set()\n"
     ]
    }
   ],
   "source": [
    "delete_index=train[(train['passenger_count'] == 7)|(train['passenger_count'] == 8)].index\n",
    "train=train.drop(delete_index,axis = 0)\n",
    "\n",
    "sub_function('passenger_count')"
   ]
  },
  {
   "cell_type": "code",
   "execution_count": 46,
   "metadata": {},
   "outputs": [
    {
     "data": {
      "text/plain": [
       "<AxesSubplot:xlabel='hour', ylabel='distance'>"
      ]
     },
     "execution_count": 46,
     "metadata": {},
     "output_type": "execute_result"
    },
    {
     "data": {
      "image/png": "[encoded data removed]",
      "text/plain": [
       "<Figure size 432x288 with 1 Axes>"
      ]
     },
     "metadata": {
      "needs_background": "light"
     },
     "output_type": "display_data"
    }
   ],
   "source": [
    "# 3~5시 사이에 높은 이동량을 보인다.\n",
    "sns.barplot(data = train, x = 'hour', y = 'distance')"
   ]
  },
  {
   "cell_type": "code",
   "execution_count": 47,
   "metadata": {},
   "outputs": [
    {
     "data": {
      "text/plain": [
       "<AxesSubplot:xlabel='month', ylabel='distance'>"
      ]
     },
     "execution_count": 47,
     "metadata": {},
     "output_type": "execute_result"
    },
    {
     "data": {
      "image/png": "[encoded data removed]",
      "text/plain": [
       "<Figure size 432x288 with 1 Axes>"
      ]
     },
     "metadata": {
      "needs_background": "light"
     },
     "output_type": "display_data"
    }
   ],
   "source": [
    "# 눈이 오거나 안오거나에 따라서 거리에 차이가 있을 것 같다.\n",
    "sns.barplot(data = train, x = 'month', y = 'distance')\n",
    "\n",
    "# 즉, 눈이 올 시기인 1~2월에는 차들이 좀 더 서행운전을 하기 때문에 목적지에 더 늦게 도착할 것 같다."
   ]
  },
  {
   "attachments": {
    "%EC%BA%A1%EC%B2%98.PNG": {
     "image/png": "[encoded data removed]"
    }
   },
   "cell_type": "markdown",
   "metadata": {},
   "source": [
    "### 가정 1 : 날씨가 추운 1~2월은 적은 거리도 추운 날씨 때문에 택시를 탈 것이다.\n",
    "\n",
    "![%EC%BA%A1%EC%B2%98.PNG](attachment:%EC%BA%A1%EC%B2%98.PNG)\n",
    "\n",
    "- 변수 0 :1~2월은 겨울인 달\n",
    "- 변수 1 :3~6월은 겨울이 아닌 달"
   ]
  },
  {
   "cell_type": "code",
   "execution_count": 48,
   "metadata": {},
   "outputs": [],
   "source": [
    "# 겨울인 1~2월에는 사람들이 적은 거리도 택시를 탈 것이다.\n",
    "train['cold'] = 1\n",
    "train.loc[(train['month'] == 1) | (train['month'] == 2), 'cold'] = 0\n",
    "\n",
    "test['cold'] = 1\n",
    "test.loc[(test['month'] == 1) | (test['month'] == 2), 'cold'] = 0"
   ]
  },
  {
   "cell_type": "code",
   "execution_count": 49,
   "metadata": {},
   "outputs": [
    {
     "data": {
      "text/plain": [
       "1    990634\n",
       "0    468006\n",
       "Name: cold, dtype: int64"
      ]
     },
     "execution_count": 49,
     "metadata": {},
     "output_type": "execute_result"
    }
   ],
   "source": [
    "train.cold.value_counts()"
   ]
  },
  {
   "cell_type": "code",
   "execution_count": 50,
   "metadata": {
    "scrolled": false
   },
   "outputs": [
    {
     "data": {
      "text/plain": [
       "<AxesSubplot:xlabel='cold', ylabel='target'>"
      ]
     },
     "execution_count": 50,
     "metadata": {},
     "output_type": "execute_result"
    },
    {
     "data": {
      "image/png": "[encoded data removed]",
      "text/plain": [
       "<Figure size 432x288 with 1 Axes>"
      ]
     },
     "metadata": {
      "needs_background": "light"
     },
     "output_type": "display_data"
    }
   ],
   "source": [
    "sns.barplot(data = train, x = 'cold', y = 'target')"
   ]
  },
  {
   "cell_type": "markdown",
   "metadata": {},
   "source": [
    "### 가정 2 :  평일의 일하는 시간대, 일하지 않는 시간대, 주말 이렇게 비교해보도록 하자.\n",
    "### 2. 일하는 시간대에 사람들이 가장 많이 활동하는 시간대 임으로 도로상황을 고려하여 차를 오래 탄다고 생각한다.\n",
    "### 1. 주말에 놀러 나가는 사람들이 많으나 일하는 시간대에 비해 차가 안막힌다고 가정한다.\n",
    "### 0. 평일 일하지 않는 시간대에는 차가 막히지 않으므로 택시를 타고 있는 시간이 적다고 가정했다."
   ]
  },
  {
   "cell_type": "code",
   "execution_count": 51,
   "metadata": {},
   "outputs": [
    {
     "data": {
      "text/plain": [
       "<AxesSubplot:xlabel='hour', ylabel='target'>"
      ]
     },
     "execution_count": 51,
     "metadata": {},
     "output_type": "execute_result"
    },
    {
     "data": {
      "image/png": "[encoded data removed]",
      "text/plain": [
       "<Figure size 432x288 with 1 Axes>"
      ]
     },
     "metadata": {
      "needs_background": "light"
     },
     "output_type": "display_data"
    }
   ],
   "source": [
    "sns.barplot(data = train, x=  'hour', y = 'target', hue = 'weekday')"
   ]
  },
  {
   "cell_type": "code",
   "execution_count": 52,
   "metadata": {},
   "outputs": [],
   "source": [
    "train.loc[(train['weekday'] == 0), 'working'] = 0\n",
    "train.loc[train['weekday'] == 1,'working'] = 1\n",
    "train.loc[(train['weekday'] == 0) & (8 <= train['hour']) & (train['hour'] <= 18), 'working'] = 2\n",
    "\n",
    "test.loc[(test['weekday'] == 0), 'working'] = 0\n",
    "test.loc[test['weekday'] == 1,'working'] = 1\n",
    "test.loc[(test['weekday'] == 0) & (8 <= test['hour']) & (test['hour'] <= 18), 'working'] = 2"
   ]
  },
  {
   "cell_type": "code",
   "execution_count": 53,
   "metadata": {},
   "outputs": [
    {
     "data": {
      "text/plain": [
       "<AxesSubplot:xlabel='working', ylabel='target'>"
      ]
     },
     "execution_count": 53,
     "metadata": {},
     "output_type": "execute_result"
    },
    {
     "data": {
      "image/png": "[encoded data removed]",
      "text/plain": [
       "<Figure size 432x288 with 1 Axes>"
      ]
     },
     "metadata": {
      "needs_background": "light"
     },
     "output_type": "display_data"
    }
   ],
   "source": [
    "sns.barplot(data = train, x = 'working', y = 'target')"
   ]
  },
  {
   "cell_type": "markdown",
   "metadata": {},
   "source": [
    "- 유의미한 변수가 될 것 같다.\n",
    "- 이 변수는 더미화를 시켜주지 않고 넣어주도록 하자."
   ]
  },
  {
   "cell_type": "markdown",
   "metadata": {},
   "source": [
    "## 모델링"
   ]
  },
  {
   "cell_type": "code",
   "execution_count": 54,
   "metadata": {},
   "outputs": [],
   "source": [
    "dummies=['vendor_id','store_and_fwd_flag','month','hour','weekday','distance_binning','passenger_count']\n",
    "data = pd.get_dummies(data = train[dummies], columns = dummies )\n",
    "data=pd.concat([data,train['working'], train['cold']], axis =1)"
   ]
  },
  {
   "cell_type": "code",
   "execution_count": 55,
   "metadata": {},
   "outputs": [],
   "source": [
    "from sklearn.model_selection import train_test_split\n",
    "from sklearn.linear_model import LinearRegression, Ridge, Lasso\n",
    "from sklearn.metrics import mean_squared_error\n",
    "from xgboost import XGBRFRegressor, XGBRegressor\n",
    "from catboost import CatBoostRegressor\n",
    "from lightgbm import LGBMRegressor"
   ]
  },
  {
   "cell_type": "code",
   "execution_count": 56,
   "metadata": {},
   "outputs": [],
   "source": [
    "# 평가 지표\n",
    "from sklearn.metrics import make_scorer\n",
    "def rmsle(predicted_values, actual_values):\n",
    "    # 넘파이로 배열 형태로 바꿔줌.  \n",
    "    predicted_values = np.array(predicted_values)\n",
    "    actual_values = np.array(actual_values)\n",
    "    \n",
    "    # 예측값과 실제 값에 1을 더하고 로그를 씌어줌 \n",
    "    log_predict = np.log(predicted_values + 1)\n",
    "    log_actual = np.log(actual_values + 1)\n",
    "    \n",
    "    # 위에서 계산한 예측값에서 실측값을 빼주고 제곱해줌\n",
    "    difference = log_predict - log_actual\n",
    "    difference = np.square(difference)\n",
    "    \n",
    "    # 평균을 냄\n",
    "    mean_difference = difference.mean()\n",
    "    \n",
    "    # 다시 루트를 씌움\n",
    "    score = np.sqrt(mean_difference)  \n",
    "    \n",
    "    return score"
   ]
  },
  {
   "cell_type": "code",
   "execution_count": 57,
   "metadata": {},
   "outputs": [],
   "source": [
    "# min(list(score.values()))"
   ]
  },
  {
   "cell_type": "code",
   "execution_count": 58,
   "metadata": {},
   "outputs": [],
   "source": [
    "# for key, values in score.items():\n",
    "#     value=min(score.values())\n",
    "#     if value == values:\n",
    "#         best_model = key"
   ]
  },
  {
   "cell_type": "markdown",
   "metadata": {},
   "source": [
    "## test data"
   ]
  },
  {
   "cell_type": "code",
   "execution_count": 59,
   "metadata": {},
   "outputs": [
    {
     "data": {
      "text/plain": [
       "count    625134.000000\n",
       "mean          1.254233\n",
       "std           0.626017\n",
       "min           0.000000\n",
       "25%           0.803040\n",
       "50%           1.129592\n",
       "75%           1.585919\n",
       "max           6.944443\n",
       "Name: distance, dtype: float64"
      ]
     },
     "execution_count": 59,
     "metadata": {},
     "output_type": "execute_result"
    }
   ],
   "source": [
    "test['distance'].describe()"
   ]
  },
  {
   "cell_type": "code",
   "execution_count": 60,
   "metadata": {},
   "outputs": [],
   "source": [
    "test_dummies=pd.get_dummies(test[dummies], columns = dummies)\n",
    "test_data = pd.concat([test_dummies, test['working'], test['cold']], axis = 1)"
   ]
  },
  {
   "cell_type": "code",
   "execution_count": 71,
   "metadata": {},
   "outputs": [],
   "source": [
    "from tqdm import tqdm\n",
    "models = {'lgb':LinearRegression(),'Ridge':Ridge(),'Lasso':Lasso(),\n",
    "          'cat':CatBoostRegressor(),'lightgbm':LGBMRegressor()}\n",
    "X_train, X_test, y_train, y_test = train_test_split(data, train['target'], test_size = 0.2, random_state = 42)\n",
    "def modeling(models,df = None, target = None, test_data = None):\n",
    "    circle = {}\n",
    "    X_train, X_test, y_train, y_test = train_test_split(df, target, test_size = 0.2, random_state = 42)\n",
    "    for model in tqdm(models):\n",
    "        models[model].fit(X_train,y_train)\n",
    "        y_pred=models[model].predict(X_test)\n",
    "#         score=rmsle(y_pred,y_test)\n",
    "        circle[model] = y_pred\n",
    "    score = circle\n",
    "    model_value = pd.DataFrame()\n",
    "    for key, value in score.items():\n",
    "        model_value[key] = value\n",
    "        \n",
    "        \n",
    "    \n",
    "    xgb =XGBRegressor()\n",
    "    xgb=xgb.fit(model_value, y_test)\n",
    "    \n",
    "    # train으로 stacking 모델을 만들어 놓고 test를 넣어주자.\n",
    "    final_score = {}\n",
    "    for model in tqdm(models):\n",
    "        y_pred=models[model].predict(test_data)\n",
    "        final_score[model] = y_pred\n",
    "    model_value = pd.DataFrame()\n",
    "    for key, value in final_score.items():\n",
    "        model_value[key] = value\n",
    "        \n",
    "    final_predict=xgb.predict(model_value)\n",
    "    \n",
    "    return final_predict"
   ]
  },
  {
   "cell_type": "code",
   "execution_count": 72,
   "metadata": {},
   "outputs": [
    {
     "name": "stderr",
     "output_type": "stream",
     "text": [
      " 60%|██████████████████████████████████████████████████▍                                 | 3/5 [00:22<00:19,  9.54s/it]"
     ]
    },
    {
     "name": "stdout",
     "output_type": "stream",
     "text": [
      "Learning rate set to 0.137194\n",
      "0:\tlearn: 5628.1550676\ttotal: 188ms\tremaining: 3m 7s\n",
      "1:\tlearn: 5623.8095823\ttotal: 336ms\tremaining: 2m 47s\n",
      "2:\tlearn: 5620.4239563\ttotal: 478ms\tremaining: 2m 39s\n",
      "3:\tlearn: 5618.0897220\ttotal: 597ms\tremaining: 2m 28s\n",
      "4:\tlearn: 5616.3052964\ttotal: 804ms\tremaining: 2m 40s\n",
      "5:\tlearn: 5614.9140553\ttotal: 962ms\tremaining: 2m 39s\n",
      "6:\tlearn: 5613.9000555\ttotal: 1.1s\tremaining: 2m 36s\n",
      "7:\tlearn: 5613.1182239\ttotal: 1.23s\tremaining: 2m 32s\n",
      "8:\tlearn: 5610.9314554\ttotal: 1.38s\tremaining: 2m 31s\n",
      "9:\tlearn: 5610.4730618\ttotal: 1.52s\tremaining: 2m 30s\n",
      "10:\tlearn: 5610.1097595\ttotal: 1.66s\tremaining: 2m 29s\n",
      "11:\tlearn: 5609.7952940\ttotal: 1.79s\tremaining: 2m 27s\n",
      "12:\tlearn: 5608.2287958\ttotal: 1.94s\tremaining: 2m 27s\n",
      "13:\tlearn: 5608.0372446\ttotal: 2.07s\tremaining: 2m 25s\n",
      "14:\tlearn: 5607.7919807\ttotal: 2.2s\tremaining: 2m 24s\n",
      "15:\tlearn: 5607.6910440\ttotal: 2.33s\tremaining: 2m 23s\n",
      "16:\tlearn: 5607.5876376\ttotal: 2.49s\tremaining: 2m 23s\n",
      "17:\tlearn: 5606.4872306\ttotal: 2.62s\tremaining: 2m 22s\n",
      "18:\tlearn: 5606.3993186\ttotal: 2.76s\tremaining: 2m 22s\n",
      "19:\tlearn: 5606.2553933\ttotal: 2.92s\tremaining: 2m 23s\n",
      "20:\tlearn: 5606.1905513\ttotal: 3.07s\tremaining: 2m 23s\n",
      "21:\tlearn: 5606.0997603\ttotal: 3.2s\tremaining: 2m 22s\n",
      "22:\tlearn: 5606.0422338\ttotal: 3.33s\tremaining: 2m 21s\n",
      "23:\tlearn: 5605.9889066\ttotal: 3.46s\tremaining: 2m 20s\n",
      "24:\tlearn: 5605.9514403\ttotal: 3.65s\tremaining: 2m 22s\n",
      "25:\tlearn: 5605.8389800\ttotal: 3.79s\tremaining: 2m 22s\n",
      "26:\tlearn: 5605.8212778\ttotal: 3.91s\tremaining: 2m 20s\n",
      "27:\tlearn: 5605.7727923\ttotal: 4.03s\tremaining: 2m 19s\n",
      "28:\tlearn: 5605.7384271\ttotal: 4.16s\tremaining: 2m 19s\n",
      "29:\tlearn: 5605.6964469\ttotal: 4.29s\tremaining: 2m 18s\n",
      "30:\tlearn: 5604.9835961\ttotal: 4.43s\tremaining: 2m 18s\n",
      "31:\tlearn: 5604.7137874\ttotal: 4.56s\tremaining: 2m 17s\n",
      "32:\tlearn: 5604.6029516\ttotal: 4.7s\tremaining: 2m 17s\n",
      "33:\tlearn: 5604.5341326\ttotal: 4.85s\tremaining: 2m 17s\n",
      "34:\tlearn: 5604.5045401\ttotal: 4.98s\tremaining: 2m 17s\n",
      "35:\tlearn: 5604.4798679\ttotal: 5.11s\tremaining: 2m 16s\n",
      "36:\tlearn: 5604.4459457\ttotal: 5.25s\tremaining: 2m 16s\n",
      "37:\tlearn: 5604.4164896\ttotal: 5.38s\tremaining: 2m 16s\n",
      "38:\tlearn: 5604.3801921\ttotal: 5.51s\tremaining: 2m 15s\n",
      "39:\tlearn: 5604.2252079\ttotal: 5.65s\tremaining: 2m 15s\n",
      "40:\tlearn: 5604.1975684\ttotal: 5.8s\tremaining: 2m 15s\n",
      "41:\tlearn: 5604.1686544\ttotal: 5.95s\tremaining: 2m 15s\n",
      "42:\tlearn: 5604.1523610\ttotal: 6.08s\tremaining: 2m 15s\n",
      "43:\tlearn: 5604.1233823\ttotal: 6.21s\tremaining: 2m 14s\n",
      "44:\tlearn: 5604.1083004\ttotal: 6.34s\tremaining: 2m 14s\n",
      "45:\tlearn: 5603.9280440\ttotal: 6.51s\tremaining: 2m 14s\n",
      "46:\tlearn: 5603.9040241\ttotal: 6.72s\tremaining: 2m 16s\n",
      "47:\tlearn: 5603.8820946\ttotal: 6.87s\tremaining: 2m 16s\n",
      "48:\tlearn: 5603.7491703\ttotal: 7.08s\tremaining: 2m 17s\n",
      "49:\tlearn: 5603.7325462\ttotal: 7.24s\tremaining: 2m 17s\n",
      "50:\tlearn: 5603.7144644\ttotal: 7.38s\tremaining: 2m 17s\n",
      "51:\tlearn: 5603.6923851\ttotal: 7.5s\tremaining: 2m 16s\n",
      "52:\tlearn: 5603.6776593\ttotal: 7.62s\tremaining: 2m 16s\n",
      "53:\tlearn: 5603.6525673\ttotal: 7.76s\tremaining: 2m 15s\n",
      "54:\tlearn: 5603.6334561\ttotal: 7.88s\tremaining: 2m 15s\n",
      "55:\tlearn: 5603.4329353\ttotal: 8.01s\tremaining: 2m 14s\n",
      "56:\tlearn: 5603.4055842\ttotal: 8.14s\tremaining: 2m 14s\n",
      "57:\tlearn: 5603.3979797\ttotal: 8.27s\tremaining: 2m 14s\n",
      "58:\tlearn: 5603.3811152\ttotal: 8.42s\tremaining: 2m 14s\n",
      "59:\tlearn: 5603.3501707\ttotal: 8.54s\tremaining: 2m 13s\n",
      "60:\tlearn: 5603.3291846\ttotal: 8.67s\tremaining: 2m 13s\n",
      "61:\tlearn: 5603.2731196\ttotal: 8.8s\tremaining: 2m 13s\n",
      "62:\tlearn: 5603.2508841\ttotal: 8.97s\tremaining: 2m 13s\n",
      "63:\tlearn: 5603.2391789\ttotal: 9.11s\tremaining: 2m 13s\n",
      "64:\tlearn: 5603.2256228\ttotal: 9.26s\tremaining: 2m 13s\n",
      "65:\tlearn: 5603.1253815\ttotal: 9.39s\tremaining: 2m 12s\n",
      "66:\tlearn: 5603.1091046\ttotal: 9.53s\tremaining: 2m 12s\n",
      "67:\tlearn: 5603.0693701\ttotal: 9.68s\tremaining: 2m 12s\n",
      "68:\tlearn: 5603.0352595\ttotal: 9.85s\tremaining: 2m 12s\n",
      "69:\tlearn: 5603.0025181\ttotal: 9.99s\tremaining: 2m 12s\n",
      "70:\tlearn: 5602.9914155\ttotal: 10.2s\tremaining: 2m 12s\n",
      "71:\tlearn: 5602.9852887\ttotal: 10.3s\tremaining: 2m 12s\n",
      "72:\tlearn: 5602.9765534\ttotal: 10.5s\tremaining: 2m 12s\n",
      "73:\tlearn: 5602.9336450\ttotal: 10.6s\tremaining: 2m 12s\n",
      "74:\tlearn: 5602.8856982\ttotal: 10.7s\tremaining: 2m 12s\n",
      "75:\tlearn: 5602.8765578\ttotal: 10.9s\tremaining: 2m 11s\n",
      "76:\tlearn: 5602.8651021\ttotal: 11s\tremaining: 2m 11s\n",
      "77:\tlearn: 5602.8540019\ttotal: 11.1s\tremaining: 2m 11s\n",
      "78:\tlearn: 5602.8470132\ttotal: 11.2s\tremaining: 2m 11s\n",
      "79:\tlearn: 5602.8294321\ttotal: 11.4s\tremaining: 2m 10s\n",
      "80:\tlearn: 5602.6851175\ttotal: 11.5s\tremaining: 2m 10s\n",
      "81:\tlearn: 5602.6617753\ttotal: 11.7s\tremaining: 2m 10s\n",
      "82:\tlearn: 5602.6301868\ttotal: 11.8s\tremaining: 2m 10s\n",
      "83:\tlearn: 5602.6062873\ttotal: 12s\tremaining: 2m 10s\n",
      "84:\tlearn: 5602.3219357\ttotal: 12.1s\tremaining: 2m 10s\n",
      "85:\tlearn: 5602.2379439\ttotal: 12.2s\tremaining: 2m 10s\n",
      "86:\tlearn: 5602.2219976\ttotal: 12.4s\tremaining: 2m 10s\n",
      "87:\tlearn: 5602.1950304\ttotal: 12.6s\tremaining: 2m 10s\n",
      "88:\tlearn: 5602.1548769\ttotal: 12.7s\tremaining: 2m 10s\n",
      "89:\tlearn: 5602.1384493\ttotal: 12.9s\tremaining: 2m 10s\n",
      "90:\tlearn: 5602.1252992\ttotal: 13s\tremaining: 2m 9s\n",
      "91:\tlearn: 5602.1169336\ttotal: 13.1s\tremaining: 2m 9s\n",
      "92:\tlearn: 5602.1064216\ttotal: 13.3s\tremaining: 2m 9s\n",
      "93:\tlearn: 5602.0448947\ttotal: 13.4s\tremaining: 2m 9s\n",
      "94:\tlearn: 5602.0309611\ttotal: 13.6s\tremaining: 2m 9s\n",
      "95:\tlearn: 5602.0085602\ttotal: 13.7s\tremaining: 2m 8s\n",
      "96:\tlearn: 5601.9356980\ttotal: 13.8s\tremaining: 2m 8s\n",
      "97:\tlearn: 5601.9195263\ttotal: 14s\tremaining: 2m 8s\n",
      "98:\tlearn: 5601.9099837\ttotal: 14.1s\tremaining: 2m 8s\n",
      "99:\tlearn: 5601.8210582\ttotal: 14.3s\tremaining: 2m 8s\n",
      "100:\tlearn: 5601.8139257\ttotal: 14.4s\tremaining: 2m 7s\n",
      "101:\tlearn: 5601.8075018\ttotal: 14.5s\tremaining: 2m 7s\n",
      "102:\tlearn: 5601.7935785\ttotal: 14.6s\tremaining: 2m 7s\n",
      "103:\tlearn: 5601.7690014\ttotal: 14.8s\tremaining: 2m 7s\n",
      "104:\tlearn: 5601.7626055\ttotal: 14.9s\tremaining: 2m 7s\n",
      "105:\tlearn: 5601.7420262\ttotal: 15s\tremaining: 2m 6s\n",
      "106:\tlearn: 5601.7399840\ttotal: 15.2s\tremaining: 2m 6s\n",
      "107:\tlearn: 5601.7234747\ttotal: 15.3s\tremaining: 2m 6s\n",
      "108:\tlearn: 5601.7061921\ttotal: 15.4s\tremaining: 2m 6s\n",
      "109:\tlearn: 5601.6920720\ttotal: 15.6s\tremaining: 2m 6s\n",
      "110:\tlearn: 5601.6859522\ttotal: 15.7s\tremaining: 2m 5s\n",
      "111:\tlearn: 5601.6810911\ttotal: 15.8s\tremaining: 2m 5s\n",
      "112:\tlearn: 5601.6765587\ttotal: 16s\tremaining: 2m 5s\n",
      "113:\tlearn: 5601.6291076\ttotal: 16.1s\tremaining: 2m 5s\n",
      "114:\tlearn: 5601.6140744\ttotal: 16.2s\tremaining: 2m 4s\n",
      "115:\tlearn: 5601.5884620\ttotal: 16.4s\tremaining: 2m 4s\n",
      "116:\tlearn: 5601.5848519\ttotal: 16.5s\tremaining: 2m 4s\n",
      "117:\tlearn: 5601.5814640\ttotal: 16.6s\tremaining: 2m 4s\n",
      "118:\tlearn: 5601.5697105\ttotal: 16.7s\tremaining: 2m 3s\n",
      "119:\tlearn: 5601.5235062\ttotal: 16.9s\tremaining: 2m 3s\n",
      "120:\tlearn: 5601.4564515\ttotal: 17s\tremaining: 2m 3s\n",
      "121:\tlearn: 5601.4235683\ttotal: 17.2s\tremaining: 2m 3s\n",
      "122:\tlearn: 5601.4069965\ttotal: 17.3s\tremaining: 2m 3s\n",
      "123:\tlearn: 5601.3918623\ttotal: 17.5s\tremaining: 2m 3s\n",
      "124:\tlearn: 5601.3642815\ttotal: 17.6s\tremaining: 2m 3s\n",
      "125:\tlearn: 5601.3499160\ttotal: 17.7s\tremaining: 2m 3s\n",
      "126:\tlearn: 5601.3424753\ttotal: 17.9s\tremaining: 2m 2s\n",
      "127:\tlearn: 5601.3257134\ttotal: 18s\tremaining: 2m 2s\n",
      "128:\tlearn: 5601.3150612\ttotal: 18.2s\tremaining: 2m 2s\n",
      "129:\tlearn: 5601.2752208\ttotal: 18.3s\tremaining: 2m 2s\n",
      "130:\tlearn: 5601.2724965\ttotal: 18.4s\tremaining: 2m 2s\n",
      "131:\tlearn: 5601.2553576\ttotal: 18.6s\tremaining: 2m 2s\n",
      "132:\tlearn: 5601.2431763\ttotal: 18.8s\tremaining: 2m 2s\n",
      "133:\tlearn: 5601.2110572\ttotal: 18.9s\tremaining: 2m 2s\n",
      "134:\tlearn: 5601.1975856\ttotal: 19.1s\tremaining: 2m 2s\n",
      "135:\tlearn: 5601.1839918\ttotal: 19.2s\tremaining: 2m 2s\n",
      "136:\tlearn: 5601.1613757\ttotal: 19.4s\tremaining: 2m 2s\n",
      "137:\tlearn: 5601.1400286\ttotal: 19.6s\tremaining: 2m 2s\n",
      "138:\tlearn: 5601.1030890\ttotal: 19.8s\tremaining: 2m 2s\n",
      "139:\tlearn: 5601.0431576\ttotal: 20s\tremaining: 2m 2s\n",
      "140:\tlearn: 5601.0406184\ttotal: 20.1s\tremaining: 2m 2s\n",
      "141:\tlearn: 5601.0277049\ttotal: 20.3s\tremaining: 2m 2s\n",
      "142:\tlearn: 5601.0253376\ttotal: 20.4s\tremaining: 2m 2s\n",
      "143:\tlearn: 5601.0168732\ttotal: 20.6s\tremaining: 2m 2s\n",
      "144:\tlearn: 5601.0035613\ttotal: 20.8s\tremaining: 2m 2s\n",
      "145:\tlearn: 5600.9899036\ttotal: 20.9s\tremaining: 2m 2s\n",
      "146:\tlearn: 5600.9878454\ttotal: 21s\tremaining: 2m 1s\n",
      "147:\tlearn: 5600.9665706\ttotal: 21.1s\tremaining: 2m 1s\n",
      "148:\tlearn: 5600.9461105\ttotal: 21.3s\tremaining: 2m 1s\n",
      "149:\tlearn: 5600.8693900\ttotal: 21.4s\tremaining: 2m 1s\n"
     ]
    },
    {
     "name": "stdout",
     "output_type": "stream",
     "text": [
      "150:\tlearn: 5600.8405386\ttotal: 21.6s\tremaining: 2m 1s\n",
      "151:\tlearn: 5600.8264552\ttotal: 21.7s\tremaining: 2m 1s\n",
      "152:\tlearn: 5600.8245369\ttotal: 21.8s\tremaining: 2m\n",
      "153:\tlearn: 5600.8081985\ttotal: 22s\tremaining: 2m\n",
      "154:\tlearn: 5600.7939854\ttotal: 22.2s\tremaining: 2m\n",
      "155:\tlearn: 5600.7710702\ttotal: 22.3s\tremaining: 2m\n",
      "156:\tlearn: 5600.7309724\ttotal: 22.5s\tremaining: 2m\n",
      "157:\tlearn: 5600.7223640\ttotal: 22.6s\tremaining: 2m\n",
      "158:\tlearn: 5600.7205757\ttotal: 22.7s\tremaining: 2m\n",
      "159:\tlearn: 5600.6962964\ttotal: 22.8s\tremaining: 1m 59s\n",
      "160:\tlearn: 5600.6946288\ttotal: 22.9s\tremaining: 1m 59s\n",
      "161:\tlearn: 5600.6824315\ttotal: 23.1s\tremaining: 1m 59s\n",
      "162:\tlearn: 5600.6808763\ttotal: 23.2s\tremaining: 1m 58s\n",
      "163:\tlearn: 5600.6794262\ttotal: 23.3s\tremaining: 1m 58s\n",
      "164:\tlearn: 5600.6670263\ttotal: 23.4s\tremaining: 1m 58s\n",
      "165:\tlearn: 5600.6469736\ttotal: 23.5s\tremaining: 1m 58s\n",
      "166:\tlearn: 5600.5903135\ttotal: 23.7s\tremaining: 1m 58s\n",
      "167:\tlearn: 5600.5629171\ttotal: 23.8s\tremaining: 1m 57s\n",
      "168:\tlearn: 5600.5563942\ttotal: 23.9s\tremaining: 1m 57s\n",
      "169:\tlearn: 5600.5450665\ttotal: 24s\tremaining: 1m 57s\n",
      "170:\tlearn: 5600.5138606\ttotal: 24.2s\tremaining: 1m 57s\n",
      "171:\tlearn: 5600.5125086\ttotal: 24.3s\tremaining: 1m 56s\n",
      "172:\tlearn: 5600.5112480\ttotal: 24.4s\tremaining: 1m 56s\n",
      "173:\tlearn: 5600.4912622\ttotal: 24.5s\tremaining: 1m 56s\n",
      "174:\tlearn: 5600.4761910\ttotal: 24.6s\tremaining: 1m 56s\n",
      "175:\tlearn: 5600.4624270\ttotal: 24.8s\tremaining: 1m 56s\n",
      "176:\tlearn: 5600.4612506\ttotal: 25s\tremaining: 1m 56s\n",
      "177:\tlearn: 5600.4601537\ttotal: 25.2s\tremaining: 1m 56s\n",
      "178:\tlearn: 5600.4305754\ttotal: 25.4s\tremaining: 1m 56s\n",
      "179:\tlearn: 5600.4124618\ttotal: 25.6s\tremaining: 1m 56s\n",
      "180:\tlearn: 5600.3914572\ttotal: 25.8s\tremaining: 1m 56s\n",
      "181:\tlearn: 5600.3806087\ttotal: 25.9s\tremaining: 1m 56s\n",
      "182:\tlearn: 5600.3795855\ttotal: 26.1s\tremaining: 1m 56s\n",
      "183:\tlearn: 5600.3615897\ttotal: 26.3s\tremaining: 1m 56s\n",
      "184:\tlearn: 5600.3499882\ttotal: 26.4s\tremaining: 1m 56s\n",
      "185:\tlearn: 5600.3320587\ttotal: 26.6s\tremaining: 1m 56s\n",
      "186:\tlearn: 5600.3124029\ttotal: 26.8s\tremaining: 1m 56s\n",
      "187:\tlearn: 5600.3014988\ttotal: 26.9s\tremaining: 1m 56s\n",
      "188:\tlearn: 5600.2834890\ttotal: 27.1s\tremaining: 1m 56s\n",
      "189:\tlearn: 5600.2523586\ttotal: 27.2s\tremaining: 1m 56s\n",
      "190:\tlearn: 5600.2298250\ttotal: 27.4s\tremaining: 1m 56s\n",
      "191:\tlearn: 5600.2288711\ttotal: 27.5s\tremaining: 1m 55s\n",
      "192:\tlearn: 5600.2099486\ttotal: 27.7s\tremaining: 1m 55s\n",
      "193:\tlearn: 5600.1898200\ttotal: 27.8s\tremaining: 1m 55s\n",
      "194:\tlearn: 5600.1889293\ttotal: 27.9s\tremaining: 1m 55s\n",
      "195:\tlearn: 5600.1880989\ttotal: 28s\tremaining: 1m 54s\n",
      "196:\tlearn: 5600.1692417\ttotal: 28.1s\tremaining: 1m 54s\n",
      "197:\tlearn: 5600.1543838\ttotal: 28.3s\tremaining: 1m 54s\n",
      "198:\tlearn: 5600.1350165\ttotal: 28.4s\tremaining: 1m 54s\n",
      "199:\tlearn: 5600.1198956\ttotal: 28.6s\tremaining: 1m 54s\n",
      "200:\tlearn: 5600.1084274\ttotal: 28.7s\tremaining: 1m 54s\n",
      "201:\tlearn: 5600.1076533\ttotal: 28.8s\tremaining: 1m 53s\n",
      "202:\tlearn: 5600.0979814\ttotal: 29s\tremaining: 1m 53s\n",
      "203:\tlearn: 5600.0739102\ttotal: 29.1s\tremaining: 1m 53s\n",
      "204:\tlearn: 5600.0731883\ttotal: 29.2s\tremaining: 1m 53s\n",
      "205:\tlearn: 5600.0725151\ttotal: 29.3s\tremaining: 1m 53s\n",
      "206:\tlearn: 5600.0280850\ttotal: 29.5s\tremaining: 1m 52s\n",
      "207:\tlearn: 5600.0190935\ttotal: 29.6s\tremaining: 1m 52s\n",
      "208:\tlearn: 5600.0184657\ttotal: 29.7s\tremaining: 1m 52s\n",
      "209:\tlearn: 5599.9992993\ttotal: 29.8s\tremaining: 1m 52s\n",
      "210:\tlearn: 5599.9929274\ttotal: 30s\tremaining: 1m 52s\n",
      "211:\tlearn: 5599.9923413\ttotal: 30.1s\tremaining: 1m 51s\n",
      "212:\tlearn: 5599.9838221\ttotal: 30.2s\tremaining: 1m 51s\n",
      "213:\tlearn: 5599.9717264\ttotal: 30.5s\tremaining: 1m 51s\n",
      "214:\tlearn: 5599.9461852\ttotal: 30.6s\tremaining: 1m 51s\n",
      "215:\tlearn: 5599.9456385\ttotal: 30.8s\tremaining: 1m 51s\n",
      "216:\tlearn: 5599.8953990\ttotal: 31s\tremaining: 1m 51s\n",
      "217:\tlearn: 5599.8858746\ttotal: 31.2s\tremaining: 1m 52s\n",
      "218:\tlearn: 5599.8707149\ttotal: 31.4s\tremaining: 1m 51s\n",
      "219:\tlearn: 5599.8601001\ttotal: 31.6s\tremaining: 1m 51s\n",
      "220:\tlearn: 5599.8458487\ttotal: 31.7s\tremaining: 1m 51s\n",
      "221:\tlearn: 5599.8387437\ttotal: 31.9s\tremaining: 1m 51s\n",
      "222:\tlearn: 5599.8382342\ttotal: 32s\tremaining: 1m 51s\n",
      "223:\tlearn: 5599.8377591\ttotal: 32.1s\tremaining: 1m 51s\n",
      "224:\tlearn: 5599.8295691\ttotal: 32.2s\tremaining: 1m 51s\n",
      "225:\tlearn: 5599.8188362\ttotal: 32.4s\tremaining: 1m 50s\n",
      "226:\tlearn: 5599.8067212\ttotal: 32.5s\tremaining: 1m 50s\n",
      "227:\tlearn: 5599.7931551\ttotal: 32.7s\tremaining: 1m 50s\n",
      "228:\tlearn: 5599.7655413\ttotal: 32.8s\tremaining: 1m 50s\n",
      "229:\tlearn: 5599.7528408\ttotal: 33s\tremaining: 1m 50s\n",
      "230:\tlearn: 5599.7420512\ttotal: 33.1s\tremaining: 1m 50s\n",
      "231:\tlearn: 5599.7311269\ttotal: 33.3s\tremaining: 1m 50s\n",
      "232:\tlearn: 5599.7141815\ttotal: 33.4s\tremaining: 1m 49s\n",
      "233:\tlearn: 5599.7037574\ttotal: 33.6s\tremaining: 1m 49s\n",
      "234:\tlearn: 5599.6908451\ttotal: 33.7s\tremaining: 1m 49s\n",
      "235:\tlearn: 5599.6904019\ttotal: 33.8s\tremaining: 1m 49s\n",
      "236:\tlearn: 5599.6899887\ttotal: 33.9s\tremaining: 1m 49s\n",
      "237:\tlearn: 5599.6774357\ttotal: 34.1s\tremaining: 1m 49s\n",
      "238:\tlearn: 5599.6770504\ttotal: 34.2s\tremaining: 1m 48s\n",
      "239:\tlearn: 5599.6638936\ttotal: 34.4s\tremaining: 1m 48s\n",
      "240:\tlearn: 5599.6512345\ttotal: 34.6s\tremaining: 1m 48s\n",
      "241:\tlearn: 5599.6448192\ttotal: 34.7s\tremaining: 1m 48s\n",
      "242:\tlearn: 5599.6370483\ttotal: 34.9s\tremaining: 1m 48s\n",
      "243:\tlearn: 5599.6367131\ttotal: 35.1s\tremaining: 1m 48s\n",
      "244:\tlearn: 5599.6268332\ttotal: 35.2s\tremaining: 1m 48s\n",
      "245:\tlearn: 5599.6153496\ttotal: 35.4s\tremaining: 1m 48s\n",
      "246:\tlearn: 5599.6007700\ttotal: 35.5s\tremaining: 1m 48s\n",
      "247:\tlearn: 5599.6004569\ttotal: 35.7s\tremaining: 1m 48s\n",
      "248:\tlearn: 5599.5871539\ttotal: 35.8s\tremaining: 1m 48s\n",
      "249:\tlearn: 5599.5709120\ttotal: 36s\tremaining: 1m 47s\n",
      "250:\tlearn: 5599.5584090\ttotal: 36.1s\tremaining: 1m 47s\n",
      "251:\tlearn: 5599.5420762\ttotal: 36.3s\tremaining: 1m 47s\n",
      "252:\tlearn: 5599.5339803\ttotal: 36.4s\tremaining: 1m 47s\n",
      "253:\tlearn: 5599.5212859\ttotal: 36.6s\tremaining: 1m 47s\n",
      "254:\tlearn: 5599.5210138\ttotal: 36.7s\tremaining: 1m 47s\n",
      "255:\tlearn: 5599.4979076\ttotal: 36.9s\tremaining: 1m 47s\n",
      "256:\tlearn: 5599.4598355\ttotal: 37.1s\tremaining: 1m 47s\n",
      "257:\tlearn: 5599.4511862\ttotal: 37.2s\tremaining: 1m 47s\n",
      "258:\tlearn: 5599.4361380\ttotal: 37.4s\tremaining: 1m 46s\n",
      "259:\tlearn: 5599.4231754\ttotal: 37.5s\tremaining: 1m 46s\n",
      "260:\tlearn: 5599.4051487\ttotal: 37.7s\tremaining: 1m 46s\n",
      "261:\tlearn: 5599.3932054\ttotal: 37.8s\tremaining: 1m 46s\n",
      "262:\tlearn: 5599.3871490\ttotal: 37.9s\tremaining: 1m 46s\n",
      "263:\tlearn: 5599.3787399\ttotal: 38.1s\tremaining: 1m 46s\n",
      "264:\tlearn: 5599.3784862\ttotal: 38.2s\tremaining: 1m 45s\n",
      "265:\tlearn: 5599.3732159\ttotal: 38.4s\tremaining: 1m 45s\n",
      "266:\tlearn: 5599.3540581\ttotal: 38.5s\tremaining: 1m 45s\n",
      "267:\tlearn: 5599.3358169\ttotal: 38.6s\tremaining: 1m 45s\n",
      "268:\tlearn: 5599.3145569\ttotal: 38.8s\tremaining: 1m 45s\n",
      "269:\tlearn: 5599.3097825\ttotal: 38.9s\tremaining: 1m 45s\n",
      "270:\tlearn: 5599.2929763\ttotal: 39.1s\tremaining: 1m 45s\n",
      "271:\tlearn: 5599.2830265\ttotal: 39.2s\tremaining: 1m 45s\n",
      "272:\tlearn: 5599.2651286\ttotal: 39.4s\tremaining: 1m 44s\n",
      "273:\tlearn: 5599.2570850\ttotal: 39.5s\tremaining: 1m 44s\n",
      "274:\tlearn: 5599.2531594\ttotal: 39.7s\tremaining: 1m 44s\n",
      "275:\tlearn: 5599.2443103\ttotal: 39.9s\tremaining: 1m 44s\n",
      "276:\tlearn: 5599.2441315\ttotal: 40s\tremaining: 1m 44s\n",
      "277:\tlearn: 5599.2283662\ttotal: 40.2s\tremaining: 1m 44s\n",
      "278:\tlearn: 5599.2195315\ttotal: 40.3s\tremaining: 1m 44s\n",
      "279:\tlearn: 5599.0926571\ttotal: 40.5s\tremaining: 1m 44s\n",
      "280:\tlearn: 5599.0822849\ttotal: 40.6s\tremaining: 1m 43s\n",
      "281:\tlearn: 5599.0714227\ttotal: 40.8s\tremaining: 1m 43s\n",
      "282:\tlearn: 5599.0614034\ttotal: 40.9s\tremaining: 1m 43s\n",
      "283:\tlearn: 5599.0522403\ttotal: 41.1s\tremaining: 1m 43s\n",
      "284:\tlearn: 5599.0223104\ttotal: 41.3s\tremaining: 1m 43s\n",
      "285:\tlearn: 5599.0081368\ttotal: 41.4s\tremaining: 1m 43s\n",
      "286:\tlearn: 5598.9992475\ttotal: 41.5s\tremaining: 1m 43s\n",
      "287:\tlearn: 5598.9907949\ttotal: 41.7s\tremaining: 1m 43s\n",
      "288:\tlearn: 5598.9870702\ttotal: 41.9s\tremaining: 1m 43s\n",
      "289:\tlearn: 5598.9841865\ttotal: 42.1s\tremaining: 1m 43s\n",
      "290:\tlearn: 5598.9515182\ttotal: 42.2s\tremaining: 1m 42s\n",
      "291:\tlearn: 5598.9414380\ttotal: 42.4s\tremaining: 1m 42s\n",
      "292:\tlearn: 5598.9234359\ttotal: 42.5s\tremaining: 1m 42s\n",
      "293:\tlearn: 5598.9174938\ttotal: 42.7s\tremaining: 1m 42s\n",
      "294:\tlearn: 5598.9098128\ttotal: 42.9s\tremaining: 1m 42s\n",
      "295:\tlearn: 5598.8926265\ttotal: 43s\tremaining: 1m 42s\n",
      "296:\tlearn: 5598.8823401\ttotal: 43.2s\tremaining: 1m 42s\n",
      "297:\tlearn: 5598.8715274\ttotal: 43.3s\tremaining: 1m 42s\n",
      "298:\tlearn: 5598.8713921\ttotal: 43.4s\tremaining: 1m 41s\n"
     ]
    },
    {
     "name": "stdout",
     "output_type": "stream",
     "text": [
      "299:\tlearn: 5598.8597647\ttotal: 43.6s\tremaining: 1m 41s\n",
      "300:\tlearn: 5598.8533056\ttotal: 43.7s\tremaining: 1m 41s\n",
      "301:\tlearn: 5598.8463274\ttotal: 43.9s\tremaining: 1m 41s\n",
      "302:\tlearn: 5598.8373684\ttotal: 44.1s\tremaining: 1m 41s\n",
      "303:\tlearn: 5598.8340840\ttotal: 44.3s\tremaining: 1m 41s\n",
      "304:\tlearn: 5598.8267187\ttotal: 44.5s\tremaining: 1m 41s\n",
      "305:\tlearn: 5598.8192521\ttotal: 44.6s\tremaining: 1m 41s\n",
      "306:\tlearn: 5598.8021642\ttotal: 44.8s\tremaining: 1m 41s\n",
      "307:\tlearn: 5598.7882415\ttotal: 45s\tremaining: 1m 41s\n",
      "308:\tlearn: 5598.7774758\ttotal: 45.2s\tremaining: 1m 40s\n",
      "309:\tlearn: 5598.7741424\ttotal: 45.4s\tremaining: 1m 41s\n",
      "310:\tlearn: 5598.7681254\ttotal: 45.7s\tremaining: 1m 41s\n",
      "311:\tlearn: 5598.7634278\ttotal: 45.9s\tremaining: 1m 41s\n",
      "312:\tlearn: 5598.7383390\ttotal: 46.2s\tremaining: 1m 41s\n",
      "313:\tlearn: 5598.7256393\ttotal: 46.4s\tremaining: 1m 41s\n",
      "314:\tlearn: 5598.7200590\ttotal: 46.6s\tremaining: 1m 41s\n",
      "315:\tlearn: 5598.7105386\ttotal: 46.8s\tremaining: 1m 41s\n",
      "316:\tlearn: 5598.7078818\ttotal: 47s\tremaining: 1m 41s\n",
      "317:\tlearn: 5598.6998090\ttotal: 47.2s\tremaining: 1m 41s\n",
      "318:\tlearn: 5598.6859145\ttotal: 47.4s\tremaining: 1m 41s\n",
      "319:\tlearn: 5598.6832620\ttotal: 47.6s\tremaining: 1m 41s\n",
      "320:\tlearn: 5598.6759328\ttotal: 47.8s\tremaining: 1m 41s\n",
      "321:\tlearn: 5598.6649108\ttotal: 48s\tremaining: 1m 40s\n",
      "322:\tlearn: 5598.6615262\ttotal: 48.1s\tremaining: 1m 40s\n",
      "323:\tlearn: 5598.6489881\ttotal: 48.3s\tremaining: 1m 40s\n",
      "324:\tlearn: 5598.6407185\ttotal: 48.5s\tremaining: 1m 40s\n",
      "325:\tlearn: 5598.6303637\ttotal: 48.7s\tremaining: 1m 40s\n",
      "326:\tlearn: 5598.6210175\ttotal: 48.9s\tremaining: 1m 40s\n",
      "327:\tlearn: 5598.6117170\ttotal: 49s\tremaining: 1m 40s\n",
      "328:\tlearn: 5598.5987091\ttotal: 49.2s\tremaining: 1m 40s\n",
      "329:\tlearn: 5598.5893158\ttotal: 49.4s\tremaining: 1m 40s\n",
      "330:\tlearn: 5598.5782225\ttotal: 49.6s\tremaining: 1m 40s\n",
      "331:\tlearn: 5598.5731364\ttotal: 49.7s\tremaining: 1m 39s\n",
      "332:\tlearn: 5598.5600940\ttotal: 49.8s\tremaining: 1m 39s\n",
      "333:\tlearn: 5598.5473601\ttotal: 50s\tremaining: 1m 39s\n",
      "334:\tlearn: 5598.5383045\ttotal: 50.1s\tremaining: 1m 39s\n",
      "335:\tlearn: 5598.5268945\ttotal: 50.3s\tremaining: 1m 39s\n",
      "336:\tlearn: 5598.5210670\ttotal: 50.5s\tremaining: 1m 39s\n",
      "337:\tlearn: 5598.5074250\ttotal: 50.6s\tremaining: 1m 39s\n",
      "338:\tlearn: 5598.5003775\ttotal: 50.8s\tremaining: 1m 39s\n",
      "339:\tlearn: 5598.4979572\ttotal: 51s\tremaining: 1m 38s\n",
      "340:\tlearn: 5598.4944943\ttotal: 51.1s\tremaining: 1m 38s\n",
      "341:\tlearn: 5598.4810020\ttotal: 51.3s\tremaining: 1m 38s\n",
      "342:\tlearn: 5598.4719979\ttotal: 51.4s\tremaining: 1m 38s\n",
      "343:\tlearn: 5598.4695837\ttotal: 51.5s\tremaining: 1m 38s\n",
      "344:\tlearn: 5598.4664870\ttotal: 51.7s\tremaining: 1m 38s\n",
      "345:\tlearn: 5598.4554421\ttotal: 51.8s\tremaining: 1m 37s\n",
      "346:\tlearn: 5598.4485199\ttotal: 52s\tremaining: 1m 37s\n",
      "347:\tlearn: 5598.4463475\ttotal: 52.1s\tremaining: 1m 37s\n",
      "348:\tlearn: 5598.4435808\ttotal: 52.2s\tremaining: 1m 37s\n",
      "349:\tlearn: 5598.4373586\ttotal: 52.4s\tremaining: 1m 37s\n",
      "350:\tlearn: 5598.4310481\ttotal: 52.5s\tremaining: 1m 37s\n",
      "351:\tlearn: 5598.4215596\ttotal: 52.7s\tremaining: 1m 36s\n",
      "352:\tlearn: 5598.4118238\ttotal: 52.8s\tremaining: 1m 36s\n",
      "353:\tlearn: 5598.4032894\ttotal: 52.9s\tremaining: 1m 36s\n",
      "354:\tlearn: 5598.3973449\ttotal: 53.1s\tremaining: 1m 36s\n",
      "355:\tlearn: 5598.3870928\ttotal: 53.3s\tremaining: 1m 36s\n",
      "356:\tlearn: 5598.3829555\ttotal: 53.5s\tremaining: 1m 36s\n",
      "357:\tlearn: 5598.3728474\ttotal: 53.7s\tremaining: 1m 36s\n",
      "358:\tlearn: 5598.3645308\ttotal: 53.9s\tremaining: 1m 36s\n",
      "359:\tlearn: 5598.3534005\ttotal: 54.2s\tremaining: 1m 36s\n",
      "360:\tlearn: 5598.3466365\ttotal: 54.4s\tremaining: 1m 36s\n",
      "361:\tlearn: 5598.3430913\ttotal: 54.6s\tremaining: 1m 36s\n",
      "362:\tlearn: 5598.3410104\ttotal: 54.8s\tremaining: 1m 36s\n",
      "363:\tlearn: 5598.3270632\ttotal: 55s\tremaining: 1m 36s\n",
      "364:\tlearn: 5598.3156222\ttotal: 55.2s\tremaining: 1m 35s\n",
      "365:\tlearn: 5598.3118530\ttotal: 55.4s\tremaining: 1m 35s\n",
      "366:\tlearn: 5598.3006577\ttotal: 55.5s\tremaining: 1m 35s\n",
      "367:\tlearn: 5598.2932375\ttotal: 55.7s\tremaining: 1m 35s\n",
      "368:\tlearn: 5598.2792513\ttotal: 55.9s\tremaining: 1m 35s\n",
      "369:\tlearn: 5598.2682199\ttotal: 56.1s\tremaining: 1m 35s\n",
      "370:\tlearn: 5598.2568810\ttotal: 56.2s\tremaining: 1m 35s\n",
      "371:\tlearn: 5598.2437262\ttotal: 56.4s\tremaining: 1m 35s\n",
      "372:\tlearn: 5598.2362525\ttotal: 56.5s\tremaining: 1m 35s\n",
      "373:\tlearn: 5598.2255307\ttotal: 56.7s\tremaining: 1m 34s\n",
      "374:\tlearn: 5598.2231239\ttotal: 56.9s\tremaining: 1m 34s\n",
      "375:\tlearn: 5598.2109696\ttotal: 57s\tremaining: 1m 34s\n",
      "376:\tlearn: 5598.2042638\ttotal: 57.1s\tremaining: 1m 34s\n",
      "377:\tlearn: 5598.1975612\ttotal: 57.3s\tremaining: 1m 34s\n",
      "378:\tlearn: 5598.1377344\ttotal: 57.4s\tremaining: 1m 34s\n",
      "379:\tlearn: 5598.1318382\ttotal: 57.6s\tremaining: 1m 33s\n",
      "380:\tlearn: 5598.1221164\ttotal: 57.7s\tremaining: 1m 33s\n",
      "381:\tlearn: 5598.1115419\ttotal: 57.8s\tremaining: 1m 33s\n",
      "382:\tlearn: 5598.1039359\ttotal: 58s\tremaining: 1m 33s\n",
      "383:\tlearn: 5598.0976762\ttotal: 58.1s\tremaining: 1m 33s\n",
      "384:\tlearn: 5598.0892144\ttotal: 58.3s\tremaining: 1m 33s\n",
      "385:\tlearn: 5598.0719925\ttotal: 58.4s\tremaining: 1m 32s\n",
      "386:\tlearn: 5598.0614603\ttotal: 58.6s\tremaining: 1m 32s\n",
      "387:\tlearn: 5598.0556658\ttotal: 58.8s\tremaining: 1m 32s\n",
      "388:\tlearn: 5598.0499602\ttotal: 58.9s\tremaining: 1m 32s\n",
      "389:\tlearn: 5598.0426381\ttotal: 59.1s\tremaining: 1m 32s\n",
      "390:\tlearn: 5598.0390084\ttotal: 59.2s\tremaining: 1m 32s\n",
      "391:\tlearn: 5598.0330454\ttotal: 59.3s\tremaining: 1m 32s\n",
      "392:\tlearn: 5598.0276223\ttotal: 59.5s\tremaining: 1m 31s\n",
      "393:\tlearn: 5598.0248202\ttotal: 59.6s\tremaining: 1m 31s\n",
      "394:\tlearn: 5598.0171427\ttotal: 59.8s\tremaining: 1m 31s\n",
      "395:\tlearn: 5598.0106842\ttotal: 1m\tremaining: 1m 31s\n",
      "396:\tlearn: 5597.9986642\ttotal: 1m\tremaining: 1m 31s\n",
      "397:\tlearn: 5597.9909861\ttotal: 1m\tremaining: 1m 31s\n",
      "398:\tlearn: 5597.9815478\ttotal: 1m\tremaining: 1m 31s\n",
      "399:\tlearn: 5597.9718090\ttotal: 1m\tremaining: 1m 31s\n",
      "400:\tlearn: 5597.9601976\ttotal: 1m 1s\tremaining: 1m 31s\n",
      "401:\tlearn: 5597.9521452\ttotal: 1m 1s\tremaining: 1m 31s\n",
      "402:\tlearn: 5597.9470274\ttotal: 1m 1s\tremaining: 1m 30s\n",
      "403:\tlearn: 5597.9373005\ttotal: 1m 1s\tremaining: 1m 30s\n",
      "404:\tlearn: 5597.9310755\ttotal: 1m 1s\tremaining: 1m 30s\n",
      "405:\tlearn: 5597.9231335\ttotal: 1m 1s\tremaining: 1m 30s\n",
      "406:\tlearn: 5597.9216703\ttotal: 1m 2s\tremaining: 1m 30s\n",
      "407:\tlearn: 5597.9148428\ttotal: 1m 2s\tremaining: 1m 30s\n",
      "408:\tlearn: 5597.9116023\ttotal: 1m 2s\tremaining: 1m 30s\n",
      "409:\tlearn: 5597.9060634\ttotal: 1m 2s\tremaining: 1m 30s\n",
      "410:\tlearn: 5597.8941216\ttotal: 1m 2s\tremaining: 1m 29s\n",
      "411:\tlearn: 5597.8807943\ttotal: 1m 2s\tremaining: 1m 29s\n",
      "412:\tlearn: 5597.8730958\ttotal: 1m 3s\tremaining: 1m 29s\n",
      "413:\tlearn: 5597.8684312\ttotal: 1m 3s\tremaining: 1m 29s\n",
      "414:\tlearn: 5597.8589985\ttotal: 1m 3s\tremaining: 1m 29s\n",
      "415:\tlearn: 5597.8537931\ttotal: 1m 3s\tremaining: 1m 29s\n",
      "416:\tlearn: 5597.8436338\ttotal: 1m 3s\tremaining: 1m 29s\n",
      "417:\tlearn: 5597.8387096\ttotal: 1m 3s\tremaining: 1m 28s\n",
      "418:\tlearn: 5597.8336809\ttotal: 1m 4s\tremaining: 1m 28s\n",
      "419:\tlearn: 5597.8274254\ttotal: 1m 4s\tremaining: 1m 28s\n",
      "420:\tlearn: 5597.8222057\ttotal: 1m 4s\tremaining: 1m 28s\n",
      "421:\tlearn: 5597.8128186\ttotal: 1m 4s\tremaining: 1m 28s\n",
      "422:\tlearn: 5597.8064145\ttotal: 1m 4s\tremaining: 1m 28s\n",
      "423:\tlearn: 5597.7971658\ttotal: 1m 4s\tremaining: 1m 28s\n",
      "424:\tlearn: 5597.7870960\ttotal: 1m 5s\tremaining: 1m 28s\n",
      "425:\tlearn: 5597.7810466\ttotal: 1m 5s\tremaining: 1m 27s\n",
      "426:\tlearn: 5597.7750034\ttotal: 1m 5s\tremaining: 1m 27s\n",
      "427:\tlearn: 5597.7655082\ttotal: 1m 5s\tremaining: 1m 27s\n",
      "428:\tlearn: 5597.7583139\ttotal: 1m 5s\tremaining: 1m 27s\n",
      "429:\tlearn: 5597.7526024\ttotal: 1m 5s\tremaining: 1m 27s\n",
      "430:\tlearn: 5597.7438800\ttotal: 1m 6s\tremaining: 1m 27s\n",
      "431:\tlearn: 5597.7370003\ttotal: 1m 6s\tremaining: 1m 27s\n",
      "432:\tlearn: 5597.7321024\ttotal: 1m 6s\tremaining: 1m 27s\n",
      "433:\tlearn: 5597.7305560\ttotal: 1m 6s\tremaining: 1m 26s\n",
      "434:\tlearn: 5597.7234688\ttotal: 1m 6s\tremaining: 1m 26s\n",
      "435:\tlearn: 5597.7050328\ttotal: 1m 6s\tremaining: 1m 26s\n",
      "436:\tlearn: 5597.6973184\ttotal: 1m 7s\tremaining: 1m 26s\n",
      "437:\tlearn: 5597.6904817\ttotal: 1m 7s\tremaining: 1m 26s\n",
      "438:\tlearn: 5597.6853933\ttotal: 1m 7s\tremaining: 1m 26s\n",
      "439:\tlearn: 5597.6790367\ttotal: 1m 7s\tremaining: 1m 26s\n",
      "440:\tlearn: 5597.6738914\ttotal: 1m 7s\tremaining: 1m 25s\n",
      "441:\tlearn: 5597.6671519\ttotal: 1m 7s\tremaining: 1m 25s\n",
      "442:\tlearn: 5597.6568632\ttotal: 1m 8s\tremaining: 1m 25s\n",
      "443:\tlearn: 5597.6457192\ttotal: 1m 8s\tremaining: 1m 25s\n",
      "444:\tlearn: 5597.6377364\ttotal: 1m 8s\tremaining: 1m 25s\n",
      "445:\tlearn: 5597.6315464\ttotal: 1m 8s\tremaining: 1m 25s\n"
     ]
    },
    {
     "name": "stdout",
     "output_type": "stream",
     "text": [
      "446:\tlearn: 5597.6285292\ttotal: 1m 8s\tremaining: 1m 25s\n",
      "447:\tlearn: 5597.6169619\ttotal: 1m 8s\tremaining: 1m 24s\n",
      "448:\tlearn: 5597.6085086\ttotal: 1m 9s\tremaining: 1m 24s\n",
      "449:\tlearn: 5597.5992952\ttotal: 1m 9s\tremaining: 1m 24s\n",
      "450:\tlearn: 5597.5948433\ttotal: 1m 9s\tremaining: 1m 24s\n",
      "451:\tlearn: 5597.5899530\ttotal: 1m 9s\tremaining: 1m 24s\n",
      "452:\tlearn: 5597.5824875\ttotal: 1m 9s\tremaining: 1m 24s\n",
      "453:\tlearn: 5597.5771481\ttotal: 1m 9s\tremaining: 1m 24s\n",
      "454:\tlearn: 5597.5691943\ttotal: 1m 10s\tremaining: 1m 23s\n",
      "455:\tlearn: 5597.5635310\ttotal: 1m 10s\tremaining: 1m 23s\n",
      "456:\tlearn: 5597.5573222\ttotal: 1m 10s\tremaining: 1m 23s\n",
      "457:\tlearn: 5597.5499411\ttotal: 1m 10s\tremaining: 1m 23s\n",
      "458:\tlearn: 5597.5403180\ttotal: 1m 10s\tremaining: 1m 23s\n",
      "459:\tlearn: 5597.5335573\ttotal: 1m 10s\tremaining: 1m 23s\n",
      "460:\tlearn: 5597.5275771\ttotal: 1m 10s\tremaining: 1m 22s\n",
      "461:\tlearn: 5597.5184484\ttotal: 1m 11s\tremaining: 1m 22s\n",
      "462:\tlearn: 5597.5133396\ttotal: 1m 11s\tremaining: 1m 22s\n",
      "463:\tlearn: 5597.5096766\ttotal: 1m 11s\tremaining: 1m 22s\n",
      "464:\tlearn: 5597.5050004\ttotal: 1m 11s\tremaining: 1m 22s\n",
      "465:\tlearn: 5597.4255349\ttotal: 1m 11s\tremaining: 1m 22s\n",
      "466:\tlearn: 5597.4095644\ttotal: 1m 11s\tremaining: 1m 21s\n",
      "467:\tlearn: 5597.4040944\ttotal: 1m 11s\tremaining: 1m 21s\n",
      "468:\tlearn: 5597.3991190\ttotal: 1m 12s\tremaining: 1m 21s\n",
      "469:\tlearn: 5597.3971515\ttotal: 1m 12s\tremaining: 1m 21s\n",
      "470:\tlearn: 5597.3935940\ttotal: 1m 12s\tremaining: 1m 21s\n",
      "471:\tlearn: 5597.3882658\ttotal: 1m 12s\tremaining: 1m 21s\n",
      "472:\tlearn: 5597.3819271\ttotal: 1m 12s\tremaining: 1m 21s\n",
      "473:\tlearn: 5597.3589074\ttotal: 1m 13s\tremaining: 1m 21s\n",
      "474:\tlearn: 5597.3533498\ttotal: 1m 13s\tremaining: 1m 21s\n",
      "475:\tlearn: 5597.3462238\ttotal: 1m 13s\tremaining: 1m 20s\n",
      "476:\tlearn: 5597.3406050\ttotal: 1m 13s\tremaining: 1m 20s\n",
      "477:\tlearn: 5597.3349353\ttotal: 1m 13s\tremaining: 1m 20s\n",
      "478:\tlearn: 5597.3254524\ttotal: 1m 13s\tremaining: 1m 20s\n",
      "479:\tlearn: 5597.3206541\ttotal: 1m 14s\tremaining: 1m 20s\n",
      "480:\tlearn: 5597.3154434\ttotal: 1m 14s\tremaining: 1m 20s\n",
      "481:\tlearn: 5597.3083728\ttotal: 1m 14s\tremaining: 1m 20s\n",
      "482:\tlearn: 5597.3067393\ttotal: 1m 14s\tremaining: 1m 19s\n",
      "483:\tlearn: 5597.3025685\ttotal: 1m 14s\tremaining: 1m 19s\n",
      "484:\tlearn: 5597.2954083\ttotal: 1m 14s\tremaining: 1m 19s\n",
      "485:\tlearn: 5597.2906618\ttotal: 1m 15s\tremaining: 1m 19s\n",
      "486:\tlearn: 5597.2836443\ttotal: 1m 15s\tremaining: 1m 19s\n",
      "487:\tlearn: 5597.2753214\ttotal: 1m 15s\tremaining: 1m 19s\n",
      "488:\tlearn: 5597.2693770\ttotal: 1m 15s\tremaining: 1m 18s\n",
      "489:\tlearn: 5597.2628702\ttotal: 1m 15s\tremaining: 1m 18s\n",
      "490:\tlearn: 5597.2563191\ttotal: 1m 16s\tremaining: 1m 18s\n",
      "491:\tlearn: 5597.2433958\ttotal: 1m 16s\tremaining: 1m 18s\n",
      "492:\tlearn: 5597.2364153\ttotal: 1m 16s\tremaining: 1m 18s\n",
      "493:\tlearn: 5597.2264505\ttotal: 1m 16s\tremaining: 1m 18s\n",
      "494:\tlearn: 5597.2092722\ttotal: 1m 16s\tremaining: 1m 18s\n",
      "495:\tlearn: 5597.1924182\ttotal: 1m 16s\tremaining: 1m 18s\n",
      "496:\tlearn: 5597.1864889\ttotal: 1m 16s\tremaining: 1m 17s\n",
      "497:\tlearn: 5597.1641278\ttotal: 1m 17s\tremaining: 1m 17s\n",
      "498:\tlearn: 5597.1602604\ttotal: 1m 17s\tremaining: 1m 17s\n",
      "499:\tlearn: 5597.1574478\ttotal: 1m 17s\tremaining: 1m 17s\n",
      "500:\tlearn: 5597.1494853\ttotal: 1m 17s\tremaining: 1m 17s\n",
      "501:\tlearn: 5597.1447595\ttotal: 1m 17s\tremaining: 1m 17s\n",
      "502:\tlearn: 5597.1383242\ttotal: 1m 17s\tremaining: 1m 17s\n",
      "503:\tlearn: 5597.1366520\ttotal: 1m 18s\tremaining: 1m 16s\n",
      "504:\tlearn: 5597.1308113\ttotal: 1m 18s\tremaining: 1m 16s\n",
      "505:\tlearn: 5597.1252668\ttotal: 1m 18s\tremaining: 1m 16s\n",
      "506:\tlearn: 5597.1163124\ttotal: 1m 18s\tremaining: 1m 16s\n",
      "507:\tlearn: 5597.1073265\ttotal: 1m 18s\tremaining: 1m 16s\n",
      "508:\tlearn: 5597.0749691\ttotal: 1m 18s\tremaining: 1m 16s\n",
      "509:\tlearn: 5597.0679958\ttotal: 1m 18s\tremaining: 1m 15s\n",
      "510:\tlearn: 5597.0560168\ttotal: 1m 19s\tremaining: 1m 15s\n",
      "511:\tlearn: 5597.0506364\ttotal: 1m 19s\tremaining: 1m 15s\n",
      "512:\tlearn: 5597.0459354\ttotal: 1m 19s\tremaining: 1m 15s\n",
      "513:\tlearn: 5597.0342515\ttotal: 1m 19s\tremaining: 1m 15s\n",
      "514:\tlearn: 5597.0328332\ttotal: 1m 19s\tremaining: 1m 15s\n",
      "515:\tlearn: 5596.9503585\ttotal: 1m 19s\tremaining: 1m 14s\n",
      "516:\tlearn: 5596.9476132\ttotal: 1m 20s\tremaining: 1m 14s\n",
      "517:\tlearn: 5596.9451627\ttotal: 1m 20s\tremaining: 1m 14s\n",
      "518:\tlearn: 5596.9368577\ttotal: 1m 20s\tremaining: 1m 14s\n",
      "519:\tlearn: 5596.9265325\ttotal: 1m 20s\tremaining: 1m 14s\n",
      "520:\tlearn: 5596.9134699\ttotal: 1m 20s\tremaining: 1m 14s\n",
      "521:\tlearn: 5596.9110725\ttotal: 1m 20s\tremaining: 1m 13s\n",
      "522:\tlearn: 5596.9035807\ttotal: 1m 20s\tremaining: 1m 13s\n",
      "523:\tlearn: 5596.8956420\ttotal: 1m 21s\tremaining: 1m 13s\n",
      "524:\tlearn: 5596.8854134\ttotal: 1m 21s\tremaining: 1m 13s\n",
      "525:\tlearn: 5596.8806128\ttotal: 1m 21s\tremaining: 1m 13s\n",
      "526:\tlearn: 5596.8722311\ttotal: 1m 21s\tremaining: 1m 13s\n",
      "527:\tlearn: 5596.8628512\ttotal: 1m 21s\tremaining: 1m 13s\n",
      "528:\tlearn: 5596.8576163\ttotal: 1m 22s\tremaining: 1m 13s\n",
      "529:\tlearn: 5596.8497868\ttotal: 1m 22s\tremaining: 1m 12s\n",
      "530:\tlearn: 5596.8394373\ttotal: 1m 22s\tremaining: 1m 12s\n",
      "531:\tlearn: 5596.8201649\ttotal: 1m 22s\tremaining: 1m 12s\n",
      "532:\tlearn: 5596.8150900\ttotal: 1m 22s\tremaining: 1m 12s\n",
      "533:\tlearn: 5596.8102030\ttotal: 1m 22s\tremaining: 1m 12s\n",
      "534:\tlearn: 5596.8059964\ttotal: 1m 23s\tremaining: 1m 12s\n",
      "535:\tlearn: 5596.7960318\ttotal: 1m 23s\tremaining: 1m 12s\n",
      "536:\tlearn: 5596.7921480\ttotal: 1m 23s\tremaining: 1m 12s\n",
      "537:\tlearn: 5596.7874818\ttotal: 1m 23s\tremaining: 1m 11s\n",
      "538:\tlearn: 5596.7841127\ttotal: 1m 23s\tremaining: 1m 11s\n",
      "539:\tlearn: 5596.7785102\ttotal: 1m 24s\tremaining: 1m 11s\n",
      "540:\tlearn: 5596.7659351\ttotal: 1m 24s\tremaining: 1m 11s\n",
      "541:\tlearn: 5596.7597495\ttotal: 1m 24s\tremaining: 1m 11s\n",
      "542:\tlearn: 5596.7499248\ttotal: 1m 24s\tremaining: 1m 11s\n",
      "543:\tlearn: 5596.7411450\ttotal: 1m 24s\tremaining: 1m 11s\n",
      "544:\tlearn: 5596.7354169\ttotal: 1m 24s\tremaining: 1m 10s\n",
      "545:\tlearn: 5596.7310902\ttotal: 1m 25s\tremaining: 1m 10s\n",
      "546:\tlearn: 5596.7248961\ttotal: 1m 25s\tremaining: 1m 10s\n",
      "547:\tlearn: 5596.7204358\ttotal: 1m 26s\tremaining: 1m 10s\n",
      "548:\tlearn: 5596.7108014\ttotal: 1m 26s\tremaining: 1m 10s\n",
      "549:\tlearn: 5596.7050684\ttotal: 1m 26s\tremaining: 1m 10s\n",
      "550:\tlearn: 5596.7007282\ttotal: 1m 26s\tremaining: 1m 10s\n",
      "551:\tlearn: 5596.6917286\ttotal: 1m 26s\tremaining: 1m 10s\n",
      "552:\tlearn: 5596.6842170\ttotal: 1m 26s\tremaining: 1m 10s\n",
      "553:\tlearn: 5596.6802039\ttotal: 1m 27s\tremaining: 1m 10s\n",
      "554:\tlearn: 5596.6760655\ttotal: 1m 27s\tremaining: 1m 10s\n",
      "555:\tlearn: 5596.6723115\ttotal: 1m 27s\tremaining: 1m 9s\n",
      "556:\tlearn: 5596.6585395\ttotal: 1m 27s\tremaining: 1m 9s\n",
      "557:\tlearn: 5596.6220387\ttotal: 1m 27s\tremaining: 1m 9s\n",
      "558:\tlearn: 5596.6179180\ttotal: 1m 27s\tremaining: 1m 9s\n",
      "559:\tlearn: 5596.6122817\ttotal: 1m 28s\tremaining: 1m 9s\n",
      "560:\tlearn: 5596.5955049\ttotal: 1m 28s\tremaining: 1m 9s\n",
      "561:\tlearn: 5596.5904778\ttotal: 1m 28s\tremaining: 1m 8s\n",
      "562:\tlearn: 5596.5822296\ttotal: 1m 28s\tremaining: 1m 8s\n",
      "563:\tlearn: 5596.5740384\ttotal: 1m 28s\tremaining: 1m 8s\n",
      "564:\tlearn: 5596.5701460\ttotal: 1m 28s\tremaining: 1m 8s\n",
      "565:\tlearn: 5596.5605736\ttotal: 1m 29s\tremaining: 1m 8s\n",
      "566:\tlearn: 5596.5546189\ttotal: 1m 29s\tremaining: 1m 8s\n",
      "567:\tlearn: 5596.5418077\ttotal: 1m 29s\tremaining: 1m 8s\n",
      "568:\tlearn: 5596.5370302\ttotal: 1m 29s\tremaining: 1m 7s\n",
      "569:\tlearn: 5596.5259885\ttotal: 1m 29s\tremaining: 1m 7s\n",
      "570:\tlearn: 5596.5132204\ttotal: 1m 29s\tremaining: 1m 7s\n",
      "571:\tlearn: 5596.5116892\ttotal: 1m 30s\tremaining: 1m 7s\n",
      "572:\tlearn: 5596.5065477\ttotal: 1m 30s\tremaining: 1m 7s\n",
      "573:\tlearn: 5596.5026957\ttotal: 1m 30s\tremaining: 1m 7s\n",
      "574:\tlearn: 5596.4991037\ttotal: 1m 30s\tremaining: 1m 7s\n",
      "575:\tlearn: 5596.4967992\ttotal: 1m 31s\tremaining: 1m 7s\n",
      "576:\tlearn: 5596.4920108\ttotal: 1m 31s\tremaining: 1m 6s\n",
      "577:\tlearn: 5596.4854315\ttotal: 1m 31s\tremaining: 1m 6s\n",
      "578:\tlearn: 5596.4814956\ttotal: 1m 31s\tremaining: 1m 6s\n",
      "579:\tlearn: 5596.4736021\ttotal: 1m 31s\tremaining: 1m 6s\n",
      "580:\tlearn: 5596.4675505\ttotal: 1m 32s\tremaining: 1m 6s\n",
      "581:\tlearn: 5596.4607021\ttotal: 1m 32s\tremaining: 1m 6s\n",
      "582:\tlearn: 5596.4540127\ttotal: 1m 32s\tremaining: 1m 6s\n",
      "583:\tlearn: 5596.4461906\ttotal: 1m 32s\tremaining: 1m 6s\n",
      "584:\tlearn: 5596.4434721\ttotal: 1m 32s\tremaining: 1m 5s\n",
      "585:\tlearn: 5596.4398454\ttotal: 1m 33s\tremaining: 1m 5s\n",
      "586:\tlearn: 5596.4324127\ttotal: 1m 33s\tremaining: 1m 5s\n",
      "587:\tlearn: 5596.4285729\ttotal: 1m 33s\tremaining: 1m 5s\n",
      "588:\tlearn: 5596.4233745\ttotal: 1m 33s\tremaining: 1m 5s\n",
      "589:\tlearn: 5596.4185847\ttotal: 1m 33s\tremaining: 1m 5s\n",
      "590:\tlearn: 5596.4148472\ttotal: 1m 34s\tremaining: 1m 5s\n"
     ]
    },
    {
     "name": "stdout",
     "output_type": "stream",
     "text": [
      "591:\tlearn: 5596.4079582\ttotal: 1m 34s\tremaining: 1m 4s\n",
      "592:\tlearn: 5596.3847559\ttotal: 1m 34s\tremaining: 1m 4s\n",
      "593:\tlearn: 5596.3804611\ttotal: 1m 34s\tremaining: 1m 4s\n",
      "594:\tlearn: 5596.3774618\ttotal: 1m 34s\tremaining: 1m 4s\n",
      "595:\tlearn: 5596.3711863\ttotal: 1m 34s\tremaining: 1m 4s\n",
      "596:\tlearn: 5596.3655800\ttotal: 1m 35s\tremaining: 1m 4s\n",
      "597:\tlearn: 5596.3604616\ttotal: 1m 35s\tremaining: 1m 4s\n",
      "598:\tlearn: 5596.3582188\ttotal: 1m 35s\tremaining: 1m 3s\n",
      "599:\tlearn: 5596.3513408\ttotal: 1m 35s\tremaining: 1m 3s\n",
      "600:\tlearn: 5596.3381206\ttotal: 1m 35s\tremaining: 1m 3s\n",
      "601:\tlearn: 5596.3274716\ttotal: 1m 35s\tremaining: 1m 3s\n",
      "602:\tlearn: 5596.3223802\ttotal: 1m 36s\tremaining: 1m 3s\n",
      "603:\tlearn: 5596.3100737\ttotal: 1m 36s\tremaining: 1m 3s\n",
      "604:\tlearn: 5596.3038558\ttotal: 1m 36s\tremaining: 1m 2s\n",
      "605:\tlearn: 5596.2968436\ttotal: 1m 36s\tremaining: 1m 2s\n",
      "606:\tlearn: 5596.2911939\ttotal: 1m 36s\tremaining: 1m 2s\n",
      "607:\tlearn: 5596.2862302\ttotal: 1m 36s\tremaining: 1m 2s\n",
      "608:\tlearn: 5596.2783188\ttotal: 1m 37s\tremaining: 1m 2s\n",
      "609:\tlearn: 5596.2721500\ttotal: 1m 37s\tremaining: 1m 2s\n",
      "610:\tlearn: 5596.2702035\ttotal: 1m 37s\tremaining: 1m 2s\n",
      "611:\tlearn: 5596.2652106\ttotal: 1m 38s\tremaining: 1m 2s\n",
      "612:\tlearn: 5596.2597176\ttotal: 1m 38s\tremaining: 1m 2s\n",
      "613:\tlearn: 5596.2561133\ttotal: 1m 38s\tremaining: 1m 2s\n",
      "614:\tlearn: 5596.2540706\ttotal: 1m 38s\tremaining: 1m 1s\n",
      "615:\tlearn: 5596.2490036\ttotal: 1m 39s\tremaining: 1m 1s\n",
      "616:\tlearn: 5596.2396571\ttotal: 1m 39s\tremaining: 1m 1s\n",
      "617:\tlearn: 5596.2364505\ttotal: 1m 39s\tremaining: 1m 1s\n",
      "618:\tlearn: 5596.2326081\ttotal: 1m 39s\tremaining: 1m 1s\n",
      "619:\tlearn: 5596.2269594\ttotal: 1m 39s\tremaining: 1m 1s\n",
      "620:\tlearn: 5596.2213110\ttotal: 1m 40s\tremaining: 1m 1s\n",
      "621:\tlearn: 5596.2167555\ttotal: 1m 40s\tremaining: 1m 1s\n",
      "622:\tlearn: 5596.2081237\ttotal: 1m 40s\tremaining: 1m\n",
      "623:\tlearn: 5596.2015405\ttotal: 1m 40s\tremaining: 1m\n",
      "624:\tlearn: 5596.1983918\ttotal: 1m 40s\tremaining: 1m\n",
      "625:\tlearn: 5596.1903517\ttotal: 1m 41s\tremaining: 1m\n",
      "626:\tlearn: 5596.1869821\ttotal: 1m 41s\tremaining: 1m\n",
      "627:\tlearn: 5596.1831702\ttotal: 1m 41s\tremaining: 1m\n",
      "628:\tlearn: 5596.1814874\ttotal: 1m 41s\tremaining: 60s\n",
      "629:\tlearn: 5596.1745563\ttotal: 1m 41s\tremaining: 59.8s\n",
      "630:\tlearn: 5596.1610842\ttotal: 1m 42s\tremaining: 59.7s\n",
      "631:\tlearn: 5596.1505676\ttotal: 1m 42s\tremaining: 59.6s\n",
      "632:\tlearn: 5596.1468296\ttotal: 1m 42s\tremaining: 59.4s\n",
      "633:\tlearn: 5596.1454988\ttotal: 1m 42s\tremaining: 59.3s\n",
      "634:\tlearn: 5596.1422909\ttotal: 1m 42s\tremaining: 59.1s\n",
      "635:\tlearn: 5596.1351526\ttotal: 1m 43s\tremaining: 59s\n",
      "636:\tlearn: 5596.1296018\ttotal: 1m 43s\tremaining: 58.8s\n",
      "637:\tlearn: 5596.1188482\ttotal: 1m 43s\tremaining: 58.7s\n",
      "638:\tlearn: 5596.1126115\ttotal: 1m 43s\tremaining: 58.5s\n",
      "639:\tlearn: 5596.1060393\ttotal: 1m 43s\tremaining: 58.4s\n",
      "640:\tlearn: 5596.1043133\ttotal: 1m 43s\tremaining: 58.2s\n",
      "641:\tlearn: 5596.1014575\ttotal: 1m 44s\tremaining: 58s\n",
      "642:\tlearn: 5596.0977701\ttotal: 1m 44s\tremaining: 57.8s\n",
      "643:\tlearn: 5596.0841624\ttotal: 1m 44s\tremaining: 57.7s\n",
      "644:\tlearn: 5596.0795908\ttotal: 1m 44s\tremaining: 57.6s\n",
      "645:\tlearn: 5596.0716121\ttotal: 1m 44s\tremaining: 57.4s\n",
      "646:\tlearn: 5596.0622798\ttotal: 1m 44s\tremaining: 57.3s\n",
      "647:\tlearn: 5596.0569203\ttotal: 1m 45s\tremaining: 57.1s\n",
      "648:\tlearn: 5596.0469554\ttotal: 1m 45s\tremaining: 56.9s\n",
      "649:\tlearn: 5596.0459617\ttotal: 1m 45s\tremaining: 56.8s\n",
      "650:\tlearn: 5596.0397151\ttotal: 1m 45s\tremaining: 56.7s\n",
      "651:\tlearn: 5596.0298778\ttotal: 1m 45s\tremaining: 56.5s\n",
      "652:\tlearn: 5596.0197518\ttotal: 1m 46s\tremaining: 56.4s\n",
      "653:\tlearn: 5596.0173984\ttotal: 1m 46s\tremaining: 56.2s\n",
      "654:\tlearn: 5596.0126595\ttotal: 1m 46s\tremaining: 56s\n",
      "655:\tlearn: 5596.0068932\ttotal: 1m 46s\tremaining: 55.9s\n",
      "656:\tlearn: 5595.9989818\ttotal: 1m 46s\tremaining: 55.8s\n",
      "657:\tlearn: 5595.9949419\ttotal: 1m 47s\tremaining: 55.6s\n",
      "658:\tlearn: 5595.9895588\ttotal: 1m 47s\tremaining: 55.4s\n",
      "659:\tlearn: 5595.9859537\ttotal: 1m 47s\tremaining: 55.3s\n",
      "660:\tlearn: 5595.9759856\ttotal: 1m 47s\tremaining: 55.1s\n",
      "661:\tlearn: 5595.9712866\ttotal: 1m 47s\tremaining: 55s\n",
      "662:\tlearn: 5595.9669590\ttotal: 1m 47s\tremaining: 54.8s\n",
      "663:\tlearn: 5595.9600814\ttotal: 1m 48s\tremaining: 54.7s\n",
      "664:\tlearn: 5595.9547550\ttotal: 1m 48s\tremaining: 54.5s\n",
      "665:\tlearn: 5595.9496371\ttotal: 1m 48s\tremaining: 54.3s\n",
      "666:\tlearn: 5595.9426488\ttotal: 1m 48s\tremaining: 54.1s\n",
      "667:\tlearn: 5595.9263867\ttotal: 1m 48s\tremaining: 54s\n",
      "668:\tlearn: 5595.9201306\ttotal: 1m 48s\tremaining: 53.8s\n",
      "669:\tlearn: 5595.9160172\ttotal: 1m 48s\tremaining: 53.6s\n",
      "670:\tlearn: 5595.9108900\ttotal: 1m 48s\tremaining: 53.4s\n",
      "671:\tlearn: 5595.8981055\ttotal: 1m 49s\tremaining: 53.3s\n",
      "672:\tlearn: 5595.8885384\ttotal: 1m 49s\tremaining: 53.1s\n",
      "673:\tlearn: 5595.8824661\ttotal: 1m 49s\tremaining: 52.9s\n",
      "674:\tlearn: 5595.8791898\ttotal: 1m 49s\tremaining: 52.7s\n",
      "675:\tlearn: 5595.8729584\ttotal: 1m 49s\tremaining: 52.6s\n",
      "676:\tlearn: 5595.8700430\ttotal: 1m 49s\tremaining: 52.5s\n",
      "677:\tlearn: 5595.8635724\ttotal: 1m 50s\tremaining: 52.3s\n",
      "678:\tlearn: 5595.8608385\ttotal: 1m 50s\tremaining: 52.2s\n",
      "679:\tlearn: 5595.8554107\ttotal: 1m 50s\tremaining: 52s\n",
      "680:\tlearn: 5595.8498965\ttotal: 1m 50s\tremaining: 51.9s\n",
      "681:\tlearn: 5595.8424376\ttotal: 1m 50s\tremaining: 51.7s\n",
      "682:\tlearn: 5595.8348593\ttotal: 1m 51s\tremaining: 51.5s\n",
      "683:\tlearn: 5595.8314286\ttotal: 1m 51s\tremaining: 51.4s\n",
      "684:\tlearn: 5595.8281313\ttotal: 1m 51s\tremaining: 51.2s\n",
      "685:\tlearn: 5595.8257104\ttotal: 1m 51s\tremaining: 51s\n",
      "686:\tlearn: 5595.8199413\ttotal: 1m 51s\tremaining: 50.8s\n",
      "687:\tlearn: 5595.8185270\ttotal: 1m 51s\tremaining: 50.7s\n",
      "688:\tlearn: 5595.8105685\ttotal: 1m 51s\tremaining: 50.5s\n",
      "689:\tlearn: 5595.8019095\ttotal: 1m 52s\tremaining: 50.4s\n",
      "690:\tlearn: 5595.7922650\ttotal: 1m 52s\tremaining: 50.2s\n",
      "691:\tlearn: 5595.7858299\ttotal: 1m 52s\tremaining: 50.1s\n",
      "692:\tlearn: 5595.7806276\ttotal: 1m 52s\tremaining: 49.9s\n",
      "693:\tlearn: 5595.7788820\ttotal: 1m 52s\tremaining: 49.8s\n",
      "694:\tlearn: 5595.7712963\ttotal: 1m 53s\tremaining: 49.6s\n",
      "695:\tlearn: 5595.7694847\ttotal: 1m 53s\tremaining: 49.4s\n",
      "696:\tlearn: 5595.7677884\ttotal: 1m 53s\tremaining: 49.3s\n",
      "697:\tlearn: 5595.7609145\ttotal: 1m 53s\tremaining: 49.1s\n",
      "698:\tlearn: 5595.7577462\ttotal: 1m 53s\tremaining: 48.9s\n",
      "699:\tlearn: 5595.7527301\ttotal: 1m 53s\tremaining: 48.7s\n",
      "700:\tlearn: 5595.7501306\ttotal: 1m 53s\tremaining: 48.5s\n",
      "701:\tlearn: 5595.7415071\ttotal: 1m 53s\tremaining: 48.4s\n",
      "702:\tlearn: 5595.7390034\ttotal: 1m 54s\tremaining: 48.2s\n",
      "703:\tlearn: 5595.7121457\ttotal: 1m 54s\tremaining: 48s\n",
      "704:\tlearn: 5595.6957942\ttotal: 1m 54s\tremaining: 47.9s\n",
      "705:\tlearn: 5595.6927937\ttotal: 1m 54s\tremaining: 47.7s\n",
      "706:\tlearn: 5595.6867873\ttotal: 1m 54s\tremaining: 47.5s\n",
      "707:\tlearn: 5595.6813276\ttotal: 1m 54s\tremaining: 47.3s\n",
      "708:\tlearn: 5595.6797864\ttotal: 1m 54s\tremaining: 47.2s\n",
      "709:\tlearn: 5595.6777275\ttotal: 1m 55s\tremaining: 47s\n",
      "710:\tlearn: 5595.6657330\ttotal: 1m 55s\tremaining: 46.8s\n",
      "711:\tlearn: 5595.6583906\ttotal: 1m 55s\tremaining: 46.7s\n",
      "712:\tlearn: 5595.6491991\ttotal: 1m 55s\tremaining: 46.5s\n",
      "713:\tlearn: 5595.6450633\ttotal: 1m 55s\tremaining: 46.4s\n",
      "714:\tlearn: 5595.6247948\ttotal: 1m 56s\tremaining: 46.3s\n",
      "715:\tlearn: 5595.6202299\ttotal: 1m 56s\tremaining: 46.1s\n",
      "716:\tlearn: 5595.6127401\ttotal: 1m 56s\tremaining: 46s\n",
      "717:\tlearn: 5595.5567685\ttotal: 1m 56s\tremaining: 45.9s\n",
      "718:\tlearn: 5595.5534632\ttotal: 1m 57s\tremaining: 45.9s\n",
      "719:\tlearn: 5595.5477719\ttotal: 1m 57s\tremaining: 45.8s\n",
      "720:\tlearn: 5595.5454762\ttotal: 1m 58s\tremaining: 45.8s\n",
      "721:\tlearn: 5595.5399221\ttotal: 1m 58s\tremaining: 45.6s\n",
      "722:\tlearn: 5595.5339323\ttotal: 1m 58s\tremaining: 45.5s\n",
      "723:\tlearn: 5595.5290986\ttotal: 1m 58s\tremaining: 45.3s\n",
      "724:\tlearn: 5595.5237605\ttotal: 1m 59s\tremaining: 45.1s\n",
      "725:\tlearn: 5595.5201483\ttotal: 1m 59s\tremaining: 45s\n",
      "726:\tlearn: 5595.5189142\ttotal: 1m 59s\tremaining: 44.8s\n",
      "727:\tlearn: 5595.5159141\ttotal: 1m 59s\tremaining: 44.7s\n",
      "728:\tlearn: 5595.5105042\ttotal: 1m 59s\tremaining: 44.5s\n",
      "729:\tlearn: 5595.5070787\ttotal: 2m\tremaining: 44.4s\n",
      "730:\tlearn: 5595.4992548\ttotal: 2m\tremaining: 44.2s\n",
      "731:\tlearn: 5595.4927183\ttotal: 2m\tremaining: 44s\n",
      "732:\tlearn: 5595.4900549\ttotal: 2m\tremaining: 43.9s\n",
      "733:\tlearn: 5595.4880899\ttotal: 2m\tremaining: 43.7s\n",
      "734:\tlearn: 5595.4830431\ttotal: 2m\tremaining: 43.5s\n",
      "735:\tlearn: 5595.4794292\ttotal: 2m\tremaining: 43.4s\n",
      "736:\tlearn: 5595.4501261\ttotal: 2m 1s\tremaining: 43.2s\n",
      "737:\tlearn: 5595.4445227\ttotal: 2m 1s\tremaining: 43s\n",
      "738:\tlearn: 5595.4385184\ttotal: 2m 1s\tremaining: 42.9s\n"
     ]
    },
    {
     "name": "stdout",
     "output_type": "stream",
     "text": [
      "739:\tlearn: 5595.4334492\ttotal: 2m 1s\tremaining: 42.7s\n",
      "740:\tlearn: 5595.4291738\ttotal: 2m 1s\tremaining: 42.5s\n",
      "741:\tlearn: 5595.4239265\ttotal: 2m 1s\tremaining: 42.4s\n",
      "742:\tlearn: 5595.4200863\ttotal: 2m 2s\tremaining: 42.2s\n",
      "743:\tlearn: 5595.4062148\ttotal: 2m 2s\tremaining: 42s\n",
      "744:\tlearn: 5595.4007393\ttotal: 2m 2s\tremaining: 41.9s\n",
      "745:\tlearn: 5595.3994553\ttotal: 2m 2s\tremaining: 41.7s\n",
      "746:\tlearn: 5595.3860216\ttotal: 2m 2s\tremaining: 41.5s\n",
      "747:\tlearn: 5595.3844539\ttotal: 2m 2s\tremaining: 41.3s\n",
      "748:\tlearn: 5595.3786062\ttotal: 2m 2s\tremaining: 41.2s\n",
      "749:\tlearn: 5595.3765016\ttotal: 2m 3s\tremaining: 41s\n",
      "750:\tlearn: 5595.3746599\ttotal: 2m 3s\tremaining: 40.8s\n",
      "751:\tlearn: 5595.3702462\ttotal: 2m 3s\tremaining: 40.7s\n",
      "752:\tlearn: 5595.3663260\ttotal: 2m 3s\tremaining: 40.5s\n",
      "753:\tlearn: 5595.3636130\ttotal: 2m 3s\tremaining: 40.3s\n",
      "754:\tlearn: 5595.3290058\ttotal: 2m 3s\tremaining: 40.2s\n",
      "755:\tlearn: 5595.3273360\ttotal: 2m 3s\tremaining: 40s\n",
      "756:\tlearn: 5595.3248982\ttotal: 2m 4s\tremaining: 39.8s\n",
      "757:\tlearn: 5595.3178837\ttotal: 2m 4s\tremaining: 39.6s\n",
      "758:\tlearn: 5595.3133131\ttotal: 2m 4s\tremaining: 39.5s\n",
      "759:\tlearn: 5595.3108454\ttotal: 2m 4s\tremaining: 39.3s\n",
      "760:\tlearn: 5595.3043908\ttotal: 2m 4s\tremaining: 39.1s\n",
      "761:\tlearn: 5595.2987450\ttotal: 2m 4s\tremaining: 39s\n",
      "762:\tlearn: 5595.2935773\ttotal: 2m 4s\tremaining: 38.8s\n",
      "763:\tlearn: 5595.2929333\ttotal: 2m 5s\tremaining: 38.6s\n",
      "764:\tlearn: 5595.2895699\ttotal: 2m 5s\tremaining: 38.4s\n",
      "765:\tlearn: 5595.2867750\ttotal: 2m 5s\tremaining: 38.3s\n",
      "766:\tlearn: 5595.2844445\ttotal: 2m 5s\tremaining: 38.1s\n",
      "767:\tlearn: 5595.2803111\ttotal: 2m 5s\tremaining: 37.9s\n",
      "768:\tlearn: 5595.2784687\ttotal: 2m 5s\tremaining: 37.8s\n",
      "769:\tlearn: 5595.2696687\ttotal: 2m 5s\tremaining: 37.6s\n",
      "770:\tlearn: 5595.2576076\ttotal: 2m 5s\tremaining: 37.4s\n",
      "771:\tlearn: 5595.2538235\ttotal: 2m 6s\tremaining: 37.2s\n",
      "772:\tlearn: 5595.2463302\ttotal: 2m 6s\tremaining: 37.1s\n",
      "773:\tlearn: 5595.2453324\ttotal: 2m 6s\tremaining: 36.9s\n",
      "774:\tlearn: 5595.2396662\ttotal: 2m 6s\tremaining: 36.7s\n",
      "775:\tlearn: 5595.2349951\ttotal: 2m 6s\tremaining: 36.6s\n",
      "776:\tlearn: 5595.2185839\ttotal: 2m 6s\tremaining: 36.4s\n",
      "777:\tlearn: 5595.2142980\ttotal: 2m 6s\tremaining: 36.2s\n",
      "778:\tlearn: 5595.2110776\ttotal: 2m 7s\tremaining: 36s\n",
      "779:\tlearn: 5595.2017476\ttotal: 2m 7s\tremaining: 35.9s\n",
      "780:\tlearn: 5595.1973173\ttotal: 2m 7s\tremaining: 35.7s\n",
      "781:\tlearn: 5595.1929530\ttotal: 2m 7s\tremaining: 35.5s\n",
      "782:\tlearn: 5595.1891745\ttotal: 2m 7s\tremaining: 35.4s\n",
      "783:\tlearn: 5595.1856675\ttotal: 2m 7s\tremaining: 35.2s\n",
      "784:\tlearn: 5595.1804499\ttotal: 2m 7s\tremaining: 35s\n",
      "785:\tlearn: 5595.1773608\ttotal: 2m 8s\tremaining: 34.9s\n",
      "786:\tlearn: 5595.1761485\ttotal: 2m 8s\tremaining: 34.7s\n",
      "787:\tlearn: 5595.1712553\ttotal: 2m 8s\tremaining: 34.5s\n",
      "788:\tlearn: 5595.1701690\ttotal: 2m 8s\tremaining: 34.4s\n",
      "789:\tlearn: 5595.1671732\ttotal: 2m 8s\tremaining: 34.2s\n",
      "790:\tlearn: 5595.1645417\ttotal: 2m 8s\tremaining: 34s\n",
      "791:\tlearn: 5595.1598394\ttotal: 2m 8s\tremaining: 33.8s\n",
      "792:\tlearn: 5595.1573422\ttotal: 2m 9s\tremaining: 33.7s\n",
      "793:\tlearn: 5595.1547749\ttotal: 2m 9s\tremaining: 33.5s\n",
      "794:\tlearn: 5595.1521761\ttotal: 2m 9s\tremaining: 33.3s\n",
      "795:\tlearn: 5595.1414045\ttotal: 2m 9s\tremaining: 33.2s\n",
      "796:\tlearn: 5595.1399674\ttotal: 2m 9s\tremaining: 33s\n",
      "797:\tlearn: 5595.1122219\ttotal: 2m 9s\tremaining: 32.8s\n",
      "798:\tlearn: 5595.1056824\ttotal: 2m 9s\tremaining: 32.7s\n",
      "799:\tlearn: 5595.1000938\ttotal: 2m 9s\tremaining: 32.5s\n",
      "800:\tlearn: 5595.0959536\ttotal: 2m 10s\tremaining: 32.3s\n",
      "801:\tlearn: 5595.0912545\ttotal: 2m 10s\tremaining: 32.2s\n",
      "802:\tlearn: 5595.0815090\ttotal: 2m 10s\tremaining: 32s\n",
      "803:\tlearn: 5595.0758527\ttotal: 2m 10s\tremaining: 31.8s\n",
      "804:\tlearn: 5595.0697488\ttotal: 2m 10s\tremaining: 31.6s\n",
      "805:\tlearn: 5595.0597365\ttotal: 2m 10s\tremaining: 31.5s\n",
      "806:\tlearn: 5595.0584664\ttotal: 2m 10s\tremaining: 31.3s\n",
      "807:\tlearn: 5595.0549660\ttotal: 2m 11s\tremaining: 31.1s\n",
      "808:\tlearn: 5595.0486620\ttotal: 2m 11s\tremaining: 31s\n",
      "809:\tlearn: 5595.0472285\ttotal: 2m 11s\tremaining: 30.8s\n",
      "810:\tlearn: 5595.0452449\ttotal: 2m 11s\tremaining: 30.7s\n",
      "811:\tlearn: 5595.0351453\ttotal: 2m 11s\tremaining: 30.5s\n",
      "812:\tlearn: 5595.0308971\ttotal: 2m 12s\tremaining: 30.4s\n",
      "813:\tlearn: 5595.0269498\ttotal: 2m 12s\tremaining: 30.2s\n",
      "814:\tlearn: 5595.0254565\ttotal: 2m 12s\tremaining: 30s\n",
      "815:\tlearn: 5595.0227733\ttotal: 2m 12s\tremaining: 29.9s\n",
      "816:\tlearn: 5595.0215062\ttotal: 2m 12s\tremaining: 29.7s\n",
      "817:\tlearn: 5595.0205328\ttotal: 2m 12s\tremaining: 29.6s\n",
      "818:\tlearn: 5595.0199215\ttotal: 2m 13s\tremaining: 29.4s\n",
      "819:\tlearn: 5595.0170131\ttotal: 2m 13s\tremaining: 29.2s\n",
      "820:\tlearn: 5595.0086527\ttotal: 2m 13s\tremaining: 29.1s\n",
      "821:\tlearn: 5595.0052653\ttotal: 2m 13s\tremaining: 28.9s\n",
      "822:\tlearn: 5595.0006671\ttotal: 2m 13s\tremaining: 28.8s\n",
      "823:\tlearn: 5594.9974884\ttotal: 2m 13s\tremaining: 28.6s\n",
      "824:\tlearn: 5594.9933822\ttotal: 2m 13s\tremaining: 28.4s\n",
      "825:\tlearn: 5594.9883915\ttotal: 2m 14s\tremaining: 28.3s\n",
      "826:\tlearn: 5594.9837325\ttotal: 2m 14s\tremaining: 28.1s\n",
      "827:\tlearn: 5594.9806306\ttotal: 2m 14s\tremaining: 28s\n",
      "828:\tlearn: 5594.9739332\ttotal: 2m 14s\tremaining: 27.8s\n",
      "829:\tlearn: 5594.9710076\ttotal: 2m 15s\tremaining: 27.7s\n",
      "830:\tlearn: 5594.9668441\ttotal: 2m 15s\tremaining: 27.5s\n",
      "831:\tlearn: 5594.9630395\ttotal: 2m 15s\tremaining: 27.4s\n",
      "832:\tlearn: 5594.9591087\ttotal: 2m 15s\tremaining: 27.2s\n",
      "833:\tlearn: 5594.9483798\ttotal: 2m 15s\tremaining: 27.1s\n",
      "834:\tlearn: 5594.9480270\ttotal: 2m 16s\tremaining: 26.9s\n",
      "835:\tlearn: 5594.9410242\ttotal: 2m 16s\tremaining: 26.7s\n",
      "836:\tlearn: 5594.9398745\ttotal: 2m 16s\tremaining: 26.6s\n",
      "837:\tlearn: 5594.9348830\ttotal: 2m 16s\tremaining: 26.4s\n",
      "838:\tlearn: 5594.9326562\ttotal: 2m 16s\tremaining: 26.2s\n",
      "839:\tlearn: 5594.9080501\ttotal: 2m 16s\tremaining: 26s\n",
      "840:\tlearn: 5594.9027244\ttotal: 2m 16s\tremaining: 25.9s\n",
      "841:\tlearn: 5594.8800246\ttotal: 2m 17s\tremaining: 25.7s\n",
      "842:\tlearn: 5594.8786164\ttotal: 2m 17s\tremaining: 25.5s\n",
      "843:\tlearn: 5594.8751789\ttotal: 2m 17s\tremaining: 25.4s\n",
      "844:\tlearn: 5594.8724943\ttotal: 2m 17s\tremaining: 25.2s\n",
      "845:\tlearn: 5594.8515267\ttotal: 2m 17s\tremaining: 25.1s\n",
      "846:\tlearn: 5594.8452672\ttotal: 2m 17s\tremaining: 24.9s\n",
      "847:\tlearn: 5594.8258674\ttotal: 2m 18s\tremaining: 24.7s\n",
      "848:\tlearn: 5594.8226312\ttotal: 2m 18s\tremaining: 24.6s\n",
      "849:\tlearn: 5594.8046610\ttotal: 2m 18s\tremaining: 24.4s\n",
      "850:\tlearn: 5594.8029814\ttotal: 2m 18s\tremaining: 24.2s\n",
      "851:\tlearn: 5594.7857253\ttotal: 2m 18s\tremaining: 24.1s\n",
      "852:\tlearn: 5594.7702452\ttotal: 2m 18s\tremaining: 23.9s\n",
      "853:\tlearn: 5594.7652966\ttotal: 2m 18s\tremaining: 23.7s\n",
      "854:\tlearn: 5594.7509250\ttotal: 2m 19s\tremaining: 23.6s\n",
      "855:\tlearn: 5594.7371072\ttotal: 2m 19s\tremaining: 23.4s\n",
      "856:\tlearn: 5594.7348186\ttotal: 2m 19s\tremaining: 23.3s\n",
      "857:\tlearn: 5594.7223929\ttotal: 2m 19s\tremaining: 23.1s\n",
      "858:\tlearn: 5594.7108417\ttotal: 2m 20s\tremaining: 23s\n",
      "859:\tlearn: 5594.7093077\ttotal: 2m 20s\tremaining: 22.8s\n",
      "860:\tlearn: 5594.6981954\ttotal: 2m 20s\tremaining: 22.6s\n",
      "861:\tlearn: 5594.6879249\ttotal: 2m 20s\tremaining: 22.5s\n",
      "862:\tlearn: 5594.6785912\ttotal: 2m 20s\tremaining: 22.3s\n",
      "863:\tlearn: 5594.6697113\ttotal: 2m 20s\tremaining: 22.1s\n",
      "864:\tlearn: 5594.6616108\ttotal: 2m 20s\tremaining: 22s\n",
      "865:\tlearn: 5594.6540735\ttotal: 2m 20s\tremaining: 21.8s\n",
      "866:\tlearn: 5594.6468904\ttotal: 2m 21s\tremaining: 21.6s\n",
      "867:\tlearn: 5594.6402332\ttotal: 2m 21s\tremaining: 21.5s\n",
      "868:\tlearn: 5594.6341197\ttotal: 2m 21s\tremaining: 21.3s\n",
      "869:\tlearn: 5594.6283471\ttotal: 2m 21s\tremaining: 21.1s\n",
      "870:\tlearn: 5594.6230340\ttotal: 2m 21s\tremaining: 21s\n",
      "871:\tlearn: 5594.6180896\ttotal: 2m 21s\tremaining: 20.8s\n",
      "872:\tlearn: 5594.6134865\ttotal: 2m 21s\tremaining: 20.6s\n",
      "873:\tlearn: 5594.6099165\ttotal: 2m 21s\tremaining: 20.5s\n",
      "874:\tlearn: 5594.6056299\ttotal: 2m 22s\tremaining: 20.3s\n",
      "875:\tlearn: 5594.6015359\ttotal: 2m 22s\tremaining: 20.1s\n",
      "876:\tlearn: 5594.5978071\ttotal: 2m 22s\tremaining: 20s\n",
      "877:\tlearn: 5594.5952012\ttotal: 2m 22s\tremaining: 19.8s\n",
      "878:\tlearn: 5594.5923569\ttotal: 2m 22s\tremaining: 19.6s\n",
      "879:\tlearn: 5594.5888078\ttotal: 2m 22s\tremaining: 19.5s\n",
      "880:\tlearn: 5594.5855157\ttotal: 2m 22s\tremaining: 19.3s\n",
      "881:\tlearn: 5594.5824588\ttotal: 2m 23s\tremaining: 19.1s\n",
      "882:\tlearn: 5594.5758843\ttotal: 2m 23s\tremaining: 19s\n",
      "883:\tlearn: 5594.5730434\ttotal: 2m 23s\tremaining: 18.8s\n",
      "884:\tlearn: 5594.5695100\ttotal: 2m 23s\tremaining: 18.6s\n",
      "885:\tlearn: 5594.5642753\ttotal: 2m 23s\tremaining: 18.5s\n",
      "886:\tlearn: 5594.5588091\ttotal: 2m 23s\tremaining: 18.3s\n",
      "887:\tlearn: 5594.5529730\ttotal: 2m 23s\tremaining: 18.1s\n"
     ]
    },
    {
     "name": "stdout",
     "output_type": "stream",
     "text": [
      "888:\tlearn: 5594.5452935\ttotal: 2m 23s\tremaining: 18s\n",
      "889:\tlearn: 5594.5426502\ttotal: 2m 24s\tremaining: 17.8s\n",
      "890:\tlearn: 5594.5400011\ttotal: 2m 24s\tremaining: 17.6s\n",
      "891:\tlearn: 5594.5382421\ttotal: 2m 24s\tremaining: 17.5s\n",
      "892:\tlearn: 5594.5326470\ttotal: 2m 24s\tremaining: 17.3s\n",
      "893:\tlearn: 5594.5274992\ttotal: 2m 24s\tremaining: 17.1s\n",
      "894:\tlearn: 5594.5261250\ttotal: 2m 24s\tremaining: 17s\n",
      "895:\tlearn: 5594.5191298\ttotal: 2m 24s\tremaining: 16.8s\n",
      "896:\tlearn: 5594.5167453\ttotal: 2m 24s\tremaining: 16.6s\n",
      "897:\tlearn: 5594.5130437\ttotal: 2m 25s\tremaining: 16.5s\n",
      "898:\tlearn: 5594.5106069\ttotal: 2m 25s\tremaining: 16.3s\n",
      "899:\tlearn: 5594.5057258\ttotal: 2m 25s\tremaining: 16.1s\n",
      "900:\tlearn: 5594.5035077\ttotal: 2m 25s\tremaining: 16s\n",
      "901:\tlearn: 5594.5005191\ttotal: 2m 25s\tremaining: 15.8s\n",
      "902:\tlearn: 5594.4992173\ttotal: 2m 25s\tremaining: 15.7s\n",
      "903:\tlearn: 5594.4928564\ttotal: 2m 25s\tremaining: 15.5s\n",
      "904:\tlearn: 5594.4858448\ttotal: 2m 25s\tremaining: 15.3s\n",
      "905:\tlearn: 5594.4831637\ttotal: 2m 26s\tremaining: 15.2s\n",
      "906:\tlearn: 5594.4801949\ttotal: 2m 26s\tremaining: 15s\n",
      "907:\tlearn: 5594.4747587\ttotal: 2m 26s\tremaining: 14.8s\n",
      "908:\tlearn: 5594.4708843\ttotal: 2m 26s\tremaining: 14.7s\n",
      "909:\tlearn: 5594.4678665\ttotal: 2m 26s\tremaining: 14.5s\n",
      "910:\tlearn: 5594.4667143\ttotal: 2m 26s\tremaining: 14.3s\n",
      "911:\tlearn: 5594.4636353\ttotal: 2m 26s\tremaining: 14.2s\n",
      "912:\tlearn: 5594.4602078\ttotal: 2m 26s\tremaining: 14s\n",
      "913:\tlearn: 5594.4568997\ttotal: 2m 27s\tremaining: 13.8s\n",
      "914:\tlearn: 5594.4537318\ttotal: 2m 27s\tremaining: 13.7s\n",
      "915:\tlearn: 5594.4523392\ttotal: 2m 27s\tremaining: 13.5s\n",
      "916:\tlearn: 5594.4483002\ttotal: 2m 27s\tremaining: 13.3s\n",
      "917:\tlearn: 5594.4396451\ttotal: 2m 27s\tremaining: 13.2s\n",
      "918:\tlearn: 5594.4342843\ttotal: 2m 27s\tremaining: 13s\n",
      "919:\tlearn: 5594.4304642\ttotal: 2m 27s\tremaining: 12.9s\n",
      "920:\tlearn: 5594.4257901\ttotal: 2m 28s\tremaining: 12.7s\n",
      "921:\tlearn: 5594.4228783\ttotal: 2m 28s\tremaining: 12.5s\n",
      "922:\tlearn: 5594.4207746\ttotal: 2m 28s\tremaining: 12.4s\n",
      "923:\tlearn: 5594.4161293\ttotal: 2m 28s\tremaining: 12.2s\n",
      "924:\tlearn: 5594.4151283\ttotal: 2m 28s\tremaining: 12s\n",
      "925:\tlearn: 5594.4051539\ttotal: 2m 28s\tremaining: 11.9s\n",
      "926:\tlearn: 5594.4016473\ttotal: 2m 28s\tremaining: 11.7s\n",
      "927:\tlearn: 5594.3971240\ttotal: 2m 28s\tremaining: 11.6s\n",
      "928:\tlearn: 5594.3944949\ttotal: 2m 29s\tremaining: 11.4s\n",
      "929:\tlearn: 5594.3909902\ttotal: 2m 29s\tremaining: 11.2s\n",
      "930:\tlearn: 5594.3872187\ttotal: 2m 29s\tremaining: 11.1s\n",
      "931:\tlearn: 5594.3828189\ttotal: 2m 29s\tremaining: 10.9s\n",
      "932:\tlearn: 5594.3815873\ttotal: 2m 29s\tremaining: 10.7s\n",
      "933:\tlearn: 5594.3704837\ttotal: 2m 29s\tremaining: 10.6s\n",
      "934:\tlearn: 5594.3655264\ttotal: 2m 29s\tremaining: 10.4s\n",
      "935:\tlearn: 5594.3638605\ttotal: 2m 30s\tremaining: 10.3s\n",
      "936:\tlearn: 5594.3574434\ttotal: 2m 30s\tremaining: 10.1s\n",
      "937:\tlearn: 5594.3527449\ttotal: 2m 30s\tremaining: 9.93s\n",
      "938:\tlearn: 5594.3484787\ttotal: 2m 30s\tremaining: 9.77s\n",
      "939:\tlearn: 5594.3448721\ttotal: 2m 30s\tremaining: 9.61s\n",
      "940:\tlearn: 5594.3439350\ttotal: 2m 30s\tremaining: 9.45s\n",
      "941:\tlearn: 5594.3417886\ttotal: 2m 30s\tremaining: 9.29s\n",
      "942:\tlearn: 5594.3377963\ttotal: 2m 30s\tremaining: 9.13s\n",
      "943:\tlearn: 5594.3325943\ttotal: 2m 31s\tremaining: 8.96s\n",
      "944:\tlearn: 5594.3250821\ttotal: 2m 31s\tremaining: 8.8s\n",
      "945:\tlearn: 5594.3212740\ttotal: 2m 31s\tremaining: 8.64s\n",
      "946:\tlearn: 5594.3161487\ttotal: 2m 31s\tremaining: 8.48s\n",
      "947:\tlearn: 5594.3120488\ttotal: 2m 31s\tremaining: 8.32s\n",
      "948:\tlearn: 5594.3093799\ttotal: 2m 31s\tremaining: 8.16s\n",
      "949:\tlearn: 5594.3068490\ttotal: 2m 31s\tremaining: 8s\n",
      "950:\tlearn: 5594.3032436\ttotal: 2m 32s\tremaining: 7.83s\n",
      "951:\tlearn: 5594.2938781\ttotal: 2m 32s\tremaining: 7.67s\n",
      "952:\tlearn: 5594.2915497\ttotal: 2m 32s\tremaining: 7.51s\n",
      "953:\tlearn: 5594.2883232\ttotal: 2m 32s\tremaining: 7.35s\n",
      "954:\tlearn: 5594.2788466\ttotal: 2m 32s\tremaining: 7.19s\n",
      "955:\tlearn: 5594.2754198\ttotal: 2m 32s\tremaining: 7.03s\n",
      "956:\tlearn: 5594.2688359\ttotal: 2m 32s\tremaining: 6.87s\n",
      "957:\tlearn: 5594.2657200\ttotal: 2m 33s\tremaining: 6.71s\n",
      "958:\tlearn: 5594.2617717\ttotal: 2m 33s\tremaining: 6.55s\n",
      "959:\tlearn: 5594.2573279\ttotal: 2m 33s\tremaining: 6.38s\n",
      "960:\tlearn: 5594.2559556\ttotal: 2m 33s\tremaining: 6.22s\n",
      "961:\tlearn: 5594.2508688\ttotal: 2m 33s\tremaining: 6.06s\n",
      "962:\tlearn: 5594.2433971\ttotal: 2m 33s\tremaining: 5.9s\n",
      "963:\tlearn: 5594.2383519\ttotal: 2m 33s\tremaining: 5.74s\n",
      "964:\tlearn: 5594.2371665\ttotal: 2m 33s\tremaining: 5.58s\n",
      "965:\tlearn: 5594.2307450\ttotal: 2m 34s\tremaining: 5.42s\n",
      "966:\tlearn: 5594.2302935\ttotal: 2m 34s\tremaining: 5.26s\n",
      "967:\tlearn: 5594.2265135\ttotal: 2m 34s\tremaining: 5.1s\n",
      "968:\tlearn: 5594.2226474\ttotal: 2m 34s\tremaining: 4.95s\n",
      "969:\tlearn: 5594.2199334\ttotal: 2m 34s\tremaining: 4.79s\n",
      "970:\tlearn: 5594.2144126\ttotal: 2m 34s\tremaining: 4.63s\n",
      "971:\tlearn: 5594.2118292\ttotal: 2m 35s\tremaining: 4.47s\n",
      "972:\tlearn: 5594.2072738\ttotal: 2m 35s\tremaining: 4.32s\n",
      "973:\tlearn: 5594.2057346\ttotal: 2m 35s\tremaining: 4.16s\n",
      "974:\tlearn: 5594.1966896\ttotal: 2m 35s\tremaining: 4s\n",
      "975:\tlearn: 5594.1928293\ttotal: 2m 36s\tremaining: 3.84s\n",
      "976:\tlearn: 5594.1893384\ttotal: 2m 36s\tremaining: 3.68s\n",
      "977:\tlearn: 5594.1869063\ttotal: 2m 36s\tremaining: 3.52s\n",
      "978:\tlearn: 5594.1820816\ttotal: 2m 36s\tremaining: 3.36s\n",
      "979:\tlearn: 5594.1778132\ttotal: 2m 36s\tremaining: 3.2s\n",
      "980:\tlearn: 5594.1738529\ttotal: 2m 36s\tremaining: 3.04s\n",
      "981:\tlearn: 5594.1700108\ttotal: 2m 36s\tremaining: 2.88s\n",
      "982:\tlearn: 5594.1662170\ttotal: 2m 37s\tremaining: 2.72s\n",
      "983:\tlearn: 5594.1646845\ttotal: 2m 37s\tremaining: 2.56s\n",
      "984:\tlearn: 5594.1620254\ttotal: 2m 37s\tremaining: 2.4s\n",
      "985:\tlearn: 5594.1611759\ttotal: 2m 37s\tremaining: 2.24s\n",
      "986:\tlearn: 5594.1592250\ttotal: 2m 37s\tremaining: 2.08s\n",
      "987:\tlearn: 5594.1586168\ttotal: 2m 37s\tremaining: 1.92s\n",
      "988:\tlearn: 5594.1553880\ttotal: 2m 37s\tremaining: 1.76s\n",
      "989:\tlearn: 5594.1517474\ttotal: 2m 38s\tremaining: 1.6s\n",
      "990:\tlearn: 5594.1481690\ttotal: 2m 38s\tremaining: 1.44s\n",
      "991:\tlearn: 5594.1461154\ttotal: 2m 38s\tremaining: 1.28s\n",
      "992:\tlearn: 5594.1417929\ttotal: 2m 38s\tremaining: 1.12s\n",
      "993:\tlearn: 5594.1392890\ttotal: 2m 38s\tremaining: 959ms\n",
      "994:\tlearn: 5594.1357325\ttotal: 2m 39s\tremaining: 799ms\n",
      "995:\tlearn: 5594.1330847\ttotal: 2m 39s\tremaining: 639ms\n",
      "996:\tlearn: 5594.1282905\ttotal: 2m 39s\tremaining: 480ms\n",
      "997:\tlearn: 5594.1238456\ttotal: 2m 39s\tremaining: 320ms\n",
      "998:\tlearn: 5594.1217969\ttotal: 2m 39s\tremaining: 160ms\n"
     ]
    },
    {
     "name": "stderr",
     "output_type": "stream",
     "text": [
      "\r",
      " 80%|███████████████████████████████████████████████████████████████████▏                | 4/5 [03:03<01:09, 69.31s/it]"
     ]
    },
    {
     "name": "stdout",
     "output_type": "stream",
     "text": [
      "999:\tlearn: 5594.1189508\ttotal: 2m 39s\tremaining: 0us\n"
     ]
    },
    {
     "name": "stderr",
     "output_type": "stream",
     "text": [
      "100%|████████████████████████████████████████████████████████████████████████████████████| 5/5 [03:11<00:00, 38.38s/it]\n",
      "100%|████████████████████████████████████████████████████████████████████████████████████| 5/5 [00:02<00:00,  2.02it/s]\n"
     ]
    }
   ],
   "source": [
    "final_predict=modeling(models,df = data, target = train['target'], test_data = test_data)"
   ]
  },
  {
   "cell_type": "code",
   "execution_count": 73,
   "metadata": {},
   "outputs": [
    {
     "data": {
      "text/plain": [
       "array([ 704.89594,  704.89594,  460.74182, ..., 1181.516  , 1185.381  ,\n",
       "       6361.561  ], dtype=float32)"
      ]
     },
     "execution_count": 73,
     "metadata": {},
     "output_type": "execute_result"
    }
   ],
   "source": [
    "final_predict"
   ]
  },
  {
   "cell_type": "code",
   "execution_count": 74,
   "metadata": {},
   "outputs": [],
   "source": [
    "submission['trip_duration'] = final_predict"
   ]
  },
  {
   "cell_type": "code",
   "execution_count": 75,
   "metadata": {},
   "outputs": [],
   "source": [
    "submission.to_csv(\"submission\", index_label=False, index = False)"
   ]
  },
  {
   "cell_type": "code",
   "execution_count": 76,
   "metadata": {
    "scrolled": false
   },
   "outputs": [
    {
     "data": {
      "text/html": [
       "<div>\n",
       "<style scoped>\n",
       "    .dataframe tbody tr th:only-of-type {\n",
       "        vertical-align: middle;\n",
       "    }\n",
       "\n",
       "    .dataframe tbody tr th {\n",
       "        vertical-align: top;\n",
       "    }\n",
       "\n",
       "    .dataframe thead th {\n",
       "        text-align: right;\n",
       "    }\n",
       "</style>\n",
       "<table border=\"1\" class=\"dataframe\">\n",
       "  <thead>\n",
       "    <tr style=\"text-align: right;\">\n",
       "      <th></th>\n",
       "      <th>id</th>\n",
       "      <th>trip_duration</th>\n",
       "    </tr>\n",
       "  </thead>\n",
       "  <tbody>\n",
       "    <tr>\n",
       "      <th>0</th>\n",
       "      <td>id3004672</td>\n",
       "      <td>704.895935</td>\n",
       "    </tr>\n",
       "    <tr>\n",
       "      <th>1</th>\n",
       "      <td>id3505355</td>\n",
       "      <td>704.895935</td>\n",
       "    </tr>\n",
       "    <tr>\n",
       "      <th>2</th>\n",
       "      <td>id1217141</td>\n",
       "      <td>460.741821</td>\n",
       "    </tr>\n",
       "    <tr>\n",
       "      <th>3</th>\n",
       "      <td>id2150126</td>\n",
       "      <td>1502.878174</td>\n",
       "    </tr>\n",
       "    <tr>\n",
       "      <th>4</th>\n",
       "      <td>id1598245</td>\n",
       "      <td>308.810394</td>\n",
       "    </tr>\n",
       "    <tr>\n",
       "      <th>...</th>\n",
       "      <td>...</td>\n",
       "      <td>...</td>\n",
       "    </tr>\n",
       "    <tr>\n",
       "      <th>625129</th>\n",
       "      <td>id3008929</td>\n",
       "      <td>238.385513</td>\n",
       "    </tr>\n",
       "    <tr>\n",
       "      <th>625130</th>\n",
       "      <td>id3700764</td>\n",
       "      <td>1185.380981</td>\n",
       "    </tr>\n",
       "    <tr>\n",
       "      <th>625131</th>\n",
       "      <td>id2568735</td>\n",
       "      <td>1181.515991</td>\n",
       "    </tr>\n",
       "    <tr>\n",
       "      <th>625132</th>\n",
       "      <td>id1384355</td>\n",
       "      <td>1185.380981</td>\n",
       "    </tr>\n",
       "    <tr>\n",
       "      <th>625133</th>\n",
       "      <td>id0621643</td>\n",
       "      <td>6361.561035</td>\n",
       "    </tr>\n",
       "  </tbody>\n",
       "</table>\n",
       "<p>625134 rows × 2 columns</p>\n",
       "</div>"
      ],
      "text/plain": [
       "               id  trip_duration\n",
       "0       id3004672     704.895935\n",
       "1       id3505355     704.895935\n",
       "2       id1217141     460.741821\n",
       "3       id2150126    1502.878174\n",
       "4       id1598245     308.810394\n",
       "...           ...            ...\n",
       "625129  id3008929     238.385513\n",
       "625130  id3700764    1185.380981\n",
       "625131  id2568735    1181.515991\n",
       "625132  id1384355    1185.380981\n",
       "625133  id0621643    6361.561035\n",
       "\n",
       "[625134 rows x 2 columns]"
      ]
     },
     "execution_count": 76,
     "metadata": {},
     "output_type": "execute_result"
    }
   ],
   "source": [
    "submission"
   ]
  },
  {
   "cell_type": "code",
   "execution_count": 83,
   "metadata": {},
   "outputs": [],
   "source": [
    "# Pycaret 라이브러리를 불러오기\n",
    "from pycaret.regression import *"
   ]
  },
  {
   "cell_type": "code",
   "execution_count": 89,
   "metadata": {},
   "outputs": [],
   "source": [
    "data['target'] = train['target']"
   ]
  },
  {
   "cell_type": "code",
   "execution_count": 90,
   "metadata": {},
   "outputs": [
    {
     "data": {
      "text/html": [
       "<style  type=\"text/css\" >\n",
       "</style><table id=\"T_2b7983c4_b774_11eb_8fea_d0c6373e7d34\" ><thead>    <tr>        <th class=\"blank level0\" ></th>        <th class=\"col_heading level0 col0\" >Description</th>        <th class=\"col_heading level0 col1\" >Value</th>    </tr></thead><tbody>\n",
       "                <tr>\n",
       "                        <th id=\"T_2b7983c4_b774_11eb_8fea_d0c6373e7d34level0_row0\" class=\"row_heading level0 row0\" >0</th>\n",
       "                        <td id=\"T_2b7983c4_b774_11eb_8fea_d0c6373e7d34row0_col0\" class=\"data row0 col0\" >session_id</td>\n",
       "                        <td id=\"T_2b7983c4_b774_11eb_8fea_d0c6373e7d34row0_col1\" class=\"data row0 col1\" >10</td>\n",
       "            </tr>\n",
       "            <tr>\n",
       "                        <th id=\"T_2b7983c4_b774_11eb_8fea_d0c6373e7d34level0_row1\" class=\"row_heading level0 row1\" >1</th>\n",
       "                        <td id=\"T_2b7983c4_b774_11eb_8fea_d0c6373e7d34row1_col0\" class=\"data row1 col0\" >Target</td>\n",
       "                        <td id=\"T_2b7983c4_b774_11eb_8fea_d0c6373e7d34row1_col1\" class=\"data row1 col1\" >target</td>\n",
       "            </tr>\n",
       "            <tr>\n",
       "                        <th id=\"T_2b7983c4_b774_11eb_8fea_d0c6373e7d34level0_row2\" class=\"row_heading level0 row2\" >2</th>\n",
       "                        <td id=\"T_2b7983c4_b774_11eb_8fea_d0c6373e7d34row2_col0\" class=\"data row2 col0\" >Original Data</td>\n",
       "                        <td id=\"T_2b7983c4_b774_11eb_8fea_d0c6373e7d34row2_col1\" class=\"data row2 col1\" >(1458640, 51)</td>\n",
       "            </tr>\n",
       "            <tr>\n",
       "                        <th id=\"T_2b7983c4_b774_11eb_8fea_d0c6373e7d34level0_row3\" class=\"row_heading level0 row3\" >3</th>\n",
       "                        <td id=\"T_2b7983c4_b774_11eb_8fea_d0c6373e7d34row3_col0\" class=\"data row3 col0\" >Missing Values</td>\n",
       "                        <td id=\"T_2b7983c4_b774_11eb_8fea_d0c6373e7d34row3_col1\" class=\"data row3 col1\" >False</td>\n",
       "            </tr>\n",
       "            <tr>\n",
       "                        <th id=\"T_2b7983c4_b774_11eb_8fea_d0c6373e7d34level0_row4\" class=\"row_heading level0 row4\" >4</th>\n",
       "                        <td id=\"T_2b7983c4_b774_11eb_8fea_d0c6373e7d34row4_col0\" class=\"data row4 col0\" >Numeric Features</td>\n",
       "                        <td id=\"T_2b7983c4_b774_11eb_8fea_d0c6373e7d34row4_col1\" class=\"data row4 col1\" >49</td>\n",
       "            </tr>\n",
       "            <tr>\n",
       "                        <th id=\"T_2b7983c4_b774_11eb_8fea_d0c6373e7d34level0_row5\" class=\"row_heading level0 row5\" >5</th>\n",
       "                        <td id=\"T_2b7983c4_b774_11eb_8fea_d0c6373e7d34row5_col0\" class=\"data row5 col0\" >Categorical Features</td>\n",
       "                        <td id=\"T_2b7983c4_b774_11eb_8fea_d0c6373e7d34row5_col1\" class=\"data row5 col1\" >1</td>\n",
       "            </tr>\n",
       "            <tr>\n",
       "                        <th id=\"T_2b7983c4_b774_11eb_8fea_d0c6373e7d34level0_row6\" class=\"row_heading level0 row6\" >6</th>\n",
       "                        <td id=\"T_2b7983c4_b774_11eb_8fea_d0c6373e7d34row6_col0\" class=\"data row6 col0\" >Ordinal Features</td>\n",
       "                        <td id=\"T_2b7983c4_b774_11eb_8fea_d0c6373e7d34row6_col1\" class=\"data row6 col1\" >False</td>\n",
       "            </tr>\n",
       "            <tr>\n",
       "                        <th id=\"T_2b7983c4_b774_11eb_8fea_d0c6373e7d34level0_row7\" class=\"row_heading level0 row7\" >7</th>\n",
       "                        <td id=\"T_2b7983c4_b774_11eb_8fea_d0c6373e7d34row7_col0\" class=\"data row7 col0\" >High Cardinality Features</td>\n",
       "                        <td id=\"T_2b7983c4_b774_11eb_8fea_d0c6373e7d34row7_col1\" class=\"data row7 col1\" >False</td>\n",
       "            </tr>\n",
       "            <tr>\n",
       "                        <th id=\"T_2b7983c4_b774_11eb_8fea_d0c6373e7d34level0_row8\" class=\"row_heading level0 row8\" >8</th>\n",
       "                        <td id=\"T_2b7983c4_b774_11eb_8fea_d0c6373e7d34row8_col0\" class=\"data row8 col0\" >High Cardinality Method</td>\n",
       "                        <td id=\"T_2b7983c4_b774_11eb_8fea_d0c6373e7d34row8_col1\" class=\"data row8 col1\" >None</td>\n",
       "            </tr>\n",
       "            <tr>\n",
       "                        <th id=\"T_2b7983c4_b774_11eb_8fea_d0c6373e7d34level0_row9\" class=\"row_heading level0 row9\" >9</th>\n",
       "                        <td id=\"T_2b7983c4_b774_11eb_8fea_d0c6373e7d34row9_col0\" class=\"data row9 col0\" >Transformed Train Set</td>\n",
       "                        <td id=\"T_2b7983c4_b774_11eb_8fea_d0c6373e7d34row9_col1\" class=\"data row9 col1\" >(1021047, 47)</td>\n",
       "            </tr>\n",
       "            <tr>\n",
       "                        <th id=\"T_2b7983c4_b774_11eb_8fea_d0c6373e7d34level0_row10\" class=\"row_heading level0 row10\" >10</th>\n",
       "                        <td id=\"T_2b7983c4_b774_11eb_8fea_d0c6373e7d34row10_col0\" class=\"data row10 col0\" >Transformed Test Set</td>\n",
       "                        <td id=\"T_2b7983c4_b774_11eb_8fea_d0c6373e7d34row10_col1\" class=\"data row10 col1\" >(437593, 47)</td>\n",
       "            </tr>\n",
       "            <tr>\n",
       "                        <th id=\"T_2b7983c4_b774_11eb_8fea_d0c6373e7d34level0_row11\" class=\"row_heading level0 row11\" >11</th>\n",
       "                        <td id=\"T_2b7983c4_b774_11eb_8fea_d0c6373e7d34row11_col0\" class=\"data row11 col0\" >Shuffle Train-Test</td>\n",
       "                        <td id=\"T_2b7983c4_b774_11eb_8fea_d0c6373e7d34row11_col1\" class=\"data row11 col1\" >True</td>\n",
       "            </tr>\n",
       "            <tr>\n",
       "                        <th id=\"T_2b7983c4_b774_11eb_8fea_d0c6373e7d34level0_row12\" class=\"row_heading level0 row12\" >12</th>\n",
       "                        <td id=\"T_2b7983c4_b774_11eb_8fea_d0c6373e7d34row12_col0\" class=\"data row12 col0\" >Stratify Train-Test</td>\n",
       "                        <td id=\"T_2b7983c4_b774_11eb_8fea_d0c6373e7d34row12_col1\" class=\"data row12 col1\" >False</td>\n",
       "            </tr>\n",
       "            <tr>\n",
       "                        <th id=\"T_2b7983c4_b774_11eb_8fea_d0c6373e7d34level0_row13\" class=\"row_heading level0 row13\" >13</th>\n",
       "                        <td id=\"T_2b7983c4_b774_11eb_8fea_d0c6373e7d34row13_col0\" class=\"data row13 col0\" >Fold Generator</td>\n",
       "                        <td id=\"T_2b7983c4_b774_11eb_8fea_d0c6373e7d34row13_col1\" class=\"data row13 col1\" >KFold</td>\n",
       "            </tr>\n",
       "            <tr>\n",
       "                        <th id=\"T_2b7983c4_b774_11eb_8fea_d0c6373e7d34level0_row14\" class=\"row_heading level0 row14\" >14</th>\n",
       "                        <td id=\"T_2b7983c4_b774_11eb_8fea_d0c6373e7d34row14_col0\" class=\"data row14 col0\" >Fold Number</td>\n",
       "                        <td id=\"T_2b7983c4_b774_11eb_8fea_d0c6373e7d34row14_col1\" class=\"data row14 col1\" >10</td>\n",
       "            </tr>\n",
       "            <tr>\n",
       "                        <th id=\"T_2b7983c4_b774_11eb_8fea_d0c6373e7d34level0_row15\" class=\"row_heading level0 row15\" >15</th>\n",
       "                        <td id=\"T_2b7983c4_b774_11eb_8fea_d0c6373e7d34row15_col0\" class=\"data row15 col0\" >CPU Jobs</td>\n",
       "                        <td id=\"T_2b7983c4_b774_11eb_8fea_d0c6373e7d34row15_col1\" class=\"data row15 col1\" >-1</td>\n",
       "            </tr>\n",
       "            <tr>\n",
       "                        <th id=\"T_2b7983c4_b774_11eb_8fea_d0c6373e7d34level0_row16\" class=\"row_heading level0 row16\" >16</th>\n",
       "                        <td id=\"T_2b7983c4_b774_11eb_8fea_d0c6373e7d34row16_col0\" class=\"data row16 col0\" >Use GPU</td>\n",
       "                        <td id=\"T_2b7983c4_b774_11eb_8fea_d0c6373e7d34row16_col1\" class=\"data row16 col1\" >False</td>\n",
       "            </tr>\n",
       "            <tr>\n",
       "                        <th id=\"T_2b7983c4_b774_11eb_8fea_d0c6373e7d34level0_row17\" class=\"row_heading level0 row17\" >17</th>\n",
       "                        <td id=\"T_2b7983c4_b774_11eb_8fea_d0c6373e7d34row17_col0\" class=\"data row17 col0\" >Log Experiment</td>\n",
       "                        <td id=\"T_2b7983c4_b774_11eb_8fea_d0c6373e7d34row17_col1\" class=\"data row17 col1\" >False</td>\n",
       "            </tr>\n",
       "            <tr>\n",
       "                        <th id=\"T_2b7983c4_b774_11eb_8fea_d0c6373e7d34level0_row18\" class=\"row_heading level0 row18\" >18</th>\n",
       "                        <td id=\"T_2b7983c4_b774_11eb_8fea_d0c6373e7d34row18_col0\" class=\"data row18 col0\" >Experiment Name</td>\n",
       "                        <td id=\"T_2b7983c4_b774_11eb_8fea_d0c6373e7d34row18_col1\" class=\"data row18 col1\" >reg-default-name</td>\n",
       "            </tr>\n",
       "            <tr>\n",
       "                        <th id=\"T_2b7983c4_b774_11eb_8fea_d0c6373e7d34level0_row19\" class=\"row_heading level0 row19\" >19</th>\n",
       "                        <td id=\"T_2b7983c4_b774_11eb_8fea_d0c6373e7d34row19_col0\" class=\"data row19 col0\" >USI</td>\n",
       "                        <td id=\"T_2b7983c4_b774_11eb_8fea_d0c6373e7d34row19_col1\" class=\"data row19 col1\" >9c65</td>\n",
       "            </tr>\n",
       "            <tr>\n",
       "                        <th id=\"T_2b7983c4_b774_11eb_8fea_d0c6373e7d34level0_row20\" class=\"row_heading level0 row20\" >20</th>\n",
       "                        <td id=\"T_2b7983c4_b774_11eb_8fea_d0c6373e7d34row20_col0\" class=\"data row20 col0\" >Imputation Type</td>\n",
       "                        <td id=\"T_2b7983c4_b774_11eb_8fea_d0c6373e7d34row20_col1\" class=\"data row20 col1\" >simple</td>\n",
       "            </tr>\n",
       "            <tr>\n",
       "                        <th id=\"T_2b7983c4_b774_11eb_8fea_d0c6373e7d34level0_row21\" class=\"row_heading level0 row21\" >21</th>\n",
       "                        <td id=\"T_2b7983c4_b774_11eb_8fea_d0c6373e7d34row21_col0\" class=\"data row21 col0\" >Iterative Imputation Iteration</td>\n",
       "                        <td id=\"T_2b7983c4_b774_11eb_8fea_d0c6373e7d34row21_col1\" class=\"data row21 col1\" >None</td>\n",
       "            </tr>\n",
       "            <tr>\n",
       "                        <th id=\"T_2b7983c4_b774_11eb_8fea_d0c6373e7d34level0_row22\" class=\"row_heading level0 row22\" >22</th>\n",
       "                        <td id=\"T_2b7983c4_b774_11eb_8fea_d0c6373e7d34row22_col0\" class=\"data row22 col0\" >Numeric Imputer</td>\n",
       "                        <td id=\"T_2b7983c4_b774_11eb_8fea_d0c6373e7d34row22_col1\" class=\"data row22 col1\" >mean</td>\n",
       "            </tr>\n",
       "            <tr>\n",
       "                        <th id=\"T_2b7983c4_b774_11eb_8fea_d0c6373e7d34level0_row23\" class=\"row_heading level0 row23\" >23</th>\n",
       "                        <td id=\"T_2b7983c4_b774_11eb_8fea_d0c6373e7d34row23_col0\" class=\"data row23 col0\" >Iterative Imputation Numeric Model</td>\n",
       "                        <td id=\"T_2b7983c4_b774_11eb_8fea_d0c6373e7d34row23_col1\" class=\"data row23 col1\" >None</td>\n",
       "            </tr>\n",
       "            <tr>\n",
       "                        <th id=\"T_2b7983c4_b774_11eb_8fea_d0c6373e7d34level0_row24\" class=\"row_heading level0 row24\" >24</th>\n",
       "                        <td id=\"T_2b7983c4_b774_11eb_8fea_d0c6373e7d34row24_col0\" class=\"data row24 col0\" >Categorical Imputer</td>\n",
       "                        <td id=\"T_2b7983c4_b774_11eb_8fea_d0c6373e7d34row24_col1\" class=\"data row24 col1\" >constant</td>\n",
       "            </tr>\n",
       "            <tr>\n",
       "                        <th id=\"T_2b7983c4_b774_11eb_8fea_d0c6373e7d34level0_row25\" class=\"row_heading level0 row25\" >25</th>\n",
       "                        <td id=\"T_2b7983c4_b774_11eb_8fea_d0c6373e7d34row25_col0\" class=\"data row25 col0\" >Iterative Imputation Categorical Model</td>\n",
       "                        <td id=\"T_2b7983c4_b774_11eb_8fea_d0c6373e7d34row25_col1\" class=\"data row25 col1\" >None</td>\n",
       "            </tr>\n",
       "            <tr>\n",
       "                        <th id=\"T_2b7983c4_b774_11eb_8fea_d0c6373e7d34level0_row26\" class=\"row_heading level0 row26\" >26</th>\n",
       "                        <td id=\"T_2b7983c4_b774_11eb_8fea_d0c6373e7d34row26_col0\" class=\"data row26 col0\" >Unknown Categoricals Handling</td>\n",
       "                        <td id=\"T_2b7983c4_b774_11eb_8fea_d0c6373e7d34row26_col1\" class=\"data row26 col1\" >least_frequent</td>\n",
       "            </tr>\n",
       "            <tr>\n",
       "                        <th id=\"T_2b7983c4_b774_11eb_8fea_d0c6373e7d34level0_row27\" class=\"row_heading level0 row27\" >27</th>\n",
       "                        <td id=\"T_2b7983c4_b774_11eb_8fea_d0c6373e7d34row27_col0\" class=\"data row27 col0\" >Normalize</td>\n",
       "                        <td id=\"T_2b7983c4_b774_11eb_8fea_d0c6373e7d34row27_col1\" class=\"data row27 col1\" >False</td>\n",
       "            </tr>\n",
       "            <tr>\n",
       "                        <th id=\"T_2b7983c4_b774_11eb_8fea_d0c6373e7d34level0_row28\" class=\"row_heading level0 row28\" >28</th>\n",
       "                        <td id=\"T_2b7983c4_b774_11eb_8fea_d0c6373e7d34row28_col0\" class=\"data row28 col0\" >Normalize Method</td>\n",
       "                        <td id=\"T_2b7983c4_b774_11eb_8fea_d0c6373e7d34row28_col1\" class=\"data row28 col1\" >None</td>\n",
       "            </tr>\n",
       "            <tr>\n",
       "                        <th id=\"T_2b7983c4_b774_11eb_8fea_d0c6373e7d34level0_row29\" class=\"row_heading level0 row29\" >29</th>\n",
       "                        <td id=\"T_2b7983c4_b774_11eb_8fea_d0c6373e7d34row29_col0\" class=\"data row29 col0\" >Transformation</td>\n",
       "                        <td id=\"T_2b7983c4_b774_11eb_8fea_d0c6373e7d34row29_col1\" class=\"data row29 col1\" >False</td>\n",
       "            </tr>\n",
       "            <tr>\n",
       "                        <th id=\"T_2b7983c4_b774_11eb_8fea_d0c6373e7d34level0_row30\" class=\"row_heading level0 row30\" >30</th>\n",
       "                        <td id=\"T_2b7983c4_b774_11eb_8fea_d0c6373e7d34row30_col0\" class=\"data row30 col0\" >Transformation Method</td>\n",
       "                        <td id=\"T_2b7983c4_b774_11eb_8fea_d0c6373e7d34row30_col1\" class=\"data row30 col1\" >None</td>\n",
       "            </tr>\n",
       "            <tr>\n",
       "                        <th id=\"T_2b7983c4_b774_11eb_8fea_d0c6373e7d34level0_row31\" class=\"row_heading level0 row31\" >31</th>\n",
       "                        <td id=\"T_2b7983c4_b774_11eb_8fea_d0c6373e7d34row31_col0\" class=\"data row31 col0\" >PCA</td>\n",
       "                        <td id=\"T_2b7983c4_b774_11eb_8fea_d0c6373e7d34row31_col1\" class=\"data row31 col1\" >False</td>\n",
       "            </tr>\n",
       "            <tr>\n",
       "                        <th id=\"T_2b7983c4_b774_11eb_8fea_d0c6373e7d34level0_row32\" class=\"row_heading level0 row32\" >32</th>\n",
       "                        <td id=\"T_2b7983c4_b774_11eb_8fea_d0c6373e7d34row32_col0\" class=\"data row32 col0\" >PCA Method</td>\n",
       "                        <td id=\"T_2b7983c4_b774_11eb_8fea_d0c6373e7d34row32_col1\" class=\"data row32 col1\" >None</td>\n",
       "            </tr>\n",
       "            <tr>\n",
       "                        <th id=\"T_2b7983c4_b774_11eb_8fea_d0c6373e7d34level0_row33\" class=\"row_heading level0 row33\" >33</th>\n",
       "                        <td id=\"T_2b7983c4_b774_11eb_8fea_d0c6373e7d34row33_col0\" class=\"data row33 col0\" >PCA Components</td>\n",
       "                        <td id=\"T_2b7983c4_b774_11eb_8fea_d0c6373e7d34row33_col1\" class=\"data row33 col1\" >None</td>\n",
       "            </tr>\n",
       "            <tr>\n",
       "                        <th id=\"T_2b7983c4_b774_11eb_8fea_d0c6373e7d34level0_row34\" class=\"row_heading level0 row34\" >34</th>\n",
       "                        <td id=\"T_2b7983c4_b774_11eb_8fea_d0c6373e7d34row34_col0\" class=\"data row34 col0\" >Ignore Low Variance</td>\n",
       "                        <td id=\"T_2b7983c4_b774_11eb_8fea_d0c6373e7d34row34_col1\" class=\"data row34 col1\" >False</td>\n",
       "            </tr>\n",
       "            <tr>\n",
       "                        <th id=\"T_2b7983c4_b774_11eb_8fea_d0c6373e7d34level0_row35\" class=\"row_heading level0 row35\" >35</th>\n",
       "                        <td id=\"T_2b7983c4_b774_11eb_8fea_d0c6373e7d34row35_col0\" class=\"data row35 col0\" >Combine Rare Levels</td>\n",
       "                        <td id=\"T_2b7983c4_b774_11eb_8fea_d0c6373e7d34row35_col1\" class=\"data row35 col1\" >False</td>\n",
       "            </tr>\n",
       "            <tr>\n",
       "                        <th id=\"T_2b7983c4_b774_11eb_8fea_d0c6373e7d34level0_row36\" class=\"row_heading level0 row36\" >36</th>\n",
       "                        <td id=\"T_2b7983c4_b774_11eb_8fea_d0c6373e7d34row36_col0\" class=\"data row36 col0\" >Rare Level Threshold</td>\n",
       "                        <td id=\"T_2b7983c4_b774_11eb_8fea_d0c6373e7d34row36_col1\" class=\"data row36 col1\" >None</td>\n",
       "            </tr>\n",
       "            <tr>\n",
       "                        <th id=\"T_2b7983c4_b774_11eb_8fea_d0c6373e7d34level0_row37\" class=\"row_heading level0 row37\" >37</th>\n",
       "                        <td id=\"T_2b7983c4_b774_11eb_8fea_d0c6373e7d34row37_col0\" class=\"data row37 col0\" >Numeric Binning</td>\n",
       "                        <td id=\"T_2b7983c4_b774_11eb_8fea_d0c6373e7d34row37_col1\" class=\"data row37 col1\" >False</td>\n",
       "            </tr>\n",
       "            <tr>\n",
       "                        <th id=\"T_2b7983c4_b774_11eb_8fea_d0c6373e7d34level0_row38\" class=\"row_heading level0 row38\" >38</th>\n",
       "                        <td id=\"T_2b7983c4_b774_11eb_8fea_d0c6373e7d34row38_col0\" class=\"data row38 col0\" >Remove Outliers</td>\n",
       "                        <td id=\"T_2b7983c4_b774_11eb_8fea_d0c6373e7d34row38_col1\" class=\"data row38 col1\" >False</td>\n",
       "            </tr>\n",
       "            <tr>\n",
       "                        <th id=\"T_2b7983c4_b774_11eb_8fea_d0c6373e7d34level0_row39\" class=\"row_heading level0 row39\" >39</th>\n",
       "                        <td id=\"T_2b7983c4_b774_11eb_8fea_d0c6373e7d34row39_col0\" class=\"data row39 col0\" >Outliers Threshold</td>\n",
       "                        <td id=\"T_2b7983c4_b774_11eb_8fea_d0c6373e7d34row39_col1\" class=\"data row39 col1\" >None</td>\n",
       "            </tr>\n",
       "            <tr>\n",
       "                        <th id=\"T_2b7983c4_b774_11eb_8fea_d0c6373e7d34level0_row40\" class=\"row_heading level0 row40\" >40</th>\n",
       "                        <td id=\"T_2b7983c4_b774_11eb_8fea_d0c6373e7d34row40_col0\" class=\"data row40 col0\" >Remove Multicollinearity</td>\n",
       "                        <td id=\"T_2b7983c4_b774_11eb_8fea_d0c6373e7d34row40_col1\" class=\"data row40 col1\" >False</td>\n",
       "            </tr>\n",
       "            <tr>\n",
       "                        <th id=\"T_2b7983c4_b774_11eb_8fea_d0c6373e7d34level0_row41\" class=\"row_heading level0 row41\" >41</th>\n",
       "                        <td id=\"T_2b7983c4_b774_11eb_8fea_d0c6373e7d34row41_col0\" class=\"data row41 col0\" >Multicollinearity Threshold</td>\n",
       "                        <td id=\"T_2b7983c4_b774_11eb_8fea_d0c6373e7d34row41_col1\" class=\"data row41 col1\" >None</td>\n",
       "            </tr>\n",
       "            <tr>\n",
       "                        <th id=\"T_2b7983c4_b774_11eb_8fea_d0c6373e7d34level0_row42\" class=\"row_heading level0 row42\" >42</th>\n",
       "                        <td id=\"T_2b7983c4_b774_11eb_8fea_d0c6373e7d34row42_col0\" class=\"data row42 col0\" >Clustering</td>\n",
       "                        <td id=\"T_2b7983c4_b774_11eb_8fea_d0c6373e7d34row42_col1\" class=\"data row42 col1\" >False</td>\n",
       "            </tr>\n",
       "            <tr>\n",
       "                        <th id=\"T_2b7983c4_b774_11eb_8fea_d0c6373e7d34level0_row43\" class=\"row_heading level0 row43\" >43</th>\n",
       "                        <td id=\"T_2b7983c4_b774_11eb_8fea_d0c6373e7d34row43_col0\" class=\"data row43 col0\" >Clustering Iteration</td>\n",
       "                        <td id=\"T_2b7983c4_b774_11eb_8fea_d0c6373e7d34row43_col1\" class=\"data row43 col1\" >None</td>\n",
       "            </tr>\n",
       "            <tr>\n",
       "                        <th id=\"T_2b7983c4_b774_11eb_8fea_d0c6373e7d34level0_row44\" class=\"row_heading level0 row44\" >44</th>\n",
       "                        <td id=\"T_2b7983c4_b774_11eb_8fea_d0c6373e7d34row44_col0\" class=\"data row44 col0\" >Polynomial Features</td>\n",
       "                        <td id=\"T_2b7983c4_b774_11eb_8fea_d0c6373e7d34row44_col1\" class=\"data row44 col1\" >False</td>\n",
       "            </tr>\n",
       "            <tr>\n",
       "                        <th id=\"T_2b7983c4_b774_11eb_8fea_d0c6373e7d34level0_row45\" class=\"row_heading level0 row45\" >45</th>\n",
       "                        <td id=\"T_2b7983c4_b774_11eb_8fea_d0c6373e7d34row45_col0\" class=\"data row45 col0\" >Polynomial Degree</td>\n",
       "                        <td id=\"T_2b7983c4_b774_11eb_8fea_d0c6373e7d34row45_col1\" class=\"data row45 col1\" >None</td>\n",
       "            </tr>\n",
       "            <tr>\n",
       "                        <th id=\"T_2b7983c4_b774_11eb_8fea_d0c6373e7d34level0_row46\" class=\"row_heading level0 row46\" >46</th>\n",
       "                        <td id=\"T_2b7983c4_b774_11eb_8fea_d0c6373e7d34row46_col0\" class=\"data row46 col0\" >Trignometry Features</td>\n",
       "                        <td id=\"T_2b7983c4_b774_11eb_8fea_d0c6373e7d34row46_col1\" class=\"data row46 col1\" >False</td>\n",
       "            </tr>\n",
       "            <tr>\n",
       "                        <th id=\"T_2b7983c4_b774_11eb_8fea_d0c6373e7d34level0_row47\" class=\"row_heading level0 row47\" >47</th>\n",
       "                        <td id=\"T_2b7983c4_b774_11eb_8fea_d0c6373e7d34row47_col0\" class=\"data row47 col0\" >Polynomial Threshold</td>\n",
       "                        <td id=\"T_2b7983c4_b774_11eb_8fea_d0c6373e7d34row47_col1\" class=\"data row47 col1\" >None</td>\n",
       "            </tr>\n",
       "            <tr>\n",
       "                        <th id=\"T_2b7983c4_b774_11eb_8fea_d0c6373e7d34level0_row48\" class=\"row_heading level0 row48\" >48</th>\n",
       "                        <td id=\"T_2b7983c4_b774_11eb_8fea_d0c6373e7d34row48_col0\" class=\"data row48 col0\" >Group Features</td>\n",
       "                        <td id=\"T_2b7983c4_b774_11eb_8fea_d0c6373e7d34row48_col1\" class=\"data row48 col1\" >False</td>\n",
       "            </tr>\n",
       "            <tr>\n",
       "                        <th id=\"T_2b7983c4_b774_11eb_8fea_d0c6373e7d34level0_row49\" class=\"row_heading level0 row49\" >49</th>\n",
       "                        <td id=\"T_2b7983c4_b774_11eb_8fea_d0c6373e7d34row49_col0\" class=\"data row49 col0\" >Feature Selection</td>\n",
       "                        <td id=\"T_2b7983c4_b774_11eb_8fea_d0c6373e7d34row49_col1\" class=\"data row49 col1\" >False</td>\n",
       "            </tr>\n",
       "            <tr>\n",
       "                        <th id=\"T_2b7983c4_b774_11eb_8fea_d0c6373e7d34level0_row50\" class=\"row_heading level0 row50\" >50</th>\n",
       "                        <td id=\"T_2b7983c4_b774_11eb_8fea_d0c6373e7d34row50_col0\" class=\"data row50 col0\" >Features Selection Threshold</td>\n",
       "                        <td id=\"T_2b7983c4_b774_11eb_8fea_d0c6373e7d34row50_col1\" class=\"data row50 col1\" >None</td>\n",
       "            </tr>\n",
       "            <tr>\n",
       "                        <th id=\"T_2b7983c4_b774_11eb_8fea_d0c6373e7d34level0_row51\" class=\"row_heading level0 row51\" >51</th>\n",
       "                        <td id=\"T_2b7983c4_b774_11eb_8fea_d0c6373e7d34row51_col0\" class=\"data row51 col0\" >Feature Interaction</td>\n",
       "                        <td id=\"T_2b7983c4_b774_11eb_8fea_d0c6373e7d34row51_col1\" class=\"data row51 col1\" >False</td>\n",
       "            </tr>\n",
       "            <tr>\n",
       "                        <th id=\"T_2b7983c4_b774_11eb_8fea_d0c6373e7d34level0_row52\" class=\"row_heading level0 row52\" >52</th>\n",
       "                        <td id=\"T_2b7983c4_b774_11eb_8fea_d0c6373e7d34row52_col0\" class=\"data row52 col0\" >Feature Ratio</td>\n",
       "                        <td id=\"T_2b7983c4_b774_11eb_8fea_d0c6373e7d34row52_col1\" class=\"data row52 col1\" >False</td>\n",
       "            </tr>\n",
       "            <tr>\n",
       "                        <th id=\"T_2b7983c4_b774_11eb_8fea_d0c6373e7d34level0_row53\" class=\"row_heading level0 row53\" >53</th>\n",
       "                        <td id=\"T_2b7983c4_b774_11eb_8fea_d0c6373e7d34row53_col0\" class=\"data row53 col0\" >Interaction Threshold</td>\n",
       "                        <td id=\"T_2b7983c4_b774_11eb_8fea_d0c6373e7d34row53_col1\" class=\"data row53 col1\" >None</td>\n",
       "            </tr>\n",
       "            <tr>\n",
       "                        <th id=\"T_2b7983c4_b774_11eb_8fea_d0c6373e7d34level0_row54\" class=\"row_heading level0 row54\" >54</th>\n",
       "                        <td id=\"T_2b7983c4_b774_11eb_8fea_d0c6373e7d34row54_col0\" class=\"data row54 col0\" >Transform Target</td>\n",
       "                        <td id=\"T_2b7983c4_b774_11eb_8fea_d0c6373e7d34row54_col1\" class=\"data row54 col1\" >False</td>\n",
       "            </tr>\n",
       "            <tr>\n",
       "                        <th id=\"T_2b7983c4_b774_11eb_8fea_d0c6373e7d34level0_row55\" class=\"row_heading level0 row55\" >55</th>\n",
       "                        <td id=\"T_2b7983c4_b774_11eb_8fea_d0c6373e7d34row55_col0\" class=\"data row55 col0\" >Transform Target Method</td>\n",
       "                        <td id=\"T_2b7983c4_b774_11eb_8fea_d0c6373e7d34row55_col1\" class=\"data row55 col1\" >box-cox</td>\n",
       "            </tr>\n",
       "    </tbody></table>"
      ],
      "text/plain": [
       "<pandas.io.formats.style.Styler at 0x27d23618970>"
      ]
     },
     "metadata": {},
     "output_type": "display_data"
    }
   ],
   "source": [
    "pycaret_setup = setup(data = data, target = 'target', fold = 10, fold_shuffle = True, session_id = 10)"
   ]
  },
  {
   "cell_type": "code",
   "execution_count": null,
   "metadata": {},
   "outputs": [
    {
     "data": {
      "application/vnd.jupyter.widget-view+json": {
       "model_id": "ece1931f216f49c7943ea603c68ae45f",
       "version_major": 2,
       "version_minor": 0
      },
      "text/plain": [
       "IntProgress(value=0, description='Processing: ', max=89)"
      ]
     },
     "metadata": {},
     "output_type": "display_data"
    },
    {
     "data": {
      "text/html": [
       "<div>\n",
       "<style scoped>\n",
       "    .dataframe tbody tr th:only-of-type {\n",
       "        vertical-align: middle;\n",
       "    }\n",
       "\n",
       "    .dataframe tbody tr th {\n",
       "        vertical-align: top;\n",
       "    }\n",
       "\n",
       "    .dataframe thead th {\n",
       "        text-align: right;\n",
       "    }\n",
       "</style>\n",
       "<table border=\"1\" class=\"dataframe\">\n",
       "  <thead>\n",
       "    <tr style=\"text-align: right;\">\n",
       "      <th></th>\n",
       "      <th></th>\n",
       "      <th></th>\n",
       "    </tr>\n",
       "    <tr>\n",
       "      <th></th>\n",
       "      <th></th>\n",
       "      <th></th>\n",
       "    </tr>\n",
       "  </thead>\n",
       "  <tbody>\n",
       "    <tr>\n",
       "      <th>Initiated</th>\n",
       "      <td>. . . . . . . . . . . . . . . . . .</td>\n",
       "      <td>09:59:26</td>\n",
       "    </tr>\n",
       "    <tr>\n",
       "      <th>Status</th>\n",
       "      <td>. . . . . . . . . . . . . . . . . .</td>\n",
       "      <td>Fitting 10 Folds</td>\n",
       "    </tr>\n",
       "    <tr>\n",
       "      <th>Estimator</th>\n",
       "      <td>. . . . . . . . . . . . . . . . . .</td>\n",
       "      <td>K Neighbors Regressor</td>\n",
       "    </tr>\n",
       "  </tbody>\n",
       "</table>\n",
       "</div>"
      ],
      "text/plain": [
       "                                                                     \n",
       "                                                                     \n",
       "Initiated  . . . . . . . . . . . . . . . . . .               09:59:26\n",
       "Status     . . . . . . . . . . . . . . . . . .       Fitting 10 Folds\n",
       "Estimator  . . . . . . . . . . . . . . . . . .  K Neighbors Regressor"
      ]
     },
     "metadata": {},
     "output_type": "display_data"
    },
    {
     "data": {
      "text/html": [
       "<style  type=\"text/css\" >\n",
       "    #T_f8fa9c2c_b774_11eb_bc91_d0c6373e7d34 th {\n",
       "          text-align: left;\n",
       "    }#T_f8fa9c2c_b774_11eb_bc91_d0c6373e7d34row0_col0,#T_f8fa9c2c_b774_11eb_bc91_d0c6373e7d34row0_col1,#T_f8fa9c2c_b774_11eb_bc91_d0c6373e7d34row0_col2,#T_f8fa9c2c_b774_11eb_bc91_d0c6373e7d34row0_col3,#T_f8fa9c2c_b774_11eb_bc91_d0c6373e7d34row0_col4,#T_f8fa9c2c_b774_11eb_bc91_d0c6373e7d34row0_col5,#T_f8fa9c2c_b774_11eb_bc91_d0c6373e7d34row0_col6,#T_f8fa9c2c_b774_11eb_bc91_d0c6373e7d34row0_col7,#T_f8fa9c2c_b774_11eb_bc91_d0c6373e7d34row1_col0,#T_f8fa9c2c_b774_11eb_bc91_d0c6373e7d34row1_col1,#T_f8fa9c2c_b774_11eb_bc91_d0c6373e7d34row1_col2,#T_f8fa9c2c_b774_11eb_bc91_d0c6373e7d34row1_col3,#T_f8fa9c2c_b774_11eb_bc91_d0c6373e7d34row1_col4,#T_f8fa9c2c_b774_11eb_bc91_d0c6373e7d34row1_col5,#T_f8fa9c2c_b774_11eb_bc91_d0c6373e7d34row1_col6,#T_f8fa9c2c_b774_11eb_bc91_d0c6373e7d34row1_col7,#T_f8fa9c2c_b774_11eb_bc91_d0c6373e7d34row2_col0,#T_f8fa9c2c_b774_11eb_bc91_d0c6373e7d34row2_col1,#T_f8fa9c2c_b774_11eb_bc91_d0c6373e7d34row2_col2,#T_f8fa9c2c_b774_11eb_bc91_d0c6373e7d34row2_col3,#T_f8fa9c2c_b774_11eb_bc91_d0c6373e7d34row2_col4,#T_f8fa9c2c_b774_11eb_bc91_d0c6373e7d34row2_col5,#T_f8fa9c2c_b774_11eb_bc91_d0c6373e7d34row2_col6,#T_f8fa9c2c_b774_11eb_bc91_d0c6373e7d34row2_col7,#T_f8fa9c2c_b774_11eb_bc91_d0c6373e7d34row3_col0,#T_f8fa9c2c_b774_11eb_bc91_d0c6373e7d34row3_col1,#T_f8fa9c2c_b774_11eb_bc91_d0c6373e7d34row3_col2,#T_f8fa9c2c_b774_11eb_bc91_d0c6373e7d34row3_col3,#T_f8fa9c2c_b774_11eb_bc91_d0c6373e7d34row3_col4,#T_f8fa9c2c_b774_11eb_bc91_d0c6373e7d34row3_col5,#T_f8fa9c2c_b774_11eb_bc91_d0c6373e7d34row3_col6,#T_f8fa9c2c_b774_11eb_bc91_d0c6373e7d34row3_col7,#T_f8fa9c2c_b774_11eb_bc91_d0c6373e7d34row4_col0,#T_f8fa9c2c_b774_11eb_bc91_d0c6373e7d34row4_col1,#T_f8fa9c2c_b774_11eb_bc91_d0c6373e7d34row4_col2,#T_f8fa9c2c_b774_11eb_bc91_d0c6373e7d34row4_col3,#T_f8fa9c2c_b774_11eb_bc91_d0c6373e7d34row4_col4,#T_f8fa9c2c_b774_11eb_bc91_d0c6373e7d34row4_col5,#T_f8fa9c2c_b774_11eb_bc91_d0c6373e7d34row4_col6,#T_f8fa9c2c_b774_11eb_bc91_d0c6373e7d34row4_col7,#T_f8fa9c2c_b774_11eb_bc91_d0c6373e7d34row5_col0,#T_f8fa9c2c_b774_11eb_bc91_d0c6373e7d34row5_col1,#T_f8fa9c2c_b774_11eb_bc91_d0c6373e7d34row5_col2,#T_f8fa9c2c_b774_11eb_bc91_d0c6373e7d34row5_col3,#T_f8fa9c2c_b774_11eb_bc91_d0c6373e7d34row5_col4,#T_f8fa9c2c_b774_11eb_bc91_d0c6373e7d34row5_col5,#T_f8fa9c2c_b774_11eb_bc91_d0c6373e7d34row5_col6,#T_f8fa9c2c_b774_11eb_bc91_d0c6373e7d34row5_col7,#T_f8fa9c2c_b774_11eb_bc91_d0c6373e7d34row6_col0,#T_f8fa9c2c_b774_11eb_bc91_d0c6373e7d34row6_col1,#T_f8fa9c2c_b774_11eb_bc91_d0c6373e7d34row6_col2,#T_f8fa9c2c_b774_11eb_bc91_d0c6373e7d34row6_col3,#T_f8fa9c2c_b774_11eb_bc91_d0c6373e7d34row6_col4,#T_f8fa9c2c_b774_11eb_bc91_d0c6373e7d34row6_col5,#T_f8fa9c2c_b774_11eb_bc91_d0c6373e7d34row6_col6,#T_f8fa9c2c_b774_11eb_bc91_d0c6373e7d34row6_col7,#T_f8fa9c2c_b774_11eb_bc91_d0c6373e7d34row7_col0,#T_f8fa9c2c_b774_11eb_bc91_d0c6373e7d34row7_col1,#T_f8fa9c2c_b774_11eb_bc91_d0c6373e7d34row7_col2,#T_f8fa9c2c_b774_11eb_bc91_d0c6373e7d34row7_col3,#T_f8fa9c2c_b774_11eb_bc91_d0c6373e7d34row7_col4,#T_f8fa9c2c_b774_11eb_bc91_d0c6373e7d34row7_col5,#T_f8fa9c2c_b774_11eb_bc91_d0c6373e7d34row7_col6,#T_f8fa9c2c_b774_11eb_bc91_d0c6373e7d34row7_col7{\n",
       "            text-align:  left;\n",
       "        }</style><table id=\"T_f8fa9c2c_b774_11eb_bc91_d0c6373e7d34\" ><thead>    <tr>        <th class=\"blank level0\" ></th>        <th class=\"col_heading level0 col0\" >Model</th>        <th class=\"col_heading level0 col1\" >MAE</th>        <th class=\"col_heading level0 col2\" >MSE</th>        <th class=\"col_heading level0 col3\" >RMSE</th>        <th class=\"col_heading level0 col4\" >R2</th>        <th class=\"col_heading level0 col5\" >RMSLE</th>        <th class=\"col_heading level0 col6\" >MAPE</th>        <th class=\"col_heading level0 col7\" >TT (Sec)</th>    </tr></thead><tbody>\n",
       "                <tr>\n",
       "                        <th id=\"T_f8fa9c2c_b774_11eb_bc91_d0c6373e7d34level0_row0\" class=\"row_heading level0 row0\" >par</th>\n",
       "                        <td id=\"T_f8fa9c2c_b774_11eb_bc91_d0c6373e7d34row0_col0\" class=\"data row0 col0\" >Passive Aggressive Regressor</td>\n",
       "                        <td id=\"T_f8fa9c2c_b774_11eb_bc91_d0c6373e7d34row0_col1\" class=\"data row0 col1\" >407.8674</td>\n",
       "                        <td id=\"T_f8fa9c2c_b774_11eb_bc91_d0c6373e7d34row0_col2\" class=\"data row0 col2\" >29780297.9118</td>\n",
       "                        <td id=\"T_f8fa9c2c_b774_11eb_bc91_d0c6373e7d34row0_col3\" class=\"data row0 col3\" >4731.4631</td>\n",
       "                        <td id=\"T_f8fa9c2c_b774_11eb_bc91_d0c6373e7d34row0_col4\" class=\"data row0 col4\" >0.0143</td>\n",
       "                        <td id=\"T_f8fa9c2c_b774_11eb_bc91_d0c6373e7d34row0_col5\" class=\"data row0 col5\" >0.5463</td>\n",
       "                        <td id=\"T_f8fa9c2c_b774_11eb_bc91_d0c6373e7d34row0_col6\" class=\"data row0 col6\" >0.5370</td>\n",
       "                        <td id=\"T_f8fa9c2c_b774_11eb_bc91_d0c6373e7d34row0_col7\" class=\"data row0 col7\" >1.8290</td>\n",
       "            </tr>\n",
       "            <tr>\n",
       "                        <th id=\"T_f8fa9c2c_b774_11eb_bc91_d0c6373e7d34level0_row1\" class=\"row_heading level0 row1\" >lasso</th>\n",
       "                        <td id=\"T_f8fa9c2c_b774_11eb_bc91_d0c6373e7d34row1_col0\" class=\"data row1 col0\" >Lasso Regression</td>\n",
       "                        <td id=\"T_f8fa9c2c_b774_11eb_bc91_d0c6373e7d34row1_col1\" class=\"data row1 col1\" >465.0440</td>\n",
       "                        <td id=\"T_f8fa9c2c_b774_11eb_bc91_d0c6373e7d34row1_col2\" class=\"data row1 col2\" >29716201.1000</td>\n",
       "                        <td id=\"T_f8fa9c2c_b774_11eb_bc91_d0c6373e7d34row1_col3\" class=\"data row1 col3\" >4723.3417</td>\n",
       "                        <td id=\"T_f8fa9c2c_b774_11eb_bc91_d0c6373e7d34row1_col4\" class=\"data row1 col4\" >0.0189</td>\n",
       "                        <td id=\"T_f8fa9c2c_b774_11eb_bc91_d0c6373e7d34row1_col5\" class=\"data row1 col5\" >0.6249</td>\n",
       "                        <td id=\"T_f8fa9c2c_b774_11eb_bc91_d0c6373e7d34row1_col6\" class=\"data row1 col6\" >0.8010</td>\n",
       "                        <td id=\"T_f8fa9c2c_b774_11eb_bc91_d0c6373e7d34row1_col7\" class=\"data row1 col7\" >7.3890</td>\n",
       "            </tr>\n",
       "            <tr>\n",
       "                        <th id=\"T_f8fa9c2c_b774_11eb_bc91_d0c6373e7d34level0_row2\" class=\"row_heading level0 row2\" >br</th>\n",
       "                        <td id=\"T_f8fa9c2c_b774_11eb_bc91_d0c6373e7d34row2_col0\" class=\"data row2 col0\" >Bayesian Ridge</td>\n",
       "                        <td id=\"T_f8fa9c2c_b774_11eb_bc91_d0c6373e7d34row2_col1\" class=\"data row2 col1\" >465.2030</td>\n",
       "                        <td id=\"T_f8fa9c2c_b774_11eb_bc91_d0c6373e7d34row2_col2\" class=\"data row2 col2\" >29715671.5062</td>\n",
       "                        <td id=\"T_f8fa9c2c_b774_11eb_bc91_d0c6373e7d34row2_col3\" class=\"data row2 col3\" >4723.2726</td>\n",
       "                        <td id=\"T_f8fa9c2c_b774_11eb_bc91_d0c6373e7d34row2_col4\" class=\"data row2 col4\" >0.0190</td>\n",
       "                        <td id=\"T_f8fa9c2c_b774_11eb_bc91_d0c6373e7d34row2_col5\" class=\"data row2 col5\" >0.6341</td>\n",
       "                        <td id=\"T_f8fa9c2c_b774_11eb_bc91_d0c6373e7d34row2_col6\" class=\"data row2 col6\" >0.7977</td>\n",
       "                        <td id=\"T_f8fa9c2c_b774_11eb_bc91_d0c6373e7d34row2_col7\" class=\"data row2 col7\" >12.9800</td>\n",
       "            </tr>\n",
       "            <tr>\n",
       "                        <th id=\"T_f8fa9c2c_b774_11eb_bc91_d0c6373e7d34level0_row3\" class=\"row_heading level0 row3\" >lr</th>\n",
       "                        <td id=\"T_f8fa9c2c_b774_11eb_bc91_d0c6373e7d34row3_col0\" class=\"data row3 col0\" >Linear Regression</td>\n",
       "                        <td id=\"T_f8fa9c2c_b774_11eb_bc91_d0c6373e7d34row3_col1\" class=\"data row3 col1\" >465.3885</td>\n",
       "                        <td id=\"T_f8fa9c2c_b774_11eb_bc91_d0c6373e7d34row3_col2\" class=\"data row3 col2\" >29715742.9000</td>\n",
       "                        <td id=\"T_f8fa9c2c_b774_11eb_bc91_d0c6373e7d34row3_col3\" class=\"data row3 col3\" >4723.2858</td>\n",
       "                        <td id=\"T_f8fa9c2c_b774_11eb_bc91_d0c6373e7d34row3_col4\" class=\"data row3 col4\" >0.0189</td>\n",
       "                        <td id=\"T_f8fa9c2c_b774_11eb_bc91_d0c6373e7d34row3_col5\" class=\"data row3 col5\" >0.6366</td>\n",
       "                        <td id=\"T_f8fa9c2c_b774_11eb_bc91_d0c6373e7d34row3_col6\" class=\"data row3 col6\" >0.7948</td>\n",
       "                        <td id=\"T_f8fa9c2c_b774_11eb_bc91_d0c6373e7d34row3_col7\" class=\"data row3 col7\" >3.7560</td>\n",
       "            </tr>\n",
       "            <tr>\n",
       "                        <th id=\"T_f8fa9c2c_b774_11eb_bc91_d0c6373e7d34level0_row4\" class=\"row_heading level0 row4\" >ridge</th>\n",
       "                        <td id=\"T_f8fa9c2c_b774_11eb_bc91_d0c6373e7d34row4_col0\" class=\"data row4 col0\" >Ridge Regression</td>\n",
       "                        <td id=\"T_f8fa9c2c_b774_11eb_bc91_d0c6373e7d34row4_col1\" class=\"data row4 col1\" >465.3800</td>\n",
       "                        <td id=\"T_f8fa9c2c_b774_11eb_bc91_d0c6373e7d34row4_col2\" class=\"data row4 col2\" >29715722.1000</td>\n",
       "                        <td id=\"T_f8fa9c2c_b774_11eb_bc91_d0c6373e7d34row4_col3\" class=\"data row4 col3\" >4723.2824</td>\n",
       "                        <td id=\"T_f8fa9c2c_b774_11eb_bc91_d0c6373e7d34row4_col4\" class=\"data row4 col4\" >0.0189</td>\n",
       "                        <td id=\"T_f8fa9c2c_b774_11eb_bc91_d0c6373e7d34row4_col5\" class=\"data row4 col5\" >0.6367</td>\n",
       "                        <td id=\"T_f8fa9c2c_b774_11eb_bc91_d0c6373e7d34row4_col6\" class=\"data row4 col6\" >0.7949</td>\n",
       "                        <td id=\"T_f8fa9c2c_b774_11eb_bc91_d0c6373e7d34row4_col7\" class=\"data row4 col7\" >0.5390</td>\n",
       "            </tr>\n",
       "            <tr>\n",
       "                        <th id=\"T_f8fa9c2c_b774_11eb_bc91_d0c6373e7d34level0_row5\" class=\"row_heading level0 row5\" >omp</th>\n",
       "                        <td id=\"T_f8fa9c2c_b774_11eb_bc91_d0c6373e7d34row5_col0\" class=\"data row5 col0\" >Orthogonal Matching Pursuit</td>\n",
       "                        <td id=\"T_f8fa9c2c_b774_11eb_bc91_d0c6373e7d34row5_col1\" class=\"data row5 col1\" >478.5385</td>\n",
       "                        <td id=\"T_f8fa9c2c_b774_11eb_bc91_d0c6373e7d34row5_col2\" class=\"data row5 col2\" >29727196.2292</td>\n",
       "                        <td id=\"T_f8fa9c2c_b774_11eb_bc91_d0c6373e7d34row5_col3\" class=\"data row5 col3\" >4724.8031</td>\n",
       "                        <td id=\"T_f8fa9c2c_b774_11eb_bc91_d0c6373e7d34row5_col4\" class=\"data row5 col4\" >0.0181</td>\n",
       "                        <td id=\"T_f8fa9c2c_b774_11eb_bc91_d0c6373e7d34row5_col5\" class=\"data row5 col5\" >0.6623</td>\n",
       "                        <td id=\"T_f8fa9c2c_b774_11eb_bc91_d0c6373e7d34row5_col6\" class=\"data row5 col6\" >0.9197</td>\n",
       "                        <td id=\"T_f8fa9c2c_b774_11eb_bc91_d0c6373e7d34row5_col7\" class=\"data row5 col7\" >0.4910</td>\n",
       "            </tr>\n",
       "            <tr>\n",
       "                        <th id=\"T_f8fa9c2c_b774_11eb_bc91_d0c6373e7d34level0_row6\" class=\"row_heading level0 row6\" >en</th>\n",
       "                        <td id=\"T_f8fa9c2c_b774_11eb_bc91_d0c6373e7d34row6_col0\" class=\"data row6 col0\" >Elastic Net</td>\n",
       "                        <td id=\"T_f8fa9c2c_b774_11eb_bc91_d0c6373e7d34row6_col1\" class=\"data row6 col1\" >542.4036</td>\n",
       "                        <td id=\"T_f8fa9c2c_b774_11eb_bc91_d0c6373e7d34row6_col2\" class=\"data row6 col2\" >29831984.7000</td>\n",
       "                        <td id=\"T_f8fa9c2c_b774_11eb_bc91_d0c6373e7d34row6_col3\" class=\"data row6 col3\" >4738.0913</td>\n",
       "                        <td id=\"T_f8fa9c2c_b774_11eb_bc91_d0c6373e7d34row6_col4\" class=\"data row6 col4\" >0.0105</td>\n",
       "                        <td id=\"T_f8fa9c2c_b774_11eb_bc91_d0c6373e7d34row6_col5\" class=\"data row6 col5\" >0.7896</td>\n",
       "                        <td id=\"T_f8fa9c2c_b774_11eb_bc91_d0c6373e7d34row6_col6\" class=\"data row6 col6\" >1.3116</td>\n",
       "                        <td id=\"T_f8fa9c2c_b774_11eb_bc91_d0c6373e7d34row6_col7\" class=\"data row6 col7\" >1.0050</td>\n",
       "            </tr>\n",
       "            <tr>\n",
       "                        <th id=\"T_f8fa9c2c_b774_11eb_bc91_d0c6373e7d34level0_row7\" class=\"row_heading level0 row7\" >llar</th>\n",
       "                        <td id=\"T_f8fa9c2c_b774_11eb_bc91_d0c6373e7d34row7_col0\" class=\"data row7 col0\" >Lasso Least Angle Regression</td>\n",
       "                        <td id=\"T_f8fa9c2c_b774_11eb_bc91_d0c6373e7d34row7_col1\" class=\"data row7 col1\" >629.8142</td>\n",
       "                        <td id=\"T_f8fa9c2c_b774_11eb_bc91_d0c6373e7d34row7_col2\" class=\"data row7 col2\" >29972950.5239</td>\n",
       "                        <td id=\"T_f8fa9c2c_b774_11eb_bc91_d0c6373e7d34row7_col3\" class=\"data row7 col3\" >4756.3021</td>\n",
       "                        <td id=\"T_f8fa9c2c_b774_11eb_bc91_d0c6373e7d34row7_col4\" class=\"data row7 col4\" >-0.0000</td>\n",
       "                        <td id=\"T_f8fa9c2c_b774_11eb_bc91_d0c6373e7d34row7_col5\" class=\"data row7 col5\" >0.8924</td>\n",
       "                        <td id=\"T_f8fa9c2c_b774_11eb_bc91_d0c6373e7d34row7_col6\" class=\"data row7 col6\" >1.6171</td>\n",
       "                        <td id=\"T_f8fa9c2c_b774_11eb_bc91_d0c6373e7d34row7_col7\" class=\"data row7 col7\" >0.5000</td>\n",
       "            </tr>\n",
       "    </tbody></table>"
      ],
      "text/plain": [
       "<pandas.io.formats.style.Styler at 0x27d232d05e0>"
      ]
     },
     "metadata": {},
     "output_type": "display_data"
    }
   ],
   "source": [
    "best_model = compare_models(exclude = ['huber','lar'], cross_validation = True, sort = 'RMSLE', n_select = 6)"
   ]
  },
  {
   "cell_type": "code",
   "execution_count": null,
   "metadata": {},
   "outputs": [],
   "source": [
    "# Stacking Ensemble을 하기 위한 함수 생성\n",
    "def cv_stacking_ensemble(*args, X = None, y = None, test_size = 0.3, n_folds = None, meta_model = None,\n",
    "                         random_state = None):\n",
    "    \n",
    "    # 원본 데이터를 '학습 데이터'와 '검증 데이터'로 나눠준다.\n",
    "    X_train, X_test, y_train, y_test = train_test_split(X, y, test_size = test_size, \n",
    "                                                        random_state = random_state)\n",
    "    \n",
    "    # 교차검증을 수행할 객체 생성하기\n",
    "    kf = KFold(n_splits = n_folds, shuffle = True, random_state = random_state)\n",
    "    \n",
    "    # Meta model이 사용할 '학습 데이터' 반환을 위한 배열 생성 : 모델의 개수 만큼 row가 존재해야 한다.\n",
    "    meta_X_train = np.zeros((X_train.shape[0], len(args)))\n",
    "    \n",
    "    # Meta model이 사용할 '검증 데이터' 반환을 위한 배열 생성 : 모델의 개수 만큼 row가 존재해야 한다.\n",
    "    meta_X_test = np.zeros((X_test.shape[0], len(args)))\n",
    "    \n",
    "    # 사용할 모델을 반복하면서 수행\n",
    "    for model_count, model in enumerate(args):\n",
    "        \n",
    "        # Meta model에서 사용할 '검증 데이터'는 교차검증 내에서 원본 데이터의 '검증 데이터'를 예측한 후 평균을 구해야 한다.\n",
    "        # 따라서, 각 모델에서 평균을 구하기 전에 예측값을 반환 받기 위한 배열을 생성한다.\n",
    "        model_test = np.zeros((X_test.shape[0], n_folds))\n",
    "    \n",
    "        # 교차검증을 반복하면서 데이터 생성 후, 학습시키기\n",
    "        for fold_count, (train_index, valid_index) in enumerate(kf.split(X_train)):\n",
    "            \n",
    "            # 교차검증 내에서 학습 데이터, 검증 데이터 생성\n",
    "            cross_x_train = X_train.iloc[train_index]\n",
    "            cross_y_train = y_train.iloc[train_index]\n",
    "            cross_x_test = X_train.iloc[valid_index]\n",
    "            \n",
    "            # 교차검증 내부에서 생성된 학습 데이터로 모델 학습시키기\n",
    "            cross_model = model.fit(cross_x_train, cross_y_train)\n",
    "            \n",
    "            # 학습시킨 모델로 교차검증 내부에서 생성된 검증 데이터 예측하기\n",
    "            meta_X_train[valid_index, model_count] = cross_model.predict(cross_x_test)\n",
    "            \n",
    "            # 학습시킨 모델로 원본 데이터의 '검증 데이터' 예측하기\n",
    "            model_test[:, fold_count] = cross_model.predict(X_test)\n",
    "          \n",
    "        \n",
    "        # 교차검증 내에서 원본 데이터의 '검증 데이터'를 예측한 값을 평균 구하기\n",
    "        meta_X_test[:, model_count] = np.mean(model_test, axis = 1)\n",
    "        \n",
    "    # 이제, 입력해준 모델을 반복하면서 Meta model에 사용할 학습 데이터와 검증 데이터를 생성해주었다.\n",
    "    # Meta model을 사용하여 학습시키기\n",
    "    meta_model_train = meta_model.fit(meta_X_train, y_train)\n",
    "    \n",
    "    # 학습시킨 모델로 값 예측하기\n",
    "    meta_pred = meta_model_train.predict(meta_X_test)\n",
    "    \n",
    "    # RMSE값 반환하기\n",
    "    rmse = mean_squared_error(y_test, meta_pred, squared = False)\n",
    "    \n",
    "    print(rmse)"
   ]
  },
  {
   "cell_type": "code",
   "execution_count": null,
   "metadata": {},
   "outputs": [],
   "source": [
    "final_model=cv_stacking_ensemble(best_model[1], best_model[2], best_model[3], best_model[4],best_model[5]\n",
    "                     X = X, y = y, n_folds = 10, meta_model = best_model[0], random_state = 100)"
   ]
  },
  {
   "cell_type": "code",
   "execution_count": null,
   "metadata": {},
   "outputs": [],
   "source": []
  }
 ],
 "metadata": {
  "kernelspec": {
   "display_name": "Python 3",
   "language": "python",
   "name": "python3"
  },
  "language_info": {
   "codemirror_mode": {
    "name": "ipython",
    "version": 3
   },
   "file_extension": ".py",
   "mimetype": "text/x-python",
   "name": "python",
   "nbconvert_exporter": "python",
   "pygments_lexer": "ipython3",
   "version": "3.8.5"
  }
 },
 "nbformat": 4,
 "nbformat_minor": 4
}
